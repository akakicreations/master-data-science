{
  "nbformat": 4,
  "nbformat_minor": 0,
  "metadata": {
    "anaconda-cloud": {},
    "kernelspec": {
      "display_name": "Python 3",
      "language": "python",
      "name": "python3"
    },
    "language_info": {
      "codemirror_mode": {
        "name": "ipython",
        "version": 3
      },
      "file_extension": ".py",
      "mimetype": "text/x-python",
      "name": "python",
      "nbconvert_exporter": "python",
      "pygments_lexer": "ipython3",
      "version": "3.7.7"
    },
    "colab": {
      "name": "01-first_steps_with_distributed_systems-MapReduce.inclass.ipynb",
      "provenance": [],
      "collapsed_sections": [
        "HoyD6GNbuIQH",
        "gUG5cM2XuIQS",
        "DKSL7YPBuIQ7",
        "V250cpc5uIRS",
        "XwIik8rfuIRd",
        "uOHxVuhiuISK",
        "c9MAI5YWuISi",
        "tdfnvgYuuISp",
        "hF-S-14auISx",
        "3TQTdTMzuIS2",
        "-XErA84zuITD",
        "i7mHH0ZHuITK",
        "hhvVQN_-uITW",
        "qOGUo-03uITd",
        "Tg1J3C8HuIT1",
        "ZK3YXhmuuIT5",
        "Ij4vx5ITuIUA",
        "lSOgyH0uuIUI",
        "2D28qSYpuIUO",
        "sXauRL-suIUR",
        "WNtG0e_XuIUo",
        "vEkugCp2uIVI",
        "tlXDpQu_uIV7"
      ]
    }
  },
  "cells": [
    {
      "cell_type": "markdown",
      "metadata": {
        "id": "Gdgdo1nkuIKm",
        "colab_type": "text"
      },
      "source": [
        "# First steps in PySpark \n",
        "\n",
        "In this notebook we will learn the fundamentals of functional programming, as well as the basic abstraction of a distributed object in Spark, the RDD. The notebook has been divided into two parts:\n",
        "\n",
        "Part 1: map/reduce basics\n",
        "\n",
        "Part 2: Work with RDD and Pair RDD abstractions \n",
        "\n",
        "<a href = \"http://yogen.io\"><img src=\"http://yogen.io/assets/logo.svg\" alt=\"yogen\" style=\"width: 200px; float: right;\"/></a>"
      ]
    },
    {
      "cell_type": "markdown",
      "metadata": {
        "id": "tIJjElKTuIKo",
        "colab_type": "text"
      },
      "source": [
        " \n"
      ]
    },
    {
      "cell_type": "markdown",
      "metadata": {
        "id": "qI4i7OSZuIKs",
        "colab_type": "text"
      },
      "source": [
        "# Part 1: map/reduce basics\n",
        "\n",
        "![Hadoop Logo](https://upload.wikimedia.org/wikipedia/commons/thumb/0/0e/Hadoop_logo.svg/220px-Hadoop_logo.svg.png)\n",
        "# **Apache Hadoop (MapReduce)**\n",
        "\n",
        "It is an open source software framework written in Java for distributed storage and distributed processing of very large data sets on computer clusters built from commodity hardware. All the modules in Hadoop are designed with a fundamental assumption that hardware failures (of individual machines, or racks of machines) are common and thus should be automatically handled in software by the framework.\n",
        "\n",
        "The core of Apache Hadoop consists of a storage part (Hadoop Distributed File System (HDFS)) and a processing part (MapReduce). Hadoop splits files into large blocks and distributes them amongst the nodes in the cluster. To process the data, Hadoop MapReduce transfers packaged code for nodes to process in parallel, based on the data each node needs to process. This approach takes advantage of data locality — nodes manipulating the data that they have on hand — to allow the data to be processed faster and more efficiently than it would be in a more conventional supercomputer architecture that relies on a parallel file system where computation and data are connected via high-speed networking.\n",
        "\n",
        "![Map/shuffle/reduce](https://image.slidesharecdn.com/datasciencewebinar061312-120618165932-phpapp02/95/how-salesforcecom-uses-hadoop-41-728.jpg?cb=1340920667)\n",
        "\n",
        "Since data and computation are distributed, we should avoid the use of variables, i.e. mutable data. Thus, in contrast to impertaive programming, we shall use the functional approach (lambda calculus)."
      ]
    },
    {
      "cell_type": "markdown",
      "metadata": {
        "id": "4ETT5nRduIKw",
        "colab_type": "text"
      },
      "source": [
        "### The goal of the following excercises is to understand basic lambda calculus with python."
      ]
    },
    {
      "cell_type": "markdown",
      "metadata": {
        "id": "6pVUoA8auIK0",
        "colab_type": "text"
      },
      "source": [
        "### (1a) Functional programming in Python\n",
        "\n",
        "So, what is Functional Programming? From Wikipedia: \n",
        "\n",
        "« …a  programing paradigm that treats computation as the evaluation of mathematical functions and **avoids changing-state and mutable  data**.»\n",
        "\n",
        "It´s based upon Lambda calculus, wich consist of:\n",
        " * Function definition (declaration of expressions)\n",
        " * Function application (evaluation of those expressions)\n",
        " * Recursion (iteration)\n",
        "\n",
        "We have already used this in python!!! :)\n",
        "\n",
        "Recall the typical \"lambda x: x+1\" we have been using as the first argument of map, reduce and filter methods:\n",
        " * **map** maps each value in the input collection to a different value. It´s just the classical mathematical funciton we are used to!\n",
        " * **reduce** takes two values from the input collection and returns a new value (of the same type) by appliying a commutative operation to them. \n",
        " * **filter** filters the elements in the input collection according to a certain (boolean) criteria.\n",
        " "
      ]
    },
    {
      "cell_type": "markdown",
      "metadata": {
        "id": "Puct3lEfuIK3",
        "colab_type": "text"
      },
      "source": [
        "**Mapping**\n",
        "\n",
        "`map` is a Higher Order Function (HOF) that takes a function f and a sequence and returns a new sequence formed by applying f to each element in the original sequence. \n",
        "\n",
        "![map](https://cosminpupaza.files.wordpress.com/2015/10/map.png?w=505)"
      ]
    },
    {
      "cell_type": "markdown",
      "metadata": {
        "id": "ndQMj4WcuIK6",
        "colab_type": "text"
      },
      "source": [
        "Very often we write lambdas, anonymous functions, to use in defining simple transformations with `map`:\n"
      ]
    },
    {
      "cell_type": "code",
      "metadata": {
        "id": "7EEFATamuIK_",
        "colab_type": "code",
        "colab": {
          "base_uri": "https://localhost:8080/",
          "height": 34
        },
        "outputId": "c3ff7bcc-628b-4f68-a014-8bf9ff39e2c3"
      },
      "source": [
        "input_list = [42, 17, 53, 1]\n",
        "\n",
        "list(map(lambda n: n ** 2, input_list))"
      ],
      "execution_count": null,
      "outputs": [
        {
          "output_type": "execute_result",
          "data": {
            "text/plain": [
              "[1764, 289, 2809, 1]"
            ]
          },
          "metadata": {
            "tags": []
          },
          "execution_count": 5
        }
      ]
    },
    {
      "cell_type": "markdown",
      "metadata": {
        "id": "MWH9MA1euILX",
        "colab_type": "text"
      },
      "source": [
        "We can also use named functions, of course. Note that we pass them as arguments to `map`, not execute them. You can think of them as tools we give to `map` for it to use."
      ]
    },
    {
      "cell_type": "code",
      "metadata": {
        "id": "bmPh_Nv0uILZ",
        "colab_type": "code",
        "colab": {
          "base_uri": "https://localhost:8080/",
          "height": 34
        },
        "outputId": "651cef73-df76-498f-e372-11fdbf0097c6"
      },
      "source": [
        "def square(n):\n",
        "  return n ** 2\n",
        "\n",
        "list(map(square, input_list))"
      ],
      "execution_count": null,
      "outputs": [
        {
          "output_type": "execute_result",
          "data": {
            "text/plain": [
              "[1764, 289, 2809, 1]"
            ]
          },
          "metadata": {
            "tags": []
          },
          "execution_count": 9
        }
      ]
    },
    {
      "cell_type": "code",
      "metadata": {
        "id": "DS1lpigZzqd4",
        "colab_type": "code",
        "colab": {}
      },
      "source": [
        "sq = lambda n: n ** 2"
      ],
      "execution_count": null,
      "outputs": []
    },
    {
      "cell_type": "markdown",
      "metadata": {
        "id": "9K531GxOuILn",
        "colab_type": "text"
      },
      "source": [
        "Consider the following very common pattern: create empty list, append transformed elements one by one:"
      ]
    },
    {
      "cell_type": "code",
      "metadata": {
        "id": "PIVteeoouILr",
        "colab_type": "code",
        "colab": {
          "base_uri": "https://localhost:8080/",
          "height": 34
        },
        "outputId": "c1e6acb3-061d-4b96-ac75-e5bfec71a112"
      },
      "source": [
        "input_list = ['willow', 'elm']\n",
        "result = []\n",
        "\n",
        "for element in input_list:\n",
        "  result.append(element + 's')\n",
        "\n",
        "result"
      ],
      "execution_count": null,
      "outputs": [
        {
          "output_type": "execute_result",
          "data": {
            "text/plain": [
              "['willows', 'elms']"
            ]
          },
          "metadata": {
            "tags": []
          },
          "execution_count": 15
        }
      ]
    },
    {
      "cell_type": "markdown",
      "metadata": {
        "id": "ESNfzDNzuIL6",
        "colab_type": "text"
      },
      "source": [
        "We can abstract over every possible list by defining a function that takes the list as an argument:"
      ]
    },
    {
      "cell_type": "code",
      "metadata": {
        "id": "Dzbi_9YxuIL-",
        "colab_type": "code",
        "colab": {
          "base_uri": "https://localhost:8080/",
          "height": 34
        },
        "outputId": "043b23ea-1abd-470d-c53b-0f7fc4b0e63f"
      },
      "source": [
        "def pluralize(input_list):\n",
        "  result = []\n",
        "\n",
        "  for element in input_list:\n",
        "    result.append(element + 's')\n",
        "\n",
        "  return result\n",
        "\n",
        "pluralize(input_list)"
      ],
      "execution_count": null,
      "outputs": [
        {
          "output_type": "execute_result",
          "data": {
            "text/plain": [
              "['willows', 'elms']"
            ]
          },
          "metadata": {
            "tags": []
          },
          "execution_count": 17
        }
      ]
    },
    {
      "cell_type": "code",
      "metadata": {
        "id": "eZIn8YKI1utm",
        "colab_type": "code",
        "colab": {
          "base_uri": "https://localhost:8080/",
          "height": 34
        },
        "outputId": "75131cdb-9d6f-472a-cb28-718133cd7a21"
      },
      "source": [
        "pluralize(['if', 'but', 'or'])"
      ],
      "execution_count": null,
      "outputs": [
        {
          "output_type": "execute_result",
          "data": {
            "text/plain": [
              "['ifs', 'buts', 'ors']"
            ]
          },
          "metadata": {
            "tags": []
          },
          "execution_count": 18
        }
      ]
    },
    {
      "cell_type": "markdown",
      "metadata": {
        "id": "lNT9nV-vuIMM",
        "colab_type": "text"
      },
      "source": [
        "Consider this other piece of code: we are doing a very similar thing, but with a different function. A lot of the code is common between the two little programs.\n",
        "\n",
        "Wouldn't it be convenient if we could abstract over every function, as we did over every list?"
      ]
    },
    {
      "cell_type": "code",
      "metadata": {
        "id": "XUKsHGZTuIMP",
        "colab_type": "code",
        "colab": {
          "base_uri": "https://localhost:8080/",
          "height": 34
        },
        "outputId": "727b3431-d2a7-425c-c488-4d8673916981"
      },
      "source": [
        "def initials(input_list):\n",
        "  result = []\n",
        "\n",
        "  for element in input_list:\n",
        "    result.append(element[0])\n",
        "\n",
        "  return result\n",
        "\n",
        "initials(input_list)"
      ],
      "execution_count": null,
      "outputs": [
        {
          "output_type": "execute_result",
          "data": {
            "text/plain": [
              "['w', 'e']"
            ]
          },
          "metadata": {
            "tags": []
          },
          "execution_count": 20
        }
      ]
    },
    {
      "cell_type": "markdown",
      "metadata": {
        "id": "QXqXETNauIMh",
        "colab_type": "text"
      },
      "source": [
        "We can, taking the function to be applied as an argument. This is because Python treats functions as first-class objects, so they can be used as arguments to other functions."
      ]
    },
    {
      "cell_type": "code",
      "metadata": {
        "id": "6tRkxm1-uIMl",
        "colab_type": "code",
        "colab": {
          "base_uri": "https://localhost:8080/",
          "height": 34
        },
        "outputId": "46938894-bf07-4964-b84c-94b843b67f77"
      },
      "source": [
        "def process_list(func, input_list):\n",
        "  result = []\n",
        "\n",
        "  for element in input_list:\n",
        "    result.append(func(element))\n",
        "\n",
        "  return result\n",
        "\n",
        "def ingconita(element): return element[0]\n",
        "\n",
        "process_list(lambda element: element[0], input_list)"
      ],
      "execution_count": null,
      "outputs": [
        {
          "output_type": "execute_result",
          "data": {
            "text/plain": [
              "['w', 'e']"
            ]
          },
          "metadata": {
            "tags": []
          },
          "execution_count": 22
        }
      ]
    },
    {
      "cell_type": "code",
      "metadata": {
        "id": "QNvPMSIS356b",
        "colab_type": "code",
        "colab": {
          "base_uri": "https://localhost:8080/",
          "height": 34
        },
        "outputId": "4a189941-7623-4477-9b5d-d31c4edc8a77"
      },
      "source": [
        "process_list(lambda element: element + 's', input_list)"
      ],
      "execution_count": null,
      "outputs": [
        {
          "output_type": "execute_result",
          "data": {
            "text/plain": [
              "['willows', 'elms']"
            ]
          },
          "metadata": {
            "tags": []
          },
          "execution_count": 23
        }
      ]
    },
    {
      "cell_type": "code",
      "metadata": {
        "id": "Ovc0_Q563-9V",
        "colab_type": "code",
        "colab": {
          "base_uri": "https://localhost:8080/",
          "height": 34
        },
        "outputId": "2940ffc8-b1c8-433e-ebbe-eeac357b30c4"
      },
      "source": [
        "process_list(lambda element: len(element), input_list)"
      ],
      "execution_count": null,
      "outputs": [
        {
          "output_type": "execute_result",
          "data": {
            "text/plain": [
              "[6, 3]"
            ]
          },
          "metadata": {
            "tags": []
          },
          "execution_count": 24
        }
      ]
    },
    {
      "cell_type": "markdown",
      "metadata": {
        "id": "3DEs6B6auIMy",
        "colab_type": "text"
      },
      "source": [
        "That function we just wrote, `process_list`, is exactly what `map` is"
      ]
    },
    {
      "cell_type": "code",
      "metadata": {
        "id": "tKnz6bknuIM0",
        "colab_type": "code",
        "colab": {
          "base_uri": "https://localhost:8080/",
          "height": 34
        },
        "outputId": "9aac3f7a-c33e-48d1-9873-0e9b021f2110"
      },
      "source": [
        "list(map(lambda element: len(element), input_list))"
      ],
      "execution_count": null,
      "outputs": [
        {
          "output_type": "execute_result",
          "data": {
            "text/plain": [
              "[6, 3]"
            ]
          },
          "metadata": {
            "tags": []
          },
          "execution_count": 25
        }
      ]
    },
    {
      "cell_type": "markdown",
      "metadata": {
        "id": "veWxgAqvuINB",
        "colab_type": "text"
      },
      "source": [
        "**Filtering**\n",
        "\n",
        "`filter` encodes another very common pattern: building a sequence from some of the elements of an input sequence, deciding whether to include each based on the result of evaluating a function, often called the `predicate`, on each of the elements.\n",
        "\n",
        "\n",
        "![filter](https://cosminpupaza.files.wordpress.com/2015/11/filter.png?w=405)"
      ]
    },
    {
      "cell_type": "code",
      "metadata": {
        "id": "wtMewZJO8dtR",
        "colab_type": "code",
        "colab": {
          "base_uri": "https://localhost:8080/",
          "height": 34
        },
        "outputId": "eb1fb4ac-4a36-409d-d806-bbcdf4546f4a"
      },
      "source": [
        "lambda element: element + 's'"
      ],
      "execution_count": null,
      "outputs": [
        {
          "output_type": "execute_result",
          "data": {
            "text/plain": [
              "<function __main__.<lambda>>"
            ]
          },
          "metadata": {
            "tags": []
          },
          "execution_count": 26
        }
      ]
    },
    {
      "cell_type": "code",
      "metadata": {
        "id": "wmQVMt5KuIND",
        "colab_type": "code",
        "colab": {
          "base_uri": "https://localhost:8080/",
          "height": 34
        },
        "outputId": "fd3c8350-dc3d-4aad-dad8-d291666f98f1"
      },
      "source": [
        "numbers = [12, 15, 78, 57, 95]\n",
        "\n",
        "list(filter(lambda n: n < 20, numbers))"
      ],
      "execution_count": null,
      "outputs": [
        {
          "output_type": "execute_result",
          "data": {
            "text/plain": [
              "[12, 15]"
            ]
          },
          "metadata": {
            "tags": []
          },
          "execution_count": 28
        }
      ]
    },
    {
      "cell_type": "code",
      "metadata": {
        "id": "LBtWA5Ty822r",
        "colab_type": "code",
        "colab": {
          "base_uri": "https://localhost:8080/",
          "height": 34
        },
        "outputId": "5b1f42eb-122d-4a84-9a7f-86551687a86c"
      },
      "source": [
        "list(map(lambda n: n < 20, numbers))"
      ],
      "execution_count": null,
      "outputs": [
        {
          "output_type": "execute_result",
          "data": {
            "text/plain": [
              "[True, True, False, False, False]"
            ]
          },
          "metadata": {
            "tags": []
          },
          "execution_count": 29
        }
      ]
    },
    {
      "cell_type": "markdown",
      "metadata": {
        "id": "b8IdxukpuINQ",
        "colab_type": "text"
      },
      "source": [
        "Again, we can use either lambdas or named functions."
      ]
    },
    {
      "cell_type": "code",
      "metadata": {
        "id": "qvDsLouXuINR",
        "colab_type": "code",
        "colab": {
          "base_uri": "https://localhost:8080/",
          "height": 34
        },
        "outputId": "b8c7a579-8bb8-4563-ef8b-2c37c6741e49"
      },
      "source": [
        "def under20(n):\n",
        "  if n < 20: \n",
        "    return True\n",
        "  else:\n",
        "    return False\n",
        "\n",
        "def under20(n):\n",
        "  return n < 20    \n",
        "\n",
        "\n",
        "list(filter(under20, numbers)) "
      ],
      "execution_count": null,
      "outputs": [
        {
          "output_type": "execute_result",
          "data": {
            "text/plain": [
              "[12, 15]"
            ]
          },
          "metadata": {
            "tags": []
          },
          "execution_count": 31
        }
      ]
    },
    {
      "cell_type": "markdown",
      "metadata": {
        "id": "EeUAX_QuuINc",
        "colab_type": "text"
      },
      "source": [
        "#### Exercise\n",
        "\n",
        "write a filter to extract those words that have more than 3 letters from `collection_of_strings`"
      ]
    },
    {
      "cell_type": "code",
      "metadata": {
        "id": "Wbct0k8buINe",
        "colab_type": "code",
        "colab": {
          "base_uri": "https://localhost:8080/",
          "height": 34
        },
        "outputId": "11102c77-9902-4ff2-dd6c-831281cfae68"
      },
      "source": [
        "collection_of_strings = ['holi', 'colegui', 'que', 'tal']\n",
        "collection_of_strings"
      ],
      "execution_count": null,
      "outputs": [
        {
          "output_type": "execute_result",
          "data": {
            "text/plain": [
              "['holi', 'colegui', 'que', 'tal']"
            ]
          },
          "metadata": {
            "tags": []
          },
          "execution_count": 32
        }
      ]
    },
    {
      "cell_type": "code",
      "metadata": {
        "id": "HUjE5EgAAUTP",
        "colab_type": "code",
        "colab": {
          "base_uri": "https://localhost:8080/",
          "height": 34
        },
        "outputId": "b5669b49-96e5-4e7a-8458-fa058b6b68cc"
      },
      "source": [
        "list(filter(lambda y: len(y) > 3, collection_of_strings))"
      ],
      "execution_count": null,
      "outputs": [
        {
          "output_type": "execute_result",
          "data": {
            "text/plain": [
              "['holi', 'colegui']"
            ]
          },
          "metadata": {
            "tags": []
          },
          "execution_count": 36
        }
      ]
    },
    {
      "cell_type": "markdown",
      "metadata": {
        "id": "ljjf6c1XuINl",
        "colab_type": "text"
      },
      "source": [
        "\n",
        "#### Exercise\n",
        "\n",
        "\n",
        "Write a filter to extract prime numbers from the following list of integers:\n",
        "\n",
        "```python\n",
        "[12, 17, 19, 18, 23, 24]\n",
        "```\n",
        "\n",
        "You will need to write a function that determines whether a single number is a prime or not."
      ]
    },
    {
      "cell_type": "code",
      "metadata": {
        "id": "ZtH6wpcLuINl",
        "colab_type": "code",
        "colab": {
          "base_uri": "https://localhost:8080/",
          "height": 34
        },
        "outputId": "c10940c6-3a3d-4370-fe24-c14463295804"
      },
      "source": [
        "integers = [12, 17, 19, 18, 23, 24]\n",
        "\n",
        "def isprime(n):\n",
        "  for candidate in range(2, n):\n",
        "    if n % candidate == 0:\n",
        "      return False\n",
        "  \n",
        "  return True\n",
        "\n",
        "isprime(17)"
      ],
      "execution_count": null,
      "outputs": [
        {
          "output_type": "execute_result",
          "data": {
            "text/plain": [
              "True"
            ]
          },
          "metadata": {
            "tags": []
          },
          "execution_count": 44
        }
      ]
    },
    {
      "cell_type": "code",
      "metadata": {
        "id": "yoA9BYi7F3Sm",
        "colab_type": "code",
        "colab": {
          "base_uri": "https://localhost:8080/",
          "height": 34
        },
        "outputId": "61cb847e-14c2-4f7d-8f90-206f3904ec34"
      },
      "source": [
        "list(filter(isprime, integers))"
      ],
      "execution_count": null,
      "outputs": [
        {
          "output_type": "execute_result",
          "data": {
            "text/plain": [
              "[17, 19, 23]"
            ]
          },
          "metadata": {
            "tags": []
          },
          "execution_count": 45
        }
      ]
    },
    {
      "cell_type": "markdown",
      "metadata": {
        "id": "bGKbuh4VuINr",
        "colab_type": "text"
      },
      "source": [
        "`map` and `filter` are not  used explicitly very often in Python, in part because of their cumbersome syntax. \n",
        "\n",
        "Nevertheless, there is a well-known feature in Python that is in fact just a convenient way to write `map`s and `filter`s: **list comprehensions**:"
      ]
    },
    {
      "cell_type": "code",
      "metadata": {
        "id": "hfndJZzGuINu",
        "colab_type": "code",
        "colab": {
          "base_uri": "https://localhost:8080/",
          "height": 34
        },
        "outputId": "b72a1c23-2910-4167-dd2e-31e8f87105cb"
      },
      "source": [
        "[n ** 2 for n in integers if isprime(n)] "
      ],
      "execution_count": null,
      "outputs": [
        {
          "output_type": "execute_result",
          "data": {
            "text/plain": [
              "[289, 361, 529]"
            ]
          },
          "metadata": {
            "tags": []
          },
          "execution_count": 53
        }
      ]
    },
    {
      "cell_type": "markdown",
      "metadata": {
        "id": "A-GMWgHkuIN1",
        "colab_type": "text"
      },
      "source": [
        "The above list comprehension is exactly equivalent to:"
      ]
    },
    {
      "cell_type": "code",
      "metadata": {
        "id": "IYVDbLPOuIN2",
        "colab_type": "code",
        "colab": {
          "base_uri": "https://localhost:8080/",
          "height": 34
        },
        "outputId": "19ddaba9-d2d0-4c87-e3ff-cc85cb1df7ef"
      },
      "source": [
        "list(map(lambda n: n ** 2, filter(isprime, integers)))"
      ],
      "execution_count": null,
      "outputs": [
        {
          "output_type": "execute_result",
          "data": {
            "text/plain": [
              "[289, 361, 529]"
            ]
          },
          "metadata": {
            "tags": []
          },
          "execution_count": 54
        }
      ]
    },
    {
      "cell_type": "markdown",
      "metadata": {
        "id": "7e42si2cuIN8",
        "colab_type": "text"
      },
      "source": [
        "Which is a pipeline of two steps: first a `filter`, then a `map`"
      ]
    },
    {
      "cell_type": "markdown",
      "metadata": {
        "id": "D4ANlNQPuIN-",
        "colab_type": "text"
      },
      "source": [
        "**Reducing** \n",
        "\n",
        "`reduce` is the third basic foundation of functional programming. Reduce uses a function, often called the `combiner`, to transform a sequence of elements of type T (that is, any type) into a single T. The combiner must take 2 Ts and return only one T.\n",
        "\n",
        "\n",
        "Recall it must be commutative! Think about the importance of this when parallelizing computations\n",
        "\n",
        "![reduce](https://cosminpupaza.files.wordpress.com/2015/11/reduce.png?w=500)"
      ]
    },
    {
      "cell_type": "code",
      "metadata": {
        "id": "lWs5AffWuIOA",
        "colab_type": "code",
        "colab": {
          "base_uri": "https://localhost:8080/",
          "height": 34
        },
        "outputId": "f0e32eef-34ae-4ed8-a61b-63283683681c"
      },
      "source": [
        "from functools import reduce\n",
        "\n",
        "reduce(lambda x, y: x + y, integers)"
      ],
      "execution_count": null,
      "outputs": [
        {
          "output_type": "execute_result",
          "data": {
            "text/plain": [
              "113"
            ]
          },
          "metadata": {
            "tags": []
          },
          "execution_count": 56
        }
      ]
    },
    {
      "cell_type": "code",
      "metadata": {
        "id": "kCqg3bGxMHiz",
        "colab_type": "code",
        "colab": {
          "base_uri": "https://localhost:8080/",
          "height": 34
        },
        "outputId": "a2483fb5-3803-4509-e8ab-2bbc088bfeed"
      },
      "source": [
        "integers"
      ],
      "execution_count": null,
      "outputs": [
        {
          "output_type": "execute_result",
          "data": {
            "text/plain": [
              "[12, 17, 19, 18, 23, 24]"
            ]
          },
          "metadata": {
            "tags": []
          },
          "execution_count": 59
        }
      ]
    },
    {
      "cell_type": "code",
      "metadata": {
        "id": "B1RQuIRpKvUs",
        "colab_type": "code",
        "colab": {
          "base_uri": "https://localhost:8080/",
          "height": 118
        },
        "outputId": "17b2fa09-e143-4752-ee13-0df59aa7c004"
      },
      "source": [
        "def noisy_add(x, y):\n",
        "  print(f'Adding {x} and {y}')\n",
        "  return x + y  \n",
        "\n",
        "reduce(noisy_add, integers)"
      ],
      "execution_count": null,
      "outputs": [
        {
          "output_type": "stream",
          "text": [
            "Adding 12 and 17\n",
            "Adding 29 and 19\n",
            "Adding 48 and 18\n",
            "Adding 66 and 23\n",
            "Adding 89 and 24\n"
          ],
          "name": "stdout"
        },
        {
          "output_type": "execute_result",
          "data": {
            "text/plain": [
              "113"
            ]
          },
          "metadata": {
            "tags": []
          },
          "execution_count": 60
        }
      ]
    },
    {
      "cell_type": "markdown",
      "metadata": {
        "id": "idzsOg6KuIOH",
        "colab_type": "text"
      },
      "source": [
        "#### Exercise\n",
        "\n",
        "Write a function_x such that, when applied with `reduce`, that reduce returns the highest number in a list. Don't use the built-in `max`!"
      ]
    },
    {
      "cell_type": "code",
      "metadata": {
        "id": "ApyrhPEpuIOI",
        "colab_type": "code",
        "colab": {
          "base_uri": "https://localhost:8080/",
          "height": 34
        },
        "outputId": "4bcb1d68-e4ae-43ba-d410-1816271ee86d"
      },
      "source": [
        "numbers = [5, 48, 12, 67, 15, 0, 7]\n",
        "\n",
        "\n",
        "def highest_number(x, y):\n",
        "\n",
        "  if x > y:\n",
        "    return x\n",
        "  else: \n",
        "    return y\n",
        "\n",
        "reduce(highest_number, numbers)"
      ],
      "execution_count": null,
      "outputs": [
        {
          "output_type": "execute_result",
          "data": {
            "text/plain": [
              "67"
            ]
          },
          "metadata": {
            "tags": []
          },
          "execution_count": 65
        }
      ]
    },
    {
      "cell_type": "markdown",
      "metadata": {
        "id": "u2n4bMGluIOQ",
        "colab_type": "text"
      },
      "source": [
        "## (1b) Exercise: Calculate the mean of a collection of real numbers using map/reduce\n",
        "Recall:\n",
        "\n",
        "$$\\bar x = \\frac{\\sum_{i=1}^{N} x_i}{N} $$\n",
        "\n",
        "It´s straightforward to do this with python built-in mehots sum() and len(). However, how would you do that with map/reduce? We have already shown how to sum the elements of an array. Thus, you have to calculate the length of the array. For this:\n",
        " * Create another array of the same size, consisting of 1s.\n",
        " * Sum the elements of that array"
      ]
    },
    {
      "cell_type": "markdown",
      "metadata": {
        "id": "H9WA2gfsuIOR",
        "colab_type": "text"
      },
      "source": [
        "#### First part\n",
        "\n",
        "* Do a reduce to do the sum, and a different map-reduce to get the length"
      ]
    },
    {
      "cell_type": "code",
      "metadata": {
        "id": "il6TzxV4uIOT",
        "colab_type": "code",
        "colab": {}
      },
      "source": [
        "total = reduce(lambda x, y: x + y, integers)\n",
        "count = reduce(lambda x, y: x + y, map(lambda x: 1, integers))"
      ],
      "execution_count": null,
      "outputs": []
    },
    {
      "cell_type": "markdown",
      "metadata": {
        "id": "EA_08vpxuIOe",
        "colab_type": "text"
      },
      "source": [
        "That was also a pipeline of two steps. It's equivalent to:"
      ]
    },
    {
      "cell_type": "code",
      "metadata": {
        "id": "6PJLNWdvRAr1",
        "colab_type": "code",
        "colab": {
          "base_uri": "https://localhost:8080/",
          "height": 34
        },
        "outputId": "e51fe06d-00f9-4cb6-dfb9-3e5246df3c00"
      },
      "source": [
        "total = reduce(lambda x, y: x + y, integers)\n",
        "ones = map(lambda x: 1, integers)\n",
        "count = reduce(lambda x, y: x + y, ones)\n",
        "\n",
        "mean = total / count\n",
        "mean"
      ],
      "execution_count": null,
      "outputs": [
        {
          "output_type": "execute_result",
          "data": {
            "text/plain": [
              "18.833333333333332"
            ]
          },
          "metadata": {
            "tags": []
          },
          "execution_count": 75
        }
      ]
    },
    {
      "cell_type": "markdown",
      "metadata": {
        "id": "GNK4zsUVuIOn",
        "colab_type": "text"
      },
      "source": [
        "#### Combine them in one pass\n",
        "\n",
        "Think about what it would mean to finish one computation and only then do another in a distributed environment.\n",
        "\n",
        "Combine both in one pass:"
      ]
    },
    {
      "cell_type": "code",
      "metadata": {
        "id": "lH8VJ36JuIOo",
        "colab_type": "code",
        "colab": {
          "base_uri": "https://localhost:8080/",
          "height": 34
        },
        "outputId": "6aafb5f0-02a6-4c49-8eb0-19cbe94c3840"
      },
      "source": [
        "first_step = list(map(lambda n: (n, 1), integers))\n",
        "first_step"
      ],
      "execution_count": null,
      "outputs": [
        {
          "output_type": "execute_result",
          "data": {
            "text/plain": [
              "[(12, 1), (17, 1), (19, 1), (18, 1), (23, 1), (24, 1)]"
            ]
          },
          "metadata": {
            "tags": []
          },
          "execution_count": 78
        }
      ]
    },
    {
      "cell_type": "code",
      "metadata": {
        "id": "4JwgZo2tTvwA",
        "colab_type": "code",
        "colab": {
          "base_uri": "https://localhost:8080/",
          "height": 34
        },
        "outputId": "1f74ca5c-9516-4aa0-8d7a-9c3c48d4ee33"
      },
      "source": [
        "final_step = reduce(lambda tup1, tup2: (tup1[0] + tup2[0], tup1[1] + tup2[1]), first_step)\n",
        "final_step"
      ],
      "execution_count": null,
      "outputs": [
        {
          "output_type": "execute_result",
          "data": {
            "text/plain": [
              "(113, 6)"
            ]
          },
          "metadata": {
            "tags": []
          },
          "execution_count": 80
        }
      ]
    },
    {
      "cell_type": "markdown",
      "metadata": {
        "id": "H24jDSH0uIOu",
        "colab_type": "text"
      },
      "source": [
        "## (1c) Exercise: Calculate the standard deviation of a collection of real numbers\n",
        "\n",
        "We'll use the typical definition of the standard deviation:\n",
        "\n",
        "$$\\sigma_x^2 = \\frac{\\sum_{i=1}^{N} (x_i-\\bar x)^2}{N}$$\n",
        "\n",
        "For this, use the *mean* and *count* variables from the previous excercise."
      ]
    },
    {
      "cell_type": "code",
      "metadata": {
        "id": "4zBVOx6DuIOx",
        "colab_type": "code",
        "colab": {
          "base_uri": "https://localhost:8080/",
          "height": 34
        },
        "outputId": "0c950113-9649-4514-a07d-ecb667d82110"
      },
      "source": [
        "mean, count"
      ],
      "execution_count": null,
      "outputs": [
        {
          "output_type": "execute_result",
          "data": {
            "text/plain": [
              "(18.833333333333332, 6)"
            ]
          },
          "metadata": {
            "tags": []
          },
          "execution_count": 82
        }
      ]
    },
    {
      "cell_type": "markdown",
      "metadata": {
        "id": "atety783uIO4",
        "colab_type": "text"
      },
      "source": [
        "In standard idiomatic Python we'd do it like this:"
      ]
    },
    {
      "cell_type": "code",
      "metadata": {
        "id": "lMuLF1cHuIO6",
        "colab_type": "code",
        "colab": {
          "base_uri": "https://localhost:8080/",
          "height": 34
        },
        "outputId": "43711338-e557-4859-c696-9f0f18de9bc9"
      },
      "source": [
        "sq_diffs = 0\n",
        "\n",
        "for number in integers:\n",
        "  sq_diffs += (number - mean) ** 2\n",
        "\n",
        "sq_diffs / count"
      ],
      "execution_count": null,
      "outputs": [
        {
          "output_type": "execute_result",
          "data": {
            "text/plain": [
              "15.805555555555557"
            ]
          },
          "metadata": {
            "tags": []
          },
          "execution_count": 84
        }
      ]
    },
    {
      "cell_type": "markdown",
      "metadata": {
        "id": "ETHSVu2RuIPG",
        "colab_type": "text"
      },
      "source": [
        "With `map` and `reduce`:"
      ]
    },
    {
      "cell_type": "code",
      "metadata": {
        "id": "2nhW776HuIPI",
        "colab_type": "code",
        "colab": {
          "base_uri": "https://localhost:8080/",
          "height": 34
        },
        "outputId": "40df5315-5c31-4413-c04e-9af232c608d4"
      },
      "source": [
        "sq_diffs = reduce(lambda x, y: x + y, map(lambda n: (n - mean) ** 2, integers))\n",
        "sq_diffs / count"
      ],
      "execution_count": null,
      "outputs": [
        {
          "output_type": "execute_result",
          "data": {
            "text/plain": [
              "15.805555555555557"
            ]
          },
          "metadata": {
            "tags": []
          },
          "execution_count": 86
        }
      ]
    },
    {
      "cell_type": "markdown",
      "metadata": {
        "id": "6ect8GdWuIPT",
        "colab_type": "text"
      },
      "source": [
        "#### Calculate the standard deviation in one pass.\n",
        "\n",
        "Again, think about what it would mean to finish one computation and only then do another in a distributed environment.\n",
        "\n",
        "\n",
        "If we can, we should avoid broadcasting variables all over the cluster. In this case, the following alternative definition of standard deviation can come in handy:\n",
        "\n",
        "$$\\sigma_x^2 = \\frac{\\sum_{i=1}^{N} (x_i-\\bar x)^2}{N} =\n",
        "\\frac{\\sum_{i=1}^{N} (x_i^2+{\\bar x}^2-2x_i\\bar x)}{N} =\n",
        "\\frac{1}{N}\\left(\\sum_i x_i^2-N\\bar x^2\\right)$$\n",
        "\n"
      ]
    },
    {
      "cell_type": "code",
      "metadata": {
        "id": "5LBd5a-vuIPU",
        "colab_type": "code",
        "colab": {
          "base_uri": "https://localhost:8080/",
          "height": 118
        },
        "outputId": "7928e157-25e1-458b-9edf-3d692405165b"
      },
      "source": [
        "integers\n",
        "\n",
        "list(map(lambda n: (n**2, n, 1), integers))"
      ],
      "execution_count": null,
      "outputs": [
        {
          "output_type": "execute_result",
          "data": {
            "text/plain": [
              "[(144, 12, 1),\n",
              " (289, 17, 1),\n",
              " (361, 19, 1),\n",
              " (324, 18, 1),\n",
              " (529, 23, 1),\n",
              " (576, 24, 1)]"
            ]
          },
          "metadata": {
            "tags": []
          },
          "execution_count": 90
        }
      ]
    },
    {
      "cell_type": "code",
      "metadata": {
        "id": "_0EaEMmfcrXR",
        "colab_type": "code",
        "colab": {}
      },
      "source": [
        "def tuple_combiner(left, right):\n",
        "\n",
        "  return (left[0] + right[0], left[1] + right[1], left[2] + right[2])\n",
        "          \n",
        "\n",
        "tuples = list(map(lambda n: (n**2, n, 1), integers))  \n",
        "result = reduce(tuple_combiner, tuples)\n",
        "sum_sq, total, count = result"
      ],
      "execution_count": null,
      "outputs": []
    },
    {
      "cell_type": "code",
      "metadata": {
        "id": "iPb-dCODde3b",
        "colab_type": "code",
        "colab": {
          "base_uri": "https://localhost:8080/",
          "height": 34
        },
        "outputId": "e2cd4d6c-d142-4297-fd67-2bdd0aa27bd2"
      },
      "source": [
        "mean = total / count\n",
        "var = (1 / count) * (sum_sq - count * mean ** 2)\n",
        "var"
      ],
      "execution_count": null,
      "outputs": [
        {
          "output_type": "execute_result",
          "data": {
            "text/plain": [
              "15.80555555555558"
            ]
          },
          "metadata": {
            "tags": []
          },
          "execution_count": 96
        }
      ]
    },
    {
      "cell_type": "markdown",
      "metadata": {
        "id": "bBFOW90BuIPb",
        "colab_type": "text"
      },
      "source": [
        "#### Side note\n",
        "\n",
        "In Python 2, map and filter returned lists. In Python 3, they return generators, which are lazy collections. They are somewhat similar to files in that they can be depleted of elements after iterating through them."
      ]
    },
    {
      "cell_type": "code",
      "metadata": {
        "id": "plZzrvC-uIPc",
        "colab_type": "code",
        "colab": {}
      },
      "source": [
        "squares = map(lambda n: n ** 2, integers)"
      ],
      "execution_count": null,
      "outputs": []
    },
    {
      "cell_type": "code",
      "metadata": {
        "id": "ns8wueHuelcz",
        "colab_type": "code",
        "colab": {
          "base_uri": "https://localhost:8080/",
          "height": 34
        },
        "outputId": "5a1a58eb-c7b9-400d-fc50-11661d27df8c"
      },
      "source": [
        "list(squares)"
      ],
      "execution_count": null,
      "outputs": [
        {
          "output_type": "execute_result",
          "data": {
            "text/plain": [
              "[144, 289, 361, 324, 529, 576]"
            ]
          },
          "metadata": {
            "tags": []
          },
          "execution_count": 99
        }
      ]
    },
    {
      "cell_type": "code",
      "metadata": {
        "id": "kzVsQX2PeqHh",
        "colab_type": "code",
        "colab": {
          "base_uri": "https://localhost:8080/",
          "height": 162
        },
        "outputId": "7f750458-597b-4583-8b58-c0a3a719c183"
      },
      "source": [
        "reduce(lambda x, y: x + y, squares) "
      ],
      "execution_count": null,
      "outputs": [
        {
          "output_type": "error",
          "ename": "TypeError",
          "evalue": "ignored",
          "traceback": [
            "\u001b[0;31m---------------------------------------------------------------------------\u001b[0m",
            "\u001b[0;31mTypeError\u001b[0m                                 Traceback (most recent call last)",
            "\u001b[0;32m<ipython-input-100-bf17bf918443>\u001b[0m in \u001b[0;36m<module>\u001b[0;34m()\u001b[0m\n\u001b[0;32m----> 1\u001b[0;31m \u001b[0mreduce\u001b[0m\u001b[0;34m(\u001b[0m\u001b[0;32mlambda\u001b[0m \u001b[0mx\u001b[0m\u001b[0;34m,\u001b[0m \u001b[0my\u001b[0m\u001b[0;34m:\u001b[0m \u001b[0mx\u001b[0m \u001b[0;34m+\u001b[0m \u001b[0my\u001b[0m\u001b[0;34m,\u001b[0m \u001b[0msquares\u001b[0m\u001b[0;34m)\u001b[0m\u001b[0;34m\u001b[0m\u001b[0;34m\u001b[0m\u001b[0m\n\u001b[0m",
            "\u001b[0;31mTypeError\u001b[0m: reduce() of empty sequence with no initial value"
          ]
        }
      ]
    },
    {
      "cell_type": "code",
      "metadata": {
        "id": "jSGQ37sdezMs",
        "colab_type": "code",
        "colab": {
          "base_uri": "https://localhost:8080/",
          "height": 34
        },
        "outputId": "66f43ec9-5d3a-458e-8d26-601f0f905f6a"
      },
      "source": [
        "list(squares) "
      ],
      "execution_count": null,
      "outputs": [
        {
          "output_type": "execute_result",
          "data": {
            "text/plain": [
              "[]"
            ]
          },
          "metadata": {
            "tags": []
          },
          "execution_count": 101
        }
      ]
    },
    {
      "cell_type": "markdown",
      "metadata": {
        "id": "-6375SVCuIPk",
        "colab_type": "text"
      },
      "source": [
        "## (1d) Twe 'word-count' problem: creating histograms\n",
        "Given a set of keys in an input collection, calculate the frequency of each key. \n",
        "\n",
        "In order to understand better how map/reduce works, we will implement this simple calculation in several forms.\n",
        "\n",
        "We are going to use as test case a list of elements chosen from a small set:"
      ]
    },
    {
      "cell_type": "code",
      "metadata": {
        "id": "iaC4mvEWuIPl",
        "colab_type": "code",
        "colab": {
          "base_uri": "https://localhost:8080/",
          "height": 1000
        },
        "outputId": "4657286e-9309-44e4-e4a8-99768ea316d5"
      },
      "source": [
        "import random\n",
        "\n",
        "random.seed(42)\n",
        "\n",
        "dishes = random.choices(['paella', 'pulpo', 'salmorejo', 'cocido'], k=100)\n",
        "dishes"
      ],
      "execution_count": null,
      "outputs": [
        {
          "output_type": "execute_result",
          "data": {
            "text/plain": [
              "['salmorejo',\n",
              " 'paella',\n",
              " 'pulpo',\n",
              " 'paella',\n",
              " 'salmorejo',\n",
              " 'salmorejo',\n",
              " 'cocido',\n",
              " 'paella',\n",
              " 'pulpo',\n",
              " 'paella',\n",
              " 'paella',\n",
              " 'salmorejo',\n",
              " 'paella',\n",
              " 'paella',\n",
              " 'salmorejo',\n",
              " 'salmorejo',\n",
              " 'paella',\n",
              " 'salmorejo',\n",
              " 'cocido',\n",
              " 'paella',\n",
              " 'cocido',\n",
              " 'salmorejo',\n",
              " 'pulpo',\n",
              " 'paella',\n",
              " 'cocido',\n",
              " 'pulpo',\n",
              " 'paella',\n",
              " 'paella',\n",
              " 'cocido',\n",
              " 'salmorejo',\n",
              " 'cocido',\n",
              " 'salmorejo',\n",
              " 'salmorejo',\n",
              " 'cocido',\n",
              " 'pulpo',\n",
              " 'salmorejo',\n",
              " 'cocido',\n",
              " 'salmorejo',\n",
              " 'cocido',\n",
              " 'salmorejo',\n",
              " 'salmorejo',\n",
              " 'paella',\n",
              " 'paella',\n",
              " 'pulpo',\n",
              " 'paella',\n",
              " 'paella',\n",
              " 'paella',\n",
              " 'pulpo',\n",
              " 'salmorejo',\n",
              " 'pulpo',\n",
              " 'pulpo',\n",
              " 'paella',\n",
              " 'pulpo',\n",
              " 'cocido',\n",
              " 'salmorejo',\n",
              " 'salmorejo',\n",
              " 'paella',\n",
              " 'salmorejo',\n",
              " 'paella',\n",
              " 'pulpo',\n",
              " 'cocido',\n",
              " 'salmorejo',\n",
              " 'salmorejo',\n",
              " 'salmorejo',\n",
              " 'cocido',\n",
              " 'cocido',\n",
              " 'paella',\n",
              " 'paella',\n",
              " 'pulpo',\n",
              " 'pulpo',\n",
              " 'paella',\n",
              " 'cocido',\n",
              " 'cocido',\n",
              " 'pulpo',\n",
              " 'salmorejo',\n",
              " 'pulpo',\n",
              " 'cocido',\n",
              " 'pulpo',\n",
              " 'pulpo',\n",
              " 'paella',\n",
              " 'salmorejo',\n",
              " 'pulpo',\n",
              " 'salmorejo',\n",
              " 'cocido',\n",
              " 'pulpo',\n",
              " 'paella',\n",
              " 'cocido',\n",
              " 'salmorejo',\n",
              " 'paella',\n",
              " 'paella',\n",
              " 'paella',\n",
              " 'salmorejo',\n",
              " 'cocido',\n",
              " 'pulpo',\n",
              " 'paella',\n",
              " 'pulpo',\n",
              " 'cocido',\n",
              " 'salmorejo',\n",
              " 'cocido',\n",
              " 'cocido']"
            ]
          },
          "metadata": {
            "tags": []
          },
          "execution_count": 104
        }
      ]
    },
    {
      "cell_type": "markdown",
      "metadata": {
        "id": "RM26ED77uIPt",
        "colab_type": "text"
      },
      "source": [
        "### (1d.1) Simple approach\n",
        "\n",
        " * Start with an empty dict\n",
        " * If a new key is not present in the dict, create it.\n",
        " * Otherwise, increase the frequency of the key by one."
      ]
    },
    {
      "cell_type": "code",
      "metadata": {
        "id": "pBXNsV1JuIPv",
        "colab_type": "code",
        "colab": {
          "base_uri": "https://localhost:8080/",
          "height": 34
        },
        "outputId": "0c88ac72-2af3-4bb7-ef1c-2c423d9ff4ff"
      },
      "source": [
        "result = {}\n",
        "\n",
        "for element in dishes:\n",
        "  if element not in result:\n",
        "    result[element] = 1\n",
        "  else:\n",
        "    result[element] += 1\n",
        "\n",
        "result"
      ],
      "execution_count": null,
      "outputs": [
        {
          "output_type": "execute_result",
          "data": {
            "text/plain": [
              "{'cocido': 22, 'paella': 29, 'pulpo': 21, 'salmorejo': 28}"
            ]
          },
          "metadata": {
            "tags": []
          },
          "execution_count": 107
        }
      ]
    },
    {
      "cell_type": "markdown",
      "metadata": {
        "id": "zoas_oAjuIP1",
        "colab_type": "text"
      },
      "source": [
        "### (1d.2) Map/reduce\n",
        "\n",
        "* Recall that *reduce* applies an operation to 2 elements of the same type, and returns another element of that type. Thus, the first thing to do is to map our collection to the type of the output. \n",
        " \n",
        "* The final result will be a dictionary of words in the vocabulary and counts. Therefore, we need to map each input word to this type.\n",
        " \n",
        "* Then, we have to define a function, the combiner, that combines these dictionaries two at a time."
      ]
    },
    {
      "cell_type": "code",
      "metadata": {
        "id": "DzO0mycmuIP1",
        "colab_type": "code",
        "colab": {
          "base_uri": "https://localhost:8080/",
          "height": 1000
        },
        "outputId": "aba1e517-ad15-473c-b33f-11d436fc34d0"
      },
      "source": [
        "list(map(lambda word: {word : 1}, dishes))"
      ],
      "execution_count": null,
      "outputs": [
        {
          "output_type": "execute_result",
          "data": {
            "text/plain": [
              "[{'salmorejo': 1},\n",
              " {'paella': 1},\n",
              " {'pulpo': 1},\n",
              " {'paella': 1},\n",
              " {'salmorejo': 1},\n",
              " {'salmorejo': 1},\n",
              " {'cocido': 1},\n",
              " {'paella': 1},\n",
              " {'pulpo': 1},\n",
              " {'paella': 1},\n",
              " {'paella': 1},\n",
              " {'salmorejo': 1},\n",
              " {'paella': 1},\n",
              " {'paella': 1},\n",
              " {'salmorejo': 1},\n",
              " {'salmorejo': 1},\n",
              " {'paella': 1},\n",
              " {'salmorejo': 1},\n",
              " {'cocido': 1},\n",
              " {'paella': 1},\n",
              " {'cocido': 1},\n",
              " {'salmorejo': 1},\n",
              " {'pulpo': 1},\n",
              " {'paella': 1},\n",
              " {'cocido': 1},\n",
              " {'pulpo': 1},\n",
              " {'paella': 1},\n",
              " {'paella': 1},\n",
              " {'cocido': 1},\n",
              " {'salmorejo': 1},\n",
              " {'cocido': 1},\n",
              " {'salmorejo': 1},\n",
              " {'salmorejo': 1},\n",
              " {'cocido': 1},\n",
              " {'pulpo': 1},\n",
              " {'salmorejo': 1},\n",
              " {'cocido': 1},\n",
              " {'salmorejo': 1},\n",
              " {'cocido': 1},\n",
              " {'salmorejo': 1},\n",
              " {'salmorejo': 1},\n",
              " {'paella': 1},\n",
              " {'paella': 1},\n",
              " {'pulpo': 1},\n",
              " {'paella': 1},\n",
              " {'paella': 1},\n",
              " {'paella': 1},\n",
              " {'pulpo': 1},\n",
              " {'salmorejo': 1},\n",
              " {'pulpo': 1},\n",
              " {'pulpo': 1},\n",
              " {'paella': 1},\n",
              " {'pulpo': 1},\n",
              " {'cocido': 1},\n",
              " {'salmorejo': 1},\n",
              " {'salmorejo': 1},\n",
              " {'paella': 1},\n",
              " {'salmorejo': 1},\n",
              " {'paella': 1},\n",
              " {'pulpo': 1},\n",
              " {'cocido': 1},\n",
              " {'salmorejo': 1},\n",
              " {'salmorejo': 1},\n",
              " {'salmorejo': 1},\n",
              " {'cocido': 1},\n",
              " {'cocido': 1},\n",
              " {'paella': 1},\n",
              " {'paella': 1},\n",
              " {'pulpo': 1},\n",
              " {'pulpo': 1},\n",
              " {'paella': 1},\n",
              " {'cocido': 1},\n",
              " {'cocido': 1},\n",
              " {'pulpo': 1},\n",
              " {'salmorejo': 1},\n",
              " {'pulpo': 1},\n",
              " {'cocido': 1},\n",
              " {'pulpo': 1},\n",
              " {'pulpo': 1},\n",
              " {'paella': 1},\n",
              " {'salmorejo': 1},\n",
              " {'pulpo': 1},\n",
              " {'salmorejo': 1},\n",
              " {'cocido': 1},\n",
              " {'pulpo': 1},\n",
              " {'paella': 1},\n",
              " {'cocido': 1},\n",
              " {'salmorejo': 1},\n",
              " {'paella': 1},\n",
              " {'paella': 1},\n",
              " {'paella': 1},\n",
              " {'salmorejo': 1},\n",
              " {'cocido': 1},\n",
              " {'pulpo': 1},\n",
              " {'paella': 1},\n",
              " {'pulpo': 1},\n",
              " {'cocido': 1},\n",
              " {'salmorejo': 1},\n",
              " {'cocido': 1},\n",
              " {'cocido': 1}]"
            ]
          },
          "metadata": {
            "tags": []
          },
          "execution_count": 109
        }
      ]
    },
    {
      "cell_type": "code",
      "metadata": {
        "id": "B9qolzEsoc7K",
        "colab_type": "code",
        "colab": {
          "base_uri": "https://localhost:8080/",
          "height": 34
        },
        "outputId": "99b816ee-2b04-4c7a-bdd9-5029a1d41e4f"
      },
      "source": [
        "def dict_combiner(left, right):\n",
        "\n",
        "  for key in right:\n",
        "    if key in left:\n",
        "      left[key] += right[key]\n",
        "    else:\n",
        "      left[key] = right[key]\n",
        "\n",
        "  return left\n",
        " \n",
        "reduce(dict_combiner, map(lambda word: {word: 1}, dishes))"
      ],
      "execution_count": null,
      "outputs": [
        {
          "output_type": "execute_result",
          "data": {
            "text/plain": [
              "{'cocido': 22, 'paella': 29, 'pulpo': 21, 'salmorejo': 28}"
            ]
          },
          "metadata": {
            "tags": []
          },
          "execution_count": 112
        }
      ]
    },
    {
      "cell_type": "markdown",
      "metadata": {
        "id": "vWnSxeRWuIP8",
        "colab_type": "text"
      },
      "source": [
        "# Part 2: Spark. Work with RDD and Pair RDD abstractions \n",
        "\n",
        "![drawing](https://prateekvjoshi.files.wordpress.com/2015/10/1-main4.png)"
      ]
    },
    {
      "cell_type": "markdown",
      "metadata": {
        "collapsed": true,
        "id": "VJIIHCaHuIP_",
        "colab_type": "text"
      },
      "source": [
        "# ** Apache Spark**\n",
        "\n",
        "Apache Spark is an open source cluster computing framework originally developed in the AMPLab at University of California, Berkeley but was later donated to the Apache Software Foundation where it remains today. In contrast to Hadoop's two-stage disk-based MapReduce paradigm, Spark's multi-stage in-memory primitives provides performance up to 100 times faster for certain applications.\n",
        "\n",
        "![](http://image.slidesharecdn.com/sparkandshark-120620130508-phpapp01/95/spark-and-shark-8-728.jpg?cb=1340197567)\n",
        "\n",
        "By allowing user programs to load data into a cluster's memory and query it repeatedly, Spark is well-suited to machine learning algorithms.\n",
        "![](http://spark.apache.org/images/logistic-regression.png)\n",
        "\n",
        "Spark comes with a number of components that provide flexibility and generality.\n",
        "\n",
        "<img src=\"http://spark.apache.org/images/spark-stack.png\" alt=\"Drawing\" style=\"width: 500px;\"/>"
      ]
    },
    {
      "cell_type": "markdown",
      "metadata": {
        "id": "wjszcgdsuIQE",
        "colab_type": "text"
      },
      "source": [
        "\n",
        "## In this part, we keep on working on the word-count example, this time with spark. The basic abstraction of Spark is the Resilient Distributed Dataset (RDD):\n",
        "\n",
        "#### «RDDs are fault-tolerant, parallel data structures that let users explicitly persist intermediate results in memory, control their partitioning to optimize data placement, and manipulate them using a rich set of operators.»\n",
        "\n",
        " * Read only, partitioned collection of records (immutable).\n",
        " * Stores the transformations used to build a dataset (its lineage), instead of the data itself. This property ensures fault-tolerance.\n",
        " * Users can control partitioning and persistence (caching).\n",
        " * RDDs are statically typed.\n",
        " * … and yes, everything is written in scala ;p. So you could use learning a bit of it!\n",
        " \n",
        "<img src=\"http://eng.trueaccord.com/wp-content/uploads/2014/10/scala-logo.png\" alt=\"Drawing\" style=\"width: 200px;\"/>\n",
        "\n",
        "#### We will be trying to understand this abstraction with simple examples, using the [Python API](http://spark.apache.org/docs/latest/api/python/index.html)\n",
        "\n",
        "\n"
      ]
    },
    {
      "cell_type": "markdown",
      "metadata": {
        "id": "HoyD6GNbuIQH",
        "colab_type": "text"
      },
      "source": [
        "### If you are running this notebook in Google Colab\n",
        "\n",
        "Copy the following to a code cell and run it. It will install and set up Spark for you.\n",
        "\n",
        "```python\n",
        "!apt-get install openjdk-8-jdk-headless -qq > /dev/null\n",
        "!wget -q http://apache.uvigo.es/spark/spark-2.4.6/spark-2.4.6-bin-hadoop2.7.tgz\n",
        "!tar -xf spark-2.4.6-bin-hadoop2.7.tgz\n",
        "!pip install -q findspark pyspark==2.4.6\n",
        "\n",
        "import os\n",
        "import findspark\n",
        "from pyspark.sql import SparkSession\n",
        "\n",
        "os.environ[\"JAVA_HOME\"] = \"/usr/lib/jvm/java-8-openjdk-amd64\"\n",
        "os.environ[\"SPARK_HOME\"] = \"/content/spark-2.4.6-bin-hadoop2.7\"\n",
        "findspark.init()\n",
        "spark = SparkSession.builder.master(\"local[*]\").getOrCreate()\n",
        "```"
      ]
    },
    {
      "cell_type": "code",
      "metadata": {
        "id": "LeBCyHVQuIQJ",
        "colab_type": "code",
        "colab": {}
      },
      "source": [
        ""
      ],
      "execution_count": null,
      "outputs": []
    },
    {
      "cell_type": "markdown",
      "metadata": {
        "id": "gUG5cM2XuIQS",
        "colab_type": "text"
      },
      "source": [
        "### ** (2a) Create a base RDD: parallelize, actions and transformations **\n",
        "We'll start by generating a base RDD by using a Python list and the `sc.parallelize` method.  Then we'll print out the type of the base RDD.\n",
        "\n",
        "We use sc.parallelize to convert a standard Python collection into an RDD."
      ]
    },
    {
      "cell_type": "code",
      "metadata": {
        "id": "ZenQR3_ZuIQU",
        "colab_type": "code",
        "colab": {}
      },
      "source": [
        ""
      ],
      "execution_count": null,
      "outputs": []
    },
    {
      "cell_type": "markdown",
      "metadata": {
        "id": "U9ZYuB_-uIQd",
        "colab_type": "text"
      },
      "source": [
        "In Spark, `map` is a method of the RDD type."
      ]
    },
    {
      "cell_type": "code",
      "metadata": {
        "id": "_ZkWG-v1uIQh",
        "colab_type": "code",
        "colab": {}
      },
      "source": [
        ""
      ],
      "execution_count": null,
      "outputs": []
    },
    {
      "cell_type": "markdown",
      "metadata": {
        "id": "EtAr3UUouIQv",
        "colab_type": "text"
      },
      "source": [
        "**Nothing has actually happened!**\n",
        "\n",
        "`parallellize` tells spark to distribute the data, but this is not actually done until we perform some action.\n",
        "\n",
        "Possible actions include counting, collecting, reducing, taking, etc. Take a look at the [Spark programming guide](http://spark.apache.org/docs/2.2.0/rdd-programming-guide.html#actions)\n"
      ]
    },
    {
      "cell_type": "code",
      "metadata": {
        "scrolled": true,
        "id": "ctGcyDdTuIQx",
        "colab_type": "code",
        "colab": {}
      },
      "source": [
        ""
      ],
      "execution_count": null,
      "outputs": []
    },
    {
      "cell_type": "markdown",
      "metadata": {
        "id": "DKSL7YPBuIQ7",
        "colab_type": "text"
      },
      "source": [
        "#### Exercise\n",
        "\n",
        "Calculate, from the rdd generated from list_of_cakes, how many cakes we have whose name does **not** start with an 's'"
      ]
    },
    {
      "cell_type": "code",
      "metadata": {
        "id": "7T5-TUDvuIQ8",
        "colab_type": "code",
        "colab": {}
      },
      "source": [
        ""
      ],
      "execution_count": null,
      "outputs": []
    },
    {
      "cell_type": "markdown",
      "metadata": {
        "id": "oIdua9DGuIRH",
        "colab_type": "text"
      },
      "source": [
        "A very common way to write these chained operations in Spark is to put each on a line. Due to Python's syntax, we need to escape the newline character with a backslash."
      ]
    },
    {
      "cell_type": "code",
      "metadata": {
        "id": "GiGtQ5SquIRL",
        "colab_type": "code",
        "colab": {}
      },
      "source": [
        ""
      ],
      "execution_count": null,
      "outputs": []
    },
    {
      "cell_type": "markdown",
      "metadata": {
        "id": "V250cpc5uIRS",
        "colab_type": "text"
      },
      "source": [
        "### Actions and Transformations\n",
        "\n",
        "There are two main types of operations in Spark:\n",
        "[Actions](http://spark.apache.org/docs/2.2.0/rdd-programming-guide.html#actions) and [Transformations](http://spark.apache.org/docs/2.2.0/rdd-programming-guide.html#transformations).\n",
        "\n",
        "**Transformations** produce an RDD. Some of the most important are `map`, `filter`, and `reduceByKey`. `sc.parallelize` and `sc.textFile` are not technically Transformations but you can think of them as such in one very important respect: they are *lazyly evaluated*. That is, when we perform a Transformation, we are only describing the operation to be performed at some point in the future. They attach a node to the execution graph.\n",
        "\n",
        "**Actions** are implemented as methods on an RDD, and return an object of a type **that is not an RDD**. When we perform an Action, we give the order to execute the previously described transformations: we trigger the execution of the graph. Some of the most important are `reduce`, `collect`, `take`, `takeOrdered`, and `count`."
      ]
    },
    {
      "cell_type": "code",
      "metadata": {
        "id": "Q9EPUwqNuIRT",
        "colab_type": "code",
        "colab": {}
      },
      "source": [
        ""
      ],
      "execution_count": null,
      "outputs": []
    },
    {
      "cell_type": "markdown",
      "metadata": {
        "id": "XwIik8rfuIRd",
        "colab_type": "text"
      },
      "source": [
        "### **(2b) Persisting and the RDD lineage**\n",
        "\n",
        "So far, we have seen that Spark RDDs are *lazyly evaluated*, i.e. nothing is actually done until an action is performed. In the RDD, the set of transformations to be applied are remembered: this is known as its *lineage*. It has the important consequence of making Spark RDDs *fault tolerant* automatically.\n",
        "\n",
        "![](http://images.slideplayer.com/14/4499833/slides/slide_10.jpg) \n",
        "\n",
        "It might be interesting to store some intermediate results, though: perhaps because we want to apply several different transformations starting from that point, or because we are going to apply an iterative computation (as is customary in machine learning algorithms). For this, Spark has [several ways of persisting](http://spark.apache.org/docs/latest/rdd-programming-guide.html#rdd-persistence)"
      ]
    },
    {
      "cell_type": "code",
      "metadata": {
        "id": "OF9luMAZuIRh",
        "colab_type": "code",
        "colab": {}
      },
      "source": [
        ""
      ],
      "execution_count": null,
      "outputs": []
    },
    {
      "cell_type": "markdown",
      "metadata": {
        "id": "fPXoyBReuIR5",
        "colab_type": "text"
      },
      "source": [
        "StorageLevel cannot be changed after it has been set. We need to `unpersist` first."
      ]
    },
    {
      "cell_type": "code",
      "metadata": {
        "tags": [
          "raises-exception"
        ],
        "id": "3WrnyDODuIR-",
        "colab_type": "code",
        "colab": {}
      },
      "source": [
        ""
      ],
      "execution_count": null,
      "outputs": []
    },
    {
      "cell_type": "markdown",
      "metadata": {
        "id": "uOHxVuhiuISK",
        "colab_type": "text"
      },
      "source": [
        "### **(2c) Partitioning **\n",
        "\n",
        "One important parameter for parallel collections is the number of partitions to cut the dataset into. Spark will run one task for each partition of the cluster. Typically you want 2-4 partitions for each CPU in your cluster.\n",
        "\n",
        "To get the number of partitions of an RDD, just use `getNumPartitions()` on your RDD. You can change the partitions during RDD creation (with `parallelize(collection,numPartitions)` or `fromTextFile(file,numPartitions)`), or afterwards with methods like `repartition(), coalesce()`, etc."
      ]
    },
    {
      "cell_type": "code",
      "metadata": {
        "id": "gI6IMGxyuISN",
        "colab_type": "code",
        "colab": {}
      },
      "source": [
        ""
      ],
      "execution_count": null,
      "outputs": []
    },
    {
      "cell_type": "markdown",
      "metadata": {
        "id": "j-qtROLnuIST",
        "colab_type": "text"
      },
      "source": [
        "We can see the partitions using [glom()](http://spark.apache.org/docs/latest/api/python/pyspark.html?highlight=glom#pyspark.RDD.glom): it retruns an RDD created by coalescing all elements within each partition into a list."
      ]
    },
    {
      "cell_type": "code",
      "metadata": {
        "id": "NbVBvQosuISU",
        "colab_type": "code",
        "colab": {}
      },
      "source": [
        ""
      ],
      "execution_count": null,
      "outputs": []
    },
    {
      "cell_type": "markdown",
      "metadata": {
        "id": "dmZK7uYSuISg",
        "colab_type": "text"
      },
      "source": [
        "Partitions are one of the most powerfull concepts in Spark: you can decide how to distribute your data so it can fit in memory, and more importantly, you can perform computations on each partition *before* speaking to other partitions. This can have an enormous impact on performance"
      ]
    },
    {
      "cell_type": "markdown",
      "metadata": {
        "id": "c9MAI5YWuISi",
        "colab_type": "text"
      },
      "source": [
        "### **(2c) Pair RDDs: *grouping* strategies in Spark**\n",
        "\n",
        "The next step in writing our word counting program is to create a new type of RDD, called a pair RDD. A pair RDD is an RDD where each element is a pair tuple (k, v) where k is the key and v is the value. In this example, we will create a pair consisting of ('<word>', 1) for each word element in the RDD, as we did in the map/reduce version of the histogram in Python, section (1d.2).\n",
        "\n",
        "We can create the pair RDD using the map() transformation with a lambda() function to create a new RDD."
      ]
    },
    {
      "cell_type": "code",
      "metadata": {
        "id": "lmGX4MYXuISk",
        "colab_type": "code",
        "colab": {}
      },
      "source": [
        ""
      ],
      "execution_count": null,
      "outputs": []
    },
    {
      "cell_type": "markdown",
      "metadata": {
        "id": "tdfnvgYuuISp",
        "colab_type": "text"
      },
      "source": [
        "### ** (2c.1) `groupByKey()` approach **\n",
        "An approach you might first consider (we'll see shortly that there are better ways) is based on using the [groupByKey()](http://spark.apache.org/docs/latest/api/python/pyspark.html#pyspark.RDD.groupByKey) transformation. As the name implies, the `groupByKey()` transformation groups all the elements of the RDD with the same key into a single list in one of the partitions. There are two problems with using `groupByKey()`:\n",
        "  + The operation requires a lot of data movement to move all the values into the appropriate partitions.\n",
        "  + The lists can be very large. Consider a word count of English Wikipedia: the lists for common words (e.g., the, a, etc.) would be huge and could exhaust the available memory in a worker.\n",
        " \n",
        "Use `groupByKey()` to generate a pair RDD of type `('word', iterator)`. Next, sum the iterator using a `map()` transformation.  The result should be a pair RDD consisting of (word, count) pairs."
      ]
    },
    {
      "cell_type": "code",
      "metadata": {
        "id": "-lfbPxqJuISq",
        "colab_type": "code",
        "colab": {}
      },
      "source": [
        ""
      ],
      "execution_count": null,
      "outputs": []
    },
    {
      "cell_type": "markdown",
      "metadata": {
        "id": "hF-S-14auISx",
        "colab_type": "text"
      },
      "source": [
        "### ** (2c.2)  `reduceByKey` approach **\n",
        "A better approach is to start from the pair RDD and then use the [reduceByKey()](http://spark.apache.org/docs/latest/api/python/pyspark.html#pyspark.RDD.reduceByKey) transformation to create a new pair RDD. \n",
        "\n",
        "The `reduceByKey()` transformation gathers together pairs that have the same key and applies the function provided to two values at a time, iteratively reducing all of the values to a single value. `reduceByKey()` operates by applying the function first within each partition on a per-key basis and then across the partitions, allowing it to scale efficiently to large datasets.\n",
        "\n",
        "![](https://databricks.gitbooks.io/databricks-spark-knowledge-base/content/images/reduce_by.png)"
      ]
    },
    {
      "cell_type": "code",
      "metadata": {
        "id": "KnIGunPVuISy",
        "colab_type": "code",
        "colab": {}
      },
      "source": [
        ""
      ],
      "execution_count": null,
      "outputs": []
    },
    {
      "cell_type": "markdown",
      "metadata": {
        "id": "3TQTdTMzuIS2",
        "colab_type": "text"
      },
      "source": [
        "#### Summary: word count in Spark:"
      ]
    },
    {
      "cell_type": "code",
      "metadata": {
        "id": "T2tRACE9uIS3",
        "colab_type": "code",
        "colab": {}
      },
      "source": [
        ""
      ],
      "execution_count": null,
      "outputs": []
    },
    {
      "cell_type": "markdown",
      "metadata": {
        "collapsed": true,
        "id": "vHW7JPPNuITC",
        "colab_type": "text"
      },
      "source": [
        "## (2d) Apply word count to a file"
      ]
    },
    {
      "cell_type": "markdown",
      "metadata": {
        "id": "-XErA84zuITD",
        "colab_type": "text"
      },
      "source": [
        "### ** (2d.1) Load a text file **\n",
        "For the next part of this lab, we will use the [Complete Works of William Shakespeare](http://www.gutenberg.org/ebooks/100) from [Project Gutenberg](http://www.gutenberg.org/wiki/Main_Page). To convert a text file into an RDD, we use the `SparkContext.textFile()` method. We also apply the recently defined `removePunctuation()` function using a `map()` transformation to strip out the punctuation and change all text to lowercase.  Since the file is large we use `take(15)`, so that we only print(15 lines.)\n",
        "\n",
        "Copy this into a notebook cell:\n",
        "\n",
        "```\n",
        "!wget -v http://www.gutenberg.org/files/100/100-0.txt -O shakespeare.txt\n",
        "```"
      ]
    },
    {
      "cell_type": "code",
      "metadata": {
        "id": "vFe_QRkzuITE",
        "colab_type": "code",
        "colab": {}
      },
      "source": [
        ""
      ],
      "execution_count": null,
      "outputs": []
    },
    {
      "cell_type": "markdown",
      "metadata": {
        "id": "i7mHH0ZHuITK",
        "colab_type": "text"
      },
      "source": [
        "### ** (2d.2) Capitalization and punctuation **\n",
        "Real world files are more complicated than the data we have been using in this lab. Some of the issues we have to address are:\n",
        "  + Words should be counted independent of their capitialization (e.g., Spark and spark should be counted as the same word).\n",
        "  + All punctuation should be removed.\n",
        "  + Any leading or trailing spaces on a line should be removed.\n",
        " \n",
        "Define the function `removePunctuation` that converts all text to lower case, removes any punctuation, and removes leading and trailing spaces.  Use the Python [re](https://docs.python.org/2/library/re.html) module to remove any text that is not a letter, number, or space. Reading `help(re.sub)` might be useful."
      ]
    },
    {
      "cell_type": "code",
      "metadata": {
        "id": "yczbAA4ruITL",
        "colab_type": "code",
        "colab": {}
      },
      "source": [
        ""
      ],
      "execution_count": null,
      "outputs": []
    },
    {
      "cell_type": "markdown",
      "metadata": {
        "id": "2MUiBoE_uITV",
        "colab_type": "text"
      },
      "source": [
        "http://www.regular-expressions.info/quickstart.html\n",
        "\n",
        "https://regex101.com/"
      ]
    },
    {
      "cell_type": "markdown",
      "metadata": {
        "id": "hhvVQN_-uITW",
        "colab_type": "text"
      },
      "source": [
        "### ** (2d.3) Words from lines **\n",
        "Before we can use the `wordcount()` function, we have to address two issues with the format of the RDD:\n",
        "  + The first issue is that  that we need to split each line by its spaces.\n",
        "  + The second issue is we need to filter out empty lines.\n",
        " \n",
        "Apply a transformation that will split each element of the RDD by its spaces. For each element of the RDD, you should apply Python's string [split()](https://docs.python.org/3/library/stdtypes.html#str.split) function. You might think that a `map()` transformation is the way to do this, but think about what the result of the `split()` function will be.\n",
        "\n",
        "Check out the Spark Programming Guide for an alternative transformation that helps us here."
      ]
    },
    {
      "cell_type": "code",
      "metadata": {
        "id": "3lJL__pjuITX",
        "colab_type": "code",
        "colab": {}
      },
      "source": [
        ""
      ],
      "execution_count": null,
      "outputs": []
    },
    {
      "cell_type": "markdown",
      "metadata": {
        "id": "qOGUo-03uITd",
        "colab_type": "text"
      },
      "source": [
        "### (2d.4) Count the words and show the top 15\n",
        "\n",
        "We know the drill at this point, don't we? We map to a tuple then `reduceByKey`\n",
        "\n",
        "We can view the top 15 words by using the `takeOrdered()` action; however, since the elements of the RDD are pair tuples, we need a custom sort function that sorts using the value part of the pair rather than the key.\n",
        "\n",
        "You'll notice that many of the words are common English words (know as stopwords).\n",
        "\n",
        "Use our map reduce and and `takeOrdered()` to obtain the fifteen most common words and their counts."
      ]
    },
    {
      "cell_type": "code",
      "metadata": {
        "id": "OkcpvuMMuITe",
        "colab_type": "code",
        "colab": {}
      },
      "source": [
        ""
      ],
      "execution_count": null,
      "outputs": []
    },
    {
      "cell_type": "markdown",
      "metadata": {
        "id": "XWBT7NjHuITp",
        "colab_type": "text"
      },
      "source": [
        "# Practical"
      ]
    },
    {
      "cell_type": "markdown",
      "metadata": {
        "id": "7rjZmp2buITq",
        "colab_type": "text"
      },
      "source": [
        "## ETL with airline coupon data"
      ]
    },
    {
      "cell_type": "markdown",
      "metadata": {
        "id": "MVyJmwWwuITs",
        "colab_type": "text"
      },
      "source": [
        "Load the data first: coupon data"
      ]
    },
    {
      "cell_type": "code",
      "metadata": {
        "id": "RGngNyeiuITt",
        "colab_type": "code",
        "colab": {}
      },
      "source": [
        ""
      ],
      "execution_count": null,
      "outputs": []
    },
    {
      "cell_type": "markdown",
      "metadata": {
        "id": "Tg1J3C8HuIT1",
        "colab_type": "text"
      },
      "source": [
        "#### Exercise\n",
        "\n",
        "Take fields 0, 2, 3, 4, and 6 from each line of coupons"
      ]
    },
    {
      "cell_type": "code",
      "metadata": {
        "id": "IUywwEqJuIT1",
        "colab_type": "code",
        "colab": {}
      },
      "source": [
        ""
      ],
      "execution_count": null,
      "outputs": []
    },
    {
      "cell_type": "markdown",
      "metadata": {
        "id": "ZK3YXhmuuIT5",
        "colab_type": "text"
      },
      "source": [
        "#### Intermission: Stack traces in Spark\n",
        "\n",
        "Stack traces in pyspark are quite convoluted because we have many layers of processing. Look for the python stack trace contained within the Py4JJavaError message."
      ]
    },
    {
      "cell_type": "code",
      "metadata": {
        "id": "51E3OA4UuIT6",
        "colab_type": "code",
        "colab": {}
      },
      "source": [
        ""
      ],
      "execution_count": null,
      "outputs": []
    },
    {
      "cell_type": "markdown",
      "metadata": {
        "id": "Ij4vx5ITuIUA",
        "colab_type": "text"
      },
      "source": [
        "#### Exercise\n",
        "\n",
        "Keep only the amount. Get average, max, min and std"
      ]
    },
    {
      "cell_type": "code",
      "metadata": {
        "id": "4zIk8cmAuIUC",
        "colab_type": "code",
        "colab": {}
      },
      "source": [
        ""
      ],
      "execution_count": null,
      "outputs": []
    },
    {
      "cell_type": "markdown",
      "metadata": {
        "id": "lSOgyH0uuIUI",
        "colab_type": "text"
      },
      "source": [
        "#### All in one go!\n",
        "\n"
      ]
    },
    {
      "cell_type": "code",
      "metadata": {
        "id": "pabx7F8huIUI",
        "colab_type": "code",
        "colab": {}
      },
      "source": [
        ""
      ],
      "execution_count": null,
      "outputs": []
    },
    {
      "cell_type": "markdown",
      "metadata": {
        "collapsed": true,
        "id": "2D28qSYpuIUO",
        "colab_type": "text"
      },
      "source": [
        "#### Exercise\n",
        "\n",
        "Get stats on ticket amount for all tickets with destination MAD\n",
        "\n",
        "You will need to extract ticket amounts with destination MAD, and then calculate:\n",
        "\n",
        "1. Total ticket amounts per origin\n",
        "2. Top 10 airlines by average amount"
      ]
    },
    {
      "cell_type": "markdown",
      "metadata": {
        "id": "sXauRL-suIUR",
        "colab_type": "text"
      },
      "source": [
        "#### Part 1\n",
        "\n",
        "We need to filter coupons with destination Madrid, and after that group on the origin. "
      ]
    },
    {
      "cell_type": "code",
      "metadata": {
        "id": "FeQHrVPtuIUW",
        "colab_type": "code",
        "colab": {}
      },
      "source": [
        ""
      ],
      "execution_count": null,
      "outputs": []
    },
    {
      "cell_type": "markdown",
      "metadata": {
        "id": "d7DC9UDMuIUb",
        "colab_type": "text"
      },
      "source": [
        "At this point, we only need the origin, to group on, and the value, to sum"
      ]
    },
    {
      "cell_type": "code",
      "metadata": {
        "id": "CRqrrurKuIUb",
        "colab_type": "code",
        "colab": {}
      },
      "source": [
        ""
      ],
      "execution_count": null,
      "outputs": []
    },
    {
      "cell_type": "markdown",
      "metadata": {
        "id": "C7Ye78bVuIUi",
        "colab_type": "text"
      },
      "source": [
        "We are now ready to reduce all amounts per origin."
      ]
    },
    {
      "cell_type": "code",
      "metadata": {
        "id": "m85sS6fDuIUk",
        "colab_type": "code",
        "colab": {}
      },
      "source": [
        ""
      ],
      "execution_count": null,
      "outputs": []
    },
    {
      "cell_type": "markdown",
      "metadata": {
        "id": "WNtG0e_XuIUo",
        "colab_type": "text"
      },
      "source": [
        "#### Part 2\n",
        "\n",
        "This is very similar, with two differences: we need to group on the airline, and to calculate averages we need to keep track of both the total amount on the coupons and the number of coupons."
      ]
    },
    {
      "cell_type": "code",
      "metadata": {
        "id": "D-e1SpE7uIUo",
        "colab_type": "code",
        "colab": {}
      },
      "source": [
        ""
      ],
      "execution_count": null,
      "outputs": []
    },
    {
      "cell_type": "markdown",
      "metadata": {
        "id": "-amB58jmuIUr",
        "colab_type": "text"
      },
      "source": [
        "Now we reduce tuples, summing each component of the tuple separately."
      ]
    },
    {
      "cell_type": "code",
      "metadata": {
        "id": "tOIIep3YuIUs",
        "colab_type": "code",
        "colab": {}
      },
      "source": [
        ""
      ],
      "execution_count": null,
      "outputs": []
    },
    {
      "cell_type": "markdown",
      "metadata": {
        "id": "6cS-MKl-uIUy",
        "colab_type": "text"
      },
      "source": [
        "This reduceByKey generates an RDD of the form (k, (v1, v2)). We can map it like this:"
      ]
    },
    {
      "cell_type": "code",
      "metadata": {
        "id": "m3zmg47FuIUz",
        "colab_type": "code",
        "colab": {}
      },
      "source": [
        ""
      ],
      "execution_count": null,
      "outputs": []
    },
    {
      "cell_type": "markdown",
      "metadata": {
        "id": "FgQRG8t9uIU4",
        "colab_type": "text"
      },
      "source": [
        "Or we can use the mapValues method to only process the (v1, v2) part, ignoring the key for processing without discarding it."
      ]
    },
    {
      "cell_type": "code",
      "metadata": {
        "id": "uK5-NprMuIU4",
        "colab_type": "code",
        "colab": {}
      },
      "source": [
        ""
      ],
      "execution_count": null,
      "outputs": []
    },
    {
      "cell_type": "markdown",
      "metadata": {
        "id": "3Bp7AIEQuIU8",
        "colab_type": "text"
      },
      "source": [
        "And we're ready to take our result."
      ]
    },
    {
      "cell_type": "code",
      "metadata": {
        "id": "WtS0gChSuIU9",
        "colab_type": "code",
        "colab": {}
      },
      "source": [
        ""
      ],
      "execution_count": null,
      "outputs": []
    },
    {
      "cell_type": "markdown",
      "metadata": {
        "id": "vEkugCp2uIVI",
        "colab_type": "text"
      },
      "source": [
        "#### Stretch: \n",
        "\n",
        "Get the totals from first origin without using the coupon number"
      ]
    },
    {
      "cell_type": "code",
      "metadata": {
        "id": "z25eQjD9uIVJ",
        "colab_type": "code",
        "colab": {}
      },
      "source": [
        ""
      ],
      "execution_count": null,
      "outputs": []
    },
    {
      "cell_type": "markdown",
      "metadata": {
        "id": "ZyOpt2E2uIVQ",
        "colab_type": "text"
      },
      "source": [
        "We'll use groupBy this time, because we need to look at every coupon in a ticket in order to identify first origin."
      ]
    },
    {
      "cell_type": "code",
      "metadata": {
        "id": "A8cB2LaMuIVR",
        "colab_type": "code",
        "colab": {}
      },
      "source": [
        ""
      ],
      "execution_count": null,
      "outputs": []
    },
    {
      "cell_type": "markdown",
      "metadata": {
        "id": "G87sd-oQuIVe",
        "colab_type": "text"
      },
      "source": [
        "A ResultIterable is a lazy collection, so we can take it and iterate over it, or turn it into a list to materialize it. This is useful to get a test case to test the function we will be writing."
      ]
    },
    {
      "cell_type": "code",
      "metadata": {
        "id": "HQknkgPSuIVf",
        "colab_type": "code",
        "colab": {}
      },
      "source": [
        ""
      ],
      "execution_count": null,
      "outputs": []
    },
    {
      "cell_type": "markdown",
      "metadata": {
        "id": "L2xkjJ-yuIVq",
        "colab_type": "text"
      },
      "source": [
        "We are going to compare the set of origins to the set of destinations. The one that is in the first but not in the second should be the first origin."
      ]
    },
    {
      "cell_type": "code",
      "metadata": {
        "id": "t9vONkvWuIVr",
        "colab_type": "code",
        "colab": {}
      },
      "source": [
        ""
      ],
      "execution_count": null,
      "outputs": []
    },
    {
      "cell_type": "markdown",
      "metadata": {
        "id": "Sgw2bxktuIVx",
        "colab_type": "text"
      },
      "source": [
        "Now we have have our values, so we are ready to get the totals and sort. Before we reduceByKey, we need to reshape our tuples so the first origin is the key."
      ]
    },
    {
      "cell_type": "code",
      "metadata": {
        "id": "ExH_D7ifuIVy",
        "colab_type": "code",
        "colab": {}
      },
      "source": [
        ""
      ],
      "execution_count": null,
      "outputs": []
    },
    {
      "cell_type": "markdown",
      "metadata": {
        "id": "tlXDpQu_uIV7",
        "colab_type": "text"
      },
      "source": [
        "### Further resources\n",
        "\n",
        "https://s3.amazonaws.com/assets.datacamp.com/blog_assets/PySpark_Cheat_Sheet_Python.pdf"
      ]
    }
  ]
}