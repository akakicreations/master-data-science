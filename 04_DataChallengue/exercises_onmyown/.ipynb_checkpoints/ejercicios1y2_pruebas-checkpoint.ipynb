{
 "cells": [
  {
   "cell_type": "markdown",
   "metadata": {},
   "source": [
    "# DataScience Challengue"
   ]
  },
  {
   "cell_type": "markdown",
   "metadata": {},
   "source": [
    "### Ejercicio 1\n",
    "Count the number of lines in Python for each file"
   ]
  },
  {
   "cell_type": "code",
   "execution_count": 1,
   "metadata": {},
   "outputs": [],
   "source": [
    "# Usando la Shell\n",
    "# Si pones \"wc -l xxxxx.csv\", se puede ver que searches.csv = 20.390.198 líneas y bookings.csv 10.000.011 \n",
    "# Si pones \"wc -w xxxxx.csv\", cuenta las palabras\n",
    "# Más https://www.datacamp.com/community/tutorials/shell-commands-data-scientist\n"
   ]
  },
  {
   "cell_type": "code",
   "execution_count": 101,
   "metadata": {},
   "outputs": [],
   "source": [
    "import numpy as np\n",
    "import pandas as pd"
   ]
  },
  {
   "cell_type": "code",
   "execution_count": 3,
   "metadata": {},
   "outputs": [
    {
     "data": {
      "text/plain": [
       "40"
      ]
     },
     "execution_count": 3,
     "metadata": {},
     "output_type": "execute_result"
    }
   ],
   "source": [
    "#Aumentar el número de columnas que se muestran para poder ver todas\n",
    "pd.options.display.max_rows\n",
    "pd.options.display.max_rows = 70\n",
    "pd.options.display.max_columns\n",
    "pd.options.display.max_columns = 40\n",
    "pd.options.display.max_columns"
   ]
  },
  {
   "cell_type": "code",
   "execution_count": 4,
   "metadata": {},
   "outputs": [],
   "source": [
    "# importando dataset 1\n",
    "dataset_bookings = pd.read_csv(\"bookings.csv\", sep='^', dtype='unicode')"
   ]
  },
  {
   "cell_type": "code",
   "execution_count": 6,
   "metadata": {},
   "outputs": [
    {
     "data": {
      "text/plain": [
       "(10000010, 38)"
      ]
     },
     "execution_count": 6,
     "metadata": {},
     "output_type": "execute_result"
    }
   ],
   "source": [
    "dataset_bookings.shape"
   ]
  },
  {
   "cell_type": "code",
   "execution_count": null,
   "metadata": {},
   "outputs": [],
   "source": [
    "# importando dataset 2\n",
    "dataset_bookings = pd.read_csv(\"bookings.csv\", sep='^', dtype='unicode')"
   ]
  },
  {
   "cell_type": "code",
   "execution_count": 4,
   "metadata": {},
   "outputs": [
    {
     "data": {
      "text/plain": [
       "array(['Y', 'C', 'F', '', '2013'], dtype=object)"
      ]
     },
     "execution_count": 4,
     "metadata": {},
     "output_type": "execute_result"
    }
   ],
   "source": [
    "#ME QUEDÉ AQUI, Para quitar todos los espacios que hay detrás de valor de un determinada columna, funciona para una sola columna, y para todas??\n",
    "dataset_bookings['cab_class'] = dataset_bookings['cab_class'].str.strip()\n",
    "dataset_bookings['cab_class'].unique()"
   ]
  },
  {
   "cell_type": "code",
   "execution_count": 5,
   "metadata": {},
   "outputs": [
    {
     "ename": "AttributeError",
     "evalue": "'DataFrame' object has no attribute 'str'",
     "output_type": "error",
     "traceback": [
      "\u001b[0;31m---------------------------------------------------------------------------\u001b[0m",
      "\u001b[0;31mAttributeError\u001b[0m                            Traceback (most recent call last)",
      "\u001b[0;32m<ipython-input-5-743e7f374227>\u001b[0m in \u001b[0;36m<module>\u001b[0;34m\u001b[0m\n\u001b[1;32m      1\u001b[0m \u001b[0;31m#Ahora lo mismo pero de todas las 38 columnas, así no funciona porque no puede aplicar a pandas\u001b[0m\u001b[0;34m\u001b[0m\u001b[0;34m\u001b[0m\u001b[0;34m\u001b[0m\u001b[0m\n\u001b[0;32m----> 2\u001b[0;31m \u001b[0mdata_bookings_lim\u001b[0m \u001b[0;34m=\u001b[0m \u001b[0mdataset_bookings\u001b[0m\u001b[0;34m.\u001b[0m\u001b[0miloc\u001b[0m\u001b[0;34m[\u001b[0m\u001b[0;34m:\u001b[0m\u001b[0;34m,\u001b[0m\u001b[0;36m0\u001b[0m\u001b[0;34m:\u001b[0m\u001b[0;36m38\u001b[0m\u001b[0;34m]\u001b[0m\u001b[0;34m.\u001b[0m\u001b[0mstr\u001b[0m\u001b[0;34m.\u001b[0m\u001b[0mstrip\u001b[0m\u001b[0;34m(\u001b[0m\u001b[0;34m)\u001b[0m\u001b[0;34m\u001b[0m\u001b[0;34m\u001b[0m\u001b[0m\n\u001b[0m\u001b[1;32m      3\u001b[0m \u001b[0mdata_bookings_lim\u001b[0m\u001b[0;34m\u001b[0m\u001b[0;34m\u001b[0m\u001b[0m\n",
      "\u001b[0;32m~/anaconda3/lib/python3.7/site-packages/pandas/core/generic.py\u001b[0m in \u001b[0;36m__getattr__\u001b[0;34m(self, name)\u001b[0m\n\u001b[1;32m   5177\u001b[0m             \u001b[0;32mif\u001b[0m \u001b[0mself\u001b[0m\u001b[0;34m.\u001b[0m\u001b[0m_info_axis\u001b[0m\u001b[0;34m.\u001b[0m\u001b[0m_can_hold_identifiers_and_holds_name\u001b[0m\u001b[0;34m(\u001b[0m\u001b[0mname\u001b[0m\u001b[0;34m)\u001b[0m\u001b[0;34m:\u001b[0m\u001b[0;34m\u001b[0m\u001b[0;34m\u001b[0m\u001b[0m\n\u001b[1;32m   5178\u001b[0m                 \u001b[0;32mreturn\u001b[0m \u001b[0mself\u001b[0m\u001b[0;34m[\u001b[0m\u001b[0mname\u001b[0m\u001b[0;34m]\u001b[0m\u001b[0;34m\u001b[0m\u001b[0;34m\u001b[0m\u001b[0m\n\u001b[0;32m-> 5179\u001b[0;31m             \u001b[0;32mreturn\u001b[0m \u001b[0mobject\u001b[0m\u001b[0;34m.\u001b[0m\u001b[0m__getattribute__\u001b[0m\u001b[0;34m(\u001b[0m\u001b[0mself\u001b[0m\u001b[0;34m,\u001b[0m \u001b[0mname\u001b[0m\u001b[0;34m)\u001b[0m\u001b[0;34m\u001b[0m\u001b[0;34m\u001b[0m\u001b[0m\n\u001b[0m\u001b[1;32m   5180\u001b[0m \u001b[0;34m\u001b[0m\u001b[0m\n\u001b[1;32m   5181\u001b[0m     \u001b[0;32mdef\u001b[0m \u001b[0m__setattr__\u001b[0m\u001b[0;34m(\u001b[0m\u001b[0mself\u001b[0m\u001b[0;34m,\u001b[0m \u001b[0mname\u001b[0m\u001b[0;34m,\u001b[0m \u001b[0mvalue\u001b[0m\u001b[0;34m)\u001b[0m\u001b[0;34m:\u001b[0m\u001b[0;34m\u001b[0m\u001b[0;34m\u001b[0m\u001b[0m\n",
      "\u001b[0;31mAttributeError\u001b[0m: 'DataFrame' object has no attribute 'str'"
     ]
    }
   ],
   "source": [
    "#Ahora lo mismo pero de todas las 38 columnas, así no funciona porque no puede aplicar a pandas\n",
    "data_bookings_lim = dataset_bookings.iloc[:,0:38].str.strip()\n",
    "data_bookings_lim"
   ]
  },
  {
   "cell_type": "code",
   "execution_count": 25,
   "metadata": {},
   "outputs": [
    {
     "data": {
      "text/plain": [
       "array(['CHGB    ', 'SVUS    ', 'NZRU    ', ..., 'SRUY    ', 'IDIQ    ',\n",
       "       'XR,Q        '], dtype=object)"
      ]
     },
     "execution_count": 25,
     "metadata": {},
     "output_type": "execute_result"
    }
   ],
   "source": [
    "#Cuántos valores únicos hay en la columna cab_class\n",
    "len(dataset_bookings['cab_class'].unique())\n",
    "#Cuáles son\n",
    "dataset_bookings['mkt_ctry'].unique()\n",
    "\n"
   ]
  },
  {
   "cell_type": "code",
   "execution_count": null,
   "metadata": {},
   "outputs": [],
   "source": [
    "#inspeccionar tabla\n",
    "dataset_bookings.shape #Tiene 10 millones de datos en 38 filas\n",
    "dataset_bookings.iloc[0,0]\n",
    "dataset_bookings.columns[1:10]\n",
    "dataset_bookings.loc[0:6]\n"
   ]
  },
  {
   "cell_type": "code",
   "execution_count": 6,
   "metadata": {},
   "outputs": [
    {
     "data": {
      "text/plain": [
       "0           2013-03-05 00:00:00\n",
       "1           2013-03-26 00:00:00\n",
       "2           2013-03-26 00:00:00\n",
       "3           2013-03-26 00:00:00\n",
       "4           2013-03-26 00:00:00\n",
       "                   ...         \n",
       "10000005    2013-05-18 00:00:00\n",
       "10000006    2013-05-18 00:00:00\n",
       "10000007    2013-05-28 00:00:00\n",
       "10000008    2013-05-28 00:00:00\n",
       "10000009    2013-05-28 00:00:00\n",
       "Name: act_date           , Length: 10000010, dtype: object"
      ]
     },
     "execution_count": 6,
     "metadata": {},
     "output_type": "execute_result"
    }
   ],
   "source": [
    "#Para ver una columna entera\n",
    "dataset_bookings.iloc[:,0]"
   ]
  },
  {
   "cell_type": "code",
   "execution_count": 76,
   "metadata": {},
   "outputs": [
    {
     "name": "stdout",
     "output_type": "stream",
     "text": [
      "['sdfasd', 'sdfasdf']\n"
     ]
    }
   ],
   "source": [
    "#ME QUEDÉ AQUÍ: Función para quitar espacios, me ha salido!!!\n",
    "list = ['   sdfasd', 'sdfasdf    '] #prueba\n",
    "def quit_espac(input):\n",
    "    strip_list = []\n",
    "    for i in input:\n",
    "        strip_list.append(i.strip())\n",
    "    return strip_list\n",
    "\n",
    "print(quit_espac(list))"
   ]
  },
  {
   "cell_type": "code",
   "execution_count": 77,
   "metadata": {},
   "outputs": [
    {
     "data": {
      "text/plain": [
       "Index(['act_date', 'source', 'pos_ctry', 'pos_iata', 'pos_oid', 'rloc',\n",
       "       'cre_date', 'duration', 'distance', 'dep_port', 'dep_city', 'dep_ctry',\n",
       "       'arr_port', 'arr_city', 'arr_ctry', 'lst_port', 'lst_city', 'lst_ctry',\n",
       "       'brd_port', 'brd_city', 'brd_ctry', 'off_port', 'off_city', 'off_ctry',\n",
       "       'mkt_port', 'mkt_city', 'mkt_ctry', 'intl', 'route', 'carrier',\n",
       "       'bkg_class', 'cab_class', 'brd_time', 'off_time', 'pax', 'year',\n",
       "       'month', 'oid'],\n",
       "      dtype='object')"
      ]
     },
     "execution_count": 77,
     "metadata": {},
     "output_type": "execute_result"
    }
   ],
   "source": [
    "#DE UNA FORMA MÁS SUTIL, creo función de quitar espacios en lista (anterior) y luego lo aplico a la lista, \n",
    "                                        \n",
    "#Pasa las columnas a una lista\n",
    "dataset_bookings_changeindex = dataset_bookings.columns.tolist()\n",
    "#Coge las columnas con un determinado index\n",
    "dataset_bookings_changeindex2 = quit_espac(dataset_bookings_changeindex)\n",
    "#Renombra todas las columnas con la lista cambiada\n",
    "dataset_bookings.columns = dataset_bookings_changeindex2\n",
    "dataset_bookings.columns"
   ]
  },
  {
   "cell_type": "code",
   "execution_count": 10,
   "metadata": {},
   "outputs": [
    {
     "data": {
      "text/plain": [
       "40"
      ]
     },
     "execution_count": 10,
     "metadata": {},
     "output_type": "execute_result"
    }
   ],
   "source": []
  },
  {
   "cell_type": "code",
   "execution_count": 50,
   "metadata": {},
   "outputs": [
    {
     "data": {
      "text/plain": [
       "pandas.core.frame.DataFrame"
      ]
     },
     "execution_count": 50,
     "metadata": {},
     "output_type": "execute_result"
    }
   ],
   "source": [
    "type(dataset_bookings)"
   ]
  },
  {
   "cell_type": "code",
   "execution_count": 42,
   "metadata": {},
   "outputs": [
    {
     "data": {
      "text/plain": [
       "['act_date',\n",
       " 'source',\n",
       " 'pos_ctry',\n",
       " 'pos_iata',\n",
       " 'pos_oid',\n",
       " 'rloc',\n",
       " 'cre_date',\n",
       " 'duration',\n",
       " 'distance',\n",
       " 'dep_port',\n",
       " 'dep_city',\n",
       " 'dep_ctry',\n",
       " 'arr_port',\n",
       " 'arr_city',\n",
       " 'arr_ctry',\n",
       " 'lst_port',\n",
       " 'lst_city',\n",
       " 'lst_ctry',\n",
       " 'brd_port',\n",
       " 'brd_city',\n",
       " 'brd_ctry',\n",
       " 'off_port',\n",
       " 'off_city',\n",
       " 'off_ctry',\n",
       " 'mkt_port',\n",
       " 'mkt_city',\n",
       " 'mkt_ctry',\n",
       " 'intl',\n",
       " 'route',\n",
       " 'carrier',\n",
       " 'bkg_class',\n",
       " 'cab_class',\n",
       " 'brd_time',\n",
       " 'off_time',\n",
       " 'pax',\n",
       " 'year',\n",
       " 'month',\n",
       " 'oid']"
      ]
     },
     "execution_count": 42,
     "metadata": {},
     "output_type": "execute_result"
    }
   ],
   "source": [
    "#Ver como listas\n",
    "dataset_col_list = dataset_bookings.columns.tolist()\n",
    "dataset_val_list = dataset_bookings.values[1].tolist()\n",
    "dataset_col_list"
   ]
  },
  {
   "cell_type": "code",
   "execution_count": 39,
   "metadata": {},
   "outputs": [
    {
     "data": {
      "text/plain": [
       "array([['2013-03-26 00:00:00', '1A    ', 'US      ',\n",
       "        'e612b9eeeee6f17f42d9b0d3b79e75ca',\n",
       "        '7437560d8f276d6d05eeb806d9e7edee',\n",
       "        '737295a86982c941f1c2da9a46a14043', '2013-03-26 00:00:00',\n",
       "        '135270', '0', 'SAL     ', 'SAL     ', 'SV      ', 'CLT     ',\n",
       "        'CLT     ', 'US      ', 'SAL     ', 'SAL     ', 'SV      ',\n",
       "        'SAL     ', 'SAL     ', 'SV      ', 'CLT     ', 'CLT     ',\n",
       "        'US      ', 'CLTSAL  ', 'CLTSAL  ', 'SVUS    ', '1',\n",
       "        'SALATLCLT      ', 'NV', 'L        ', 'Y        ',\n",
       "        '2013-04-12 13:04:00', '2013-04-12 22:05:40', '1', '2013', '3',\n",
       "        'NULL     '],\n",
       "       ['2013-03-26 00:00:00', '1A    ', 'US      ',\n",
       "        'e612b9eeeee6f17f42d9b0d3b79e75ca',\n",
       "        '7437560d8f276d6d05eeb806d9e7edee',\n",
       "        '737295a86982c941f1c2da9a46a14043', '2013-03-26 00:00:00',\n",
       "        '135270', '0', 'SAL     ', 'SAL     ', 'SV      ', 'CLT     ',\n",
       "        'CLT     ', 'US      ', 'SAL     ', 'SAL     ', 'SV      ',\n",
       "        'CLT     ', 'CLT     ', 'US      ', 'SAL     ', 'SAL     ',\n",
       "        'SV      ', 'CLTSAL  ', 'CLTSAL  ', 'SVUS    ', '1',\n",
       "        'CLTATLSAL      ', 'NV', 'U        ', 'Y        ',\n",
       "        '2013-07-15 07:00:00', '2013-07-15 11:34:51', '1', '2013', '3',\n",
       "        'NULL     ']], dtype=object)"
      ]
     },
     "execution_count": 39,
     "metadata": {},
     "output_type": "execute_result"
    }
   ],
   "source": [
    "dataset_bookings.values[1:3]"
   ]
  },
  {
   "cell_type": "markdown",
   "metadata": {},
   "source": [
    "### Ejercicio 2\n",
    "\n",
    "Top 10 arrival airports in the world in 2013 (using the bookings file)\n",
    "\n",
    "Arrival airport is the column arr_port. It is the IATA code for the airport\n",
    "To get the total number of passengers for an airport, you can sum the column pax, grouping by arr_port. Note that there is negative pax. That corresponds to cancelations. So to get the total number of passengers that have actually booked, you should sum including the negatives (that will remove the canceled bookings).\n",
    "Print the top 10 arrival airports in the standard output, including the number of passengers.\n"
   ]
  },
  {
   "cell_type": "code",
   "execution_count": 78,
   "metadata": {},
   "outputs": [],
   "source": [
    "# Primer quitar espacios en la columna arr_port\n",
    "dataset_bookings['arr_port'] = dataset_bookings['arr_port'].str.strip()"
   ]
  },
  {
   "cell_type": "code",
   "execution_count": 154,
   "metadata": {},
   "outputs": [
    {
     "ename": "SyntaxError",
     "evalue": "invalid syntax (<ipython-input-154-ad00369e1a9f>, line 4)",
     "output_type": "error",
     "traceback": [
      "\u001b[0;36m  File \u001b[0;32m\"<ipython-input-154-ad00369e1a9f>\"\u001b[0;36m, line \u001b[0;32m4\u001b[0m\n\u001b[0;31m    print(len(dataset_bookings['pax'].unique()))\u001b[0m\n\u001b[0m        ^\u001b[0m\n\u001b[0;31mSyntaxError\u001b[0m\u001b[0;31m:\u001b[0m invalid syntax\n"
     ]
    }
   ],
   "source": [
    "# Inspeccionar columnas y sus valores\n",
    "print(len(dataset_bookings['arr_port'].unique())) #Hay 2275 aeropuertos diferentes\n",
    "print(dataset_bookings['arr_port'].unique()\n",
    "print(len(dataset_bookings['pax'].unique()))\n",
    "print(dataset_bookings['pax'].unique())"
   ]
  },
  {
   "cell_type": "code",
   "execution_count": 134,
   "metadata": {},
   "outputs": [
    {
     "data": {
      "text/plain": [
       "array(['AAB', 'AAE', 'AAL', ..., 'ZYL', 'ZYN', 'ZYR'], dtype='<U3')"
      ]
     },
     "execution_count": 134,
     "metadata": {},
     "output_type": "execute_result"
    }
   ],
   "source": [
    "values, counts = np.unique(airports_unique, return_counts=True)\n",
    "values"
   ]
  },
  {
   "cell_type": "code",
   "execution_count": 80,
   "metadata": {},
   "outputs": [
    {
     "name": "stdout",
     "output_type": "stream",
     "text": [
      "(10000010, 38)\n",
      "10000009\n",
      "Empty DataFrame\n",
      "Columns: [act_date, source, pos_ctry, pos_iata, pos_oid, rloc, cre_date, duration, distance, dep_port, dep_city, dep_ctry, arr_port, arr_city, arr_ctry, lst_port, lst_city, lst_ctry, brd_port, brd_city, brd_ctry, off_port, off_city, off_ctry, mkt_port, mkt_city, mkt_ctry, intl, route, carrier, bkg_class, cab_class, brd_time, off_time, pax, year, month, oid]\n",
      "Index: []\n"
     ]
    }
   ],
   "source": [
    "# ¿Hay valores NaN?\n",
    "print(dataset_bookings.shape)\n",
    "print(dataset_bookings['pax'].count()) #Sí, pero sólo hay uno.\n",
    "#¿Cual es?\n",
    "print(dataset_bookings[dataset_bookings['pax'] == 'nan']) #Creo que es la primera columna"
   ]
  },
  {
   "cell_type": "code",
   "execution_count": 88,
   "metadata": {},
   "outputs": [
    {
     "name": "stdout",
     "output_type": "stream",
     "text": [
      "-11111112222-2-2-2-211111-2222-222-2-22222111-1-122-2-211122-2211-13311-1-12-2-222-2211-111-1-1-1-1111111133-3211-1-111111166-6-661122161111111-11-111331111111111-1-133-33-33-3-31441111112-2-1111-1-1111-11-11-33-33113311-11118-8-113-311122221111-1-1111-1-1-111-1111112-15511111144111111-1-12211-1111-1-122-2-111-1-111-1-1111-11-11-1111-1-133-1-11-1-1-1221122-2-211-1-111-1-1111-111122111-1-2-222-2-111-1-111111-1-1221144-4-466-661-2211-1-11-1-111-1-111-1-1-11331-1111111-1-111-1-1221111-11-11-2211111-1-111-1-111-1-1-3333212111-113311-1-111111111-1111-1-11111-111-1111211-1-1-2-2221111-1-111-1-11122-222111122111111-1-11-311-11-1-1-1-111-1-1-1-1-1-11-22-11-1-311-1-122-2-2111-1-111-133-3-311-1111111-221-112211-11-1-1-2211111-1-1331-1-111-11111-2-111112211-1-111111-1-111111-111111-2211-111111-1-111-1-11111-112211111111123-3-3-2-222-44-44-44-22211-22-2222221111-1-1-2-2-1-11111111111-11-111133-3-3-1-11111111-2-24455-5-5-1-111-1-1111-4-42211-1-11111-11-5-55-511-1-111-11111111-1-111-2-2111111-112-2222-222-2-2-2-2-2-2112211-111111-1-1-1-1222211-1-1133211111-1111111-1-111-1-1111-12-2-211-1-111111-1-11133-3-311-1-11111-1111-1-1-1-111-1122-2-2211-1-11144-4-444-4-4111-1-111-1-111-1-122-2211-1-12211-22-2212222441-2213311-11-1-111-1-122444-4-4-44-4-22111-1111-1-11111144-4-411-1-1111122-1-111-11-11112211-1111-11111-11111-13\n",
      "object\n"
     ]
    },
    {
     "data": {
      "text/plain": [
       "0       -1\n",
       "1        1\n",
       "2        1\n",
       "3        1\n",
       "4        1\n",
       "        ..\n",
       "996      1\n",
       "997      1\n",
       "998      1\n",
       "999     -1\n",
       "1000     3\n",
       "Name: pax, Length: 1001, dtype: object"
      ]
     },
     "execution_count": 88,
     "metadata": {},
     "output_type": "execute_result"
    }
   ],
   "source": [
    "#Sumar los pasajeros de cada aeropuerto, pero solo de una muestra de 1000\n",
    "muestra_dataset_bookings = dataset_bookings.loc[0:1000]\n",
    "print(muestra_dataset_bookings['pax'].sum()) # Salen valores raros, puede ser por el tipo de valor que es\n",
    "#Para ver el tipo de valor\n",
    "print(muestra_dataset_bookings['pax'].dtype) #Nos dice que es un tipo objeto necesitamos que sean float\n",
    "muestra_dataset_bookings['pax']"
   ]
  },
  {
   "cell_type": "code",
   "execution_count": 182,
   "metadata": {},
   "outputs": [
    {
     "name": "stdout",
     "output_type": "stream",
     "text": [
      "int64\n",
      "535\n",
      "0      -1\n",
      "1       1\n",
      "2       1\n",
      "3       1\n",
      "4       1\n",
      "       ..\n",
      "996     1\n",
      "997     1\n",
      "998     1\n",
      "999    -1\n",
      "1000    3\n",
      "Name: pax, Length: 1001, dtype: int64\n",
      "              act_date  source  pos_ctry                          pos_iata  \\\n",
      "0  2013-03-05 00:00:00  1A      DE        a68dd7ae953c8acfb187a1af2dcbe123   \n",
      "1  2013-03-26 00:00:00  1A      US        e612b9eeeee6f17f42d9b0d3b79e75ca   \n",
      "2  2013-03-26 00:00:00  1A      US        e612b9eeeee6f17f42d9b0d3b79e75ca   \n",
      "\n",
      "                            pos_oid                              rloc  \\\n",
      "0  1a11ae49fcbf545fd2afc1a24d88d2b7  ea65900e72d71f4626378e2ebd298267   \n",
      "1  7437560d8f276d6d05eeb806d9e7edee  737295a86982c941f1c2da9a46a14043   \n",
      "2  7437560d8f276d6d05eeb806d9e7edee  737295a86982c941f1c2da9a46a14043   \n",
      "\n",
      "              cre_date duration distance  dep_port  dep_city  dep_ctry  \\\n",
      "0  2013-02-22 00:00:00     1708        0  ZRH       ZRH       CH         \n",
      "1  2013-03-26 00:00:00   135270        0  SAL       SAL       SV         \n",
      "2  2013-03-26 00:00:00   135270        0  SAL       SAL       SV         \n",
      "\n",
      "  arr_port  arr_city  arr_ctry  lst_port  lst_city  lst_ctry  brd_port  \\\n",
      "0      LHR  LON       GB        ZRH       ZRH       CH        LHR        \n",
      "1      CLT  CLT       US        SAL       SAL       SV        SAL        \n",
      "2      CLT  CLT       US        SAL       SAL       SV        CLT        \n",
      "\n",
      "   brd_city  brd_ctry  off_port  off_city  off_ctry  mkt_port  mkt_city  \\\n",
      "0  LON       GB        ZRH       ZRH       CH        LHRZRH    LONZRH     \n",
      "1  SAL       SV        CLT       CLT       US        CLTSAL    CLTSAL     \n",
      "2  CLT       US        SAL       SAL       SV        CLTSAL    CLTSAL     \n",
      "\n",
      "   mkt_ctry intl            route carrier  bkg_class  cab_class  \\\n",
      "0  CHGB        1  LHRZRH               VI  T          Y           \n",
      "1  SVUS        1  SALATLCLT            NV  L          Y           \n",
      "2  SVUS        1  CLTATLSAL            NV  U          Y           \n",
      "\n",
      "              brd_time             off_time  pax  year month        oid  \n",
      "0  2013-03-07 08:50:00  2013-03-07 11:33:37   -1  2013     3  NULL       \n",
      "1  2013-04-12 13:04:00  2013-04-12 22:05:40    1  2013     3  NULL       \n",
      "2  2013-07-15 07:00:00  2013-07-15 11:34:51    1  2013     3  NULL       \n",
      "act_date     object\n",
      "source       object\n",
      "pos_ctry     object\n",
      "pos_iata     object\n",
      "pos_oid      object\n",
      "rloc         object\n",
      "cre_date     object\n",
      "duration     object\n",
      "distance     object\n",
      "dep_port     object\n",
      "dep_city     object\n",
      "dep_ctry     object\n",
      "arr_port     object\n",
      "arr_city     object\n",
      "arr_ctry     object\n",
      "lst_port     object\n",
      "lst_city     object\n",
      "lst_ctry     object\n",
      "brd_port     object\n",
      "brd_city     object\n",
      "brd_ctry     object\n",
      "off_port     object\n",
      "off_city     object\n",
      "off_ctry     object\n",
      "mkt_port     object\n",
      "mkt_city     object\n",
      "mkt_ctry     object\n",
      "intl         object\n",
      "route        object\n",
      "carrier      object\n",
      "bkg_class    object\n",
      "cab_class    object\n",
      "brd_time     object\n",
      "off_time     object\n",
      "pax           int64\n",
      "year         object\n",
      "month        object\n",
      "oid          object\n",
      "dtype: object\n"
     ]
    },
    {
     "name": "stderr",
     "output_type": "stream",
     "text": [
      "/Users/victormac/anaconda3/lib/python3.7/site-packages/ipykernel_launcher.py:2: SettingWithCopyWarning: \n",
      "A value is trying to be set on a copy of a slice from a DataFrame.\n",
      "Try using .loc[row_indexer,col_indexer] = value instead\n",
      "\n",
      "See the caveats in the documentation: http://pandas.pydata.org/pandas-docs/stable/user_guide/indexing.html#returning-a-view-versus-a-copy\n",
      "  \n"
     ]
    }
   ],
   "source": [
    "# Convertir el campo pax a float\n",
    "muestra_dataset_bookings['pax'] = muestra_dataset_bookings['pax'].astype('int')\n",
    "print(muestra_dataset_bookings['pax'].dtype)\n",
    "#Probar la suma otra vez de la muestra\n",
    "print(muestra_dataset_bookings['pax'].sum())\n",
    "#Vemos que esté bien y parece que lo está\n",
    "print(muestra_dataset_bookings['pax'])\n",
    "print(muestra_dataset_bookings.loc[0:2])\n",
    "print(muestra_dataset_bookings.dtypes)"
   ]
  },
  {
   "cell_type": "code",
   "execution_count": 179,
   "metadata": {},
   "outputs": [
    {
     "name": "stdout",
     "output_type": "stream",
     "text": [
      "5\n",
      "1\n",
      "4\n",
      "535\n"
     ]
    }
   ],
   "source": [
    "#Ahora vamos a ver la suma de pasajeros de un aeropuesto concreto, funciona!\n",
    "print(muestra_dataset_bookings['pax'][muestra_dataset_bookings['arr_port'] == 'CLT'].sum())\n",
    "print(muestra_dataset_bookings['pax'][muestra_dataset_bookings['arr_port'] == 'MAD'].sum())\n",
    "print(muestra_dataset_bookings['pax'][muestra_dataset_bookings['arr_port'] == 'LCY'].sum())\n",
    "print(muestra_dataset_bookings['pax'].sum())"
   ]
  },
  {
   "cell_type": "code",
   "execution_count": 192,
   "metadata": {},
   "outputs": [
    {
     "ename": "ValueError",
     "evalue": "cannot convert float NaN to integer",
     "output_type": "error",
     "traceback": [
      "\u001b[0;31m---------------------------------------------------------------------------\u001b[0m",
      "\u001b[0;31mValueError\u001b[0m                                Traceback (most recent call last)",
      "\u001b[0;32m<ipython-input-192-048467a79719>\u001b[0m in \u001b[0;36m<module>\u001b[0;34m\u001b[0m\n\u001b[1;32m      1\u001b[0m \u001b[0;31m# ¿Y si probamos de todos los datos?\u001b[0m\u001b[0;34m\u001b[0m\u001b[0;34m\u001b[0m\u001b[0;34m\u001b[0m\u001b[0m\n\u001b[1;32m      2\u001b[0m \u001b[0;31m# Pero antes hay que pasar el pax a int, peeeero me sale ERROR que hay un valor NaN, hay que quitarlo\u001b[0m\u001b[0;34m\u001b[0m\u001b[0;34m\u001b[0m\u001b[0;34m\u001b[0m\u001b[0m\n\u001b[0;32m----> 3\u001b[0;31m \u001b[0mdataset_bookings\u001b[0m\u001b[0;34m[\u001b[0m\u001b[0;34m'pax'\u001b[0m\u001b[0;34m]\u001b[0m \u001b[0;34m=\u001b[0m \u001b[0mdataset_bookings\u001b[0m\u001b[0;34m[\u001b[0m\u001b[0;34m'pax'\u001b[0m\u001b[0;34m]\u001b[0m\u001b[0;34m.\u001b[0m\u001b[0mastype\u001b[0m\u001b[0;34m(\u001b[0m\u001b[0;34m'int'\u001b[0m\u001b[0;34m)\u001b[0m\u001b[0;34m\u001b[0m\u001b[0;34m\u001b[0m\u001b[0m\n\u001b[0m\u001b[1;32m      4\u001b[0m \u001b[0mprint\u001b[0m\u001b[0;34m(\u001b[0m\u001b[0mdataset_bookings\u001b[0m\u001b[0;34m[\u001b[0m\u001b[0;34m'pax'\u001b[0m\u001b[0;34m]\u001b[0m\u001b[0;34m.\u001b[0m\u001b[0mdtype\u001b[0m\u001b[0;34m)\u001b[0m\u001b[0;34m\u001b[0m\u001b[0;34m\u001b[0m\u001b[0m\n\u001b[1;32m      5\u001b[0m \u001b[0;34m\u001b[0m\u001b[0m\n",
      "\u001b[0;32m~/anaconda3/lib/python3.7/site-packages/pandas/core/generic.py\u001b[0m in \u001b[0;36mastype\u001b[0;34m(self, dtype, copy, errors, **kwargs)\u001b[0m\n\u001b[1;32m   5880\u001b[0m             \u001b[0;31m# else, only a single dtype is given\u001b[0m\u001b[0;34m\u001b[0m\u001b[0;34m\u001b[0m\u001b[0;34m\u001b[0m\u001b[0m\n\u001b[1;32m   5881\u001b[0m             new_data = self._data.astype(\n\u001b[0;32m-> 5882\u001b[0;31m                 \u001b[0mdtype\u001b[0m\u001b[0;34m=\u001b[0m\u001b[0mdtype\u001b[0m\u001b[0;34m,\u001b[0m \u001b[0mcopy\u001b[0m\u001b[0;34m=\u001b[0m\u001b[0mcopy\u001b[0m\u001b[0;34m,\u001b[0m \u001b[0merrors\u001b[0m\u001b[0;34m=\u001b[0m\u001b[0merrors\u001b[0m\u001b[0;34m,\u001b[0m \u001b[0;34m**\u001b[0m\u001b[0mkwargs\u001b[0m\u001b[0;34m\u001b[0m\u001b[0;34m\u001b[0m\u001b[0m\n\u001b[0m\u001b[1;32m   5883\u001b[0m             )\n\u001b[1;32m   5884\u001b[0m             \u001b[0;32mreturn\u001b[0m \u001b[0mself\u001b[0m\u001b[0;34m.\u001b[0m\u001b[0m_constructor\u001b[0m\u001b[0;34m(\u001b[0m\u001b[0mnew_data\u001b[0m\u001b[0;34m)\u001b[0m\u001b[0;34m.\u001b[0m\u001b[0m__finalize__\u001b[0m\u001b[0;34m(\u001b[0m\u001b[0mself\u001b[0m\u001b[0;34m)\u001b[0m\u001b[0;34m\u001b[0m\u001b[0;34m\u001b[0m\u001b[0m\n",
      "\u001b[0;32m~/anaconda3/lib/python3.7/site-packages/pandas/core/internals/managers.py\u001b[0m in \u001b[0;36mastype\u001b[0;34m(self, dtype, **kwargs)\u001b[0m\n\u001b[1;32m    579\u001b[0m \u001b[0;34m\u001b[0m\u001b[0m\n\u001b[1;32m    580\u001b[0m     \u001b[0;32mdef\u001b[0m \u001b[0mastype\u001b[0m\u001b[0;34m(\u001b[0m\u001b[0mself\u001b[0m\u001b[0;34m,\u001b[0m \u001b[0mdtype\u001b[0m\u001b[0;34m,\u001b[0m \u001b[0;34m**\u001b[0m\u001b[0mkwargs\u001b[0m\u001b[0;34m)\u001b[0m\u001b[0;34m:\u001b[0m\u001b[0;34m\u001b[0m\u001b[0;34m\u001b[0m\u001b[0m\n\u001b[0;32m--> 581\u001b[0;31m         \u001b[0;32mreturn\u001b[0m \u001b[0mself\u001b[0m\u001b[0;34m.\u001b[0m\u001b[0mapply\u001b[0m\u001b[0;34m(\u001b[0m\u001b[0;34m\"astype\"\u001b[0m\u001b[0;34m,\u001b[0m \u001b[0mdtype\u001b[0m\u001b[0;34m=\u001b[0m\u001b[0mdtype\u001b[0m\u001b[0;34m,\u001b[0m \u001b[0;34m**\u001b[0m\u001b[0mkwargs\u001b[0m\u001b[0;34m)\u001b[0m\u001b[0;34m\u001b[0m\u001b[0;34m\u001b[0m\u001b[0m\n\u001b[0m\u001b[1;32m    582\u001b[0m \u001b[0;34m\u001b[0m\u001b[0m\n\u001b[1;32m    583\u001b[0m     \u001b[0;32mdef\u001b[0m \u001b[0mconvert\u001b[0m\u001b[0;34m(\u001b[0m\u001b[0mself\u001b[0m\u001b[0;34m,\u001b[0m \u001b[0;34m**\u001b[0m\u001b[0mkwargs\u001b[0m\u001b[0;34m)\u001b[0m\u001b[0;34m:\u001b[0m\u001b[0;34m\u001b[0m\u001b[0;34m\u001b[0m\u001b[0m\n",
      "\u001b[0;32m~/anaconda3/lib/python3.7/site-packages/pandas/core/internals/managers.py\u001b[0m in \u001b[0;36mapply\u001b[0;34m(self, f, axes, filter, do_integrity_check, consolidate, **kwargs)\u001b[0m\n\u001b[1;32m    436\u001b[0m                     \u001b[0mkwargs\u001b[0m\u001b[0;34m[\u001b[0m\u001b[0mk\u001b[0m\u001b[0;34m]\u001b[0m \u001b[0;34m=\u001b[0m \u001b[0mobj\u001b[0m\u001b[0;34m.\u001b[0m\u001b[0mreindex\u001b[0m\u001b[0;34m(\u001b[0m\u001b[0mb_items\u001b[0m\u001b[0;34m,\u001b[0m \u001b[0maxis\u001b[0m\u001b[0;34m=\u001b[0m\u001b[0maxis\u001b[0m\u001b[0;34m,\u001b[0m \u001b[0mcopy\u001b[0m\u001b[0;34m=\u001b[0m\u001b[0malign_copy\u001b[0m\u001b[0;34m)\u001b[0m\u001b[0;34m\u001b[0m\u001b[0;34m\u001b[0m\u001b[0m\n\u001b[1;32m    437\u001b[0m \u001b[0;34m\u001b[0m\u001b[0m\n\u001b[0;32m--> 438\u001b[0;31m             \u001b[0mapplied\u001b[0m \u001b[0;34m=\u001b[0m \u001b[0mgetattr\u001b[0m\u001b[0;34m(\u001b[0m\u001b[0mb\u001b[0m\u001b[0;34m,\u001b[0m \u001b[0mf\u001b[0m\u001b[0;34m)\u001b[0m\u001b[0;34m(\u001b[0m\u001b[0;34m**\u001b[0m\u001b[0mkwargs\u001b[0m\u001b[0;34m)\u001b[0m\u001b[0;34m\u001b[0m\u001b[0;34m\u001b[0m\u001b[0m\n\u001b[0m\u001b[1;32m    439\u001b[0m             \u001b[0mresult_blocks\u001b[0m \u001b[0;34m=\u001b[0m \u001b[0m_extend_blocks\u001b[0m\u001b[0;34m(\u001b[0m\u001b[0mapplied\u001b[0m\u001b[0;34m,\u001b[0m \u001b[0mresult_blocks\u001b[0m\u001b[0;34m)\u001b[0m\u001b[0;34m\u001b[0m\u001b[0;34m\u001b[0m\u001b[0m\n\u001b[1;32m    440\u001b[0m \u001b[0;34m\u001b[0m\u001b[0m\n",
      "\u001b[0;32m~/anaconda3/lib/python3.7/site-packages/pandas/core/internals/blocks.py\u001b[0m in \u001b[0;36mastype\u001b[0;34m(self, dtype, copy, errors, values, **kwargs)\u001b[0m\n\u001b[1;32m    557\u001b[0m \u001b[0;34m\u001b[0m\u001b[0m\n\u001b[1;32m    558\u001b[0m     \u001b[0;32mdef\u001b[0m \u001b[0mastype\u001b[0m\u001b[0;34m(\u001b[0m\u001b[0mself\u001b[0m\u001b[0;34m,\u001b[0m \u001b[0mdtype\u001b[0m\u001b[0;34m,\u001b[0m \u001b[0mcopy\u001b[0m\u001b[0;34m=\u001b[0m\u001b[0;32mFalse\u001b[0m\u001b[0;34m,\u001b[0m \u001b[0merrors\u001b[0m\u001b[0;34m=\u001b[0m\u001b[0;34m\"raise\"\u001b[0m\u001b[0;34m,\u001b[0m \u001b[0mvalues\u001b[0m\u001b[0;34m=\u001b[0m\u001b[0;32mNone\u001b[0m\u001b[0;34m,\u001b[0m \u001b[0;34m**\u001b[0m\u001b[0mkwargs\u001b[0m\u001b[0;34m)\u001b[0m\u001b[0;34m:\u001b[0m\u001b[0;34m\u001b[0m\u001b[0;34m\u001b[0m\u001b[0m\n\u001b[0;32m--> 559\u001b[0;31m         \u001b[0;32mreturn\u001b[0m \u001b[0mself\u001b[0m\u001b[0;34m.\u001b[0m\u001b[0m_astype\u001b[0m\u001b[0;34m(\u001b[0m\u001b[0mdtype\u001b[0m\u001b[0;34m,\u001b[0m \u001b[0mcopy\u001b[0m\u001b[0;34m=\u001b[0m\u001b[0mcopy\u001b[0m\u001b[0;34m,\u001b[0m \u001b[0merrors\u001b[0m\u001b[0;34m=\u001b[0m\u001b[0merrors\u001b[0m\u001b[0;34m,\u001b[0m \u001b[0mvalues\u001b[0m\u001b[0;34m=\u001b[0m\u001b[0mvalues\u001b[0m\u001b[0;34m,\u001b[0m \u001b[0;34m**\u001b[0m\u001b[0mkwargs\u001b[0m\u001b[0;34m)\u001b[0m\u001b[0;34m\u001b[0m\u001b[0;34m\u001b[0m\u001b[0m\n\u001b[0m\u001b[1;32m    560\u001b[0m \u001b[0;34m\u001b[0m\u001b[0m\n\u001b[1;32m    561\u001b[0m     \u001b[0;32mdef\u001b[0m \u001b[0m_astype\u001b[0m\u001b[0;34m(\u001b[0m\u001b[0mself\u001b[0m\u001b[0;34m,\u001b[0m \u001b[0mdtype\u001b[0m\u001b[0;34m,\u001b[0m \u001b[0mcopy\u001b[0m\u001b[0;34m=\u001b[0m\u001b[0;32mFalse\u001b[0m\u001b[0;34m,\u001b[0m \u001b[0merrors\u001b[0m\u001b[0;34m=\u001b[0m\u001b[0;34m\"raise\"\u001b[0m\u001b[0;34m,\u001b[0m \u001b[0mvalues\u001b[0m\u001b[0;34m=\u001b[0m\u001b[0;32mNone\u001b[0m\u001b[0;34m,\u001b[0m \u001b[0;34m**\u001b[0m\u001b[0mkwargs\u001b[0m\u001b[0;34m)\u001b[0m\u001b[0;34m:\u001b[0m\u001b[0;34m\u001b[0m\u001b[0;34m\u001b[0m\u001b[0m\n",
      "\u001b[0;32m~/anaconda3/lib/python3.7/site-packages/pandas/core/internals/blocks.py\u001b[0m in \u001b[0;36m_astype\u001b[0;34m(self, dtype, copy, errors, values, **kwargs)\u001b[0m\n\u001b[1;32m    641\u001b[0m                     \u001b[0;31m# _astype_nansafe works fine with 1-d only\u001b[0m\u001b[0;34m\u001b[0m\u001b[0;34m\u001b[0m\u001b[0;34m\u001b[0m\u001b[0m\n\u001b[1;32m    642\u001b[0m                     \u001b[0mvals1d\u001b[0m \u001b[0;34m=\u001b[0m \u001b[0mvalues\u001b[0m\u001b[0;34m.\u001b[0m\u001b[0mravel\u001b[0m\u001b[0;34m(\u001b[0m\u001b[0;34m)\u001b[0m\u001b[0;34m\u001b[0m\u001b[0;34m\u001b[0m\u001b[0m\n\u001b[0;32m--> 643\u001b[0;31m                     \u001b[0mvalues\u001b[0m \u001b[0;34m=\u001b[0m \u001b[0mastype_nansafe\u001b[0m\u001b[0;34m(\u001b[0m\u001b[0mvals1d\u001b[0m\u001b[0;34m,\u001b[0m \u001b[0mdtype\u001b[0m\u001b[0;34m,\u001b[0m \u001b[0mcopy\u001b[0m\u001b[0;34m=\u001b[0m\u001b[0;32mTrue\u001b[0m\u001b[0;34m,\u001b[0m \u001b[0;34m**\u001b[0m\u001b[0mkwargs\u001b[0m\u001b[0;34m)\u001b[0m\u001b[0;34m\u001b[0m\u001b[0;34m\u001b[0m\u001b[0m\n\u001b[0m\u001b[1;32m    644\u001b[0m \u001b[0;34m\u001b[0m\u001b[0m\n\u001b[1;32m    645\u001b[0m                 \u001b[0;31m# TODO(extension)\u001b[0m\u001b[0;34m\u001b[0m\u001b[0;34m\u001b[0m\u001b[0;34m\u001b[0m\u001b[0m\n",
      "\u001b[0;32m~/anaconda3/lib/python3.7/site-packages/pandas/core/dtypes/cast.py\u001b[0m in \u001b[0;36mastype_nansafe\u001b[0;34m(arr, dtype, copy, skipna)\u001b[0m\n\u001b[1;32m    705\u001b[0m         \u001b[0;31m# work around NumPy brokenness, #1987\u001b[0m\u001b[0;34m\u001b[0m\u001b[0;34m\u001b[0m\u001b[0;34m\u001b[0m\u001b[0m\n\u001b[1;32m    706\u001b[0m         \u001b[0;32mif\u001b[0m \u001b[0mnp\u001b[0m\u001b[0;34m.\u001b[0m\u001b[0missubdtype\u001b[0m\u001b[0;34m(\u001b[0m\u001b[0mdtype\u001b[0m\u001b[0;34m.\u001b[0m\u001b[0mtype\u001b[0m\u001b[0;34m,\u001b[0m \u001b[0mnp\u001b[0m\u001b[0;34m.\u001b[0m\u001b[0minteger\u001b[0m\u001b[0;34m)\u001b[0m\u001b[0;34m:\u001b[0m\u001b[0;34m\u001b[0m\u001b[0;34m\u001b[0m\u001b[0m\n\u001b[0;32m--> 707\u001b[0;31m             \u001b[0;32mreturn\u001b[0m \u001b[0mlib\u001b[0m\u001b[0;34m.\u001b[0m\u001b[0mastype_intsafe\u001b[0m\u001b[0;34m(\u001b[0m\u001b[0marr\u001b[0m\u001b[0;34m.\u001b[0m\u001b[0mravel\u001b[0m\u001b[0;34m(\u001b[0m\u001b[0;34m)\u001b[0m\u001b[0;34m,\u001b[0m \u001b[0mdtype\u001b[0m\u001b[0;34m)\u001b[0m\u001b[0;34m.\u001b[0m\u001b[0mreshape\u001b[0m\u001b[0;34m(\u001b[0m\u001b[0marr\u001b[0m\u001b[0;34m.\u001b[0m\u001b[0mshape\u001b[0m\u001b[0;34m)\u001b[0m\u001b[0;34m\u001b[0m\u001b[0;34m\u001b[0m\u001b[0m\n\u001b[0m\u001b[1;32m    708\u001b[0m \u001b[0;34m\u001b[0m\u001b[0m\n\u001b[1;32m    709\u001b[0m         \u001b[0;31m# if we have a datetime/timedelta array of objects\u001b[0m\u001b[0;34m\u001b[0m\u001b[0;34m\u001b[0m\u001b[0;34m\u001b[0m\u001b[0m\n",
      "\u001b[0;32mpandas/_libs/lib.pyx\u001b[0m in \u001b[0;36mpandas._libs.lib.astype_intsafe\u001b[0;34m()\u001b[0m\n",
      "\u001b[0;31mValueError\u001b[0m: cannot convert float NaN to integer"
     ]
    }
   ],
   "source": [
    "# ¿Y si probamos de todos los datos?\n",
    "# Pero antes hay que pasar el pax a int, peeeero me sale ERROR que hay un valor NaN, hay que quitarlo\n",
    "dataset_bookings['pax'] = dataset_bookings['pax'].astype('int')\n",
    "print(dataset_bookings['pax'].dtype)\n",
    "\n",
    "## luego habría que hacer esto: print(dataset_bookings['pax'][dataset_bookings['arr_port'] == 'LCY'].sum())"
   ]
  },
  {
   "cell_type": "code",
   "execution_count": 185,
   "metadata": {},
   "outputs": [
    {
     "data": {
      "text/plain": [
       "5000007    NaN\n",
       "5000008      2\n",
       "Name: pax, dtype: object"
      ]
     },
     "execution_count": 185,
     "metadata": {},
     "output_type": "execute_result"
    }
   ],
   "source": [
    "#Saber en qué fila está los valores NaN y localizamos\n",
    "nan_rows = dataset_bookings['pax'][dataset_bookings.isnull().any(1)]\n",
    "nan_rows\n",
    "#Info: http://exponentis.es/como-encontrar-valores-nan-en-un-dataframe-python-pandas-y-modificarlos"
   ]
  },
  {
   "cell_type": "code",
   "execution_count": 191,
   "metadata": {},
   "outputs": [
    {
     "name": "stdout",
     "output_type": "stream",
     "text": [
      "act_date                  2013-03-25 00:00:00\n",
      "source                         1V    JP      \n",
      "pos_ctry                                  NaN\n",
      "pos_iata     a37584d1485cb35991e4ff1a2ba92262\n",
      "pos_oid                   2013-03-25 00:00:00\n",
      "rloc                                     8371\n",
      "cre_date                                   60\n",
      "duration                             NRT     \n",
      "distance                             TYO     \n",
      "dep_port                             JP      \n",
      "dep_city                             SIN     \n",
      "dep_ctry                             SIN     \n",
      "arr_port                                   SG\n",
      "arr_city                     HND     TYO     \n",
      "arr_ctry                             JP      \n",
      "lst_port                             NRT     \n",
      "lst_city                             TYO     \n",
      "lst_ctry                             JP      \n",
      "brd_port                             SIN     \n",
      "brd_city                             SIN     \n",
      "brd_ctry                             SG      \n",
      "off_port                             NRTSIN  \n",
      "off_city                             SINTYO  \n",
      "off_ctry                             JPSG    \n",
      "mkt_port                                    1\n",
      "mkt_city                      NRTSIN         \n",
      "mkt_ctry                         XR,Q        \n",
      "intl                                Y        \n",
      "route                     2013-04-14 11:05:00\n",
      "carrier                   2013-04-14 17:10:56\n",
      "bkg_class                                   2\n",
      "cab_class                                2013\n",
      "brd_time                                    3\n",
      "off_time                            NULL     \n",
      "pax                                       NaN\n",
      "year                                      NaN\n",
      "month                                     NaN\n",
      "oid                                       NaN\n",
      "Name: 5000007, dtype: object\n"
     ]
    }
   ],
   "source": [
    "#Parece ser este, ME QUEDÉ AQUÍ AHORA HABRÍA QUE CAMBIAR ESE VALOR POR LA MEDIA O MEDIANA(DE ESE AEROPUERTO)\n",
    "# O ELIMINAR LA FILA Y VOLVER A CALCULAR LA SUMA, A VER SI YA SALE. \n",
    "dataset_bookings.loc[5000007]"
   ]
  },
  {
   "cell_type": "code",
   "execution_count": 178,
   "metadata": {},
   "outputs": [
    {
     "ename": "AttributeError",
     "evalue": "'list' object has no attribute 'shape'",
     "output_type": "error",
     "traceback": [
      "\u001b[0;31m---------------------------------------------------------------------------\u001b[0m",
      "\u001b[0;31mAttributeError\u001b[0m                            Traceback (most recent call last)",
      "\u001b[0;32m<ipython-input-178-2d8a774eac03>\u001b[0m in \u001b[0;36m<module>\u001b[0;34m\u001b[0m\n\u001b[1;32m      2\u001b[0m \u001b[0mairports_unique\u001b[0m \u001b[0;34m=\u001b[0m \u001b[0mdataset_bookings\u001b[0m\u001b[0;34m[\u001b[0m\u001b[0;34m'arr_port'\u001b[0m\u001b[0;34m]\u001b[0m\u001b[0;34m.\u001b[0m\u001b[0munique\u001b[0m\u001b[0;34m(\u001b[0m\u001b[0;34m)\u001b[0m\u001b[0;34m.\u001b[0m\u001b[0mtolist\u001b[0m\u001b[0;34m(\u001b[0m\u001b[0;34m)\u001b[0m\u001b[0;34m\u001b[0m\u001b[0;34m\u001b[0m\u001b[0m\n\u001b[1;32m      3\u001b[0m \u001b[0mresult\u001b[0m \u001b[0;34m=\u001b[0m \u001b[0msorted\u001b[0m\u001b[0;34m(\u001b[0m\u001b[0;34m[\u001b[0m\u001b[0;34m(\u001b[0m\u001b[0mx\u001b[0m\u001b[0;34m,\u001b[0m \u001b[0mairports_unique\u001b[0m\u001b[0;34m.\u001b[0m\u001b[0mcount\u001b[0m\u001b[0;34m(\u001b[0m\u001b[0mx\u001b[0m\u001b[0;34m)\u001b[0m\u001b[0;34m)\u001b[0m \u001b[0;32mfor\u001b[0m \u001b[0mx\u001b[0m \u001b[0;32min\u001b[0m \u001b[0mmuestra_dataset_bookings\u001b[0m\u001b[0;34m[\u001b[0m\u001b[0;34m'arr_port'\u001b[0m\u001b[0;34m]\u001b[0m\u001b[0;34m]\u001b[0m\u001b[0;34m,\u001b[0m \u001b[0mkey\u001b[0m\u001b[0;34m=\u001b[0m\u001b[0;32mlambda\u001b[0m \u001b[0my\u001b[0m\u001b[0;34m:\u001b[0m \u001b[0my\u001b[0m\u001b[0;34m[\u001b[0m\u001b[0;36m1\u001b[0m\u001b[0;34m]\u001b[0m\u001b[0;34m,\u001b[0m \u001b[0mreverse\u001b[0m \u001b[0;34m=\u001b[0m\u001b[0;32mFalse\u001b[0m\u001b[0;34m)\u001b[0m\u001b[0;34m\u001b[0m\u001b[0;34m\u001b[0m\u001b[0m\n\u001b[0;32m----> 4\u001b[0;31m \u001b[0mresult\u001b[0m\u001b[0;34m.\u001b[0m\u001b[0mshape\u001b[0m\u001b[0;34m\u001b[0m\u001b[0;34m\u001b[0m\u001b[0m\n\u001b[0m",
      "\u001b[0;31mAttributeError\u001b[0m: 'list' object has no attribute 'shape'"
     ]
    }
   ],
   "source": [
    "#Para contar cuántos hay de cada aeropuerto, pero no están juntando los duplicados, OJOOOO!\n",
    "airports_unique = dataset_bookings['arr_port'].unique().tolist()\n",
    "result = sorted([(x, airports_unique.count(x)) for x in muestra_dataset_bookings['arr_port']], key=lambda y: y[1], reverse =False)\n",
    "result"
   ]
  },
  {
   "cell_type": "code",
   "execution_count": null,
   "metadata": {},
   "outputs": [],
   "source": []
  }
 ],
 "metadata": {
  "kernelspec": {
   "display_name": "Python 3",
   "language": "python",
   "name": "python3"
  },
  "language_info": {
   "codemirror_mode": {
    "name": "ipython",
    "version": 3
   },
   "file_extension": ".py",
   "mimetype": "text/x-python",
   "name": "python",
   "nbconvert_exporter": "python",
   "pygments_lexer": "ipython3",
   "version": "3.7.3"
  }
 },
 "nbformat": 4,
 "nbformat_minor": 4
}
