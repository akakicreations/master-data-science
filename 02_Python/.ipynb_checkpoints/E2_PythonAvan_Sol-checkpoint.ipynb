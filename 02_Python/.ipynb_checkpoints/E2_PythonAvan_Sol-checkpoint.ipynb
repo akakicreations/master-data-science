{
 "cells": [
  {
   "cell_type": "markdown",
   "metadata": {},
   "source": [
    "# Ejercicios Python Avanzado"
   ]
  },
  {
   "cell_type": "markdown",
   "metadata": {},
   "source": [
    "___"
   ]
  },
  {
   "cell_type": "markdown",
   "metadata": {},
   "source": [
    "## 7. Control Flow"
   ]
  },
  {
   "cell_type": "markdown",
   "metadata": {},
   "source": [
    "### Condicionales\n",
    "\n",
    "- Escribe un scrip que comprube si un año es bisiesto usando condicionales.\n",
    "\n",
    "*Año bisiesto es el divisible entre 4, salvo que sea año secular -último de cada siglo, terminado en «00»-, en cuyo caso también ha de ser divisible entre 400.* Fuente [Wikipedia](https://es.wikipedia.org/wiki/A%C3%B1o_bisiesto)"
   ]
  },
  {
   "cell_type": "code",
   "execution_count": 3,
   "metadata": {
    "collapsed": true,
    "jupyter": {
     "outputs_hidden": true
    }
   },
   "outputs": [
    {
     "name": "stdout",
     "output_type": "stream",
     "text": [
      "El año 1900 es bisiesto: False\n"
     ]
    }
   ],
   "source": [
    "year = 1900\n",
    "bisiesto = False\n",
    "if year%4 == 0:\n",
    "    bisiesto = True\n",
    "    if year%100 == 0:\n",
    "        bisiesto = False\n",
    "        if year%400 == 0:\n",
    "            bisiesto = True\n",
    "\n",
    "print(f'El año {year} es bisiesto: {bisiesto}')"
   ]
  },
  {
   "cell_type": "code",
   "execution_count": 4,
   "metadata": {
    "collapsed": true,
    "jupyter": {
     "outputs_hidden": true
    }
   },
   "outputs": [
    {
     "name": "stdout",
     "output_type": "stream",
     "text": [
      "El año 1900 es bisiesto: False\n"
     ]
    }
   ],
   "source": [
    "year = 1900\n",
    "bisiesto = False\n",
    "cond1 = year%4 == 0\n",
    "cond2 = year%100 == 0\n",
    "cond3 = year%400 == 0\n",
    "if cond1 and (not cond2 or cond3):\n",
    "    bisiesto = True\n",
    "\n",
    "print(f'El año {year} es bisiesto: {bisiesto}')"
   ]
  },
  {
   "cell_type": "markdown",
   "metadata": {},
   "source": [
    "### Bucles"
   ]
  },
  {
   "cell_type": "markdown",
   "metadata": {},
   "source": [
    "- Con un bucle `for` y un condicional encuentra todos los divisores de un número"
   ]
  },
  {
   "cell_type": "code",
   "execution_count": 5,
   "metadata": {
    "collapsed": true,
    "jupyter": {
     "outputs_hidden": true
    }
   },
   "outputs": [
    {
     "name": "stdout",
     "output_type": "stream",
     "text": [
      "Los divisores de 100 son [1, 2, 4, 5, 10, 20, 25, 50, 100]\n"
     ]
    }
   ],
   "source": [
    "num = 100\n",
    "div = []\n",
    "for i in range(1, num+1):\n",
    "    if num%i == 0:\n",
    "        div.append(i)\n",
    "print(f'Los divisores de {num} son {div}')"
   ]
  },
  {
   "cell_type": "markdown",
   "metadata": {},
   "source": [
    "- Haz lo mismo pero con un bucle `while`."
   ]
  },
  {
   "cell_type": "code",
   "execution_count": 6,
   "metadata": {
    "collapsed": true,
    "jupyter": {
     "outputs_hidden": true
    }
   },
   "outputs": [
    {
     "name": "stdout",
     "output_type": "stream",
     "text": [
      "Los divisores de 100 son [1, 2, 4, 5, 10, 20, 25, 50, 100]\n"
     ]
    }
   ],
   "source": [
    "num = 100\n",
    "div = []\n",
    "i = 1\n",
    "while i <= num:\n",
    "    if num%i == 0:\n",
    "        div.append(i)\n",
    "    i += 1\n",
    "print(f'Los divisores de {num} son {div}')"
   ]
  },
  {
   "cell_type": "markdown",
   "metadata": {},
   "source": [
    "- Encuentra el máximo divisor (distinto de él mismo) de un número con un bucle (`for` o `while`) y sal del bucle mismo cuando lo encuentres."
   ]
  },
  {
   "cell_type": "code",
   "execution_count": 10,
   "metadata": {
    "collapsed": true,
    "jupyter": {
     "outputs_hidden": true
    }
   },
   "outputs": [
    {
     "name": "stdout",
     "output_type": "stream",
     "text": [
      "El máximo divisor de 100 es 50\n"
     ]
    }
   ],
   "source": [
    "num = 100\n",
    "for i in range(2, num+1):\n",
    "    if num%i == 0:\n",
    "        break\n",
    "print(f'El máximo divisor de {num} es {num/i:.0f}')"
   ]
  },
  {
   "cell_type": "code",
   "execution_count": 11,
   "metadata": {
    "collapsed": true,
    "jupyter": {
     "outputs_hidden": true
    }
   },
   "outputs": [
    {
     "name": "stdout",
     "output_type": "stream",
     "text": [
      "Los divisores de 100 son 50\n"
     ]
    }
   ],
   "source": [
    "num = 100\n",
    "i = 2\n",
    "while i <= num:\n",
    "    if num%i == 0:\n",
    "        break\n",
    "    i += 1\n",
    "print(f'Los divisores de {num} son {num/i:.0f}')"
   ]
  },
  {
   "cell_type": "markdown",
   "metadata": {},
   "source": [
    "### map, filter, reduce"
   ]
  },
  {
   "cell_type": "markdown",
   "metadata": {},
   "source": [
    "Suma el cuadrado de los números divisibles entre un número A que hay hasta un número B usando `map`, `filter` y `reduce`"
   ]
  },
  {
   "cell_type": "code",
   "execution_count": 12,
   "metadata": {
    "collapsed": true,
    "jupyter": {
     "outputs_hidden": true
    }
   },
   "outputs": [
    {
     "name": "stdout",
     "output_type": "stream",
     "text": [
      "La suma pedida es 25219194\n"
     ]
    }
   ],
   "source": [
    "from functools import reduce\n",
    "\n",
    "num_a = 13\n",
    "num_b = 1000\n",
    "\n",
    "lista = list(range(num_b+1))\n",
    "lista_fil = filter(lambda x: x%num_a == 0, lista)\n",
    "lista_square = map(lambda x: x**2, lista_fil)\n",
    "resultado = reduce(lambda a, b: a + b, lista_square)\n",
    "\n",
    "print(f'La suma pedida es {resultado}')"
   ]
  },
  {
   "cell_type": "code",
   "execution_count": 4,
   "metadata": {},
   "outputs": [
    {
     "name": "stdout",
     "output_type": "stream",
     "text": [
      "Overwriting tmp\\pdb.py\n"
     ]
    }
   ],
   "source": [
    "%%file tmp\\pdb.py\n",
    "import pdb\n",
    "a=1\n",
    "if a>0:\n",
    "    pdb.set_trace()\n",
    "a=2\n",
    "a"
   ]
  },
  {
   "cell_type": "markdown",
   "metadata": {},
   "source": [
    "### Exceptiones"
   ]
  },
  {
   "cell_type": "markdown",
   "metadata": {},
   "source": [
    "- Intenta dividir por cero y controla sólo esa excepción."
   ]
  },
  {
   "cell_type": "code",
   "execution_count": 9,
   "metadata": {},
   "outputs": [
    {
     "name": "stdout",
     "output_type": "stream",
     "text": [
      "Resultado -15.0\n",
      "Introduce otro número\n"
     ]
    }
   ],
   "source": [
    "num_a = -15\n",
    "num_b = 1\n",
    "try:\n",
    "    resultado = num_a/num_b\n",
    "    print(f'Resultado {resultado}')\n",
    "except ZeroDivisionError:\n",
    "    print(f'No se puede dividir por cero')\n",
    "finally:\n",
    "    print(f'Introduce otro número')"
   ]
  },
  {
   "cell_type": "markdown",
   "metadata": {},
   "source": [
    "### Debugger"
   ]
  },
  {
   "cell_type": "markdown",
   "metadata": {},
   "source": [
    "- Introduce una parada del pdb en algún punto de alguno de los códigos que has escrito arriba.\n",
    "    - Muestra el lugar donde estás\n",
    "    - Muestra todo el código\n",
    "    - Avanza por el código\n",
    "    - Aborta\n",
    "    - Continua la ejecución"
   ]
  },
  {
   "cell_type": "code",
   "execution_count": 10,
   "metadata": {},
   "outputs": [
    {
     "name": "stdout",
     "output_type": "stream",
     "text": [
      "> <ipython-input-10-63ca13528dd1>(5)<module>()->None\n",
      "-> bisiesto = True\n"
     ]
    },
    {
     "name": "stdin",
     "output_type": "stream",
     "text": [
      "(Pdb)  n\n"
     ]
    },
    {
     "name": "stdout",
     "output_type": "stream",
     "text": [
      "> <ipython-input-10-63ca13528dd1>(6)<module>()->None\n",
      "-> if year%100 == 0:\n"
     ]
    },
    {
     "name": "stdin",
     "output_type": "stream",
     "text": [
      "(Pdb)  l\n"
     ]
    },
    {
     "name": "stdout",
     "output_type": "stream",
     "text": [
      "  1  \tyear = 1900\n",
      "  2  \tbisiesto = False\n",
      "  3  \tif year%4 == 0:\n",
      "  4  \t    import pdb; pdb.set_trace()\n",
      "  5  \t    bisiesto = True\n",
      "  6  ->\t    if year%100 == 0:\n",
      "  7  \t        bisiesto = False\n",
      "  8  \t        if year%400 == 0:\n",
      "  9  \t            bisiesto = True\n",
      " 10  \t\n",
      " 11  \tprint(f'El año {year} es bisiesto: {bisiesto}')\n"
     ]
    },
    {
     "name": "stdin",
     "output_type": "stream",
     "text": [
      "(Pdb)  ll\n"
     ]
    },
    {
     "name": "stdout",
     "output_type": "stream",
     "text": [
      "  1  \tyear = 1900\n",
      "  2  \tbisiesto = False\n",
      "  3  \tif year%4 == 0:\n",
      "  4  \t    import pdb; pdb.set_trace()\n",
      "  5  \t    bisiesto = True\n",
      "  6  ->\t    if year%100 == 0:\n",
      "  7  \t        bisiesto = False\n",
      "  8  \t        if year%400 == 0:\n",
      "  9  \t            bisiesto = True\n",
      " 10  \t\n",
      " 11  \tprint(f'El año {year} es bisiesto: {bisiesto}')\n"
     ]
    },
    {
     "name": "stdin",
     "output_type": "stream",
     "text": [
      "(Pdb)  n\n"
     ]
    },
    {
     "name": "stdout",
     "output_type": "stream",
     "text": [
      "> <ipython-input-10-63ca13528dd1>(7)<module>()->None\n",
      "-> bisiesto = False\n"
     ]
    },
    {
     "name": "stdin",
     "output_type": "stream",
     "text": [
      "(Pdb)  n\n"
     ]
    },
    {
     "name": "stdout",
     "output_type": "stream",
     "text": [
      "> <ipython-input-10-63ca13528dd1>(8)<module>()->None\n",
      "-> if year%400 == 0:\n"
     ]
    },
    {
     "name": "stdin",
     "output_type": "stream",
     "text": [
      "(Pdb)  n\n"
     ]
    },
    {
     "name": "stdout",
     "output_type": "stream",
     "text": [
      "--Return--\n",
      "> <ipython-input-10-63ca13528dd1>(8)<module>()->None\n",
      "-> if year%400 == 0:\n"
     ]
    },
    {
     "name": "stdin",
     "output_type": "stream",
     "text": [
      "(Pdb)  n\n"
     ]
    },
    {
     "name": "stdout",
     "output_type": "stream",
     "text": [
      "> c:\\users\\franc\\miniconda3\\lib\\site-packages\\ipython\\core\\interactiveshell.py(3322)run_code()\n",
      "-> sys.excepthook = old_excepthook\n"
     ]
    },
    {
     "name": "stdin",
     "output_type": "stream",
     "text": [
      "(Pdb)  n\n"
     ]
    },
    {
     "name": "stdout",
     "output_type": "stream",
     "text": [
      "> c:\\users\\franc\\miniconda3\\lib\\site-packages\\ipython\\core\\interactiveshell.py(3338)run_code()\n",
      "-> outflag = False\n"
     ]
    },
    {
     "name": "stdin",
     "output_type": "stream",
     "text": [
      "(Pdb)  n\n"
     ]
    },
    {
     "name": "stdout",
     "output_type": "stream",
     "text": [
      "> c:\\users\\franc\\miniconda3\\lib\\site-packages\\ipython\\core\\interactiveshell.py(3339)run_code()\n",
      "-> return outflag\n"
     ]
    },
    {
     "name": "stdin",
     "output_type": "stream",
     "text": [
      "(Pdb)  n\n"
     ]
    },
    {
     "name": "stdout",
     "output_type": "stream",
     "text": [
      "Internal StopIteration: False\n",
      "> c:\\users\\franc\\miniconda3\\lib\\site-packages\\ipython\\core\\interactiveshell.py(3242)run_ast_nodes()\n",
      "-> if (await self.run_code(code, result,  async_=asy)):\n"
     ]
    },
    {
     "name": "stdin",
     "output_type": "stream",
     "text": [
      "(Pdb)  c\n"
     ]
    },
    {
     "name": "stdout",
     "output_type": "stream",
     "text": [
      "El año 1900 es bisiesto: False\n"
     ]
    }
   ],
   "source": [
    "year = 1900\n",
    "bisiesto = False\n",
    "if year%4 == 0:\n",
    "    import pdb; pdb.set_trace()\n",
    "    bisiesto = True\n",
    "    if year%100 == 0:\n",
    "        bisiesto = False\n",
    "        if year%400 == 0:\n",
    "            bisiesto = True\n",
    "\n",
    "print(f'El año {year} es bisiesto: {bisiesto}')"
   ]
  },
  {
   "cell_type": "markdown",
   "metadata": {},
   "source": [
    "___"
   ]
  },
  {
   "cell_type": "markdown",
   "metadata": {},
   "source": [
    "## 8. Funciones"
   ]
  },
  {
   "cell_type": "markdown",
   "metadata": {},
   "source": [
    "- Define una función que calcule el número de vocales en una string pasada como argumento."
   ]
  },
  {
   "cell_type": "code",
   "execution_count": 12,
   "metadata": {},
   "outputs": [],
   "source": [
    "def cuenta_vocales(string):\n",
    "    count = 0\n",
    "    for s in string:\n",
    "        if s in 'aeiou':\n",
    "            count += 1\n",
    "    return count"
   ]
  },
  {
   "cell_type": "code",
   "execution_count": 13,
   "metadata": {},
   "outputs": [
    {
     "data": {
      "text/plain": [
       "1"
      ]
     },
     "execution_count": 13,
     "metadata": {},
     "output_type": "execute_result"
    }
   ],
   "source": [
    "cuenta_vocales('sdfjd3e')"
   ]
  },
  {
   "cell_type": "markdown",
   "metadata": {},
   "source": [
    "- Define una función que pregunte al usuario su año de nacimiento y calcule su edad"
   ]
  },
  {
   "cell_type": "code",
   "execution_count": 14,
   "metadata": {},
   "outputs": [],
   "source": [
    "from datetime import datetime\n",
    "def edad():\n",
    "    year = input('Introduce tu año de nacimineto: ')\n",
    "    hoy = datetime.today().year\n",
    "    edad = hoy - int(year)\n",
    "    return edad"
   ]
  },
  {
   "cell_type": "code",
   "execution_count": 15,
   "metadata": {},
   "outputs": [
    {
     "name": "stdin",
     "output_type": "stream",
     "text": [
      "Introduce tu año de nacimineto:  1967\n"
     ]
    },
    {
     "data": {
      "text/plain": [
       "53"
      ]
     },
     "execution_count": 15,
     "metadata": {},
     "output_type": "execute_result"
    }
   ],
   "source": [
    "edad()"
   ]
  },
  {
   "cell_type": "markdown",
   "metadata": {},
   "source": [
    "___"
   ]
  },
  {
   "cell_type": "markdown",
   "metadata": {},
   "source": [
    "## 9. Módulos"
   ]
  },
  {
   "cell_type": "markdown",
   "metadata": {},
   "source": [
    "- Guarda las funciones definidas en el apartado anterior en un fichero `.py`"
   ]
  },
  {
   "cell_type": "code",
   "execution_count": 1,
   "metadata": {},
   "outputs": [
    {
     "name": "stdout",
     "output_type": "stream",
     "text": [
      "Overwriting tmp/mod.py\n"
     ]
    }
   ],
   "source": [
    "%%file tmp/mod.py\n",
    "from datetime import datetime\n",
    "\n",
    "def cuenta_vocales(string):\n",
    "    count = 0\n",
    "    for s in string:\n",
    "        if s in 'aeiou':\n",
    "            count += 1\n",
    "    return count\n",
    "\n",
    "def edad():\n",
    "    year = input('Introduce tu año de nacimineto: ')\n",
    "    hoy = datetime.today().year\n",
    "    edad = hoy - int(year)\n",
    "    return edad"
   ]
  },
  {
   "cell_type": "markdown",
   "metadata": {},
   "source": [
    "- Reinicia el kernel y comprueba las variables que hay definidas en el namespace con magia."
   ]
  },
  {
   "cell_type": "code",
   "execution_count": 2,
   "metadata": {},
   "outputs": [
    {
     "name": "stdout",
     "output_type": "stream",
     "text": [
      "Interactive namespace is empty.\n"
     ]
    }
   ],
   "source": [
    "%whos"
   ]
  },
  {
   "cell_type": "markdown",
   "metadata": {},
   "source": [
    "- Importa el módulo y usa una función."
   ]
  },
  {
   "cell_type": "code",
   "execution_count": 3,
   "metadata": {},
   "outputs": [],
   "source": [
    "import tmp.mod as mod"
   ]
  },
  {
   "cell_type": "code",
   "execution_count": 4,
   "metadata": {},
   "outputs": [
    {
     "name": "stdin",
     "output_type": "stream",
     "text": [
      "Introduce tu año de nacimineto:  1927\n"
     ]
    },
    {
     "data": {
      "text/plain": [
       "93"
      ]
     },
     "execution_count": 4,
     "metadata": {},
     "output_type": "execute_result"
    }
   ],
   "source": [
    "mod.edad()"
   ]
  },
  {
   "cell_type": "markdown",
   "metadata": {},
   "source": [
    "- Importa sólo una función específica y úsala"
   ]
  },
  {
   "cell_type": "code",
   "execution_count": 6,
   "metadata": {},
   "outputs": [],
   "source": [
    "from tmp.mod import cuenta_vocales"
   ]
  },
  {
   "cell_type": "code",
   "execution_count": 8,
   "metadata": {},
   "outputs": [
    {
     "data": {
      "text/plain": [
       "1"
      ]
     },
     "execution_count": 8,
     "metadata": {},
     "output_type": "execute_result"
    }
   ],
   "source": [
    "cuenta_vocales('sdkajsd')"
   ]
  },
  {
   "cell_type": "markdown",
   "metadata": {},
   "source": [
    "- Comprueba las variables definidas en el namespace."
   ]
  },
  {
   "cell_type": "code",
   "execution_count": 9,
   "metadata": {},
   "outputs": [
    {
     "name": "stdout",
     "output_type": "stream",
     "text": [
      "Variable         Type        Data/Info\n",
      "--------------------------------------\n",
      "cuenta_vocales   function    <function cuenta_vocales at 0x0000025336F58318>\n",
      "mod              module      <module 'tmp.mod' from 'C<...>ejercicios\\\\tmp\\\\mod.py'>\n"
     ]
    }
   ],
   "source": [
    "%whos"
   ]
  },
  {
   "cell_type": "markdown",
   "metadata": {},
   "source": [
    "___"
   ]
  },
  {
   "cell_type": "markdown",
   "metadata": {},
   "source": [
    "## 10. Ficheros"
   ]
  },
  {
   "cell_type": "markdown",
   "metadata": {},
   "source": [
    "- Lee las primeras 5 líneas del fichero de la cotización de google que se encuentra en la dirección `../data/googl.us.csv`"
   ]
  },
  {
   "cell_type": "code",
   "execution_count": 16,
   "metadata": {},
   "outputs": [],
   "source": [
    "with open('../data/googl.us.csv') as f:\n",
    "    info = f.readlines()\n",
    "    # print(info)"
   ]
  },
  {
   "cell_type": "markdown",
   "metadata": {},
   "source": [
    "- Escribe ahora las cinco primeras líneas en un nuevo fichero `tmp/file.csv` quitando el header"
   ]
  },
  {
   "cell_type": "code",
   "execution_count": 17,
   "metadata": {},
   "outputs": [],
   "source": [
    "with open('tmp/file.csv', 'w') as f:\n",
    "    f.writelines(info[1:6])"
   ]
  },
  {
   "cell_type": "markdown",
   "metadata": {},
   "source": [
    "- Ahora añade las líneas siguientes al archivo anterior"
   ]
  },
  {
   "cell_type": "code",
   "execution_count": 18,
   "metadata": {},
   "outputs": [],
   "source": [
    "with open('tmp/file.csv', 'a') as f:\n",
    "    f.writelines(info[6:])"
   ]
  },
  {
   "cell_type": "markdown",
   "metadata": {},
   "source": [
    "___"
   ]
  },
  {
   "cell_type": "markdown",
   "metadata": {},
   "source": [
    "## 11. Clases"
   ]
  },
  {
   "cell_type": "markdown",
   "metadata": {},
   "source": [
    "- Crea una clase que modele la conexión a una base de datos."
   ]
  },
  {
   "cell_type": "code",
   "execution_count": 1,
   "metadata": {
    "collapsed": true,
    "jupyter": {
     "outputs_hidden": true,
     "source_hidden": true
    }
   },
   "outputs": [],
   "source": [
    "class BBDD:\n",
    "    \n",
    "    def __init__(self, name):\n",
    "        self.connected = False\n",
    "        self.name = name\n",
    "    \n",
    "    def connect(self):\n",
    "        self.connected = True\n",
    "        \n",
    "    def disconnect(self):\n",
    "        self.connected = False\n",
    "        \n",
    "    def __del__(self):\n",
    "        self.disconnect()"
   ]
  },
  {
   "cell_type": "code",
   "execution_count": 2,
   "metadata": {
    "collapsed": true,
    "jupyter": {
     "outputs_hidden": true,
     "source_hidden": true
    }
   },
   "outputs": [],
   "source": [
    "bbdd = BBDD('SQL')"
   ]
  },
  {
   "cell_type": "code",
   "execution_count": 3,
   "metadata": {
    "collapsed": true,
    "jupyter": {
     "outputs_hidden": true,
     "source_hidden": true
    }
   },
   "outputs": [
    {
     "data": {
      "text/plain": [
       "'SQL'"
      ]
     },
     "execution_count": 3,
     "metadata": {},
     "output_type": "execute_result"
    }
   ],
   "source": [
    "bbdd.name"
   ]
  },
  {
   "cell_type": "code",
   "execution_count": 4,
   "metadata": {
    "collapsed": true,
    "jupyter": {
     "outputs_hidden": true,
     "source_hidden": true
    }
   },
   "outputs": [
    {
     "data": {
      "text/plain": [
       "False"
      ]
     },
     "execution_count": 4,
     "metadata": {},
     "output_type": "execute_result"
    }
   ],
   "source": [
    "bbdd.connected"
   ]
  },
  {
   "cell_type": "code",
   "execution_count": 5,
   "metadata": {
    "collapsed": true,
    "jupyter": {
     "outputs_hidden": true,
     "source_hidden": true
    }
   },
   "outputs": [],
   "source": [
    "bbdd.connect()"
   ]
  },
  {
   "cell_type": "code",
   "execution_count": 6,
   "metadata": {
    "collapsed": true,
    "jupyter": {
     "outputs_hidden": true,
     "source_hidden": true
    }
   },
   "outputs": [
    {
     "data": {
      "text/plain": [
       "True"
      ]
     },
     "execution_count": 6,
     "metadata": {},
     "output_type": "execute_result"
    }
   ],
   "source": [
    "bbdd.connected"
   ]
  },
  {
   "cell_type": "code",
   "execution_count": 7,
   "metadata": {
    "collapsed": true,
    "jupyter": {
     "outputs_hidden": true,
     "source_hidden": true
    }
   },
   "outputs": [],
   "source": [
    "bbdd.disconnect()"
   ]
  },
  {
   "cell_type": "code",
   "execution_count": 8,
   "metadata": {
    "collapsed": true,
    "jupyter": {
     "outputs_hidden": true,
     "source_hidden": true
    }
   },
   "outputs": [
    {
     "data": {
      "text/plain": [
       "False"
      ]
     },
     "execution_count": 8,
     "metadata": {},
     "output_type": "execute_result"
    }
   ],
   "source": [
    "bbdd.connected"
   ]
  },
  {
   "cell_type": "code",
   "execution_count": null,
   "metadata": {
    "collapsed": true,
    "jupyter": {
     "outputs_hidden": true,
     "source_hidden": true
    }
   },
   "outputs": [],
   "source": [
    "import pymysql\n",
    "\n",
    "class SQLConnection():\n",
    "    \n",
    "    def __init__(self, db_name, prod):\n",
    "        \n",
    "        if prod:\n",
    "            config = {'ip': '0.0.0.0',\n",
    "                      'user': 'user',\n",
    "                      'passwd': 'passwd'}\n",
    "        else:\n",
    "            config = {'ip': '1.1.1.1',\n",
    "                      'user': 'user',\n",
    "                      'passwd': 'passwd'}\n",
    "\n",
    "        self.db_name = db_name\n",
    "        self._db = pymysql.connect(\n",
    "            config.get('ip'),\n",
    "            config.get('user'),\n",
    "            config.get('passwd'),\n",
    "            self.db_name)\n",
    "        self.c =  self._db.cursor()\n",
    "        self.tables = self.get_tables()\n",
    "\n",
    "    def __del__(self):\n",
    "        \n",
    "        self.c.close()\n",
    "        self._db.close()\n",
    "\n",
    "    def get_tables(self):\n",
    "\n",
    "        qry = 'SELECT TABLE_NAME \\\n",
    "                FROM INFORMATION_SCHEMA.TABLES \\\n",
    "                WHERE TABLE_TYPE = \"BASE TABLE\" \\\n",
    "                AND TABLE_SCHEMA = \"{db}\"' \\\n",
    "                .format(db=self.db_name)\n",
    "        \n",
    "        tables_raw = self.download(qry)\n",
    "\n",
    "        tables = MigrationUtils.detuple(tables_raw)\n",
    "        \n",
    "        return tables\n",
    "    \n",
    "    def download(self, qry):\n",
    "        \n",
    "        self.c.execute(qry)\n",
    "        data_raw = self.c.fetchall()\n",
    "            \n",
    "        return data_raw\n",
    "    \n",
    "class MigrationUtils():\n",
    "    \n",
    "    @staticmethod    \n",
    "    def detuple(qry_result, fun=lambda x: x):\n",
    "        return tuple(fun(e[0]) for e in qry_result)\n",
    "    \n",
    "    @staticmethod\n",
    "    def todict(s):\n",
    "        dic = {}\n",
    "        for i, *elements in s:\n",
    "            e = dic.setdefault(i, [])\n",
    "            e.append(tuple(elements))\n",
    "        return dic"
   ]
  }
 ],
 "metadata": {
  "kernelspec": {
   "display_name": "Python 3",
   "language": "python",
   "name": "python3"
  },
  "language_info": {
   "codemirror_mode": {
    "name": "ipython",
    "version": 3
   },
   "file_extension": ".py",
   "mimetype": "text/x-python",
   "name": "python",
   "nbconvert_exporter": "python",
   "pygments_lexer": "ipython3",
   "version": "3.7.5"
  }
 },
 "nbformat": 4,
 "nbformat_minor": 4
}
