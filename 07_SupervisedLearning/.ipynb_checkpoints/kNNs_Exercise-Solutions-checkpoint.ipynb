{
 "cells": [
  {
   "cell_type": "markdown",
   "metadata": {},
   "source": [
    "# Ejercicio con kNNs\n",
    "Primero, importamos todos los módulos necesarios"
   ]
  },
  {
   "cell_type": "code",
   "execution_count": null,
   "metadata": {},
   "outputs": [],
   "source": [
    "import pandas as pd\n",
    "import numpy as np\n",
    "\n",
    "from sklearn.model_selection import train_test_split\n",
    "# Usamos el preprocesador StandardScaler para no tener sesgos en los datos\n",
    "# de entrada\n",
    "from sklearn.preprocessing import StandardScaler\n",
    "from sklearn.neighbors import KNeighborsClassifier\n",
    "# Importamos herramientas para probar el modelo. F1 es la media\n",
    "# armónica de precision y recall\n",
    "from sklearn.metrics import confusion_matrix\n",
    "from sklearn.metrics import f1_score\n",
    "from sklearn.metrics import recall_score\n",
    "from sklearn.metrics import accuracy_score"
   ]
  },
  {
   "cell_type": "markdown",
   "metadata": {},
   "source": [
    "Descargamos un dataset con información de Diabetes para nuestro ejercicio"
   ]
  },
  {
   "cell_type": "code",
   "execution_count": null,
   "metadata": {},
   "outputs": [],
   "source": [
    "!curl -o data/diabetes.csv https://raw.githubusercontent.com/plotly/datasets/master/diabetes.csv"
   ]
  },
  {
   "cell_type": "code",
   "execution_count": null,
   "metadata": {},
   "outputs": [],
   "source": [
    "dataset = pd.read_csv('data/diabetes.csv')\n",
    "# Veamos cuántas muestras tiene nuestro dataset\n",
    "print(len(dataset))\n",
    "# Miremos también qué pinta tiene el dataset desde el\n",
    "# punto de vista de características y etiquetas\n",
    "dataset.head()"
   ]
  },
  {
   "cell_type": "code",
   "execution_count": null,
   "metadata": {},
   "outputs": [],
   "source": [
    "# Sustituimos los ceros para características en las que en realidad\n",
    "# el valor 0 significa que en realidad no tenemos datos\n",
    "# Primero listamos las columnas en las que queremos aplicar la transformación\n",
    "zero_not_accepted=['Glucose','BloodPressure','SkinThickness','BMI','Insulin']\n",
    "# Ahora iteramos para cada una de estas columnas, para poner la media\n",
    "# \n",
    "for column in zero_not_accepted:\n",
    "    # Usamos Numpy NaN para marcar que el dato no existe, \"no data\"\n",
    "    # Según la documentación oficial de Numpy:\n",
    "    # \"NaNs can be used as a poor-man’s mask (if you don’t care what the original value was)\"\"\n",
    "    dataset[column] = dataset[column].replace(0,np.NaN)\n",
    "    # Ahora, calculamos la media de cada columna seleccionada, \n",
    "    # ignorando la máscara NaN con la opción de Pandas skipna\n",
    "    mean = int(dataset[column].mean(skipna=True))\n",
    "\n",
    "    dataset[column]=dataset[column].replace(np.NaN,mean)"
   ]
  },
  {
   "cell_type": "code",
   "execution_count": null,
   "metadata": {},
   "outputs": [],
   "source": [
    "# Echamos un vistazo al dataset y vemos que ahora no tenemos ningún valor distinto de cero\n",
    "print(dataset['Glucose'])"
   ]
  },
  {
   "cell_type": "markdown",
   "metadata": {},
   "source": [
    "Antes de seguir, partimos el dataset en training y test."
   ]
  },
  {
   "cell_type": "code",
   "execution_count": null,
   "metadata": {},
   "outputs": [],
   "source": [
    "# Miramos el i location del pandas dataset en todas las filas, y cogemos\n",
    "# de la columna 0 a la 8. Recordemos que la columna nueve (índice 8) es la que tiene\n",
    "# nuestras etiquetas, y también que Python cuenta desde cero y que los slices de listas\n",
    "# no incluyen la última columna.\n",
    "X = dataset.iloc[:,0:8]\n",
    "y = dataset.iloc[:,8]\n",
    "# Seleccionamos un 20% del dataset original como datos de test\n",
    "X_train, X_test, y_train, y_test = train_test_split(X,y,random_state=0,test_size=0.2)"
   ]
  },
  {
   "cell_type": "code",
   "execution_count": null,
   "metadata": {},
   "outputs": [],
   "source": [
    "# Ahora escalamos los datos, de manera que todos los rangos van desde -1 hasta 1.\n",
    "sc_X = StandardScaler()\n",
    "# Hacemos training y transformación conjunta sobre el training set\n",
    "X_train = sc_X.fit_transform(X_train)\n",
    "# Tenemos que asegurarnos de que el testing set también está transformado\n",
    "X_test = sc_X.transform(X_test)"
   ]
  },
  {
   "cell_type": "code",
   "execution_count": null,
   "metadata": {},
   "outputs": [],
   "source": [
    "# Estimamos el número de vecinos que tenemos que utilizar\n",
    "import math \n",
    "math.sqrt(len(y_test))"
   ]
  },
  {
   "cell_type": "code",
   "execution_count": null,
   "metadata": {},
   "outputs": [],
   "source": [
    "# Definimos el modelo, inicializando kNN con los datos seleccionados\n",
    "cls = KNeighborsClassifier(n_neighbors=11, p=2, metric='euclidean')\n",
    "# Entrenamos el modelo\n",
    "cls.fit(X_train,y_train)"
   ]
  },
  {
   "cell_type": "markdown",
   "metadata": {},
   "source": [
    "Finalmente, evaluamos el modelo:    "
   ]
  },
  {
   "cell_type": "code",
   "execution_count": null,
   "metadata": {},
   "outputs": [],
   "source": [
    "# Predict the test set results\n",
    "y_pred = cls.predict(X_test)\n",
    "y_pred"
   ]
  },
  {
   "cell_type": "markdown",
   "metadata": {},
   "source": [
    "Para la matriz de confusión, valores reales va en las filas, valores predichos en las columnas. Lo importante es la diagonal, "
   ]
  },
  {
   "cell_type": "code",
   "execution_count": null,
   "metadata": {},
   "outputs": [],
   "source": [
    "cm = confusion_matrix(y_test, y_pred)\n",
    "print(cm)"
   ]
  },
  {
   "cell_type": "markdown",
   "metadata": {},
   "source": [
    "De nuevo, f1_score se define como la media armónica de precision y recall, esto es, $\\mathrm{F_1} = 2\\frac{\\mathrm{precision}\\cdot\\mathrm{recall}}{\\mathrm{precision}+\\mathrm{recall}}$"
   ]
  },
  {
   "cell_type": "code",
   "execution_count": null,
   "metadata": {},
   "outputs": [],
   "source": [
    "print(accuracy_score(y_test, y_pred))"
   ]
  },
  {
   "cell_type": "code",
   "execution_count": null,
   "metadata": {},
   "outputs": [],
   "source": [
    "print(f1_score(y_test, y_pred))"
   ]
  },
  {
   "cell_type": "markdown",
   "metadata": {},
   "source": [
    "Ya que estamos trabajando con un modelo médico, lo mejor que podemos hacer es mostrar también el recall o sensitivity del modelo:"
   ]
  },
  {
   "cell_type": "code",
   "execution_count": null,
   "metadata": {},
   "outputs": [],
   "source": [
    "print(recall_score(y_test, y_pred))"
   ]
  },
  {
   "cell_type": "markdown",
   "metadata": {},
   "source": []
  }
 ],
 "metadata": {
  "file_extension": ".py",
  "kernelspec": {
   "display_name": "ks-sl",
   "language": "python",
   "name": "ks-sl"
  },
  "language_info": {
   "codemirror_mode": {
    "name": "ipython",
    "version": 3
   },
   "file_extension": ".py",
   "mimetype": "text/x-python",
   "name": "python",
   "nbconvert_exporter": "python",
   "pygments_lexer": "ipython3",
   "version": "3.7.6"
  },
  "mimetype": "text/x-python",
  "name": "python",
  "npconvert_exporter": "python",
  "pygments_lexer": "ipython3",
  "version": 3
 },
 "nbformat": 4,
 "nbformat_minor": 2
}
