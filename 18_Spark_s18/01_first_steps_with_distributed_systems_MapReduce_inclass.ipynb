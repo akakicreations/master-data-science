{
 "cells": [
  {
   "cell_type": "markdown",
   "metadata": {
    "colab_type": "text",
    "id": "Gdgdo1nkuIKm"
   },
   "source": [
    "# First steps in PySpark \n",
    "\n",
    "In this notebook we will learn the fundamentals of functional programming, as well as the basic abstraction of a distributed object in Spark, the RDD. The notebook has been divided into two parts:\n",
    "\n",
    "Part 1: map/reduce basics\n",
    "\n",
    "Part 2: Work with RDD and Pair RDD abstractions \n",
    "\n",
    "<a href = \"http://yogen.io\"><img src=\"http://yogen.io/assets/logo.svg\" alt=\"yogen\" style=\"width: 200px; float: right;\"/></a>"
   ]
  },
  {
   "cell_type": "markdown",
   "metadata": {
    "colab_type": "text",
    "id": "tIJjElKTuIKo"
   },
   "source": [
    " \n"
   ]
  },
  {
   "cell_type": "markdown",
   "metadata": {
    "colab_type": "text",
    "id": "qI4i7OSZuIKs"
   },
   "source": [
    "# Part 1: map/reduce basics\n",
    "\n",
    "![Hadoop Logo](https://upload.wikimedia.org/wikipedia/commons/thumb/0/0e/Hadoop_logo.svg/220px-Hadoop_logo.svg.png)\n",
    "# **Apache Hadoop (MapReduce)**\n",
    "\n",
    "It is an open source software framework written in Java for distributed storage and distributed processing of very large data sets on computer clusters built from commodity hardware. All the modules in Hadoop are designed with a fundamental assumption that hardware failures (of individual machines, or racks of machines) are common and thus should be automatically handled in software by the framework.\n",
    "\n",
    "The core of Apache Hadoop consists of a storage part (Hadoop Distributed File System (HDFS)) and a processing part (MapReduce). Hadoop splits files into large blocks and distributes them amongst the nodes in the cluster. To process the data, Hadoop MapReduce transfers packaged code for nodes to process in parallel, based on the data each node needs to process. This approach takes advantage of data locality — nodes manipulating the data that they have on hand — to allow the data to be processed faster and more efficiently than it would be in a more conventional supercomputer architecture that relies on a parallel file system where computation and data are connected via high-speed networking.\n",
    "\n",
    "![Map/shuffle/reduce](https://image.slidesharecdn.com/datasciencewebinar061312-120618165932-phpapp02/95/how-salesforcecom-uses-hadoop-41-728.jpg?cb=1340920667)\n",
    "\n",
    "Since data and computation are distributed, we should avoid the use of variables, i.e. mutable data. Thus, in contrast to impertaive programming, we shall use the functional approach (lambda calculus)."
   ]
  },
  {
   "cell_type": "markdown",
   "metadata": {
    "colab_type": "text",
    "id": "4ETT5nRduIKw"
   },
   "source": [
    "### The goal of the following excercises is to understand basic lambda calculus with python."
   ]
  },
  {
   "cell_type": "markdown",
   "metadata": {
    "colab_type": "text",
    "id": "6pVUoA8auIK0"
   },
   "source": [
    "### (1a) Functional programming in Python\n",
    "\n",
    "So, what is Functional Programming? From Wikipedia: \n",
    "\n",
    "« …a  programing paradigm that treats computation as the evaluation of mathematical functions and **avoids changing-state and mutable  data**.»\n",
    "\n",
    "It´s based upon Lambda calculus, wich consist of:\n",
    " * Function definition (declaration of expressions)\n",
    " * Function application (evaluation of those expressions)\n",
    " * Recursion (iteration)\n",
    "\n",
    "We have already used this in python!!! :)\n",
    "\n",
    "Recall the typical \"lambda x: x+1\" we have been using as the first argument of map, reduce and filter methods:\n",
    " * **map** maps each value in the input collection to a different value. It´s just the classical mathematical funciton we are used to!\n",
    " * **reduce** takes two values from the input collection and returns a new value (of the same type) by appliying a commutative operation to them. \n",
    " * **filter** filters the elements in the input collection according to a certain (boolean) criteria.\n",
    " "
   ]
  },
  {
   "cell_type": "markdown",
   "metadata": {
    "colab_type": "text",
    "id": "Puct3lEfuIK3"
   },
   "source": [
    "**Mapping**\n",
    "\n",
    "`map` is a Higher Order Function (HOF) that takes a function f and a sequence and returns a new sequence formed by applying f to each element in the original sequence. \n",
    "\n",
    "![map](https://cosminpupaza.files.wordpress.com/2015/10/map.png?w=505)"
   ]
  },
  {
   "cell_type": "markdown",
   "metadata": {
    "colab_type": "text",
    "id": "ndQMj4WcuIK6"
   },
   "source": [
    "Very often we write lambdas, anonymous functions, to use in defining simple transformations with `map`:\n"
   ]
  },
  {
   "cell_type": "code",
   "execution_count": null,
   "metadata": {
    "colab": {
     "base_uri": "https://localhost:8080/",
     "height": 34
    },
    "colab_type": "code",
    "id": "7EEFATamuIK_",
    "outputId": "c3ff7bcc-628b-4f68-a014-8bf9ff39e2c3"
   },
   "outputs": [
    {
     "data": {
      "text/plain": [
       "[1764, 289, 2809, 1]"
      ]
     },
     "execution_count": 5,
     "metadata": {
      "tags": []
     },
     "output_type": "execute_result"
    }
   ],
   "source": [
    "input_list = [42, 17, 53, 1]\n",
    "\n",
    "list(map(lambda n: n ** 2, input_list)) #este lambda es una función, que es un iterable."
   ]
  },
  {
   "cell_type": "markdown",
   "metadata": {
    "colab_type": "text",
    "id": "MWH9MA1euILX"
   },
   "source": [
    "We can also use named functions, of course. Note that we pass them as arguments to `map`, not execute them. You can think of them as tools we give to `map` for it to use."
   ]
  },
  {
   "cell_type": "code",
   "execution_count": null,
   "metadata": {
    "colab": {
     "base_uri": "https://localhost:8080/",
     "height": 34
    },
    "colab_type": "code",
    "id": "bmPh_Nv0uILZ",
    "outputId": "651cef73-df76-498f-e372-11fdbf0097c6"
   },
   "outputs": [
    {
     "data": {
      "text/plain": [
       "[1764, 289, 2809, 1]"
      ]
     },
     "execution_count": 9,
     "metadata": {
      "tags": []
     },
     "output_type": "execute_result"
    }
   ],
   "source": [
    "def square(n):\n",
    "  return n ** 2\n",
    "\n",
    "list(map(square, input_list)) # Así hacemos que pase por toda la lista y aplique la función y hay que poner \"list\" para ver la lista resultado."
   ]
  },
  {
   "cell_type": "code",
   "execution_count": null,
   "metadata": {
    "colab": {},
    "colab_type": "code",
    "id": "DS1lpigZzqd4"
   },
   "outputs": [],
   "source": [
    "sq = lambda n: n ** 2"
   ]
  },
  {
   "cell_type": "markdown",
   "metadata": {
    "colab_type": "text",
    "id": "9K531GxOuILn"
   },
   "source": [
    "Consider the following very common pattern: create empty list, append transformed elements one by one:"
   ]
  },
  {
   "cell_type": "code",
   "execution_count": null,
   "metadata": {
    "colab": {
     "base_uri": "https://localhost:8080/",
     "height": 34
    },
    "colab_type": "code",
    "id": "PIVteeoouILr",
    "outputId": "c1e6acb3-061d-4b96-ac75-e5bfec71a112"
   },
   "outputs": [
    {
     "data": {
      "text/plain": [
       "['willows', 'elms']"
      ]
     },
     "execution_count": 15,
     "metadata": {
      "tags": []
     },
     "output_type": "execute_result"
    }
   ],
   "source": [
    "#Esto es una función map hecha con código.\n",
    "\n",
    "input_list = ['willow', 'elm']\n",
    "result = []\n",
    "\n",
    "for element in input_list:\n",
    "  result.append(element + 's')\n",
    "\n",
    "result"
   ]
  },
  {
   "cell_type": "markdown",
   "metadata": {
    "colab_type": "text",
    "id": "ESNfzDNzuIL6"
   },
   "source": [
    "We can abstract over every possible list by defining a function that takes the list as an argument:"
   ]
  },
  {
   "cell_type": "code",
   "execution_count": null,
   "metadata": {
    "colab": {
     "base_uri": "https://localhost:8080/",
     "height": 34
    },
    "colab_type": "code",
    "id": "Dzbi_9YxuIL-",
    "outputId": "043b23ea-1abd-470d-c53b-0f7fc4b0e63f"
   },
   "outputs": [
    {
     "data": {
      "text/plain": [
       "['willows', 'elms']"
      ]
     },
     "execution_count": 17,
     "metadata": {
      "tags": []
     },
     "output_type": "execute_result"
    }
   ],
   "source": [
    "#Ahora creamos una función de lo anterior\n",
    "def pluralize(input_list):\n",
    "  result = []\n",
    "\n",
    "  for element in input_list:\n",
    "    result.append(element + 's')\n",
    "\n",
    "  return result\n",
    "\n",
    "pluralize(input_list)"
   ]
  },
  {
   "cell_type": "code",
   "execution_count": null,
   "metadata": {
    "colab": {
     "base_uri": "https://localhost:8080/",
     "height": 34
    },
    "colab_type": "code",
    "id": "eZIn8YKI1utm",
    "outputId": "75131cdb-9d6f-472a-cb28-718133cd7a21"
   },
   "outputs": [
    {
     "data": {
      "text/plain": [
       "['ifs', 'buts', 'ors']"
      ]
     },
     "execution_count": 18,
     "metadata": {
      "tags": []
     },
     "output_type": "execute_result"
    }
   ],
   "source": [
    "pluralize(['if', 'but', 'or'])"
   ]
  },
  {
   "cell_type": "markdown",
   "metadata": {
    "colab_type": "text",
    "id": "lNT9nV-vuIMM"
   },
   "source": [
    "Consider this other piece of code: we are doing a very similar thing, but with a different function. A lot of the code is common between the two little programs.\n",
    "\n",
    "Wouldn't it be convenient if we could abstract over every function, as we did over every list?"
   ]
  },
  {
   "cell_type": "code",
   "execution_count": null,
   "metadata": {
    "colab": {
     "base_uri": "https://localhost:8080/",
     "height": 34
    },
    "colab_type": "code",
    "id": "XUKsHGZTuIMP",
    "outputId": "727b3431-d2a7-425c-c488-4d8673916981"
   },
   "outputs": [
    {
     "data": {
      "text/plain": [
       "['w', 'e']"
      ]
     },
     "execution_count": 20,
     "metadata": {
      "tags": []
     },
     "output_type": "execute_result"
    }
   ],
   "source": [
    "def initials(input_list):\n",
    "  result = []\n",
    "\n",
    "  for element in input_list:\n",
    "    result.append(element[0])\n",
    "\n",
    "  return result\n",
    "\n",
    "initials(input_list)"
   ]
  },
  {
   "cell_type": "markdown",
   "metadata": {
    "colab_type": "text",
    "id": "QXqXETNauIMh"
   },
   "source": [
    "We can, taking the function to be applied as an argument. This is because Python treats functions as first-class objects, so they can be used as arguments to other functions."
   ]
  },
  {
   "cell_type": "code",
   "execution_count": null,
   "metadata": {
    "colab": {
     "base_uri": "https://localhost:8080/",
     "height": 34
    },
    "colab_type": "code",
    "id": "6tRkxm1-uIMl",
    "outputId": "46938894-bf07-4964-b84c-94b843b67f77"
   },
   "outputs": [
    {
     "data": {
      "text/plain": [
       "['w', 'e']"
      ]
     },
     "execution_count": 22,
     "metadata": {
      "tags": []
     },
     "output_type": "execute_result"
    }
   ],
   "source": [
    "def process_list(func, input_list):\n",
    "  result = []\n",
    "\n",
    "  for element in input_list:\n",
    "    result.append(func(element))\n",
    "\n",
    "  return result\n",
    "\n",
    "def ingconita(element): return element[0]\n",
    "\n",
    "process_list(lambda element: element[0], input_list)"
   ]
  },
  {
   "cell_type": "code",
   "execution_count": null,
   "metadata": {
    "colab": {
     "base_uri": "https://localhost:8080/",
     "height": 34
    },
    "colab_type": "code",
    "id": "QNvPMSIS356b",
    "outputId": "4a189941-7623-4477-9b5d-d31c4edc8a77"
   },
   "outputs": [
    {
     "data": {
      "text/plain": [
       "['willows', 'elms']"
      ]
     },
     "execution_count": 23,
     "metadata": {
      "tags": []
     },
     "output_type": "execute_result"
    }
   ],
   "source": [
    "process_list(lambda element: element + 's', input_list)"
   ]
  },
  {
   "cell_type": "code",
   "execution_count": null,
   "metadata": {
    "colab": {
     "base_uri": "https://localhost:8080/",
     "height": 34
    },
    "colab_type": "code",
    "id": "Ovc0_Q563-9V",
    "outputId": "2940ffc8-b1c8-433e-ebbe-eeac357b30c4"
   },
   "outputs": [
    {
     "data": {
      "text/plain": [
       "[6, 3]"
      ]
     },
     "execution_count": 24,
     "metadata": {
      "tags": []
     },
     "output_type": "execute_result"
    }
   ],
   "source": [
    "process_list(lambda element: len(element), input_list)"
   ]
  },
  {
   "cell_type": "markdown",
   "metadata": {
    "colab_type": "text",
    "id": "3DEs6B6auIMy"
   },
   "source": [
    "That function we just wrote, `process_list`, is exactly what `map` is"
   ]
  },
  {
   "cell_type": "code",
   "execution_count": null,
   "metadata": {
    "colab": {
     "base_uri": "https://localhost:8080/",
     "height": 34
    },
    "colab_type": "code",
    "id": "tKnz6bknuIM0",
    "outputId": "9aac3f7a-c33e-48d1-9873-0e9b021f2110"
   },
   "outputs": [
    {
     "data": {
      "text/plain": [
       "[6, 3]"
      ]
     },
     "execution_count": 25,
     "metadata": {
      "tags": []
     },
     "output_type": "execute_result"
    }
   ],
   "source": [
    "list(map(lambda element: len(element), input_list))"
   ]
  },
  {
   "cell_type": "markdown",
   "metadata": {
    "colab_type": "text",
    "id": "veWxgAqvuINB"
   },
   "source": [
    "**Filtering**\n",
    "\n",
    "`filter` encodes another very common pattern: building a sequence from some of the elements of an input sequence, deciding whether to include each based on the result of evaluating a function, often called the `predicate`, on each of the elements.\n",
    "\n",
    "\n",
    "![filter](https://cosminpupaza.files.wordpress.com/2015/11/filter.png?w=405)"
   ]
  },
  {
   "cell_type": "code",
   "execution_count": null,
   "metadata": {
    "colab": {
     "base_uri": "https://localhost:8080/",
     "height": 34
    },
    "colab_type": "code",
    "id": "wtMewZJO8dtR",
    "outputId": "eb1fb4ac-4a36-409d-d806-bbcdf4546f4a"
   },
   "outputs": [
    {
     "data": {
      "text/plain": [
       "<function __main__.<lambda>>"
      ]
     },
     "execution_count": 26,
     "metadata": {
      "tags": []
     },
     "output_type": "execute_result"
    }
   ],
   "source": [
    "lambda element: element + 's'"
   ]
  },
  {
   "cell_type": "code",
   "execution_count": null,
   "metadata": {
    "colab": {
     "base_uri": "https://localhost:8080/",
     "height": 34
    },
    "colab_type": "code",
    "id": "wmQVMt5KuIND",
    "outputId": "fd3c8350-dc3d-4aad-dad8-d291666f98f1"
   },
   "outputs": [
    {
     "data": {
      "text/plain": [
       "[12, 15]"
      ]
     },
     "execution_count": 28,
     "metadata": {
      "tags": []
     },
     "output_type": "execute_result"
    }
   ],
   "source": [
    "numbers = [12, 15, 78, 57, 95]\n",
    "\n",
    "list(filter(lambda n: n < 20, numbers))"
   ]
  },
  {
   "cell_type": "code",
   "execution_count": null,
   "metadata": {
    "colab": {
     "base_uri": "https://localhost:8080/",
     "height": 34
    },
    "colab_type": "code",
    "id": "LBtWA5Ty822r",
    "outputId": "5b1f42eb-122d-4a84-9a7f-86551687a86c"
   },
   "outputs": [
    {
     "data": {
      "text/plain": [
       "[True, True, False, False, False]"
      ]
     },
     "execution_count": 29,
     "metadata": {
      "tags": []
     },
     "output_type": "execute_result"
    }
   ],
   "source": [
    "list(map(lambda n: n < 20, numbers)) #lambda: de n (antes llamado element), mira a ver cuales son menores de 20"
   ]
  },
  {
   "cell_type": "markdown",
   "metadata": {
    "colab_type": "text",
    "id": "b8IdxukpuINQ"
   },
   "source": [
    "Again, we can use either lambdas or named functions."
   ]
  },
  {
   "cell_type": "code",
   "execution_count": null,
   "metadata": {
    "colab": {
     "base_uri": "https://localhost:8080/",
     "height": 34
    },
    "colab_type": "code",
    "id": "qvDsLouXuINR",
    "outputId": "b8c7a579-8bb8-4563-ef8b-2c37c6741e49"
   },
   "outputs": [
    {
     "data": {
      "text/plain": [
       "[12, 15]"
      ]
     },
     "execution_count": 31,
     "metadata": {
      "tags": []
     },
     "output_type": "execute_result"
    }
   ],
   "source": [
    "def under20(n):\n",
    "  if n < 20: \n",
    "    return True\n",
    "  else:\n",
    "    return False\n",
    "\n",
    "def under20(n):\n",
    "  return n < 20    \n",
    "\n",
    "\n",
    "list(filter(under20, numbers)) "
   ]
  },
  {
   "cell_type": "markdown",
   "metadata": {
    "colab_type": "text",
    "id": "EeUAX_QuuINc"
   },
   "source": [
    "#### Exercise\n",
    "\n",
    "write a filter to extract those words that have more than 3 letters from `collection_of_strings`"
   ]
  },
  {
   "cell_type": "code",
   "execution_count": null,
   "metadata": {
    "colab": {
     "base_uri": "https://localhost:8080/",
     "height": 34
    },
    "colab_type": "code",
    "id": "Wbct0k8buINe",
    "outputId": "11102c77-9902-4ff2-dd6c-831281cfae68"
   },
   "outputs": [
    {
     "data": {
      "text/plain": [
       "['holi', 'colegui', 'que', 'tal']"
      ]
     },
     "execution_count": 32,
     "metadata": {
      "tags": []
     },
     "output_type": "execute_result"
    }
   ],
   "source": [
    "collection_of_strings = ['holi', 'colegui', 'que', 'tal']\n",
    "collection_of_strings"
   ]
  },
  {
   "cell_type": "code",
   "execution_count": null,
   "metadata": {
    "colab": {
     "base_uri": "https://localhost:8080/",
     "height": 34
    },
    "colab_type": "code",
    "id": "HUjE5EgAAUTP",
    "outputId": "b5669b49-96e5-4e7a-8458-fa058b6b68cc"
   },
   "outputs": [
    {
     "data": {
      "text/plain": [
       "['holi', 'colegui']"
      ]
     },
     "execution_count": 36,
     "metadata": {
      "tags": []
     },
     "output_type": "execute_result"
    }
   ],
   "source": [
    "list(filter(lambda y: len(y) > 3, collection_of_strings)) # under20 es una función que es el criterio para el filter"
   ]
  },
  {
   "cell_type": "markdown",
   "metadata": {
    "colab_type": "text",
    "id": "ljjf6c1XuINl"
   },
   "source": [
    "\n",
    "#### Exercise\n",
    "\n",
    "\n",
    "Write a filter to extract prime numbers from the following list of integers:\n",
    "\n",
    "```python\n",
    "[12, 17, 19, 18, 23, 24]\n",
    "```\n",
    "\n",
    "You will need to write a function that determines whether a single number is a prime or not."
   ]
  },
  {
   "cell_type": "code",
   "execution_count": null,
   "metadata": {
    "colab": {
     "base_uri": "https://localhost:8080/",
     "height": 34
    },
    "colab_type": "code",
    "id": "ZtH6wpcLuINl",
    "outputId": "c10940c6-3a3d-4370-fe24-c14463295804"
   },
   "outputs": [
    {
     "data": {
      "text/plain": [
       "True"
      ]
     },
     "execution_count": 44,
     "metadata": {
      "tags": []
     },
     "output_type": "execute_result"
    }
   ],
   "source": [
    "integers = [12, 17, 19, 18, 23, 24]\n",
    "\n",
    "def isprime(n):\n",
    "  for candidate in range(2, n):\n",
    "    if n % candidate == 0:\n",
    "      return False\n",
    "  \n",
    "  return True\n",
    "\n",
    "isprime(17)"
   ]
  },
  {
   "cell_type": "code",
   "execution_count": null,
   "metadata": {
    "colab": {
     "base_uri": "https://localhost:8080/",
     "height": 34
    },
    "colab_type": "code",
    "id": "yoA9BYi7F3Sm",
    "outputId": "61cb847e-14c2-4f7d-8f90-206f3904ec34"
   },
   "outputs": [
    {
     "data": {
      "text/plain": [
       "[17, 19, 23]"
      ]
     },
     "execution_count": 45,
     "metadata": {
      "tags": []
     },
     "output_type": "execute_result"
    }
   ],
   "source": [
    "list(filter(isprime, integers))"
   ]
  },
  {
   "cell_type": "markdown",
   "metadata": {
    "colab_type": "text",
    "id": "bGKbuh4VuINr"
   },
   "source": [
    "`map` and `filter` are not  used explicitly very often in Python, in part because of their cumbersome syntax. \n",
    "\n",
    "Nevertheless, there is a well-known feature in Python that is in fact just a convenient way to write `map`s and `filter`s: **list comprehensions**:"
   ]
  },
  {
   "cell_type": "code",
   "execution_count": null,
   "metadata": {
    "colab": {
     "base_uri": "https://localhost:8080/",
     "height": 34
    },
    "colab_type": "code",
    "id": "hfndJZzGuINu",
    "outputId": "b72a1c23-2910-4167-dd2e-31e8f87105cb"
   },
   "outputs": [
    {
     "data": {
      "text/plain": [
       "[289, 361, 529]"
      ]
     },
     "execution_count": 53,
     "metadata": {
      "tags": []
     },
     "output_type": "execute_result"
    }
   ],
   "source": [
    "[n ** 2 for n in integers if isprime(n)] "
   ]
  },
  {
   "cell_type": "markdown",
   "metadata": {
    "colab_type": "text",
    "id": "A-GMWgHkuIN1"
   },
   "source": [
    "The above list comprehension is exactly equivalent to:"
   ]
  },
  {
   "cell_type": "code",
   "execution_count": null,
   "metadata": {
    "colab": {
     "base_uri": "https://localhost:8080/",
     "height": 34
    },
    "colab_type": "code",
    "id": "IYVDbLPOuIN2",
    "outputId": "19ddaba9-d2d0-4c87-e3ff-cc85cb1df7ef"
   },
   "outputs": [
    {
     "data": {
      "text/plain": [
       "[289, 361, 529]"
      ]
     },
     "execution_count": 54,
     "metadata": {
      "tags": []
     },
     "output_type": "execute_result"
    }
   ],
   "source": [
    "list(map(lambda n: n ** 2, filter(isprime, integers)))  # Hace multiplicación solo de los números primos"
   ]
  },
  {
   "cell_type": "markdown",
   "metadata": {
    "colab_type": "text",
    "id": "7e42si2cuIN8"
   },
   "source": [
    "Which is a pipeline of two steps: first a `filter`, then a `map`"
   ]
  },
  {
   "cell_type": "markdown",
   "metadata": {
    "colab_type": "text",
    "id": "D4ANlNQPuIN-"
   },
   "source": [
    "**Reducing** \n",
    "\n",
    "`reduce` is the third basic foundation of functional programming. Reduce uses a function, often called the `combiner`, to transform a sequence of elements of type T (that is, any type) into a single T. The combiner must take 2 Ts and return only one T.\n",
    "\n",
    "\n",
    "Recall it must be commutative! Think about the importance of this when parallelizing computations\n",
    "\n",
    "![reduce](https://cosminpupaza.files.wordpress.com/2015/11/reduce.png?w=500)"
   ]
  },
  {
   "cell_type": "code",
   "execution_count": null,
   "metadata": {
    "colab": {
     "base_uri": "https://localhost:8080/",
     "height": 34
    },
    "colab_type": "code",
    "id": "lWs5AffWuIOA",
    "outputId": "f0e32eef-34ae-4ed8-a61b-63283683681c"
   },
   "outputs": [
    {
     "data": {
      "text/plain": [
       "113"
      ]
     },
     "execution_count": 56,
     "metadata": {
      "tags": []
     },
     "output_type": "execute_result"
    }
   ],
   "source": [
    "from functools import reduce\n",
    "\n",
    "reduce(lambda x, y: x + y, integers) # Sumar un elemento con el anterior, y siempre coge dos argumentos, solo dos."
   ]
  },
  {
   "cell_type": "code",
   "execution_count": null,
   "metadata": {
    "colab": {
     "base_uri": "https://localhost:8080/",
     "height": 34
    },
    "colab_type": "code",
    "id": "kCqg3bGxMHiz",
    "outputId": "a2483fb5-3803-4509-e8ab-2bbc088bfeed"
   },
   "outputs": [
    {
     "data": {
      "text/plain": [
       "[12, 17, 19, 18, 23, 24]"
      ]
     },
     "execution_count": 59,
     "metadata": {
      "tags": []
     },
     "output_type": "execute_result"
    }
   ],
   "source": [
    "integers"
   ]
  },
  {
   "cell_type": "code",
   "execution_count": null,
   "metadata": {
    "colab": {
     "base_uri": "https://localhost:8080/",
     "height": 118
    },
    "colab_type": "code",
    "id": "B1RQuIRpKvUs",
    "outputId": "17b2fa09-e143-4752-ee13-0df59aa7c004"
   },
   "outputs": [
    {
     "name": "stdout",
     "output_type": "stream",
     "text": [
      "Adding 12 and 17\n",
      "Adding 29 and 19\n",
      "Adding 48 and 18\n",
      "Adding 66 and 23\n",
      "Adding 89 and 24\n"
     ]
    },
    {
     "data": {
      "text/plain": [
       "113"
      ]
     },
     "execution_count": 60,
     "metadata": {
      "tags": []
     },
     "output_type": "execute_result"
    }
   ],
   "source": [
    "def noisy_add(x, y):\n",
    "  print(f'Adding {x} and {y}')\n",
    "  return x + y  \n",
    "\n",
    "reduce(noisy_add, integers)"
   ]
  },
  {
   "cell_type": "markdown",
   "metadata": {
    "colab_type": "text",
    "id": "idzsOg6KuIOH"
   },
   "source": [
    "#### Exercise\n",
    "\n",
    "Write a function_x such that, when applied with `reduce`, that reduce returns the highest number in a list. Don't use the built-in `max`!"
   ]
  },
  {
   "cell_type": "code",
   "execution_count": null,
   "metadata": {
    "colab": {
     "base_uri": "https://localhost:8080/",
     "height": 34
    },
    "colab_type": "code",
    "id": "ApyrhPEpuIOI",
    "outputId": "4bcb1d68-e4ae-43ba-d410-1816271ee86d"
   },
   "outputs": [
    {
     "data": {
      "text/plain": [
       "67"
      ]
     },
     "execution_count": 65,
     "metadata": {
      "tags": []
     },
     "output_type": "execute_result"
    }
   ],
   "source": [
    "numbers = [5, 48, 12, 67, 15, 0, 7]\n",
    "\n",
    "\n",
    "def highest_number(x, y):\n",
    "\n",
    "  if x > y:\n",
    "    return x\n",
    "  else: \n",
    "    return y\n",
    "\n",
    "reduce(highest_number, numbers) # Paso dos argumentos sobre los que iterar con toda la lista"
   ]
  },
  {
   "cell_type": "markdown",
   "metadata": {
    "colab_type": "text",
    "id": "u2n4bMGluIOQ"
   },
   "source": [
    "## (1b) Exercise: Calculate the mean of a collection of real numbers using map/reduce\n",
    "Recall:\n",
    "\n",
    "$$\\bar x = \\frac{\\sum_{i=1}^{N} x_i}{N} $$\n",
    "\n",
    "It´s straightforward to do this with python built-in mehots sum() and len(). However, how would you do that with map/reduce? We have already shown how to sum the elements of an array. Thus, you have to calculate the length of the array. For this:\n",
    " * Create another array of the same size, consisting of 1s.\n",
    " * Sum the elements of that array"
   ]
  },
  {
   "cell_type": "markdown",
   "metadata": {
    "colab_type": "text",
    "id": "H9WA2gfsuIOR"
   },
   "source": [
    "#### First part\n",
    "\n",
    "* Do a reduce to do the sum, and a different map-reduce to get the length"
   ]
  },
  {
   "cell_type": "code",
   "execution_count": null,
   "metadata": {
    "colab": {},
    "colab_type": "code",
    "id": "il6TzxV4uIOT"
   },
   "outputs": [],
   "source": [
    "total = reduce(lambda x, y: x + y, integers)\n",
    "count = reduce(lambda x, y: x + y, map(lambda x: 1, integers))"
   ]
  },
  {
   "cell_type": "markdown",
   "metadata": {
    "colab_type": "text",
    "id": "EA_08vpxuIOe"
   },
   "source": [
    "That was also a pipeline of two steps. It's equivalent to:"
   ]
  },
  {
   "cell_type": "code",
   "execution_count": null,
   "metadata": {
    "colab": {
     "base_uri": "https://localhost:8080/",
     "height": 34
    },
    "colab_type": "code",
    "id": "6PJLNWdvRAr1",
    "outputId": "e51fe06d-00f9-4cb6-dfb9-3e5246df3c00"
   },
   "outputs": [
    {
     "data": {
      "text/plain": [
       "18.833333333333332"
      ]
     },
     "execution_count": 75,
     "metadata": {
      "tags": []
     },
     "output_type": "execute_result"
    }
   ],
   "source": [
    "total = reduce(lambda x, y: x + y, integers)\n",
    "ones = map(lambda x: 1, integers)\n",
    "count = reduce(lambda x, y: x + y, ones)\n",
    "\n",
    "mean = total / count\n",
    "mean\n",
    "\n",
    "# El problema de esto es que se procesan en serie, cuando nos interesa que los procesos se hagan en paralelo para ahorrar tiempo."
   ]
  },
  {
   "cell_type": "markdown",
   "metadata": {
    "colab_type": "text",
    "id": "GNK4zsUVuIOn"
   },
   "source": [
    "#### Combine them in one pass\n",
    "\n",
    "Think about what it would mean to finish one computation and only then do another in a distributed environment.\n",
    "\n",
    "Combine both in one pass:"
   ]
  },
  {
   "cell_type": "code",
   "execution_count": null,
   "metadata": {
    "colab": {
     "base_uri": "https://localhost:8080/",
     "height": 34
    },
    "colab_type": "code",
    "id": "lH8VJ36JuIOo",
    "outputId": "6aafb5f0-02a6-4c49-8eb0-19cbe94c3840"
   },
   "outputs": [
    {
     "data": {
      "text/plain": [
       "[(12, 1), (17, 1), (19, 1), (18, 1), (23, 1), (24, 1)]"
      ]
     },
     "execution_count": 78,
     "metadata": {
      "tags": []
     },
     "output_type": "execute_result"
    }
   ],
   "source": [
    "first_step = list(map(lambda n: (n, 1), integers)) #Esto convierte tuplas los números\n",
    "first_step"
   ]
  },
  {
   "cell_type": "code",
   "execution_count": null,
   "metadata": {
    "colab": {
     "base_uri": "https://localhost:8080/",
     "height": 34
    },
    "colab_type": "code",
    "id": "4JwgZo2tTvwA",
    "outputId": "1f74ca5c-9516-4aa0-8d7a-9c3c48d4ee33"
   },
   "outputs": [
    {
     "data": {
      "text/plain": [
       "(113, 6)"
      ]
     },
     "execution_count": 80,
     "metadata": {
      "tags": []
     },
     "output_type": "execute_result"
    }
   ],
   "source": [
    "final_step = reduce(lambda tup1, tup2: (tup1[0] + tup2[0], tup1[1] + tup2[1]), first_step)\n",
    "final_step\n"
   ]
  },
  {
   "cell_type": "markdown",
   "metadata": {
    "colab_type": "text",
    "id": "H24jDSH0uIOu"
   },
   "source": [
    "## (1c) Exercise: Calculate the standard deviation of a collection of real numbers\n",
    "\n",
    "We'll use the typical definition of the standard deviation:\n",
    "\n",
    "$$\\sigma_x^2 = \\frac{\\sum_{i=1}^{N} (x_i-\\bar x)^2}{N}$$\n",
    "\n",
    "For this, use the *mean* and *count* variables from the previous excercise."
   ]
  },
  {
   "cell_type": "code",
   "execution_count": null,
   "metadata": {
    "colab": {
     "base_uri": "https://localhost:8080/",
     "height": 34
    },
    "colab_type": "code",
    "id": "4zBVOx6DuIOx",
    "outputId": "0c950113-9649-4514-a07d-ecb667d82110"
   },
   "outputs": [
    {
     "data": {
      "text/plain": [
       "(18.833333333333332, 6)"
      ]
     },
     "execution_count": 82,
     "metadata": {
      "tags": []
     },
     "output_type": "execute_result"
    }
   ],
   "source": [
    "mean, count"
   ]
  },
  {
   "cell_type": "markdown",
   "metadata": {
    "colab_type": "text",
    "id": "atety783uIO4"
   },
   "source": [
    "In standard idiomatic Python we'd do it like this:"
   ]
  },
  {
   "cell_type": "code",
   "execution_count": null,
   "metadata": {
    "colab": {
     "base_uri": "https://localhost:8080/",
     "height": 34
    },
    "colab_type": "code",
    "id": "lMuLF1cHuIO6",
    "outputId": "43711338-e557-4859-c696-9f0f18de9bc9"
   },
   "outputs": [
    {
     "data": {
      "text/plain": [
       "15.805555555555557"
      ]
     },
     "execution_count": 84,
     "metadata": {
      "tags": []
     },
     "output_type": "execute_result"
    }
   ],
   "source": [
    "sq_diffs = 0\n",
    "\n",
    "for number in integers:\n",
    "  sq_diffs += (number - mean) ** 2\n",
    "\n",
    "sq_diffs / count"
   ]
  },
  {
   "cell_type": "markdown",
   "metadata": {
    "colab_type": "text",
    "id": "ETHSVu2RuIPG"
   },
   "source": [
    "With `map` and `reduce`:"
   ]
  },
  {
   "cell_type": "code",
   "execution_count": null,
   "metadata": {
    "colab": {
     "base_uri": "https://localhost:8080/",
     "height": 34
    },
    "colab_type": "code",
    "id": "2nhW776HuIPI",
    "outputId": "40df5315-5c31-4413-c04e-9af232c608d4"
   },
   "outputs": [
    {
     "data": {
      "text/plain": [
       "15.805555555555557"
      ]
     },
     "execution_count": 86,
     "metadata": {
      "tags": []
     },
     "output_type": "execute_result"
    }
   ],
   "source": [
    "sq_diffs = reduce(lambda x, y: x + y, map(lambda n: (n - mean) ** 2, integers))\n",
    "sq_diffs / count"
   ]
  },
  {
   "cell_type": "markdown",
   "metadata": {
    "colab_type": "text",
    "id": "6ect8GdWuIPT"
   },
   "source": [
    "#### Calculate the standard deviation in one pass.\n",
    "\n",
    "Again, think about what it would mean to finish one computation and only then do another in a distributed environment.\n",
    "\n",
    "\n",
    "If we can, we should avoid broadcasting variables all over the cluster. In this case, the following alternative definition of standard deviation can come in handy:\n",
    "\n",
    "$$\\sigma_x^2 = \\frac{\\sum_{i=1}^{N} (x_i-\\bar x)^2}{N} =\n",
    "\\frac{\\sum_{i=1}^{N} (x_i^2+{\\bar x}^2-2x_i\\bar x)}{N} =\n",
    "\\frac{1}{N}\\left(\\sum_i x_i^2-N\\bar x^2\\right)$$\n",
    "\n"
   ]
  },
  {
   "cell_type": "code",
   "execution_count": null,
   "metadata": {
    "colab": {
     "base_uri": "https://localhost:8080/",
     "height": 118
    },
    "colab_type": "code",
    "id": "5LBd5a-vuIPU",
    "outputId": "7928e157-25e1-458b-9edf-3d692405165b"
   },
   "outputs": [
    {
     "data": {
      "text/plain": [
       "[(144, 12, 1),\n",
       " (289, 17, 1),\n",
       " (361, 19, 1),\n",
       " (324, 18, 1),\n",
       " (529, 23, 1),\n",
       " (576, 24, 1)]"
      ]
     },
     "execution_count": 90,
     "metadata": {
      "tags": []
     },
     "output_type": "execute_result"
    }
   ],
   "source": [
    "integers\n",
    "\n",
    "list(map(lambda n: (n**2, n, 1), integers))"
   ]
  },
  {
   "cell_type": "code",
   "execution_count": null,
   "metadata": {
    "colab": {},
    "colab_type": "code",
    "id": "_0EaEMmfcrXR"
   },
   "outputs": [],
   "source": [
    "def tuple_combiner(left, right):\n",
    "\n",
    "  return (left[0] + right[0], left[1] + right[1], left[2] + right[2])\n",
    "          \n",
    "\n",
    "tuples = list(map(lambda n: (n**2, n, 1), integers))  \n",
    "result = reduce(tuple_combiner, tuples)\n",
    "sum_sq, total, count = result"
   ]
  },
  {
   "cell_type": "code",
   "execution_count": null,
   "metadata": {
    "colab": {
     "base_uri": "https://localhost:8080/",
     "height": 34
    },
    "colab_type": "code",
    "id": "iPb-dCODde3b",
    "outputId": "e2cd4d6c-d142-4297-fd67-2bdd0aa27bd2"
   },
   "outputs": [
    {
     "data": {
      "text/plain": [
       "15.80555555555558"
      ]
     },
     "execution_count": 96,
     "metadata": {
      "tags": []
     },
     "output_type": "execute_result"
    }
   ],
   "source": [
    "mean = total / count\n",
    "var = (1 / count) * (sum_sq - count * mean ** 2)\n",
    "var"
   ]
  },
  {
   "cell_type": "markdown",
   "metadata": {
    "colab_type": "text",
    "id": "bBFOW90BuIPb"
   },
   "source": [
    "#### Side note\n",
    "\n",
    "In Python 2, map and filter returned lists. In Python 3, they return generators, which are lazy collections. They are somewhat similar to files in that they can be depleted of elements after iterating through them."
   ]
  },
  {
   "cell_type": "code",
   "execution_count": null,
   "metadata": {
    "colab": {},
    "colab_type": "code",
    "id": "plZzrvC-uIPc"
   },
   "outputs": [],
   "source": [
    "squares = map(lambda n: n ** 2, integers)"
   ]
  },
  {
   "cell_type": "code",
   "execution_count": null,
   "metadata": {
    "colab": {
     "base_uri": "https://localhost:8080/",
     "height": 34
    },
    "colab_type": "code",
    "id": "ns8wueHuelcz",
    "outputId": "5a1a58eb-c7b9-400d-fc50-11661d27df8c"
   },
   "outputs": [
    {
     "data": {
      "text/plain": [
       "[144, 289, 361, 324, 529, 576]"
      ]
     },
     "execution_count": 99,
     "metadata": {
      "tags": []
     },
     "output_type": "execute_result"
    }
   ],
   "source": [
    "list(squares)"
   ]
  },
  {
   "cell_type": "code",
   "execution_count": null,
   "metadata": {
    "colab": {
     "base_uri": "https://localhost:8080/",
     "height": 162
    },
    "colab_type": "code",
    "id": "kzVsQX2PeqHh",
    "outputId": "7f750458-597b-4583-8b58-c0a3a719c183"
   },
   "outputs": [
    {
     "ename": "TypeError",
     "evalue": "ignored",
     "output_type": "error",
     "traceback": [
      "\u001b[0;31m---------------------------------------------------------------------------\u001b[0m",
      "\u001b[0;31mTypeError\u001b[0m                                 Traceback (most recent call last)",
      "\u001b[0;32m<ipython-input-100-bf17bf918443>\u001b[0m in \u001b[0;36m<module>\u001b[0;34m()\u001b[0m\n\u001b[0;32m----> 1\u001b[0;31m \u001b[0mreduce\u001b[0m\u001b[0;34m(\u001b[0m\u001b[0;32mlambda\u001b[0m \u001b[0mx\u001b[0m\u001b[0;34m,\u001b[0m \u001b[0my\u001b[0m\u001b[0;34m:\u001b[0m \u001b[0mx\u001b[0m \u001b[0;34m+\u001b[0m \u001b[0my\u001b[0m\u001b[0;34m,\u001b[0m \u001b[0msquares\u001b[0m\u001b[0;34m)\u001b[0m\u001b[0;34m\u001b[0m\u001b[0;34m\u001b[0m\u001b[0m\n\u001b[0m",
      "\u001b[0;31mTypeError\u001b[0m: reduce() of empty sequence with no initial value"
     ]
    }
   ],
   "source": [
    "reduce(lambda x, y: x + y, squares) "
   ]
  },
  {
   "cell_type": "code",
   "execution_count": null,
   "metadata": {
    "colab": {
     "base_uri": "https://localhost:8080/",
     "height": 34
    },
    "colab_type": "code",
    "id": "jSGQ37sdezMs",
    "outputId": "66f43ec9-5d3a-458e-8d26-601f0f905f6a"
   },
   "outputs": [
    {
     "data": {
      "text/plain": [
       "[]"
      ]
     },
     "execution_count": 101,
     "metadata": {
      "tags": []
     },
     "output_type": "execute_result"
    }
   ],
   "source": [
    "list(squares) "
   ]
  },
  {
   "cell_type": "markdown",
   "metadata": {
    "colab_type": "text",
    "id": "-6375SVCuIPk"
   },
   "source": [
    "## (1d) Twe 'word-count' problem: creating histograms\n",
    "Given a set of keys in an input collection, calculate the frequency of each key. \n",
    "\n",
    "In order to understand better how map/reduce works, we will implement this simple calculation in several forms.\n",
    "\n",
    "We are going to use as test case a list of elements chosen from a small set:"
   ]
  },
  {
   "cell_type": "code",
   "execution_count": null,
   "metadata": {
    "colab": {
     "base_uri": "https://localhost:8080/",
     "height": 1000
    },
    "colab_type": "code",
    "id": "iaC4mvEWuIPl",
    "outputId": "4657286e-9309-44e4-e4a8-99768ea316d5"
   },
   "outputs": [
    {
     "data": {
      "text/plain": [
       "['salmorejo',\n",
       " 'paella',\n",
       " 'pulpo',\n",
       " 'paella',\n",
       " 'salmorejo',\n",
       " 'salmorejo',\n",
       " 'cocido',\n",
       " 'paella',\n",
       " 'pulpo',\n",
       " 'paella',\n",
       " 'paella',\n",
       " 'salmorejo',\n",
       " 'paella',\n",
       " 'paella',\n",
       " 'salmorejo',\n",
       " 'salmorejo',\n",
       " 'paella',\n",
       " 'salmorejo',\n",
       " 'cocido',\n",
       " 'paella',\n",
       " 'cocido',\n",
       " 'salmorejo',\n",
       " 'pulpo',\n",
       " 'paella',\n",
       " 'cocido',\n",
       " 'pulpo',\n",
       " 'paella',\n",
       " 'paella',\n",
       " 'cocido',\n",
       " 'salmorejo',\n",
       " 'cocido',\n",
       " 'salmorejo',\n",
       " 'salmorejo',\n",
       " 'cocido',\n",
       " 'pulpo',\n",
       " 'salmorejo',\n",
       " 'cocido',\n",
       " 'salmorejo',\n",
       " 'cocido',\n",
       " 'salmorejo',\n",
       " 'salmorejo',\n",
       " 'paella',\n",
       " 'paella',\n",
       " 'pulpo',\n",
       " 'paella',\n",
       " 'paella',\n",
       " 'paella',\n",
       " 'pulpo',\n",
       " 'salmorejo',\n",
       " 'pulpo',\n",
       " 'pulpo',\n",
       " 'paella',\n",
       " 'pulpo',\n",
       " 'cocido',\n",
       " 'salmorejo',\n",
       " 'salmorejo',\n",
       " 'paella',\n",
       " 'salmorejo',\n",
       " 'paella',\n",
       " 'pulpo',\n",
       " 'cocido',\n",
       " 'salmorejo',\n",
       " 'salmorejo',\n",
       " 'salmorejo',\n",
       " 'cocido',\n",
       " 'cocido',\n",
       " 'paella',\n",
       " 'paella',\n",
       " 'pulpo',\n",
       " 'pulpo',\n",
       " 'paella',\n",
       " 'cocido',\n",
       " 'cocido',\n",
       " 'pulpo',\n",
       " 'salmorejo',\n",
       " 'pulpo',\n",
       " 'cocido',\n",
       " 'pulpo',\n",
       " 'pulpo',\n",
       " 'paella',\n",
       " 'salmorejo',\n",
       " 'pulpo',\n",
       " 'salmorejo',\n",
       " 'cocido',\n",
       " 'pulpo',\n",
       " 'paella',\n",
       " 'cocido',\n",
       " 'salmorejo',\n",
       " 'paella',\n",
       " 'paella',\n",
       " 'paella',\n",
       " 'salmorejo',\n",
       " 'cocido',\n",
       " 'pulpo',\n",
       " 'paella',\n",
       " 'pulpo',\n",
       " 'cocido',\n",
       " 'salmorejo',\n",
       " 'cocido',\n",
       " 'cocido']"
      ]
     },
     "execution_count": 104,
     "metadata": {
      "tags": []
     },
     "output_type": "execute_result"
    }
   ],
   "source": [
    "import random\n",
    "\n",
    "random.seed(42)\n",
    "\n",
    "dishes = random.choices(['paella', 'pulpo', 'salmorejo', 'cocido'], k=100)\n",
    "dishes"
   ]
  },
  {
   "cell_type": "markdown",
   "metadata": {
    "colab_type": "text",
    "id": "RM26ED77uIPt"
   },
   "source": [
    "### (1d.1) Simple approach\n",
    "\n",
    " * Start with an empty dict\n",
    " * If a new key is not present in the dict, create it.\n",
    " * Otherwise, increase the frequency of the key by one."
   ]
  },
  {
   "cell_type": "code",
   "execution_count": null,
   "metadata": {
    "colab": {
     "base_uri": "https://localhost:8080/",
     "height": 34
    },
    "colab_type": "code",
    "id": "pBXNsV1JuIPv",
    "outputId": "0c88ac72-2af3-4bb7-ef1c-2c423d9ff4ff"
   },
   "outputs": [
    {
     "data": {
      "text/plain": [
       "{'cocido': 22, 'paella': 29, 'pulpo': 21, 'salmorejo': 28}"
      ]
     },
     "execution_count": 107,
     "metadata": {
      "tags": []
     },
     "output_type": "execute_result"
    }
   ],
   "source": [
    "result = {}\n",
    "\n",
    "for element in dishes:\n",
    "  if element not in result:\n",
    "    result[element] = 1\n",
    "  else:\n",
    "    result[element] += 1\n",
    "\n",
    "result\n",
    "\n",
    "# El problema de hacerlo así es que si tienes muchos datos, tarda mucho, no se puede"
   ]
  },
  {
   "cell_type": "markdown",
   "metadata": {
    "colab_type": "text",
    "id": "zoas_oAjuIP1"
   },
   "source": [
    "### (1d.2) Map/reduce\n",
    "\n",
    "* Recall that *reduce* applies an operation to 2 elements of the same type, and returns another element of that type. Thus, the first thing to do is to map our collection to the type of the output. \n",
    " \n",
    "* The final result will be a dictionary of words in the vocabulary and counts. Therefore, we need to map each input word to this type.\n",
    " \n",
    "* Then, we have to define a function, the combiner, that combines these dictionaries two at a time."
   ]
  },
  {
   "cell_type": "code",
   "execution_count": null,
   "metadata": {
    "colab": {
     "base_uri": "https://localhost:8080/",
     "height": 1000
    },
    "colab_type": "code",
    "id": "DzO0mycmuIP1",
    "outputId": "aba1e517-ad15-473c-b33f-11d436fc34d0"
   },
   "outputs": [
    {
     "data": {
      "text/plain": [
       "[{'salmorejo': 1},\n",
       " {'paella': 1},\n",
       " {'pulpo': 1},\n",
       " {'paella': 1},\n",
       " {'salmorejo': 1},\n",
       " {'salmorejo': 1},\n",
       " {'cocido': 1},\n",
       " {'paella': 1},\n",
       " {'pulpo': 1},\n",
       " {'paella': 1},\n",
       " {'paella': 1},\n",
       " {'salmorejo': 1},\n",
       " {'paella': 1},\n",
       " {'paella': 1},\n",
       " {'salmorejo': 1},\n",
       " {'salmorejo': 1},\n",
       " {'paella': 1},\n",
       " {'salmorejo': 1},\n",
       " {'cocido': 1},\n",
       " {'paella': 1},\n",
       " {'cocido': 1},\n",
       " {'salmorejo': 1},\n",
       " {'pulpo': 1},\n",
       " {'paella': 1},\n",
       " {'cocido': 1},\n",
       " {'pulpo': 1},\n",
       " {'paella': 1},\n",
       " {'paella': 1},\n",
       " {'cocido': 1},\n",
       " {'salmorejo': 1},\n",
       " {'cocido': 1},\n",
       " {'salmorejo': 1},\n",
       " {'salmorejo': 1},\n",
       " {'cocido': 1},\n",
       " {'pulpo': 1},\n",
       " {'salmorejo': 1},\n",
       " {'cocido': 1},\n",
       " {'salmorejo': 1},\n",
       " {'cocido': 1},\n",
       " {'salmorejo': 1},\n",
       " {'salmorejo': 1},\n",
       " {'paella': 1},\n",
       " {'paella': 1},\n",
       " {'pulpo': 1},\n",
       " {'paella': 1},\n",
       " {'paella': 1},\n",
       " {'paella': 1},\n",
       " {'pulpo': 1},\n",
       " {'salmorejo': 1},\n",
       " {'pulpo': 1},\n",
       " {'pulpo': 1},\n",
       " {'paella': 1},\n",
       " {'pulpo': 1},\n",
       " {'cocido': 1},\n",
       " {'salmorejo': 1},\n",
       " {'salmorejo': 1},\n",
       " {'paella': 1},\n",
       " {'salmorejo': 1},\n",
       " {'paella': 1},\n",
       " {'pulpo': 1},\n",
       " {'cocido': 1},\n",
       " {'salmorejo': 1},\n",
       " {'salmorejo': 1},\n",
       " {'salmorejo': 1},\n",
       " {'cocido': 1},\n",
       " {'cocido': 1},\n",
       " {'paella': 1},\n",
       " {'paella': 1},\n",
       " {'pulpo': 1},\n",
       " {'pulpo': 1},\n",
       " {'paella': 1},\n",
       " {'cocido': 1},\n",
       " {'cocido': 1},\n",
       " {'pulpo': 1},\n",
       " {'salmorejo': 1},\n",
       " {'pulpo': 1},\n",
       " {'cocido': 1},\n",
       " {'pulpo': 1},\n",
       " {'pulpo': 1},\n",
       " {'paella': 1},\n",
       " {'salmorejo': 1},\n",
       " {'pulpo': 1},\n",
       " {'salmorejo': 1},\n",
       " {'cocido': 1},\n",
       " {'pulpo': 1},\n",
       " {'paella': 1},\n",
       " {'cocido': 1},\n",
       " {'salmorejo': 1},\n",
       " {'paella': 1},\n",
       " {'paella': 1},\n",
       " {'paella': 1},\n",
       " {'salmorejo': 1},\n",
       " {'cocido': 1},\n",
       " {'pulpo': 1},\n",
       " {'paella': 1},\n",
       " {'pulpo': 1},\n",
       " {'cocido': 1},\n",
       " {'salmorejo': 1},\n",
       " {'cocido': 1},\n",
       " {'cocido': 1}]"
      ]
     },
     "execution_count": 109,
     "metadata": {
      "tags": []
     },
     "output_type": "execute_result"
    }
   ],
   "source": [
    "list(map(lambda word: {word : 1}, dishes))"
   ]
  },
  {
   "cell_type": "code",
   "execution_count": null,
   "metadata": {
    "colab": {
     "base_uri": "https://localhost:8080/",
     "height": 34
    },
    "colab_type": "code",
    "id": "B9qolzEsoc7K",
    "outputId": "99b816ee-2b04-4c7a-bdd9-5029a1d41e4f"
   },
   "outputs": [
    {
     "data": {
      "text/plain": [
       "{'cocido': 22, 'paella': 29, 'pulpo': 21, 'salmorejo': 28}"
      ]
     },
     "execution_count": 112,
     "metadata": {
      "tags": []
     },
     "output_type": "execute_result"
    }
   ],
   "source": [
    "def dict_combiner(left, right):\n",
    "\n",
    "  for key in right:\n",
    "    if key in left:\n",
    "      left[key] += right[key]\n",
    "    else:\n",
    "      left[key] = right[key]\n",
    "\n",
    "  return left\n",
    " \n",
    "reduce(dict_combiner, map(lambda word: {word: 1}, dishes))"
   ]
  },
  {
   "cell_type": "markdown",
   "metadata": {
    "colab_type": "text",
    "id": "vWnSxeRWuIP8"
   },
   "source": [
    "# Part 2: Spark. Work with RDD and Pair RDD abstractions \n",
    "\n",
    "![drawing](https://prateekvjoshi.files.wordpress.com/2015/10/1-main4.png)"
   ]
  },
  {
   "cell_type": "markdown",
   "metadata": {
    "colab_type": "text",
    "id": "VJIIHCaHuIP_"
   },
   "source": [
    "# ** Apache Spark**\n",
    "\n",
    "Apache Spark is an open source cluster computing framework originally developed in the AMPLab at University of California, Berkeley but was later donated to the Apache Software Foundation where it remains today. In contrast to Hadoop's two-stage disk-based MapReduce paradigm, Spark's multi-stage in-memory primitives provides performance up to 100 times faster for certain applications.\n",
    "\n",
    "![](http://image.slidesharecdn.com/sparkandshark-120620130508-phpapp01/95/spark-and-shark-8-728.jpg?cb=1340197567)\n",
    "\n",
    "By allowing user programs to load data into a cluster's memory and query it repeatedly, Spark is well-suited to machine learning algorithms.\n",
    "![](http://spark.apache.org/images/logistic-regression.png)\n",
    "\n",
    "Spark comes with a number of components that provide flexibility and generality.\n",
    "\n",
    "<img src=\"http://spark.apache.org/images/spark-stack.png\" alt=\"Drawing\" style=\"width: 500px;\"/>"
   ]
  },
  {
   "cell_type": "markdown",
   "metadata": {
    "colab_type": "text",
    "id": "wjszcgdsuIQE"
   },
   "source": [
    "\n",
    "## In this part, we keep on working on the word-count example, this time with spark. The basic abstraction of Spark is the Resilient Distributed Dataset (RDD):\n",
    "\n",
    "#### «RDDs are fault-tolerant, parallel data structures that let users explicitly persist intermediate results in memory, control their partitioning to optimize data placement, and manipulate them using a rich set of operators.»\n",
    "\n",
    " * Read only, partitioned collection of records (immutable).\n",
    " * Stores the transformations used to build a dataset (its lineage), instead of the data itself. This property ensures fault-tolerance.\n",
    " * Users can control partitioning and persistence (caching).\n",
    " * RDDs are statically typed.\n",
    " * … and yes, everything is written in scala ;p. So you could use learning a bit of it!\n",
    " \n",
    "<img src=\"http://eng.trueaccord.com/wp-content/uploads/2014/10/scala-logo.png\" alt=\"Drawing\" style=\"width: 200px;\"/>\n",
    "\n",
    "#### We will be trying to understand this abstraction with simple examples, using the [Python API](http://spark.apache.org/docs/latest/api/python/index.html)\n",
    "\n",
    "\n"
   ]
  },
  {
   "cell_type": "markdown",
   "metadata": {
    "colab_type": "text",
    "id": "HoyD6GNbuIQH"
   },
   "source": [
    "### If you are running this notebook in Google Colab\n",
    "\n",
    "Copy the following to a code cell and run it. It will install and set up Spark for you.\n",
    "\n",
    "```python\n",
    "!apt-get install openjdk-8-jdk-headless -qq > /dev/null\n",
    "!wget -q http://apache.uvigo.es/spark/spark-2.4.6/spark-2.4.6-bin-hadoop2.7.tgz\n",
    "!tar -xf spark-2.4.6-bin-hadoop2.7.tgz\n",
    "!pip install -q findspark pyspark==2.4.6\n",
    "\n",
    "import os\n",
    "import findspark\n",
    "from pyspark.sql import SparkSession\n",
    "\n",
    "os.environ[\"JAVA_HOME\"] = \"/usr/lib/jvm/java-8-openjdk-amd64\"\n",
    "os.environ[\"SPARK_HOME\"] = \"/content/spark-2.4.6-bin-hadoop2.7\"\n",
    "findspark.init()\n",
    "spark = SparkSession.builder.master(\"local[*]\").getOrCreate()\n",
    "```"
   ]
  },
  {
   "cell_type": "code",
   "execution_count": 1,
   "metadata": {
    "colab": {
     "base_uri": "https://localhost:8080/",
     "height": 72
    },
    "colab_type": "code",
    "executionInfo": {
     "elapsed": 78223,
     "status": "ok",
     "timestamp": 1594999016313,
     "user": {
      "displayName": "Víctor Gómez",
      "photoUrl": "https://lh3.googleusercontent.com/a-/AOh14GhhsqFzsWCtiVVJT4poUeXdfnsxahYMlF8M-_jkrw=s64",
      "userId": "02303527296787961109"
     },
     "user_tz": -120
    },
    "id": "LeBCyHVQuIQJ",
    "outputId": "d57a4c14-b09a-45e0-8f3d-f061742f4f9d"
   },
   "outputs": [
    {
     "name": "stdout",
     "output_type": "stream",
     "text": [
      "\u001b[K     |████████████████████████████████| 218.4MB 63kB/s \n",
      "\u001b[K     |████████████████████████████████| 204kB 46.1MB/s \n",
      "\u001b[?25h  Building wheel for pyspark (setup.py) ... \u001b[?25l\u001b[?25hdone\n"
     ]
    }
   ],
   "source": [
    "!apt-get install openjdk-8-jdk-headless -qq > /dev/null\n",
    "!wget -q http://apache.uvigo.es/spark/spark-2.4.6/spark-2.4.6-bin-hadoop2.7.tgz\n",
    "!tar -xf spark-2.4.6-bin-hadoop2.7.tgz\n",
    "!pip install -q findspark pyspark==2.4.6\n",
    " \n",
    "import os\n",
    "import findspark\n",
    "from pyspark.sql import SparkSession\n",
    " \n",
    "os.environ[\"JAVA_HOME\"] = \"/usr/lib/jvm/java-8-openjdk-amd64\"\n",
    "os.environ[\"SPARK_HOME\"] = \"/content/spark-2.4.6-bin-hadoop2.7\"\n",
    "findspark.init()\n",
    "spark = SparkSession.builder.master(\"local[*]\").getOrCreate()"
   ]
  },
  {
   "cell_type": "code",
   "execution_count": 4,
   "metadata": {
    "colab": {
     "base_uri": "https://localhost:8080/",
     "height": 222
    },
    "colab_type": "code",
    "executionInfo": {
     "elapsed": 559,
     "status": "ok",
     "timestamp": 1594999635091,
     "user": {
      "displayName": "Víctor Gómez",
      "photoUrl": "https://lh3.googleusercontent.com/a-/AOh14GhhsqFzsWCtiVVJT4poUeXdfnsxahYMlF8M-_jkrw=s64",
      "userId": "02303527296787961109"
     },
     "user_tz": -120
    },
    "id": "iEi0vLuDYvOw",
    "outputId": "a2cd8fb4-3e7b-40c1-d94c-2dcf5ef7b085"
   },
   "outputs": [
    {
     "data": {
      "text/html": [
       "\n",
       "            <div>\n",
       "                <p><b>SparkSession - in-memory</b></p>\n",
       "                \n",
       "        <div>\n",
       "            <p><b>SparkContext</b></p>\n",
       "\n",
       "            <p><a href=\"http://c30f19da356a:4040\">Spark UI</a></p>\n",
       "\n",
       "            <dl>\n",
       "              <dt>Version</dt>\n",
       "                <dd><code>v2.4.6</code></dd>\n",
       "              <dt>Master</dt>\n",
       "                <dd><code>local[*]</code></dd>\n",
       "              <dt>AppName</dt>\n",
       "                <dd><code>pyspark-shell</code></dd>\n",
       "            </dl>\n",
       "        </div>\n",
       "        \n",
       "            </div>\n",
       "        "
      ],
      "text/plain": [
       "<pyspark.sql.session.SparkSession at 0x7f630cb767b8>"
      ]
     },
     "execution_count": 4,
     "metadata": {
      "tags": []
     },
     "output_type": "execute_result"
    }
   ],
   "source": [
    "spark"
   ]
  },
  {
   "cell_type": "markdown",
   "metadata": {
    "colab_type": "text",
    "id": "gUG5cM2XuIQS"
   },
   "source": [
    "### ** (2a) Create a base RDD: parallelize, actions and transformations **\n",
    "We'll start by generating a base RDD by using a Python list and the `sc.parallelize` method.  Then we'll print out the type of the base RDD.\n",
    "\n",
    "We use sc.parallelize to convert a standard Python collection into an RDD."
   ]
  },
  {
   "cell_type": "code",
   "execution_count": 2,
   "metadata": {
    "colab": {
     "base_uri": "https://localhost:8080/",
     "height": 1000
    },
    "colab_type": "code",
    "executionInfo": {
     "elapsed": 556,
     "status": "ok",
     "timestamp": 1594999046560,
     "user": {
      "displayName": "Víctor Gómez",
      "photoUrl": "https://lh3.googleusercontent.com/a-/AOh14GhhsqFzsWCtiVVJT4poUeXdfnsxahYMlF8M-_jkrw=s64",
      "userId": "02303527296787961109"
     },
     "user_tz": -120
    },
    "id": "ZenQR3_ZuIQU",
    "outputId": "b4e209b0-ab1b-4565-82eb-0b5146cbaedf"
   },
   "outputs": [
    {
     "data": {
      "text/plain": [
       "['salmorejo',\n",
       " 'paella',\n",
       " 'pulpo',\n",
       " 'paella',\n",
       " 'salmorejo',\n",
       " 'salmorejo',\n",
       " 'cocido',\n",
       " 'paella',\n",
       " 'pulpo',\n",
       " 'paella',\n",
       " 'paella',\n",
       " 'salmorejo',\n",
       " 'paella',\n",
       " 'paella',\n",
       " 'salmorejo',\n",
       " 'salmorejo',\n",
       " 'paella',\n",
       " 'salmorejo',\n",
       " 'cocido',\n",
       " 'paella',\n",
       " 'cocido',\n",
       " 'salmorejo',\n",
       " 'pulpo',\n",
       " 'paella',\n",
       " 'cocido',\n",
       " 'pulpo',\n",
       " 'paella',\n",
       " 'paella',\n",
       " 'cocido',\n",
       " 'salmorejo',\n",
       " 'cocido',\n",
       " 'salmorejo',\n",
       " 'salmorejo',\n",
       " 'cocido',\n",
       " 'pulpo',\n",
       " 'salmorejo',\n",
       " 'cocido',\n",
       " 'salmorejo',\n",
       " 'cocido',\n",
       " 'salmorejo',\n",
       " 'salmorejo',\n",
       " 'paella',\n",
       " 'paella',\n",
       " 'pulpo',\n",
       " 'paella',\n",
       " 'paella',\n",
       " 'paella',\n",
       " 'pulpo',\n",
       " 'salmorejo',\n",
       " 'pulpo',\n",
       " 'pulpo',\n",
       " 'paella',\n",
       " 'pulpo',\n",
       " 'cocido',\n",
       " 'salmorejo',\n",
       " 'salmorejo',\n",
       " 'paella',\n",
       " 'salmorejo',\n",
       " 'paella',\n",
       " 'pulpo',\n",
       " 'cocido',\n",
       " 'salmorejo',\n",
       " 'salmorejo',\n",
       " 'salmorejo',\n",
       " 'cocido',\n",
       " 'cocido',\n",
       " 'paella',\n",
       " 'paella',\n",
       " 'pulpo',\n",
       " 'pulpo',\n",
       " 'paella',\n",
       " 'cocido',\n",
       " 'cocido',\n",
       " 'pulpo',\n",
       " 'salmorejo',\n",
       " 'pulpo',\n",
       " 'cocido',\n",
       " 'pulpo',\n",
       " 'pulpo',\n",
       " 'paella',\n",
       " 'salmorejo',\n",
       " 'pulpo',\n",
       " 'salmorejo',\n",
       " 'cocido',\n",
       " 'pulpo',\n",
       " 'paella',\n",
       " 'cocido',\n",
       " 'salmorejo',\n",
       " 'paella',\n",
       " 'paella',\n",
       " 'paella',\n",
       " 'salmorejo',\n",
       " 'cocido',\n",
       " 'pulpo',\n",
       " 'paella',\n",
       " 'pulpo',\n",
       " 'cocido',\n",
       " 'salmorejo',\n",
       " 'cocido',\n",
       " 'cocido']"
      ]
     },
     "execution_count": 2,
     "metadata": {
      "tags": []
     },
     "output_type": "execute_result"
    }
   ],
   "source": [
    "import random\n",
    "\n",
    "random.seed(42)\n",
    "\n",
    "dishes = random.choices(['paella', 'pulpo', 'salmorejo', 'cocido'], k=100)\n",
    "dishes"
   ]
  },
  {
   "cell_type": "markdown",
   "metadata": {
    "colab_type": "text",
    "id": "U9ZYuB_-uIQd"
   },
   "source": [
    "In Spark, `map` is a method of the RDD type."
   ]
  },
  {
   "cell_type": "code",
   "execution_count": 23,
   "metadata": {
    "colab": {},
    "colab_type": "code",
    "executionInfo": {
     "elapsed": 547,
     "status": "ok",
     "timestamp": 1595000720327,
     "user": {
      "displayName": "Víctor Gómez",
      "photoUrl": "https://lh3.googleusercontent.com/a-/AOh14GhhsqFzsWCtiVVJT4poUeXdfnsxahYMlF8M-_jkrw=s64",
      "userId": "02303527296787961109"
     },
     "user_tz": -120
    },
    "id": "NMoxiJMPYmZd"
   },
   "outputs": [],
   "source": [
    "dishes_rdd = spark.sparkContext.parallelize(dishes) #Creamos nuestro primer RDD"
   ]
  },
  {
   "cell_type": "code",
   "execution_count": 11,
   "metadata": {
    "colab": {
     "base_uri": "https://localhost:8080/",
     "height": 35
    },
    "colab_type": "code",
    "executionInfo": {
     "elapsed": 500,
     "status": "ok",
     "timestamp": 1594999714922,
     "user": {
      "displayName": "Víctor Gómez",
      "photoUrl": "https://lh3.googleusercontent.com/a-/AOh14GhhsqFzsWCtiVVJT4poUeXdfnsxahYMlF8M-_jkrw=s64",
      "userId": "02303527296787961109"
     },
     "user_tz": -120
    },
    "id": "_ZkWG-v1uIQh",
    "outputId": "68b382e0-33ba-48a5-a414-9031b7de66d1"
   },
   "outputs": [
    {
     "data": {
      "text/plain": [
       "pyspark.rdd.RDD"
      ]
     },
     "execution_count": 11,
     "metadata": {
      "tags": []
     },
     "output_type": "execute_result"
    }
   ],
   "source": [
    "type(dishes_rdd)"
   ]
  },
  {
   "cell_type": "code",
   "execution_count": 16,
   "metadata": {
    "colab": {},
    "colab_type": "code",
    "executionInfo": {
     "elapsed": 520,
     "status": "ok",
     "timestamp": 1594999939325,
     "user": {
      "displayName": "Víctor Gómez",
      "photoUrl": "https://lh3.googleusercontent.com/a-/AOh14GhhsqFzsWCtiVVJT4poUeXdfnsxahYMlF8M-_jkrw=s64",
      "userId": "02303527296787961109"
     },
     "user_tz": -120
    },
    "id": "ZwagM9KcZDbI"
   },
   "outputs": [],
   "source": [
    "plurals = dishes_rdd.map(lambda word: word + 's') #Aplicamos un método RDD"
   ]
  },
  {
   "cell_type": "markdown",
   "metadata": {
    "colab_type": "text",
    "id": "EtAr3UUouIQv"
   },
   "source": [
    "**Nothing has actually happened!**\n",
    "\n",
    "`parallellize` tells spark to distribute the data, but this is not actually done until we perform some action.\n",
    "\n",
    "Possible actions include counting, collecting, reducing, taking, etc. Take a look at the [Spark programming guide](http://spark.apache.org/docs/2.2.0/rdd-programming-guide.html#actions)\n"
   ]
  },
  {
   "cell_type": "code",
   "execution_count": 17,
   "metadata": {
    "colab": {
     "base_uri": "https://localhost:8080/",
     "height": 35
    },
    "colab_type": "code",
    "executionInfo": {
     "elapsed": 1651,
     "status": "ok",
     "timestamp": 1594999943990,
     "user": {
      "displayName": "Víctor Gómez",
      "photoUrl": "https://lh3.googleusercontent.com/a-/AOh14GhhsqFzsWCtiVVJT4poUeXdfnsxahYMlF8M-_jkrw=s64",
      "userId": "02303527296787961109"
     },
     "user_tz": -120
    },
    "id": "qzYsScrHZB7c",
    "outputId": "a8ec749e-c5fd-49f9-cecc-02b3a362d31d"
   },
   "outputs": [
    {
     "data": {
      "text/plain": [
       "['salmorejos', 'paellas', 'pulpos', 'paellas', 'salmorejos']"
      ]
     },
     "execution_count": 17,
     "metadata": {
      "tags": []
     },
     "output_type": "execute_result"
    }
   ],
   "source": [
    "plurals.take(5)"
   ]
  },
  {
   "cell_type": "markdown",
   "metadata": {
    "colab_type": "text",
    "id": "DKSL7YPBuIQ7"
   },
   "source": [
    "#### Exercise\n",
    "\n",
    "Calculate, from the rdd generated from list_of_dishes, how many dishes we have whose name does **not** start with an 'p'"
   ]
  },
  {
   "cell_type": "code",
   "execution_count": 27,
   "metadata": {
    "colab": {
     "base_uri": "https://localhost:8080/",
     "height": 35
    },
    "colab_type": "code",
    "executionInfo": {
     "elapsed": 491,
     "status": "ok",
     "timestamp": 1595000755679,
     "user": {
      "displayName": "Víctor Gómez",
      "photoUrl": "https://lh3.googleusercontent.com/a-/AOh14GhhsqFzsWCtiVVJT4poUeXdfnsxahYMlF8M-_jkrw=s64",
      "userId": "02303527296787961109"
     },
     "user_tz": -120
    },
    "id": "7T5-TUDvuIQ8",
    "outputId": "2dfaae5d-bc28-43b4-997a-d91c18eec70d"
   },
   "outputs": [
    {
     "data": {
      "text/plain": [
       "50"
      ]
     },
     "execution_count": 27,
     "metadata": {
      "tags": []
     },
     "output_type": "execute_result"
    }
   ],
   "source": [
    "dishes_rdd.filter(lambda word: word[0] != 'p').count() #El count es una acción y así se muestra."
   ]
  },
  {
   "cell_type": "code",
   "execution_count": 29,
   "metadata": {
    "colab": {
     "base_uri": "https://localhost:8080/",
     "height": 35
    },
    "colab_type": "code",
    "executionInfo": {
     "elapsed": 485,
     "status": "ok",
     "timestamp": 1595000904419,
     "user": {
      "displayName": "Víctor Gómez",
      "photoUrl": "https://lh3.googleusercontent.com/a-/AOh14GhhsqFzsWCtiVVJT4poUeXdfnsxahYMlF8M-_jkrw=s64",
      "userId": "02303527296787961109"
     },
     "user_tz": -120
    },
    "id": "bRrkP3k2dOFb",
    "outputId": "bafec803-6aa2-4ad4-b3b9-b29c4d56e2b1"
   },
   "outputs": [
    {
     "data": {
      "text/plain": [
       "50"
      ]
     },
     "execution_count": 29,
     "metadata": {
      "tags": []
     },
     "output_type": "execute_result"
    }
   ],
   "source": [
    "dishes_rdd.filter(lambda word: word[0] != 'p').map(lambda _: 1).reduce(lambda x, y: x + y) #Aplicamos 3 métodos"
   ]
  },
  {
   "cell_type": "markdown",
   "metadata": {
    "colab_type": "text",
    "id": "oIdua9DGuIRH"
   },
   "source": [
    "A very common way to write these chained operations in Spark is to put each on a line. Due to Python's syntax, we need to escape the newline character with a backslash."
   ]
  },
  {
   "cell_type": "code",
   "execution_count": null,
   "metadata": {
    "colab": {},
    "colab_type": "code",
    "id": "GiGtQ5SquIRL"
   },
   "outputs": [],
   "source": []
  },
  {
   "cell_type": "markdown",
   "metadata": {
    "colab_type": "text",
    "id": "V250cpc5uIRS"
   },
   "source": [
    "### Actions and Transformations\n",
    "\n",
    "There are two main types of operations in Spark:\n",
    "[Actions](http://spark.apache.org/docs/2.2.0/rdd-programming-guide.html#actions) and [Transformations](http://spark.apache.org/docs/2.2.0/rdd-programming-guide.html#transformations).\n",
    "\n",
    "**Transformations** produce an RDD. Some of the most important are `map`, `filter`, and `reduceByKey`. `sc.parallelize` and `sc.textFile` are not technically Transformations but you can think of them as such in one very important respect: they are *lazyly evaluated*. That is, when we perform a Transformation, we are only describing the operation to be performed at some point in the future. They attach a node to the execution graph.\n",
    "\n",
    "**Actions** are implemented as methods on an RDD, and return an object of a type **that is not an RDD**. When we perform an Action, we give the order to execute the previously described transformations: we trigger the execution of the graph. Some of the most important are `reduce`, `collect`, `take`, `takeOrdered`, and `count`."
   ]
  },
  {
   "cell_type": "code",
   "execution_count": 32,
   "metadata": {
    "colab": {
     "base_uri": "https://localhost:8080/",
     "height": 1000
    },
    "colab_type": "code",
    "executionInfo": {
     "elapsed": 709,
     "status": "ok",
     "timestamp": 1595001402688,
     "user": {
      "displayName": "Víctor Gómez",
      "photoUrl": "https://lh3.googleusercontent.com/a-/AOh14GhhsqFzsWCtiVVJT4poUeXdfnsxahYMlF8M-_jkrw=s64",
      "userId": "02303527296787961109"
     },
     "user_tz": -120
    },
    "id": "Q9EPUwqNuIRT",
    "outputId": "10ce2766-4716-430c-b498-7a424977d696"
   },
   "outputs": [
    {
     "data": {
      "text/plain": [
       "['salmorejos',\n",
       " 'paellas',\n",
       " 'pulpos',\n",
       " 'paellas',\n",
       " 'salmorejos',\n",
       " 'salmorejos',\n",
       " 'cocidos',\n",
       " 'paellas',\n",
       " 'pulpos',\n",
       " 'paellas',\n",
       " 'paellas',\n",
       " 'salmorejos',\n",
       " 'paellas',\n",
       " 'paellas',\n",
       " 'salmorejos',\n",
       " 'salmorejos',\n",
       " 'paellas',\n",
       " 'salmorejos',\n",
       " 'cocidos',\n",
       " 'paellas',\n",
       " 'cocidos',\n",
       " 'salmorejos',\n",
       " 'pulpos',\n",
       " 'paellas',\n",
       " 'cocidos',\n",
       " 'pulpos',\n",
       " 'paellas',\n",
       " 'paellas',\n",
       " 'cocidos',\n",
       " 'salmorejos',\n",
       " 'cocidos',\n",
       " 'salmorejos',\n",
       " 'salmorejos',\n",
       " 'cocidos',\n",
       " 'pulpos',\n",
       " 'salmorejos',\n",
       " 'cocidos',\n",
       " 'salmorejos',\n",
       " 'cocidos',\n",
       " 'salmorejos',\n",
       " 'salmorejos',\n",
       " 'paellas',\n",
       " 'paellas',\n",
       " 'pulpos',\n",
       " 'paellas',\n",
       " 'paellas',\n",
       " 'paellas',\n",
       " 'pulpos',\n",
       " 'salmorejos',\n",
       " 'pulpos',\n",
       " 'pulpos',\n",
       " 'paellas',\n",
       " 'pulpos',\n",
       " 'cocidos',\n",
       " 'salmorejos',\n",
       " 'salmorejos',\n",
       " 'paellas',\n",
       " 'salmorejos',\n",
       " 'paellas',\n",
       " 'pulpos',\n",
       " 'cocidos',\n",
       " 'salmorejos',\n",
       " 'salmorejos',\n",
       " 'salmorejos',\n",
       " 'cocidos',\n",
       " 'cocidos',\n",
       " 'paellas',\n",
       " 'paellas',\n",
       " 'pulpos',\n",
       " 'pulpos',\n",
       " 'paellas',\n",
       " 'cocidos',\n",
       " 'cocidos',\n",
       " 'pulpos',\n",
       " 'salmorejos',\n",
       " 'pulpos',\n",
       " 'cocidos',\n",
       " 'pulpos',\n",
       " 'pulpos',\n",
       " 'paellas',\n",
       " 'salmorejos',\n",
       " 'pulpos',\n",
       " 'salmorejos',\n",
       " 'cocidos',\n",
       " 'pulpos',\n",
       " 'paellas',\n",
       " 'cocidos',\n",
       " 'salmorejos',\n",
       " 'paellas',\n",
       " 'paellas',\n",
       " 'paellas',\n",
       " 'salmorejos',\n",
       " 'cocidos',\n",
       " 'pulpos',\n",
       " 'paellas',\n",
       " 'pulpos',\n",
       " 'cocidos',\n",
       " 'salmorejos',\n",
       " 'cocidos',\n",
       " 'cocidos']"
      ]
     },
     "execution_count": 32,
     "metadata": {
      "tags": []
     },
     "output_type": "execute_result"
    }
   ],
   "source": [
    "#Si devuelve un RDD es una transformacion, si devuelve otra cosa es un Actions\n",
    "\n",
    "plurals.take(5)\n",
    "\n",
    "plurals.collect() # collect recoge toda la lista"
   ]
  },
  {
   "cell_type": "markdown",
   "metadata": {
    "colab_type": "text",
    "id": "XwIik8rfuIRd"
   },
   "source": [
    "### **(2b) Persisting and the RDD lineage**\n",
    "\n",
    "So far, we have seen that Spark RDDs are *lazyly evaluated*, i.e. nothing is actually done until an action is performed. In the RDD, the set of transformations to be applied are remembered: this is known as its *lineage*. It has the important consequence of making Spark RDDs *fault tolerant* automatically.\n",
    "\n",
    "![](http://images.slideplayer.com/14/4499833/slides/slide_10.jpg) \n",
    "\n",
    "It might be interesting to store some intermediate results, though: perhaps because we want to apply several different transformations starting from that point, or because we are going to apply an iterative computation (as is customary in machine learning algorithms). For this, Spark has [several ways of persisting](http://spark.apache.org/docs/latest/rdd-programming-guide.html#rdd-persistence)"
   ]
  },
  {
   "cell_type": "code",
   "execution_count": 46,
   "metadata": {
    "colab": {
     "base_uri": "https://localhost:8080/",
     "height": 54
    },
    "colab_type": "code",
    "executionInfo": {
     "elapsed": 494,
     "status": "ok",
     "timestamp": 1595003287077,
     "user": {
      "displayName": "Víctor Gómez",
      "photoUrl": "https://lh3.googleusercontent.com/a-/AOh14GhhsqFzsWCtiVVJT4poUeXdfnsxahYMlF8M-_jkrw=s64",
      "userId": "02303527296787961109"
     },
     "user_tz": -120
    },
    "id": "OF9luMAZuIRh",
    "outputId": "0e728f0b-c92b-4f1f-f86b-39f30da5914b"
   },
   "outputs": [
    {
     "name": "stdout",
     "output_type": "stream",
     "text": [
      "CPU times: user 7.18 ms, sys: 0 ns, total: 7.18 ms\n",
      "Wall time: 45.6 ms\n"
     ]
    }
   ],
   "source": [
    "%%time\n",
    "import math\n",
    "numbers = spark.sparkContext.parallelize(range(1000000))\n",
    "squares = numbers.map(lambda n: n ** 2)\n",
    "result = squares.map(math.sqrt)\n",
    "# result.cache()"
   ]
  },
  {
   "cell_type": "markdown",
   "metadata": {
    "colab_type": "text",
    "id": "fPXoyBReuIR5"
   },
   "source": [
    "StorageLevel cannot be changed after it has been set. We need to `unpersist` first."
   ]
  },
  {
   "cell_type": "code",
   "execution_count": 47,
   "metadata": {
    "colab": {
     "base_uri": "https://localhost:8080/",
     "height": 72
    },
    "colab_type": "code",
    "executionInfo": {
     "elapsed": 1836,
     "status": "ok",
     "timestamp": 1595003290900,
     "user": {
      "displayName": "Víctor Gómez",
      "photoUrl": "https://lh3.googleusercontent.com/a-/AOh14GhhsqFzsWCtiVVJT4poUeXdfnsxahYMlF8M-_jkrw=s64",
      "userId": "02303527296787961109"
     },
     "user_tz": -120
    },
    "id": "3WrnyDODuIR-",
    "outputId": "d75e4a7f-b115-4664-dffd-361796ddb994",
    "tags": [
     "raises-exception"
    ]
   },
   "outputs": [
    {
     "name": "stdout",
     "output_type": "stream",
     "text": [
      "CPU times: user 7.72 ms, sys: 241 µs, total: 7.96 ms\n",
      "Wall time: 1.33 s\n"
     ]
    },
    {
     "data": {
      "text/plain": [
       "499999500000.0"
      ]
     },
     "execution_count": 47,
     "metadata": {
      "tags": []
     },
     "output_type": "execute_result"
    }
   ],
   "source": [
    "%%time\n",
    "result.reduce(lambda x, y: x + y) #así tarda mucho"
   ]
  },
  {
   "cell_type": "code",
   "execution_count": 44,
   "metadata": {
    "colab": {
     "base_uri": "https://localhost:8080/",
     "height": 35
    },
    "colab_type": "code",
    "executionInfo": {
     "elapsed": 554,
     "status": "ok",
     "timestamp": 1595002970990,
     "user": {
      "displayName": "Víctor Gómez",
      "photoUrl": "https://lh3.googleusercontent.com/a-/AOh14GhhsqFzsWCtiVVJT4poUeXdfnsxahYMlF8M-_jkrw=s64",
      "userId": "02303527296787961109"
     },
     "user_tz": -120
    },
    "id": "l7ecGaI2knxZ",
    "outputId": "dba88eb5-99fd-45d6-ec15-d6874a840b0a"
   },
   "outputs": [
    {
     "data": {
      "text/plain": [
       "PythonRDD[27] at RDD at PythonRDD.scala:53"
      ]
     },
     "execution_count": 44,
     "metadata": {
      "tags": []
     },
     "output_type": "execute_result"
    }
   ],
   "source": [
    "result.cache() #Para marcar el RDD en un determinado punto del proceo y se guarden las operaciones hechas para hacer el reduce o counts (acciones ejemplo) y que sea mucho más rapido"
   ]
  },
  {
   "cell_type": "code",
   "execution_count": null,
   "metadata": {
    "colab": {},
    "colab_type": "code",
    "id": "MIdLt9Xekm7v"
   },
   "outputs": [],
   "source": [
    "result.getStorageLevel"
   ]
  },
  {
   "cell_type": "markdown",
   "metadata": {
    "colab_type": "text",
    "id": "uOHxVuhiuISK"
   },
   "source": [
    "### **(2c) Partitioning **\n",
    "\n",
    "One important parameter for parallel collections is the number of partitions to cut the dataset into. Spark will run one task for each partition of the cluster. Typically you want 2-4 partitions for each CPU in your cluster.\n",
    "\n",
    "To get the number of partitions of an RDD, just use `getNumPartitions()` on your RDD. You can change the partitions during RDD creation (with `parallelize(collection,numPartitions)` or `fromTextFile(file,numPartitions)`), or afterwards with methods like `repartition(), coalesce()`, etc."
   ]
  },
  {
   "cell_type": "code",
   "execution_count": 49,
   "metadata": {
    "colab": {
     "base_uri": "https://localhost:8080/",
     "height": 35
    },
    "colab_type": "code",
    "executionInfo": {
     "elapsed": 505,
     "status": "ok",
     "timestamp": 1595003824033,
     "user": {
      "displayName": "Víctor Gómez",
      "photoUrl": "https://lh3.googleusercontent.com/a-/AOh14GhhsqFzsWCtiVVJT4poUeXdfnsxahYMlF8M-_jkrw=s64",
      "userId": "02303527296787961109"
     },
     "user_tz": -120
    },
    "id": "gI6IMGxyuISN",
    "outputId": "71ccb219-2d03-4478-9200-b4e434f52922"
   },
   "outputs": [
    {
     "data": {
      "text/plain": [
       "2"
      ]
     },
     "execution_count": 49,
     "metadata": {
      "tags": []
     },
     "output_type": "execute_result"
    }
   ],
   "source": [
    "result.getNumPartitions() #el númuero de particiones que se han hecho de los datos\n",
    "\n",
    "new_rdd = spark.sparkContext.parallelize(range(0, 25, 3))\n",
    "new_rdd.getNumPartitions()"
   ]
  },
  {
   "cell_type": "markdown",
   "metadata": {
    "colab_type": "text",
    "id": "j-qtROLnuIST"
   },
   "source": [
    "We can see the partitions using [glom()](http://spark.apache.org/docs/latest/api/python/pyspark.html?highlight=glom#pyspark.RDD.glom): it retruns an RDD created by coalescing all elements within each partition into a list."
   ]
  },
  {
   "cell_type": "code",
   "execution_count": 50,
   "metadata": {
    "colab": {
     "base_uri": "https://localhost:8080/",
     "height": 35
    },
    "colab_type": "code",
    "executionInfo": {
     "elapsed": 503,
     "status": "ok",
     "timestamp": 1595003848859,
     "user": {
      "displayName": "Víctor Gómez",
      "photoUrl": "https://lh3.googleusercontent.com/a-/AOh14GhhsqFzsWCtiVVJT4poUeXdfnsxahYMlF8M-_jkrw=s64",
      "userId": "02303527296787961109"
     },
     "user_tz": -120
    },
    "id": "NbVBvQosuISU",
    "outputId": "fb83baf5-ac0b-464d-a1ee-748793f5a50a"
   },
   "outputs": [
    {
     "data": {
      "text/plain": [
       "[[0, 3, 6, 9], [12, 15, 18, 21, 24]]"
      ]
     },
     "execution_count": 50,
     "metadata": {
      "tags": []
     },
     "output_type": "execute_result"
    }
   ],
   "source": [
    "new_rdd.glom().collect() #Devuelve una lista compuesta por las particiones. "
   ]
  },
  {
   "cell_type": "code",
   "execution_count": null,
   "metadata": {
    "colab": {},
    "colab_type": "code",
    "id": "aDrg1oSMpI3c"
   },
   "outputs": [],
   "source": []
  },
  {
   "cell_type": "markdown",
   "metadata": {
    "colab_type": "text",
    "id": "dmZK7uYSuISg"
   },
   "source": [
    "Partitions are one of the most powerfull concepts in Spark: you can decide how to distribute your data so it can fit in memory, and more importantly, you can perform computations on each partition *before* speaking to other partitions. This can have an enormous impact on performance"
   ]
  },
  {
   "cell_type": "markdown",
   "metadata": {
    "colab_type": "text",
    "id": "c9MAI5YWuISi"
   },
   "source": [
    "### **(2c) Pair RDDs: *grouping* strategies in Spark**\n",
    "\n",
    "The next step in writing our word counting program is to create a new type of RDD, called a pair RDD. A pair RDD is an RDD where each element is a pair tuple (k, v) where k is the key and v is the value. In this example, we will create a pair consisting of ('<word>', 1) for each word element in the RDD, as we did in the map/reduce version of the histogram in Python, section (1d.2).\n",
    "\n",
    "We can create the pair RDD using the map() transformation with a lambda() function to create a new RDD."
   ]
  },
  {
   "cell_type": "code",
   "execution_count": 51,
   "metadata": {
    "colab": {
     "base_uri": "https://localhost:8080/",
     "height": 109
    },
    "colab_type": "code",
    "executionInfo": {
     "elapsed": 508,
     "status": "ok",
     "timestamp": 1595005188982,
     "user": {
      "displayName": "Víctor Gómez",
      "photoUrl": "https://lh3.googleusercontent.com/a-/AOh14GhhsqFzsWCtiVVJT4poUeXdfnsxahYMlF8M-_jkrw=s64",
      "userId": "02303527296787961109"
     },
     "user_tz": -120
    },
    "id": "lmGX4MYXuISk",
    "outputId": "e9a6807a-c55f-4572-8025-c714b8a46b35"
   },
   "outputs": [
    {
     "data": {
      "text/plain": [
       "[('salmorejo', 1),\n",
       " ('paella', 1),\n",
       " ('pulpo', 1),\n",
       " ('paella', 1),\n",
       " ('salmorejo', 1)]"
      ]
     },
     "execution_count": 51,
     "metadata": {
      "tags": []
     },
     "output_type": "execute_result"
    }
   ],
   "source": [
    "pair_rdd = dishes_rdd.map(lambda word: (word, 1)) #Lo convertimos en tupla\n",
    "pair_rdd.take(5)"
   ]
  },
  {
   "cell_type": "markdown",
   "metadata": {
    "colab_type": "text",
    "id": "tdfnvgYuuISp"
   },
   "source": [
    "### ** (2c.1) `groupByKey()` approach **\n",
    "An approach you might first consider (we'll see shortly that there are better ways) is based on using the [groupByKey()](http://spark.apache.org/docs/latest/api/python/pyspark.html#pyspark.RDD.groupByKey) transformation. As the name implies, the `groupByKey()` transformation groups all the elements of the RDD with the same key into a single list in one of the partitions. There are two problems with using `groupByKey()`:\n",
    "  + The operation requires a lot of data movement to move all the values into the appropriate partitions.\n",
    "  + The lists can be very large. Consider a word count of English Wikipedia: the lists for common words (e.g., the, a, etc.) would be huge and could exhaust the available memory in a worker.\n",
    " \n",
    "Use `groupByKey()` to generate a pair RDD of type `('word', iterator)`. Next, sum the iterator using a `map()` transformation.  The result should be a pair RDD consisting of (word, count) pairs."
   ]
  },
  {
   "cell_type": "code",
   "execution_count": 52,
   "metadata": {
    "colab": {
     "base_uri": "https://localhost:8080/",
     "height": 35
    },
    "colab_type": "code",
    "executionInfo": {
     "elapsed": 461,
     "status": "ok",
     "timestamp": 1595005229672,
     "user": {
      "displayName": "Víctor Gómez",
      "photoUrl": "https://lh3.googleusercontent.com/a-/AOh14GhhsqFzsWCtiVVJT4poUeXdfnsxahYMlF8M-_jkrw=s64",
      "userId": "02303527296787961109"
     },
     "user_tz": -120
    },
    "id": "-lfbPxqJuISq",
    "outputId": "2b4a4515-ebef-473e-812e-f341e9300326"
   },
   "outputs": [
    {
     "data": {
      "text/plain": [
       "PythonRDD[39] at RDD at PythonRDD.scala:53"
      ]
     },
     "execution_count": 52,
     "metadata": {
      "tags": []
     },
     "output_type": "execute_result"
    }
   ],
   "source": [
    "pair_rdd.groupByKey()"
   ]
  },
  {
   "cell_type": "code",
   "execution_count": 54,
   "metadata": {
    "colab": {
     "base_uri": "https://localhost:8080/",
     "height": 90
    },
    "colab_type": "code",
    "executionInfo": {
     "elapsed": 908,
     "status": "ok",
     "timestamp": 1595005414487,
     "user": {
      "displayName": "Víctor Gómez",
      "photoUrl": "https://lh3.googleusercontent.com/a-/AOh14GhhsqFzsWCtiVVJT4poUeXdfnsxahYMlF8M-_jkrw=s64",
      "userId": "02303527296787961109"
     },
     "user_tz": -120
    },
    "id": "F_sx8GlsuXu7",
    "outputId": "a0a310d6-4d2c-43b9-e0cf-f76c1a09b4ae"
   },
   "outputs": [
    {
     "data": {
      "text/plain": [
       "[('salmorejo', <pyspark.resultiterable.ResultIterable at 0x7f630c0f1e48>),\n",
       " ('paella', <pyspark.resultiterable.ResultIterable at 0x7f630c0f1ac8>),\n",
       " ('pulpo', <pyspark.resultiterable.ResultIterable at 0x7f630c0f71d0>),\n",
       " ('cocido', <pyspark.resultiterable.ResultIterable at 0x7f630c0f7240>)]"
      ]
     },
     "execution_count": 54,
     "metadata": {
      "tags": []
     },
     "output_type": "execute_result"
    }
   ],
   "source": [
    "pair_rdd.groupByKey().take(5)"
   ]
  },
  {
   "cell_type": "code",
   "execution_count": 55,
   "metadata": {
    "colab": {},
    "colab_type": "code",
    "executionInfo": {
     "elapsed": 1006,
     "status": "ok",
     "timestamp": 1595005548775,
     "user": {
      "displayName": "Víctor Gómez",
      "photoUrl": "https://lh3.googleusercontent.com/a-/AOh14GhhsqFzsWCtiVVJT4poUeXdfnsxahYMlF8M-_jkrw=s64",
      "userId": "02303527296787961109"
     },
     "user_tz": -120
    },
    "id": "YmJhQl8Euy0d"
   },
   "outputs": [],
   "source": [
    "groups = pair_rdd.groupByKey()\n"
   ]
  },
  {
   "cell_type": "code",
   "execution_count": null,
   "metadata": {
    "colab": {},
    "colab_type": "code",
    "id": "e2ofMkxavUXX"
   },
   "outputs": [],
   "source": []
  },
  {
   "cell_type": "markdown",
   "metadata": {
    "colab_type": "text",
    "id": "hF-S-14auISx"
   },
   "source": [
    "### ** (2c.2)  `reduceByKey` approach **\n",
    "A better approach is to start from the pair RDD and then use the [reduceByKey()](http://spark.apache.org/docs/latest/api/python/pyspark.html#pyspark.RDD.reduceByKey) transformation to create a new pair RDD. \n",
    "\n",
    "The `reduceByKey()` transformation gathers together pairs that have the same key and applies the function provided to two values at a time, iteratively reducing all of the values to a single value. `reduceByKey()` operates by applying the function first within each partition on a per-key basis and then across the partitions, allowing it to scale efficiently to large datasets.\n",
    "\n",
    "![](https://databricks.gitbooks.io/databricks-spark-knowledge-base/content/images/reduce_by.png)"
   ]
  },
  {
   "cell_type": "code",
   "execution_count": 57,
   "metadata": {
    "colab": {
     "base_uri": "https://localhost:8080/",
     "height": 35
    },
    "colab_type": "code",
    "executionInfo": {
     "elapsed": 732,
     "status": "ok",
     "timestamp": 1595006291552,
     "user": {
      "displayName": "Víctor Gómez",
      "photoUrl": "https://lh3.googleusercontent.com/a-/AOh14GhhsqFzsWCtiVVJT4poUeXdfnsxahYMlF8M-_jkrw=s64",
      "userId": "02303527296787961109"
     },
     "user_tz": -120
    },
    "id": "KnIGunPVuISy",
    "outputId": "d0391f3a-28ed-4215-a5b1-4e0b24e4607c"
   },
   "outputs": [
    {
     "data": {
      "text/plain": [
       "[('salmorejo', 28), ('paella', 29), ('pulpo', 21), ('cocido', 22)]"
      ]
     },
     "execution_count": 57,
     "metadata": {
      "tags": []
     },
     "output_type": "execute_result"
    }
   ],
   "source": [
    "pair_rdd.reduceByKey(lambda x, y: x + y).take(5) #Hace el conteo de cada una máás rápido."
   ]
  },
  {
   "cell_type": "markdown",
   "metadata": {
    "colab_type": "text",
    "id": "3TQTdTMzuIS2"
   },
   "source": [
    "#### Summary: word count in Spark:"
   ]
  },
  {
   "cell_type": "code",
   "execution_count": 59,
   "metadata": {
    "colab": {
     "base_uri": "https://localhost:8080/",
     "height": 35
    },
    "colab_type": "code",
    "executionInfo": {
     "elapsed": 703,
     "status": "ok",
     "timestamp": 1595006413844,
     "user": {
      "displayName": "Víctor Gómez",
      "photoUrl": "https://lh3.googleusercontent.com/a-/AOh14GhhsqFzsWCtiVVJT4poUeXdfnsxahYMlF8M-_jkrw=s64",
      "userId": "02303527296787961109"
     },
     "user_tz": -120
    },
    "id": "T2tRACE9uIS3",
    "outputId": "5f3fd03e-1266-406f-b9a0-c8485731571a"
   },
   "outputs": [
    {
     "data": {
      "text/plain": [
       "[('salmorejo', 28), ('paella', 29), ('pulpo', 21), ('cocido', 22)]"
      ]
     },
     "execution_count": 59,
     "metadata": {
      "tags": []
     },
     "output_type": "execute_result"
    }
   ],
   "source": [
    "dishes_rdd.map(lambda word: (word,1))\\\n",
    ".reduceByKey(lambda x, y: x + y)\\\n",
    ".take(5)"
   ]
  },
  {
   "cell_type": "markdown",
   "metadata": {
    "colab_type": "text",
    "id": "vHW7JPPNuITC"
   },
   "source": [
    "## (2d) Apply word count to a file"
   ]
  },
  {
   "cell_type": "markdown",
   "metadata": {
    "colab_type": "text",
    "id": "-XErA84zuITD"
   },
   "source": [
    "### ** (2d.1) Load a text file **\n",
    "For the next part of this lab, we will use the [Complete Works of William Shakespeare](http://www.gutenberg.org/ebooks/100) from [Project Gutenberg](http://www.gutenberg.org/wiki/Main_Page). To convert a text file into an RDD, we use the `SparkContext.textFile()` method. We also apply the recently defined `removePunctuation()` function using a `map()` transformation to strip out the punctuation and change all text to lowercase.  Since the file is large we use `take(15)`, so that we only print(15 lines.)\n",
    "\n",
    "Copy this into a notebook cell:\n",
    "\n",
    "```\n",
    "!wget -v http://www.gutenberg.org/files/100/100-0.txt -O shakespeare.txt\n",
    "```"
   ]
  },
  {
   "cell_type": "code",
   "execution_count": 61,
   "metadata": {
    "colab": {
     "base_uri": "https://localhost:8080/",
     "height": 219
    },
    "colab_type": "code",
    "executionInfo": {
     "elapsed": 2471,
     "status": "ok",
     "timestamp": 1595006904455,
     "user": {
      "displayName": "Víctor Gómez",
      "photoUrl": "https://lh3.googleusercontent.com/a-/AOh14GhhsqFzsWCtiVVJT4poUeXdfnsxahYMlF8M-_jkrw=s64",
      "userId": "02303527296787961109"
     },
     "user_tz": -120
    },
    "id": "vFe_QRkzuITE",
    "outputId": "ac31babc-517d-46c5-c527-0b19b21fe306"
   },
   "outputs": [
    {
     "name": "stdout",
     "output_type": "stream",
     "text": [
      "--2020-07-17 17:28:22--  http://www.gutenberg.org/files/100/100-0.txt\n",
      "Resolving www.gutenberg.org (www.gutenberg.org)... 152.19.134.47, 2610:28:3090:3000:0:bad:cafe:47\n",
      "Connecting to www.gutenberg.org (www.gutenberg.org)|152.19.134.47|:80... connected.\n",
      "HTTP request sent, awaiting response... 200 OK\n",
      "Length: 5777367 (5.5M) [text/plain]\n",
      "Saving to: ‘shakespeare.txt’\n",
      "\n",
      "shakespeare.txt     100%[===================>]   5.51M  6.83MB/s    in 0.8s    \n",
      "\n",
      "2020-07-17 17:28:23 (6.83 MB/s) - ‘shakespeare.txt’ saved [5777367/5777367]\n",
      "\n"
     ]
    }
   ],
   "source": [
    "!wget -v http://www.gutenberg.org/files/100/100-0.txt -O shakespeare.txt"
   ]
  },
  {
   "cell_type": "code",
   "execution_count": 64,
   "metadata": {
    "colab": {
     "base_uri": "https://localhost:8080/",
     "height": 201
    },
    "colab_type": "code",
    "executionInfo": {
     "elapsed": 1883,
     "status": "ok",
     "timestamp": 1595006935594,
     "user": {
      "displayName": "Víctor Gómez",
      "photoUrl": "https://lh3.googleusercontent.com/a-/AOh14GhhsqFzsWCtiVVJT4poUeXdfnsxahYMlF8M-_jkrw=s64",
      "userId": "02303527296787961109"
     },
     "user_tz": -120
    },
    "id": "GidXvfV80eio",
    "outputId": "91f800e6-5cda-4881-b180-ed694eb12400"
   },
   "outputs": [
    {
     "name": "stdout",
     "output_type": "stream",
     "text": [
      "﻿\n",
      "Project Gutenberg’s The Complete Works of William Shakespeare, by William\n",
      "Shakespeare\n",
      "\n",
      "This eBook is for the use of anyone anywhere in the United States and\n",
      "most other parts of the world at no cost and with almost no restrictions\n",
      "whatsoever.  You may copy it, give it away or re-use it under the terms\n",
      "of the Project Gutenberg License included with this eBook or online at\n",
      "www.gutenberg.org.  If you are not located in the United States, you’ll\n",
      "have to check the laws of the country where you are located before using\n"
     ]
    }
   ],
   "source": [
    "!head shakespeare.txt"
   ]
  },
  {
   "cell_type": "code",
   "execution_count": 73,
   "metadata": {
    "colab": {
     "base_uri": "https://localhost:8080/",
     "height": 338
    },
    "colab_type": "code",
    "executionInfo": {
     "elapsed": 347,
     "status": "error",
     "timestamp": 1595008207076,
     "user": {
      "displayName": "Víctor Gómez",
      "photoUrl": "https://lh3.googleusercontent.com/a-/AOh14GhhsqFzsWCtiVVJT4poUeXdfnsxahYMlF8M-_jkrw=s64",
      "userId": "02303527296787961109"
     },
     "user_tz": -120
    },
    "id": "jENp1mTl5cC5",
    "outputId": "6f69a423-e33a-4a54-c471-2930d60844d1"
   },
   "outputs": [
    {
     "ename": "NameError",
     "evalue": "ignored",
     "output_type": "error",
     "traceback": [
      "\u001b[0;31m---------------------------------------------------------------------------\u001b[0m",
      "\u001b[0;31mNameError\u001b[0m                                 Traceback (most recent call last)",
      "\u001b[0;32m<ipython-input-73-54429365f124>\u001b[0m in \u001b[0;36m<module>\u001b[0;34m()\u001b[0m\n\u001b[1;32m      3\u001b[0m \u001b[0;32mdef\u001b[0m \u001b[0mremove_punctuacion\u001b[0m\u001b[0;34m(\u001b[0m\u001b[0mline\u001b[0m\u001b[0;34m)\u001b[0m\u001b[0;34m:\u001b[0m\u001b[0;34m\u001b[0m\u001b[0;34m\u001b[0m\u001b[0m\n\u001b[1;32m      4\u001b[0m   \u001b[0;32mreturn\u001b[0m \u001b[0mre\u001b[0m\u001b[0;34m.\u001b[0m\u001b[0msub\u001b[0m\u001b[0;34m(\u001b[0m\u001b[0;34m'[^a-z0-9 ]'\u001b[0m\u001b[0;34m,\u001b[0m \u001b[0;34m''\u001b[0m\u001b[0;34m,\u001b[0m \u001b[0mline\u001b[0m\u001b[0;34m)\u001b[0m\u001b[0;34m\u001b[0m\u001b[0;34m\u001b[0m\u001b[0m\n\u001b[0;32m----> 5\u001b[0;31m \u001b[0mremove_punctuation\u001b[0m\u001b[0;34m(\u001b[0m\u001b[0mtest_line\u001b[0m\u001b[0;34m)\u001b[0m\u001b[0;34m\u001b[0m\u001b[0;34m\u001b[0m\u001b[0m\n\u001b[0m",
      "\u001b[0;32m<ipython-input-66-87d6eb9b4e89>\u001b[0m in \u001b[0;36mremove_punctuation\u001b[0;34m(line)\u001b[0m\n\u001b[1;32m      2\u001b[0m \u001b[0;34m\u001b[0m\u001b[0m\n\u001b[1;32m      3\u001b[0m \u001b[0;32mdef\u001b[0m \u001b[0mremove_punctuation\u001b[0m\u001b[0;34m(\u001b[0m\u001b[0mline\u001b[0m\u001b[0;34m)\u001b[0m\u001b[0;34m:\u001b[0m\u001b[0;34m\u001b[0m\u001b[0;34m\u001b[0m\u001b[0m\n\u001b[0;32m----> 4\u001b[0;31m   \u001b[0;32mreturn\u001b[0m \u001b[0mre\u001b[0m\u001b[0;34m.\u001b[0m\u001b[0msub\u001b[0m\u001b[0;34m(\u001b[0m\u001b[0;34m'[^A-Za-z0-9]'\u001b[0m\u001b[0;34m,\u001b[0m \u001b[0;34m\" \"\u001b[0m\u001b[0;34m,\u001b[0m \u001b[0mtxt\u001b[0m\u001b[0;34m.\u001b[0m\u001b[0mlower\u001b[0m\u001b[0;34m(\u001b[0m\u001b[0;34m)\u001b[0m\u001b[0;34m)\u001b[0m\u001b[0;34m\u001b[0m\u001b[0;34m\u001b[0m\u001b[0m\n\u001b[0m\u001b[1;32m      5\u001b[0m \u001b[0;34m\u001b[0m\u001b[0m\n\u001b[1;32m      6\u001b[0m \u001b[0mremove_punctuation\u001b[0m\u001b[0;34m(\u001b[0m\u001b[0mtest_line\u001b[0m\u001b[0;34m)\u001b[0m\u001b[0;34m\u001b[0m\u001b[0;34m\u001b[0m\u001b[0m\n",
      "\u001b[0;31mNameError\u001b[0m: name 'txt' is not defined"
     ]
    }
   ],
   "source": []
  },
  {
   "cell_type": "markdown",
   "metadata": {
    "colab_type": "text",
    "id": "i7mHH0ZHuITK"
   },
   "source": [
    "### ** (2d.2) Capitalization and punctuation **\n",
    "Real world files are more complicated than the data we have been using in this lab. Some of the issues we have to address are:\n",
    "  + Words should be counted independent of their capitialization (e.g., Spark and spark should be counted as the same word).\n",
    "  + All punctuation should be removed.\n",
    "  + Any leading or trailing spaces on a line should be removed.\n",
    " \n",
    "Define the function `removePunctuation` that converts all text to lower case, removes any punctuation, and removes leading and trailing spaces.  Use the Python [re](https://docs.python.org/2/library/re.html) module to remove any text that is not a letter, number, or space. Reading `help(re.sub)` might be useful."
   ]
  },
  {
   "cell_type": "code",
   "execution_count": 78,
   "metadata": {
    "colab": {
     "base_uri": "https://localhost:8080/",
     "height": 338
    },
    "colab_type": "code",
    "executionInfo": {
     "elapsed": 568,
     "status": "error",
     "timestamp": 1595008488131,
     "user": {
      "displayName": "Víctor Gómez",
      "photoUrl": "https://lh3.googleusercontent.com/a-/AOh14GhhsqFzsWCtiVVJT4poUeXdfnsxahYMlF8M-_jkrw=s64",
      "userId": "02303527296787961109"
     },
     "user_tz": -120
    },
    "id": "yczbAA4ruITL",
    "outputId": "cf01aa46-6f25-49b9-d5f0-f9da70797a78"
   },
   "outputs": [
    {
     "ename": "NameError",
     "evalue": "ignored",
     "output_type": "error",
     "traceback": [
      "\u001b[0;31m---------------------------------------------------------------------------\u001b[0m",
      "\u001b[0;31mNameError\u001b[0m                                 Traceback (most recent call last)",
      "\u001b[0;32m<ipython-input-78-28ec20584136>\u001b[0m in \u001b[0;36m<module>\u001b[0;34m()\u001b[0m\n\u001b[1;32m      3\u001b[0m \u001b[0;32mdef\u001b[0m \u001b[0mremove_punctuacion\u001b[0m\u001b[0;34m(\u001b[0m\u001b[0mline\u001b[0m\u001b[0;34m)\u001b[0m\u001b[0;34m:\u001b[0m\u001b[0;34m\u001b[0m\u001b[0;34m\u001b[0m\u001b[0m\n\u001b[1;32m      4\u001b[0m   \u001b[0;32mreturn\u001b[0m \u001b[0mre\u001b[0m\u001b[0;34m.\u001b[0m\u001b[0msub\u001b[0m\u001b[0;34m(\u001b[0m\u001b[0;34m'[^a-z0-9 ]'\u001b[0m\u001b[0;34m,\u001b[0m \u001b[0;34m''\u001b[0m\u001b[0;34m,\u001b[0m \u001b[0mline\u001b[0m\u001b[0;34m)\u001b[0m\u001b[0;34m\u001b[0m\u001b[0;34m\u001b[0m\u001b[0m\n\u001b[0;32m----> 5\u001b[0;31m \u001b[0mremove_punctuation\u001b[0m\u001b[0;34m(\u001b[0m\u001b[0mtest_line\u001b[0m\u001b[0;34m)\u001b[0m\u001b[0;34m\u001b[0m\u001b[0;34m\u001b[0m\u001b[0m\n\u001b[0m",
      "\u001b[0;32m<ipython-input-66-87d6eb9b4e89>\u001b[0m in \u001b[0;36mremove_punctuation\u001b[0;34m(line)\u001b[0m\n\u001b[1;32m      2\u001b[0m \u001b[0;34m\u001b[0m\u001b[0m\n\u001b[1;32m      3\u001b[0m \u001b[0;32mdef\u001b[0m \u001b[0mremove_punctuation\u001b[0m\u001b[0;34m(\u001b[0m\u001b[0mline\u001b[0m\u001b[0;34m)\u001b[0m\u001b[0;34m:\u001b[0m\u001b[0;34m\u001b[0m\u001b[0;34m\u001b[0m\u001b[0m\n\u001b[0;32m----> 4\u001b[0;31m   \u001b[0;32mreturn\u001b[0m \u001b[0mre\u001b[0m\u001b[0;34m.\u001b[0m\u001b[0msub\u001b[0m\u001b[0;34m(\u001b[0m\u001b[0;34m'[^A-Za-z0-9]'\u001b[0m\u001b[0;34m,\u001b[0m \u001b[0;34m\" \"\u001b[0m\u001b[0;34m,\u001b[0m \u001b[0mtxt\u001b[0m\u001b[0;34m.\u001b[0m\u001b[0mlower\u001b[0m\u001b[0;34m(\u001b[0m\u001b[0;34m)\u001b[0m\u001b[0;34m)\u001b[0m\u001b[0;34m\u001b[0m\u001b[0;34m\u001b[0m\u001b[0m\n\u001b[0m\u001b[1;32m      5\u001b[0m \u001b[0;34m\u001b[0m\u001b[0m\n\u001b[1;32m      6\u001b[0m \u001b[0mremove_punctuation\u001b[0m\u001b[0;34m(\u001b[0m\u001b[0mtest_line\u001b[0m\u001b[0;34m)\u001b[0m\u001b[0;34m\u001b[0m\u001b[0;34m\u001b[0m\u001b[0m\n",
      "\u001b[0;31mNameError\u001b[0m: name 'txt' is not defined"
     ]
    }
   ],
   "source": [
    "test_line = 'Project Gutenberg’s The Complete Works of William Shakespeare, by William Shakespeare'\n",
    "\n",
    "def remove_punctuacion(line): \n",
    "  return re.sub('[^a-z0-9 ]', '', line)\n",
    "remove_punctuation(test_line)"
   ]
  },
  {
   "cell_type": "code",
   "execution_count": 75,
   "metadata": {
    "colab": {
     "base_uri": "https://localhost:8080/",
     "height": 209
    },
    "colab_type": "code",
    "executionInfo": {
     "elapsed": 487,
     "status": "error",
     "timestamp": 1595008362071,
     "user": {
      "displayName": "Víctor Gómez",
      "photoUrl": "https://lh3.googleusercontent.com/a-/AOh14GhhsqFzsWCtiVVJT4poUeXdfnsxahYMlF8M-_jkrw=s64",
      "userId": "02303527296787961109"
     },
     "user_tz": -120
    },
    "id": "P2zpEqDR5vFL",
    "outputId": "1684560e-8ffa-45b2-8449-bc566c6dc18c"
   },
   "outputs": [
    {
     "ename": "NameError",
     "evalue": "ignored",
     "output_type": "error",
     "traceback": [
      "\u001b[0;31m---------------------------------------------------------------------------\u001b[0m",
      "\u001b[0;31mNameError\u001b[0m                                 Traceback (most recent call last)",
      "\u001b[0;32m<ipython-input-75-bfbf57236728>\u001b[0m in \u001b[0;36m<module>\u001b[0;34m()\u001b[0m\n\u001b[0;32m----> 1\u001b[0;31m \u001b[0mshakespeare\u001b[0m \u001b[0;34m=\u001b[0m \u001b[0mspark\u001b[0m\u001b[0;34m.\u001b[0m\u001b[0msparkContext\u001b[0m\u001b[0;34m.\u001b[0m\u001b[0mtextFile\u001b[0m\u001b[0;34m(\u001b[0m\u001b[0mshakespeare\u001b[0m\u001b[0;34m.\u001b[0m\u001b[0mtxt\u001b[0m\u001b[0;34m)\u001b[0m\u001b[0;34m\u001b[0m\u001b[0;34m\u001b[0m\u001b[0m\n\u001b[0m\u001b[1;32m      2\u001b[0m \u001b[0;34m\u001b[0m\u001b[0m\n\u001b[1;32m      3\u001b[0m \u001b[0mclean_lines\u001b[0m \u001b[0;34m=\u001b[0m  \u001b[0mshakespeare\u001b[0m\u001b[0;34m.\u001b[0m\u001b[0mmap\u001b[0m\u001b[0;34m(\u001b[0m\u001b[0mremove_punctuation\u001b[0m\u001b[0;34m)\u001b[0m\u001b[0;34m\u001b[0m\u001b[0;34m\u001b[0m\u001b[0m\n",
      "\u001b[0;31mNameError\u001b[0m: name 'shakespeare' is not defined"
     ]
    }
   ],
   "source": [
    "shakespeare = spark.sparkContext.textFile(shakespeare.txt)\n",
    "\n",
    "clean_lines =  shakespeare.map(remove_punctuation)\n"
   ]
  },
  {
   "cell_type": "markdown",
   "metadata": {
    "colab_type": "text",
    "id": "2MUiBoE_uITV"
   },
   "source": [
    "http://www.regular-expressions.info/quickstart.html\n",
    "\n",
    "https://regex101.com/"
   ]
  },
  {
   "cell_type": "markdown",
   "metadata": {
    "colab_type": "text",
    "id": "hhvVQN_-uITW"
   },
   "source": [
    "### ** (2d.3) Words from lines **\n",
    "Before we can use the `wordcount()` function, we have to address two issues with the format of the RDD:\n",
    "  + The first issue is that  that we need to split each line by its spaces.\n",
    "  + The second issue is we need to filter out empty lines.\n",
    " \n",
    "Apply a transformation that will split each element of the RDD by its spaces. For each element of the RDD, you should apply Python's string [split()](https://docs.python.org/3/library/stdtypes.html#str.split) function. You might think that a `map()` transformation is the way to do this, but think about what the result of the `split()` function will be.\n",
    "\n",
    "Check out the Spark Programming Guide for an alternative transformation that helps us here."
   ]
  },
  {
   "cell_type": "code",
   "execution_count": 83,
   "metadata": {
    "colab": {
     "base_uri": "https://localhost:8080/",
     "height": 228
    },
    "colab_type": "code",
    "executionInfo": {
     "elapsed": 515,
     "status": "error",
     "timestamp": 1595008791299,
     "user": {
      "displayName": "Víctor Gómez",
      "photoUrl": "https://lh3.googleusercontent.com/a-/AOh14GhhsqFzsWCtiVVJT4poUeXdfnsxahYMlF8M-_jkrw=s64",
      "userId": "02303527296787961109"
     },
     "user_tz": -120
    },
    "id": "3lJL__pjuITX",
    "outputId": "57658a79-28ca-4c7f-c077-1d0cb7763ae5"
   },
   "outputs": [
    {
     "ename": "AttributeError",
     "evalue": "ignored",
     "output_type": "error",
     "traceback": [
      "\u001b[0;31m---------------------------------------------------------------------------\u001b[0m",
      "\u001b[0;31mAttributeError\u001b[0m                            Traceback (most recent call last)",
      "\u001b[0;32m<ipython-input-83-bbeee288823a>\u001b[0m in \u001b[0;36m<module>\u001b[0;34m()\u001b[0m\n\u001b[1;32m      1\u001b[0m \u001b[0mclean_lines\u001b[0m \u001b[0;34m=\u001b[0m \u001b[0;34m'Project Gutenberg’s The Complete Works of William Shakespeare, by William Shakespeare'\u001b[0m\u001b[0;34m\u001b[0m\u001b[0;34m\u001b[0m\u001b[0m\n\u001b[1;32m      2\u001b[0m \u001b[0;34m\u001b[0m\u001b[0m\n\u001b[0;32m----> 3\u001b[0;31m \u001b[0mwords\u001b[0m \u001b[0;34m=\u001b[0m \u001b[0mclean_lines\u001b[0m\u001b[0;34m.\u001b[0m\u001b[0mflatmap\u001b[0m\u001b[0;34m(\u001b[0m\u001b[0mstr\u001b[0m\u001b[0;34m.\u001b[0m\u001b[0msplit\u001b[0m\u001b[0;34m)\u001b[0m\u001b[0;34m\u001b[0m\u001b[0;34m\u001b[0m\u001b[0m\n\u001b[0m\u001b[1;32m      4\u001b[0m \u001b[0mwords\u001b[0m\u001b[0;34m\u001b[0m\u001b[0;34m\u001b[0m\u001b[0m\n",
      "\u001b[0;31mAttributeError\u001b[0m: 'str' object has no attribute 'flatmap'"
     ]
    }
   ],
   "source": [
    "clean_lines = 'Project Gutenberg’s The Complete Works of William Shakespeare, by William Shakespeare'\n",
    "\n",
    "words = clean_lines.flatmap(str.split)\n",
    "words"
   ]
  },
  {
   "cell_type": "markdown",
   "metadata": {
    "colab_type": "text",
    "id": "qOGUo-03uITd"
   },
   "source": [
    "### (2d.4) Count the words and show the top 15\n",
    "\n",
    "We know the drill at this point, don't we? We map to a tuple then `reduceByKey`\n",
    "\n",
    "We can view the top 15 words by using the `takeOrdered()` action; however, since the elements of the RDD are pair tuples, we need a custom sort function that sorts using the value part of the pair rather than the key.\n",
    "\n",
    "You'll notice that many of the words are common English words (know as stopwords).\n",
    "\n",
    "Use our map reduce and and `takeOrdered()` to obtain the fifteen most common words and their counts."
   ]
  },
  {
   "cell_type": "code",
   "execution_count": null,
   "metadata": {
    "colab": {},
    "colab_type": "code",
    "id": "OkcpvuMMuITe"
   },
   "outputs": [],
   "source": [
    "words.map(lambda word)\n",
    "words.reduceByKey(lambda x, y: x + y)"
   ]
  },
  {
   "cell_type": "markdown",
   "metadata": {
    "colab_type": "text",
    "id": "XWBT7NjHuITp"
   },
   "source": [
    "# Practical"
   ]
  },
  {
   "cell_type": "markdown",
   "metadata": {
    "colab_type": "text",
    "id": "7rjZmp2buITq"
   },
   "source": [
    "## ETL with airline coupon data"
   ]
  },
  {
   "cell_type": "markdown",
   "metadata": {
    "colab_type": "text",
    "id": "MVyJmwWwuITs"
   },
   "source": [
    "Load the data first: coupon data"
   ]
  },
  {
   "cell_type": "code",
   "execution_count": null,
   "metadata": {
    "colab": {},
    "colab_type": "code",
    "id": "RGngNyeiuITt"
   },
   "outputs": [],
   "source": []
  },
  {
   "cell_type": "markdown",
   "metadata": {
    "colab_type": "text",
    "id": "Tg1J3C8HuIT1"
   },
   "source": [
    "#### Exercise\n",
    "\n",
    "Take fields 0, 2, 3, 4, and 6 from each line of coupons"
   ]
  },
  {
   "cell_type": "code",
   "execution_count": null,
   "metadata": {
    "colab": {},
    "colab_type": "code",
    "id": "IUywwEqJuIT1"
   },
   "outputs": [],
   "source": []
  },
  {
   "cell_type": "markdown",
   "metadata": {
    "colab_type": "text",
    "id": "ZK3YXhmuuIT5"
   },
   "source": [
    "#### Intermission: Stack traces in Spark\n",
    "\n",
    "Stack traces in pyspark are quite convoluted because we have many layers of processing. Look for the python stack trace contained within the Py4JJavaError message."
   ]
  },
  {
   "cell_type": "code",
   "execution_count": null,
   "metadata": {
    "colab": {},
    "colab_type": "code",
    "id": "51E3OA4UuIT6"
   },
   "outputs": [],
   "source": []
  },
  {
   "cell_type": "markdown",
   "metadata": {
    "colab_type": "text",
    "id": "Ij4vx5ITuIUA"
   },
   "source": [
    "#### Exercise\n",
    "\n",
    "Keep only the amount. Get average, max, min and std"
   ]
  },
  {
   "cell_type": "code",
   "execution_count": null,
   "metadata": {
    "colab": {},
    "colab_type": "code",
    "id": "4zIk8cmAuIUC"
   },
   "outputs": [],
   "source": []
  },
  {
   "cell_type": "markdown",
   "metadata": {
    "colab_type": "text",
    "id": "lSOgyH0uuIUI"
   },
   "source": [
    "#### All in one go!\n",
    "\n"
   ]
  },
  {
   "cell_type": "code",
   "execution_count": null,
   "metadata": {
    "colab": {},
    "colab_type": "code",
    "id": "pabx7F8huIUI"
   },
   "outputs": [],
   "source": []
  },
  {
   "cell_type": "markdown",
   "metadata": {
    "colab_type": "text",
    "id": "2D28qSYpuIUO"
   },
   "source": [
    "#### Exercise\n",
    "\n",
    "Get stats on ticket amount for all tickets with destination MAD\n",
    "\n",
    "You will need to extract ticket amounts with destination MAD, and then calculate:\n",
    "\n",
    "1. Total ticket amounts per origin\n",
    "2. Top 10 airlines by average amount"
   ]
  },
  {
   "cell_type": "markdown",
   "metadata": {
    "colab_type": "text",
    "id": "sXauRL-suIUR"
   },
   "source": [
    "#### Part 1\n",
    "\n",
    "We need to filter coupons with destination Madrid, and after that group on the origin. "
   ]
  },
  {
   "cell_type": "code",
   "execution_count": null,
   "metadata": {
    "colab": {},
    "colab_type": "code",
    "id": "FeQHrVPtuIUW"
   },
   "outputs": [],
   "source": []
  },
  {
   "cell_type": "markdown",
   "metadata": {
    "colab_type": "text",
    "id": "d7DC9UDMuIUb"
   },
   "source": [
    "At this point, we only need the origin, to group on, and the value, to sum"
   ]
  },
  {
   "cell_type": "code",
   "execution_count": null,
   "metadata": {
    "colab": {},
    "colab_type": "code",
    "id": "CRqrrurKuIUb"
   },
   "outputs": [],
   "source": []
  },
  {
   "cell_type": "markdown",
   "metadata": {
    "colab_type": "text",
    "id": "C7Ye78bVuIUi"
   },
   "source": [
    "We are now ready to reduce all amounts per origin."
   ]
  },
  {
   "cell_type": "code",
   "execution_count": null,
   "metadata": {
    "colab": {},
    "colab_type": "code",
    "id": "m85sS6fDuIUk"
   },
   "outputs": [],
   "source": []
  },
  {
   "cell_type": "markdown",
   "metadata": {
    "colab_type": "text",
    "id": "WNtG0e_XuIUo"
   },
   "source": [
    "#### Part 2\n",
    "\n",
    "This is very similar, with two differences: we need to group on the airline, and to calculate averages we need to keep track of both the total amount on the coupons and the number of coupons."
   ]
  },
  {
   "cell_type": "code",
   "execution_count": null,
   "metadata": {
    "colab": {},
    "colab_type": "code",
    "id": "D-e1SpE7uIUo"
   },
   "outputs": [],
   "source": []
  },
  {
   "cell_type": "markdown",
   "metadata": {
    "colab_type": "text",
    "id": "-amB58jmuIUr"
   },
   "source": [
    "Now we reduce tuples, summing each component of the tuple separately."
   ]
  },
  {
   "cell_type": "code",
   "execution_count": null,
   "metadata": {
    "colab": {},
    "colab_type": "code",
    "id": "tOIIep3YuIUs"
   },
   "outputs": [],
   "source": []
  },
  {
   "cell_type": "markdown",
   "metadata": {
    "colab_type": "text",
    "id": "6cS-MKl-uIUy"
   },
   "source": [
    "This reduceByKey generates an RDD of the form (k, (v1, v2)). We can map it like this:"
   ]
  },
  {
   "cell_type": "code",
   "execution_count": null,
   "metadata": {
    "colab": {},
    "colab_type": "code",
    "id": "m3zmg47FuIUz"
   },
   "outputs": [],
   "source": []
  },
  {
   "cell_type": "markdown",
   "metadata": {
    "colab_type": "text",
    "id": "FgQRG8t9uIU4"
   },
   "source": [
    "Or we can use the mapValues method to only process the (v1, v2) part, ignoring the key for processing without discarding it."
   ]
  },
  {
   "cell_type": "code",
   "execution_count": null,
   "metadata": {
    "colab": {},
    "colab_type": "code",
    "id": "uK5-NprMuIU4"
   },
   "outputs": [],
   "source": []
  },
  {
   "cell_type": "markdown",
   "metadata": {
    "colab_type": "text",
    "id": "3Bp7AIEQuIU8"
   },
   "source": [
    "And we're ready to take our result."
   ]
  },
  {
   "cell_type": "code",
   "execution_count": null,
   "metadata": {
    "colab": {},
    "colab_type": "code",
    "id": "WtS0gChSuIU9"
   },
   "outputs": [],
   "source": []
  },
  {
   "cell_type": "markdown",
   "metadata": {
    "colab_type": "text",
    "id": "vEkugCp2uIVI"
   },
   "source": [
    "#### Stretch: \n",
    "\n",
    "Get the totals from first origin without using the coupon number"
   ]
  },
  {
   "cell_type": "code",
   "execution_count": null,
   "metadata": {
    "colab": {},
    "colab_type": "code",
    "id": "z25eQjD9uIVJ"
   },
   "outputs": [],
   "source": []
  },
  {
   "cell_type": "markdown",
   "metadata": {
    "colab_type": "text",
    "id": "ZyOpt2E2uIVQ"
   },
   "source": [
    "We'll use groupBy this time, because we need to look at every coupon in a ticket in order to identify first origin."
   ]
  },
  {
   "cell_type": "code",
   "execution_count": null,
   "metadata": {
    "colab": {},
    "colab_type": "code",
    "id": "A8cB2LaMuIVR"
   },
   "outputs": [],
   "source": []
  },
  {
   "cell_type": "markdown",
   "metadata": {
    "colab_type": "text",
    "id": "G87sd-oQuIVe"
   },
   "source": [
    "A ResultIterable is a lazy collection, so we can take it and iterate over it, or turn it into a list to materialize it. This is useful to get a test case to test the function we will be writing."
   ]
  },
  {
   "cell_type": "code",
   "execution_count": null,
   "metadata": {
    "colab": {},
    "colab_type": "code",
    "id": "HQknkgPSuIVf"
   },
   "outputs": [],
   "source": []
  },
  {
   "cell_type": "markdown",
   "metadata": {
    "colab_type": "text",
    "id": "L2xkjJ-yuIVq"
   },
   "source": [
    "We are going to compare the set of origins to the set of destinations. The one that is in the first but not in the second should be the first origin."
   ]
  },
  {
   "cell_type": "code",
   "execution_count": null,
   "metadata": {
    "colab": {},
    "colab_type": "code",
    "id": "t9vONkvWuIVr"
   },
   "outputs": [],
   "source": []
  },
  {
   "cell_type": "markdown",
   "metadata": {
    "colab_type": "text",
    "id": "Sgw2bxktuIVx"
   },
   "source": [
    "Now we have have our values, so we are ready to get the totals and sort. Before we reduceByKey, we need to reshape our tuples so the first origin is the key."
   ]
  },
  {
   "cell_type": "code",
   "execution_count": null,
   "metadata": {
    "colab": {},
    "colab_type": "code",
    "id": "ExH_D7ifuIVy"
   },
   "outputs": [],
   "source": []
  },
  {
   "cell_type": "markdown",
   "metadata": {
    "colab_type": "text",
    "id": "tlXDpQu_uIV7"
   },
   "source": [
    "### Further resources\n",
    "\n",
    "https://s3.amazonaws.com/assets.datacamp.com/blog_assets/PySpark_Cheat_Sheet_Python.pdf"
   ]
  }
 ],
 "metadata": {
  "anaconda-cloud": {},
  "colab": {
   "collapsed_sections": [
    "HoyD6GNbuIQH",
    "gUG5cM2XuIQS",
    "DKSL7YPBuIQ7",
    "V250cpc5uIRS",
    "XwIik8rfuIRd",
    "uOHxVuhiuISK",
    "c9MAI5YWuISi",
    "tdfnvgYuuISp",
    "hF-S-14auISx",
    "3TQTdTMzuIS2",
    "-XErA84zuITD",
    "i7mHH0ZHuITK",
    "hhvVQN_-uITW",
    "qOGUo-03uITd",
    "Tg1J3C8HuIT1",
    "ZK3YXhmuuIT5",
    "Ij4vx5ITuIUA",
    "lSOgyH0uuIUI",
    "2D28qSYpuIUO",
    "sXauRL-suIUR",
    "WNtG0e_XuIUo",
    "vEkugCp2uIVI",
    "tlXDpQu_uIV7"
   ],
   "name": "01_first_steps_with_distributed_systems_MapReduce_inclass_PROF.ipynb",
   "provenance": []
  },
  "kernelspec": {
   "display_name": "Python 3",
   "language": "python",
   "name": "python3"
  },
  "language_info": {
   "codemirror_mode": {
    "name": "ipython",
    "version": 3
   },
   "file_extension": ".py",
   "mimetype": "text/x-python",
   "name": "python",
   "nbconvert_exporter": "python",
   "pygments_lexer": "ipython3",
   "version": "3.7.3"
  }
 },
 "nbformat": 4,
 "nbformat_minor": 4
}
