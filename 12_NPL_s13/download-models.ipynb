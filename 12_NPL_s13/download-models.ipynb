{
 "cells": [
  {
   "cell_type": "markdown",
   "metadata": {
    "Collapsed": "false"
   },
   "source": [
    "# Download Models\n"
   ]
  },
  {
   "cell_type": "code",
   "execution_count": 1,
   "metadata": {},
   "outputs": [
    {
     "name": "stderr",
     "output_type": "stream",
     "text": [
      "[nltk_data] Downloading package brown to /Users/victormac/nltk_data...\n",
      "[nltk_data]   Package brown is already up-to-date!\n",
      "[nltk_data] Downloading package cess_esp to\n",
      "[nltk_data]     /Users/victormac/nltk_data...\n",
      "[nltk_data]   Package cess_esp is already up-to-date!\n"
     ]
    },
    {
     "data": {
      "text/plain": [
       "True"
      ]
     },
     "execution_count": 1,
     "metadata": {},
     "output_type": "execute_result"
    }
   ],
   "source": [
    "# NLTK tagged datasets\n",
    "\n",
    "import nltk\n",
    "\n",
    "nltk.download(\"brown\")\n",
    "nltk.download(\"cess_esp\")"
   ]
  },
  {
   "cell_type": "code",
   "execution_count": 2,
   "metadata": {},
   "outputs": [
    {
     "name": "stdout",
     "output_type": "stream",
     "text": [
      "Requirement already satisfied: en_core_web_md==2.2.5 from https://github.com/explosion/spacy-models/releases/download/en_core_web_md-2.2.5/en_core_web_md-2.2.5.tar.gz#egg=en_core_web_md==2.2.5 in /Users/victormac/anaconda3/envs/nlp/lib/python3.7/site-packages (2.2.5)\n",
      "Requirement already satisfied: spacy>=2.2.2 in /Users/victormac/anaconda3/envs/nlp/lib/python3.7/site-packages (from en_core_web_md==2.2.5) (2.2.4)\n",
      "Requirement already satisfied: blis<0.5.0,>=0.4.0 in /Users/victormac/anaconda3/envs/nlp/lib/python3.7/site-packages (from spacy>=2.2.2->en_core_web_md==2.2.5) (0.4.1)\n",
      "Requirement already satisfied: setuptools in /Users/victormac/anaconda3/envs/nlp/lib/python3.7/site-packages (from spacy>=2.2.2->en_core_web_md==2.2.5) (46.4.0.post20200518)\n",
      "Requirement already satisfied: requests<3.0.0,>=2.13.0 in /Users/victormac/anaconda3/envs/nlp/lib/python3.7/site-packages (from spacy>=2.2.2->en_core_web_md==2.2.5) (2.23.0)\n",
      "Requirement already satisfied: cymem<2.1.0,>=2.0.2 in /Users/victormac/anaconda3/envs/nlp/lib/python3.7/site-packages (from spacy>=2.2.2->en_core_web_md==2.2.5) (2.0.3)\n",
      "Requirement already satisfied: preshed<3.1.0,>=3.0.2 in /Users/victormac/anaconda3/envs/nlp/lib/python3.7/site-packages (from spacy>=2.2.2->en_core_web_md==2.2.5) (3.0.2)\n",
      "Requirement already satisfied: wasabi<1.1.0,>=0.4.0 in /Users/victormac/anaconda3/envs/nlp/lib/python3.7/site-packages (from spacy>=2.2.2->en_core_web_md==2.2.5) (0.6.0)\n",
      "Requirement already satisfied: thinc==7.4.0 in /Users/victormac/anaconda3/envs/nlp/lib/python3.7/site-packages (from spacy>=2.2.2->en_core_web_md==2.2.5) (7.4.0)\n",
      "Requirement already satisfied: srsly<1.1.0,>=1.0.2 in /Users/victormac/anaconda3/envs/nlp/lib/python3.7/site-packages (from spacy>=2.2.2->en_core_web_md==2.2.5) (1.0.2)\n",
      "Requirement already satisfied: catalogue<1.1.0,>=0.0.7 in /Users/victormac/anaconda3/envs/nlp/lib/python3.7/site-packages (from spacy>=2.2.2->en_core_web_md==2.2.5) (1.0.0)\n",
      "Requirement already satisfied: numpy>=1.15.0 in /Users/victormac/anaconda3/envs/nlp/lib/python3.7/site-packages (from spacy>=2.2.2->en_core_web_md==2.2.5) (1.18.1)\n",
      "Requirement already satisfied: murmurhash<1.1.0,>=0.28.0 in /Users/victormac/anaconda3/envs/nlp/lib/python3.7/site-packages (from spacy>=2.2.2->en_core_web_md==2.2.5) (1.0.2)\n",
      "Requirement already satisfied: tqdm<5.0.0,>=4.38.0 in /Users/victormac/anaconda3/envs/nlp/lib/python3.7/site-packages (from spacy>=2.2.2->en_core_web_md==2.2.5) (4.46.0)\n",
      "Requirement already satisfied: plac<1.2.0,>=0.9.6 in /Users/victormac/anaconda3/envs/nlp/lib/python3.7/site-packages (from spacy>=2.2.2->en_core_web_md==2.2.5) (1.1.3)\n",
      "Requirement already satisfied: urllib3!=1.25.0,!=1.25.1,<1.26,>=1.21.1 in /Users/victormac/anaconda3/envs/nlp/lib/python3.7/site-packages (from requests<3.0.0,>=2.13.0->spacy>=2.2.2->en_core_web_md==2.2.5) (1.25.8)\n",
      "Requirement already satisfied: idna<3,>=2.5 in /Users/victormac/anaconda3/envs/nlp/lib/python3.7/site-packages (from requests<3.0.0,>=2.13.0->spacy>=2.2.2->en_core_web_md==2.2.5) (2.9)\n",
      "Requirement already satisfied: chardet<4,>=3.0.2 in /Users/victormac/anaconda3/envs/nlp/lib/python3.7/site-packages (from requests<3.0.0,>=2.13.0->spacy>=2.2.2->en_core_web_md==2.2.5) (3.0.4)\n",
      "Requirement already satisfied: certifi>=2017.4.17 in /Users/victormac/anaconda3/envs/nlp/lib/python3.7/site-packages (from requests<3.0.0,>=2.13.0->spacy>=2.2.2->en_core_web_md==2.2.5) (2020.4.5.1)\n",
      "Requirement already satisfied: importlib-metadata>=0.20; python_version < \"3.8\" in /Users/victormac/anaconda3/envs/nlp/lib/python3.7/site-packages (from catalogue<1.1.0,>=0.0.7->spacy>=2.2.2->en_core_web_md==2.2.5) (1.6.0)\n",
      "Requirement already satisfied: zipp>=0.5 in /Users/victormac/anaconda3/envs/nlp/lib/python3.7/site-packages (from importlib-metadata>=0.20; python_version < \"3.8\"->catalogue<1.1.0,>=0.0.7->spacy>=2.2.2->en_core_web_md==2.2.5) (3.1.0)\n",
      "\u001b[38;5;2m✔ Download and installation successful\u001b[0m\n",
      "You can now load the model via spacy.load('en_core_web_md')\n",
      "Requirement already satisfied: es_core_news_md==2.2.5 from https://github.com/explosion/spacy-models/releases/download/es_core_news_md-2.2.5/es_core_news_md-2.2.5.tar.gz#egg=es_core_news_md==2.2.5 in /Users/victormac/anaconda3/envs/nlp/lib/python3.7/site-packages (2.2.5)\n",
      "Requirement already satisfied: spacy>=2.2.2 in /Users/victormac/anaconda3/envs/nlp/lib/python3.7/site-packages (from es_core_news_md==2.2.5) (2.2.4)\n",
      "Requirement already satisfied: requests<3.0.0,>=2.13.0 in /Users/victormac/anaconda3/envs/nlp/lib/python3.7/site-packages (from spacy>=2.2.2->es_core_news_md==2.2.5) (2.23.0)\n",
      "Requirement already satisfied: plac<1.2.0,>=0.9.6 in /Users/victormac/anaconda3/envs/nlp/lib/python3.7/site-packages (from spacy>=2.2.2->es_core_news_md==2.2.5) (1.1.3)\n",
      "Requirement already satisfied: murmurhash<1.1.0,>=0.28.0 in /Users/victormac/anaconda3/envs/nlp/lib/python3.7/site-packages (from spacy>=2.2.2->es_core_news_md==2.2.5) (1.0.2)\n",
      "Requirement already satisfied: tqdm<5.0.0,>=4.38.0 in /Users/victormac/anaconda3/envs/nlp/lib/python3.7/site-packages (from spacy>=2.2.2->es_core_news_md==2.2.5) (4.46.0)\n",
      "Requirement already satisfied: srsly<1.1.0,>=1.0.2 in /Users/victormac/anaconda3/envs/nlp/lib/python3.7/site-packages (from spacy>=2.2.2->es_core_news_md==2.2.5) (1.0.2)\n",
      "Requirement already satisfied: catalogue<1.1.0,>=0.0.7 in /Users/victormac/anaconda3/envs/nlp/lib/python3.7/site-packages (from spacy>=2.2.2->es_core_news_md==2.2.5) (1.0.0)\n",
      "Requirement already satisfied: blis<0.5.0,>=0.4.0 in /Users/victormac/anaconda3/envs/nlp/lib/python3.7/site-packages (from spacy>=2.2.2->es_core_news_md==2.2.5) (0.4.1)\n",
      "Requirement already satisfied: preshed<3.1.0,>=3.0.2 in /Users/victormac/anaconda3/envs/nlp/lib/python3.7/site-packages (from spacy>=2.2.2->es_core_news_md==2.2.5) (3.0.2)\n",
      "Requirement already satisfied: wasabi<1.1.0,>=0.4.0 in /Users/victormac/anaconda3/envs/nlp/lib/python3.7/site-packages (from spacy>=2.2.2->es_core_news_md==2.2.5) (0.6.0)\n",
      "Requirement already satisfied: setuptools in /Users/victormac/anaconda3/envs/nlp/lib/python3.7/site-packages (from spacy>=2.2.2->es_core_news_md==2.2.5) (46.4.0.post20200518)\n",
      "Requirement already satisfied: numpy>=1.15.0 in /Users/victormac/anaconda3/envs/nlp/lib/python3.7/site-packages (from spacy>=2.2.2->es_core_news_md==2.2.5) (1.18.1)\n",
      "Requirement already satisfied: thinc==7.4.0 in /Users/victormac/anaconda3/envs/nlp/lib/python3.7/site-packages (from spacy>=2.2.2->es_core_news_md==2.2.5) (7.4.0)\n",
      "Requirement already satisfied: cymem<2.1.0,>=2.0.2 in /Users/victormac/anaconda3/envs/nlp/lib/python3.7/site-packages (from spacy>=2.2.2->es_core_news_md==2.2.5) (2.0.3)\n",
      "Requirement already satisfied: urllib3!=1.25.0,!=1.25.1,<1.26,>=1.21.1 in /Users/victormac/anaconda3/envs/nlp/lib/python3.7/site-packages (from requests<3.0.0,>=2.13.0->spacy>=2.2.2->es_core_news_md==2.2.5) (1.25.8)\n",
      "Requirement already satisfied: chardet<4,>=3.0.2 in /Users/victormac/anaconda3/envs/nlp/lib/python3.7/site-packages (from requests<3.0.0,>=2.13.0->spacy>=2.2.2->es_core_news_md==2.2.5) (3.0.4)\n",
      "Requirement already satisfied: idna<3,>=2.5 in /Users/victormac/anaconda3/envs/nlp/lib/python3.7/site-packages (from requests<3.0.0,>=2.13.0->spacy>=2.2.2->es_core_news_md==2.2.5) (2.9)\n",
      "Requirement already satisfied: certifi>=2017.4.17 in /Users/victormac/anaconda3/envs/nlp/lib/python3.7/site-packages (from requests<3.0.0,>=2.13.0->spacy>=2.2.2->es_core_news_md==2.2.5) (2020.4.5.1)\n",
      "Requirement already satisfied: importlib-metadata>=0.20; python_version < \"3.8\" in /Users/victormac/anaconda3/envs/nlp/lib/python3.7/site-packages (from catalogue<1.1.0,>=0.0.7->spacy>=2.2.2->es_core_news_md==2.2.5) (1.6.0)\n",
      "Requirement already satisfied: zipp>=0.5 in /Users/victormac/anaconda3/envs/nlp/lib/python3.7/site-packages (from importlib-metadata>=0.20; python_version < \"3.8\"->catalogue<1.1.0,>=0.0.7->spacy>=2.2.2->es_core_news_md==2.2.5) (3.1.0)\n",
      "\u001b[38;5;2m✔ Download and installation successful\u001b[0m\n",
      "You can now load the model via spacy.load('es_core_news_md')\n"
     ]
    }
   ],
   "source": [
    "# spaCy models for EN and ES\n",
    "\n",
    "!python -m spacy download en_core_web_md\n",
    "!python -m spacy download es_core_news_md"
   ]
  },
  {
   "cell_type": "code",
   "execution_count": 3,
   "metadata": {},
   "outputs": [
    {
     "output_type": "stream",
     "name": "stdout",
     "text": "Collecting python3-wget\n  Downloading python3-wget-0.0.2-beta1.tar.gz (7.6 kB)\nCollecting hurry.filesize\n  Downloading hurry.filesize-0.9.tar.gz (2.8 kB)\nRequirement already satisfied: setuptools in /Users/victormac/anaconda3/envs/nlp/lib/python3.7/site-packages (from hurry.filesize->python3-wget) (46.4.0.post20200518)\nBuilding wheels for collected packages: python3-wget, hurry.filesize\n  Building wheel for python3-wget (setup.py) ... \u001b[?25ldone\n\u001b[?25h  Created wheel for python3-wget: filename=python3_wget-0.0.2b1-py3-none-any.whl size=8013 sha256=4071417911f7570bb9b52cea3da7e02673414739f786383826c2f0b3f95904df\n  Stored in directory: /Users/victormac/Library/Caches/pip/wheels/52/35/d2/b16d60fcf42b7dcf597af854f195085d62722dd7f5a71ecc25\n  Building wheel for hurry.filesize (setup.py) ... \u001b[?25ldone\n\u001b[?25h  Created wheel for hurry.filesize: filename=hurry.filesize-0.9-py3-none-any.whl size=4132 sha256=3d0544d70f8d77582192944750fa937bc819267ccacf771586ab031523f59c4f\n  Stored in directory: /Users/victormac/Library/Caches/pip/wheels/2c/99/7f/8c88c372b4bd642a731232e63cb89467554f6cea7708574e49\nSuccessfully built python3-wget hurry.filesize\nInstalling collected packages: hurry.filesize, python3-wget\nSuccessfully installed hurry.filesize-0.9 python3-wget-0.0.2b1\n"
    }
   ],
   "source": [
    "!pip install python3-wget"
   ]
  },
  {
   "cell_type": "code",
   "execution_count": 1,
   "metadata": {
    "Collapsed": "false"
   },
   "outputs": [
    {
     "output_type": "stream",
     "name": "stdout",
     "text": "/bin/sh: wget: command not found\n"
    }
   ],
   "source": [
    "# word2vec embeddings for Spanish (computed from Spanish Wikipedia)\n",
    "![ -d data ] || mkdir data\n",
    "!cd data\n",
    "\n",
    "!wget -O eswiki-300.tar.gz https://vitojph.keybase.pub/eswiki-300.tar.gz?dl=1"
   ]
  },
  {
   "cell_type": "code",
   "execution_count": 5,
   "metadata": {
    "Collapsed": "false"
   },
   "outputs": [
    {
     "output_type": "stream",
     "name": "stdout",
     "text": "/bin/sh: wget: command not found\n/bin/sh: wget: command not found\n"
    }
   ],
   "source": [
    "# fastText word vectors for English and Spanish\n",
    "![ -d data ] || mkdir data\n",
    "!cd data\n",
    "\n",
    "!wget https://dl.fbaipublicfiles.com/fasttext/vectors-crawl/cc.en.300.vec.gz\n",
    "!wget https://dl.fbaipublicfiles.com/fasttext/vectors-crawl/cc.es.300.vec.gz"
   ]
  },
  {
   "cell_type": "code",
   "execution_count": null,
   "metadata": {},
   "outputs": [],
   "source": []
  }
 ],
 "metadata": {
  "kernelspec": {
   "display_name": "Python 3.7.7 64-bit ('nlp': conda)",
   "language": "python",
   "name": "python37764bitnlpcondafc931395a4d7404f941971f950edff5c"
  },
  "language_info": {
   "codemirror_mode": {
    "name": "ipython",
    "version": 3
   },
   "file_extension": ".py",
   "mimetype": "text/x-python",
   "name": "python",
   "nbconvert_exporter": "python",
   "pygments_lexer": "ipython3",
   "version": "3.7.7-final"
  }
 },
 "nbformat": 4,
 "nbformat_minor": 4
}