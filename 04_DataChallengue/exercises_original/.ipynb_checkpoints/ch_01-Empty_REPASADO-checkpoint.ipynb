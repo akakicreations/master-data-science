{
 "cells": [
  {
   "cell_type": "markdown",
   "metadata": {},
   "source": [
    "# Count the number of lines in Python for each file"
   ]
  },
  {
   "cell_type": "raw",
   "metadata": {},
   "source": [
    "1. first make a sample\n",
    "\n",
    "Options:\n",
    "    1) Command line\n",
    "    2) python"
   ]
  },
  {
   "cell_type": "markdown",
   "metadata": {},
   "source": [
    "## 1) Command Line"
   ]
  },
  {
   "cell_type": "markdown",
   "metadata": {},
   "source": [
    "#### Sample"
   ]
  },
  {
   "cell_type": "code",
   "execution_count": 2,
   "metadata": {},
   "outputs": [
    {
     "name": "stdout",
     "output_type": "stream",
     "text": [
      "\r\n",
      "bzcat: I/O or other error, bailing out.  Possible reason follows.\r\n",
      "bzcat: Broken pipe\r\n",
      "\tInput file = ./bookings.csv.bz2, output file = (stdout)\r\n"
     ]
    }
   ],
   "source": [
    "! bzcat ./bookings.csv.bz2 | head -10000 > ./bookings.sample.csv"
   ]
  },
  {
   "cell_type": "code",
   "execution_count": 5,
   "metadata": {},
   "outputs": [
    {
     "name": "stdout",
     "output_type": "stream",
     "text": [
      "/home/dsc/Data/challenge\r\n"
     ]
    }
   ],
   "source": [
    "!pwd"
   ]
  },
  {
   "cell_type": "code",
   "execution_count": 6,
   "metadata": {},
   "outputs": [],
   "source": [
    "! cd .."
   ]
  },
  {
   "cell_type": "code",
   "execution_count": 7,
   "metadata": {},
   "outputs": [
    {
     "name": "stdout",
     "output_type": "stream",
     "text": [
      "/home/dsc/Data/challenge\r\n"
     ]
    }
   ],
   "source": [
    "!pwd"
   ]
  },
  {
   "cell_type": "code",
   "execution_count": 8,
   "metadata": {},
   "outputs": [
    {
     "name": "stdout",
     "output_type": "stream",
     "text": [
      "\n",
      "Automagic is OFF, % prefix IS needed for line magics.\n"
     ]
    }
   ],
   "source": [
    "%automagic"
   ]
  },
  {
   "cell_type": "code",
   "execution_count": 10,
   "metadata": {},
   "outputs": [
    {
     "name": "stdout",
     "output_type": "stream",
     "text": [
      "\u001b[0m\u001b[01;31mbookings.csv.bz2\u001b[0m     \u001b[01;32mch_03-Empty.ipynb\u001b[0m*   \u001b[01;32mch_05-empty.ipynb\u001b[0m*\r\n",
      "bookings.sample.csv  \u001b[01;32mch_04-Empty.ipynb\u001b[0m*   \u001b[01;31msearches.csv.bz2\u001b[0m\r\n",
      "\u001b[01;32mch_01-Empty.ipynb\u001b[0m*   \u001b[01;32mch_05b-empty.ipynb\u001b[0m*\r\n"
     ]
    }
   ],
   "source": [
    "%ls"
   ]
  },
  {
   "cell_type": "code",
   "execution_count": 13,
   "metadata": {},
   "outputs": [
    {
     "name": "stdout",
     "output_type": "stream",
     "text": [
      "total 1018036\n",
      "-rw-rw-r-- 1 dsc dsc 554970628 abr  2  2018 bookings.csv.bz2\n",
      "-rw-rw-r-- 1 dsc dsc   4232732 ene 25 09:19 bookings.sample.csv\n",
      "-rwxrwxr-x 1 dsc dsc      7148 ene 25 09:27 ch_01-Empty.ipynb\n",
      "-rwxrwxr-x 1 dsc dsc     10832 ene 25 07:08 ch_03-Empty.ipynb\n",
      "-rwxrwxr-x 1 dsc dsc      8019 ene 25 07:08 ch_04-Empty.ipynb\n",
      "-rwxrwxr-x 1 dsc dsc       962 ene 25 07:08 ch_05b-empty.ipynb\n",
      "-rwxrwxr-x 1 dsc dsc     24953 ene 25 07:08 ch_05-empty.ipynb\n",
      "-rw-rw-r-- 1 dsc dsc 483188920 abr  2  2018 searches.csv.bz2\n",
      "/home/dsc/Data/challenge\n"
     ]
    }
   ],
   "source": [
    "%%bash\n",
    "ls -l\n",
    "pwd"
   ]
  },
  {
   "cell_type": "code",
   "execution_count": 12,
   "metadata": {},
   "outputs": [],
   "source": [
    "%magic"
   ]
  },
  {
   "cell_type": "code",
   "execution_count": 14,
   "metadata": {},
   "outputs": [
    {
     "name": "stdout",
     "output_type": "stream",
     "text": [
      "\n",
      "Automagic is ON, % prefix IS NOT needed for line magics.\n"
     ]
    }
   ],
   "source": [
    "%automagic"
   ]
  },
  {
   "cell_type": "code",
   "execution_count": 4,
   "metadata": {},
   "outputs": [
    {
     "name": "stdout",
     "output_type": "stream",
     "text": [
      "total 1018032\r\n",
      "-rw-rw-r-- 1 dsc dsc 554970628 abr  2  2018 \u001b[0m\u001b[01;31mbookings.csv.bz2\u001b[0m\r\n",
      "-rw-rw-r-- 1 dsc dsc   4232732 ene 25 09:19 bookings.sample.csv\r\n",
      "-rwxrwxr-x 1 dsc dsc      4083 ene 25 09:19 \u001b[01;32mch_01-Empty.ipynb\u001b[0m*\r\n",
      "-rwxrwxr-x 1 dsc dsc     10832 ene 25 07:08 \u001b[01;32mch_03-Empty.ipynb\u001b[0m*\r\n",
      "-rwxrwxr-x 1 dsc dsc      8019 ene 25 07:08 \u001b[01;32mch_04-Empty.ipynb\u001b[0m*\r\n",
      "-rwxrwxr-x 1 dsc dsc       962 ene 25 07:08 \u001b[01;32mch_05b-empty.ipynb\u001b[0m*\r\n",
      "-rwxrwxr-x 1 dsc dsc     24953 ene 25 07:08 \u001b[01;32mch_05-empty.ipynb\u001b[0m*\r\n",
      "-rw-rw-r-- 1 dsc dsc 483188920 abr  2  2018 \u001b[01;31msearches.csv.bz2\u001b[0m\r\n"
     ]
    }
   ],
   "source": [
    "ls -l"
   ]
  },
  {
   "cell_type": "code",
   "execution_count": 1,
   "metadata": {},
   "outputs": [
    {
     "name": "stdout",
     "output_type": "stream",
     "text": [
      "\u001b[0m\u001b[01;31mbookings.csv.bz2\u001b[0m    \u001b[01;32mch_03-Empty.ipynb\u001b[0m*  \u001b[01;32mch_05b-empty.ipynb\u001b[0m*  \u001b[01;31msearches.csv.bz2\u001b[0m\r\n",
      "\u001b[01;32mch_01-Empty.ipynb\u001b[0m*  \u001b[01;32mch_04-Empty.ipynb\u001b[0m*  \u001b[01;32mch_05-empty.ipynb\u001b[0m*\r\n"
     ]
    }
   ],
   "source": [
    "ls"
   ]
  },
  {
   "cell_type": "code",
   "execution_count": 15,
   "metadata": {},
   "outputs": [
    {
     "name": "stdout",
     "output_type": "stream",
     "text": [
      "/home/dsc/Data/shell\n"
     ]
    }
   ],
   "source": [
    "cd ../shell/\n"
   ]
  },
  {
   "cell_type": "code",
   "execution_count": 20,
   "metadata": {},
   "outputs": [],
   "source": [
    "! bzip2 Finn.txt Text_example.txt\n"
   ]
  },
  {
   "cell_type": "code",
   "execution_count": 22,
   "metadata": {},
   "outputs": [],
   "source": [
    "! bunzip2 *.bz2"
   ]
  },
  {
   "cell_type": "code",
   "execution_count": 23,
   "metadata": {},
   "outputs": [
    {
     "name": "stdout",
     "output_type": "stream",
     "text": [
      "Finn.txt  Text_example.txt\r\n"
     ]
    }
   ],
   "source": [
    "ls"
   ]
  },
  {
   "cell_type": "code",
   "execution_count": null,
   "metadata": {},
   "outputs": [],
   "source": []
  },
  {
   "cell_type": "code",
   "execution_count": 24,
   "metadata": {},
   "outputs": [
    {
     "name": "stdout",
     "output_type": "stream",
     "text": [
      "/home/dsc/Data/challenge\n"
     ]
    }
   ],
   "source": [
    "cd ../challenge/"
   ]
  },
  {
   "cell_type": "code",
   "execution_count": null,
   "metadata": {},
   "outputs": [],
   "source": [
    "! bzcat ./bookings.csv.bz2 | head -10000 > ./bookings.sample.csv\n"
   ]
  },
  {
   "cell_type": "code",
   "execution_count": 25,
   "metadata": {},
   "outputs": [],
   "source": [
    "! bzip2 -f ./bookings.sample.csv"
   ]
  },
  {
   "cell_type": "code",
   "execution_count": 26,
   "metadata": {},
   "outputs": [
    {
     "name": "stdout",
     "output_type": "stream",
     "text": [
      "total 1014428\r\n",
      "-rw-rw-r-- 1 dsc dsc 554970628 abr  2  2018 \u001b[0m\u001b[01;31mbookings.csv.bz2\u001b[0m\r\n",
      "-rw-rw-r-- 1 dsc dsc    535893 ene 25 09:19 \u001b[01;31mbookings.sample.csv.bz2\u001b[0m\r\n",
      "-rwxrwxr-x 1 dsc dsc      9014 ene 25 09:37 \u001b[01;32mch_01-Empty.ipynb\u001b[0m*\r\n",
      "-rwxrwxr-x 1 dsc dsc     10832 ene 25 07:08 \u001b[01;32mch_03-Empty.ipynb\u001b[0m*\r\n",
      "-rwxrwxr-x 1 dsc dsc      8019 ene 25 07:08 \u001b[01;32mch_04-Empty.ipynb\u001b[0m*\r\n",
      "-rwxrwxr-x 1 dsc dsc       962 ene 25 07:08 \u001b[01;32mch_05b-empty.ipynb\u001b[0m*\r\n",
      "-rwxrwxr-x 1 dsc dsc     24953 ene 25 07:08 \u001b[01;32mch_05-empty.ipynb\u001b[0m*\r\n",
      "-rw-rw-r-- 1 dsc dsc 483188920 abr  2  2018 \u001b[01;31msearches.csv.bz2\u001b[0m\r\n"
     ]
    }
   ],
   "source": [
    "ls -l"
   ]
  },
  {
   "cell_type": "code",
   "execution_count": 27,
   "metadata": {},
   "outputs": [
    {
     "name": "stdout",
     "output_type": "stream",
     "text": [
      "10000\r\n"
     ]
    }
   ],
   "source": [
    "! bzcat ./bookings.sample.csv.bz2 | wc -l"
   ]
  },
  {
   "cell_type": "markdown",
   "metadata": {},
   "source": [
    "## 2) Python:"
   ]
  },
  {
   "cell_type": "raw",
   "metadata": {},
   "source": [
    "Options:\n",
    "    a) without uncompressing\n",
    "    b) using row uncompressed files (so that we can calculate size of not just bz2 files)"
   ]
  },
  {
   "cell_type": "code",
   "execution_count": 28,
   "metadata": {},
   "outputs": [],
   "source": [
    "import bz2"
   ]
  },
  {
   "cell_type": "code",
   "execution_count": 29,
   "metadata": {},
   "outputs": [],
   "source": [
    "fileBz2=bz2.BZ2File('./bookings.sample.csv.bz2')"
   ]
  },
  {
   "cell_type": "code",
   "execution_count": 30,
   "metadata": {},
   "outputs": [
    {
     "data": {
      "text/plain": [
       "bz2.BZ2File"
      ]
     },
     "execution_count": 30,
     "metadata": {},
     "output_type": "execute_result"
    }
   ],
   "source": [
    "type(fileBz2)"
   ]
  },
  {
   "cell_type": "code",
   "execution_count": 33,
   "metadata": {},
   "outputs": [],
   "source": [
    "k=0 \n",
    "for line in fileBz2:\n",
    "    k+=1\n"
   ]
  },
  {
   "cell_type": "code",
   "execution_count": 34,
   "metadata": {},
   "outputs": [
    {
     "name": "stdout",
     "output_type": "stream",
     "text": [
      "0\n"
     ]
    }
   ],
   "source": [
    "print(k)"
   ]
  },
  {
   "cell_type": "code",
   "execution_count": 36,
   "metadata": {},
   "outputs": [
    {
     "name": "stdout",
     "output_type": "stream",
     "text": [
      "10000\n"
     ]
    }
   ],
   "source": [
    "fileBz2=bz2.BZ2File('./bookings.sample.csv.bz2')\n",
    "k=0 \n",
    "for line in fileBz2:\n",
    "    k+=1\n",
    "print(k)"
   ]
  },
  {
   "cell_type": "code",
   "execution_count": 38,
   "metadata": {},
   "outputs": [
    {
     "data": {
      "text/plain": [
       "False"
      ]
     },
     "execution_count": 38,
     "metadata": {},
     "output_type": "execute_result"
    }
   ],
   "source": [
    "fileBz2.closed"
   ]
  },
  {
   "cell_type": "code",
   "execution_count": 39,
   "metadata": {},
   "outputs": [],
   "source": [
    "fileBz2.close()"
   ]
  },
  {
   "cell_type": "code",
   "execution_count": 40,
   "metadata": {},
   "outputs": [
    {
     "data": {
      "text/plain": [
       "True"
      ]
     },
     "execution_count": 40,
     "metadata": {},
     "output_type": "execute_result"
    }
   ],
   "source": [
    "fileBz2.closed"
   ]
  },
  {
   "cell_type": "code",
   "execution_count": 46,
   "metadata": {},
   "outputs": [
    {
     "name": "stdout",
     "output_type": "stream",
     "text": [
      "Once deleted, variables cannot be recovered. Proceed (y/[n])? y\n"
     ]
    }
   ],
   "source": [
    "reset"
   ]
  },
  {
   "cell_type": "code",
   "execution_count": 53,
   "metadata": {},
   "outputs": [
    {
     "ename": "FileNotFoundError",
     "evalue": "[Errno 2] No such file or directory: './bookinjhjkhjgs.sample.csv.bz2'",
     "output_type": "error",
     "traceback": [
      "\u001b[0;31m---------------------------------------------------------------------------\u001b[0m",
      "\u001b[0;31mFileNotFoundError\u001b[0m                         Traceback (most recent call last)",
      "\u001b[0;32m<ipython-input-53-c3bfcb00d450>\u001b[0m in \u001b[0;36m<module>\u001b[0;34m\u001b[0m\n\u001b[1;32m      1\u001b[0m \u001b[0;32mimport\u001b[0m \u001b[0mbz2\u001b[0m\u001b[0;34m\u001b[0m\u001b[0;34m\u001b[0m\u001b[0m\n\u001b[1;32m      2\u001b[0m \u001b[0;31m#fileBz2=bz2.BZ2File('./bookings.sample.csv.bz2')\u001b[0m\u001b[0;34m\u001b[0m\u001b[0;34m\u001b[0m\u001b[0;34m\u001b[0m\u001b[0m\n\u001b[0;32m----> 3\u001b[0;31m \u001b[0;32mwith\u001b[0m \u001b[0mbz2\u001b[0m\u001b[0;34m.\u001b[0m\u001b[0mBZ2File\u001b[0m\u001b[0;34m(\u001b[0m\u001b[0;34m'./bookinjhjkhjgs.sample.csv.bz2'\u001b[0m\u001b[0;34m)\u001b[0m \u001b[0;32mas\u001b[0m \u001b[0mfileBz2\u001b[0m\u001b[0;34m:\u001b[0m\u001b[0;34m\u001b[0m\u001b[0;34m\u001b[0m\u001b[0m\n\u001b[0m\u001b[1;32m      4\u001b[0m     \u001b[0mk\u001b[0m\u001b[0;34m=\u001b[0m\u001b[0;36m0\u001b[0m\u001b[0;34m\u001b[0m\u001b[0;34m\u001b[0m\u001b[0m\n\u001b[1;32m      5\u001b[0m     \u001b[0;32mfor\u001b[0m \u001b[0mline\u001b[0m \u001b[0;32min\u001b[0m \u001b[0mfileBz2\u001b[0m\u001b[0;34m:\u001b[0m\u001b[0;34m\u001b[0m\u001b[0;34m\u001b[0m\u001b[0m\n",
      "\u001b[0;32m~/anaconda3/lib/python3.7/bz2.py\u001b[0m in \u001b[0;36m__init__\u001b[0;34m(self, filename, mode, buffering, compresslevel)\u001b[0m\n\u001b[1;32m     90\u001b[0m \u001b[0;34m\u001b[0m\u001b[0m\n\u001b[1;32m     91\u001b[0m         \u001b[0;32mif\u001b[0m \u001b[0misinstance\u001b[0m\u001b[0;34m(\u001b[0m\u001b[0mfilename\u001b[0m\u001b[0;34m,\u001b[0m \u001b[0;34m(\u001b[0m\u001b[0mstr\u001b[0m\u001b[0;34m,\u001b[0m \u001b[0mbytes\u001b[0m\u001b[0;34m,\u001b[0m \u001b[0mos\u001b[0m\u001b[0;34m.\u001b[0m\u001b[0mPathLike\u001b[0m\u001b[0;34m)\u001b[0m\u001b[0;34m)\u001b[0m\u001b[0;34m:\u001b[0m\u001b[0;34m\u001b[0m\u001b[0;34m\u001b[0m\u001b[0m\n\u001b[0;32m---> 92\u001b[0;31m             \u001b[0mself\u001b[0m\u001b[0;34m.\u001b[0m\u001b[0m_fp\u001b[0m \u001b[0;34m=\u001b[0m \u001b[0m_builtin_open\u001b[0m\u001b[0;34m(\u001b[0m\u001b[0mfilename\u001b[0m\u001b[0;34m,\u001b[0m \u001b[0mmode\u001b[0m\u001b[0;34m)\u001b[0m\u001b[0;34m\u001b[0m\u001b[0;34m\u001b[0m\u001b[0m\n\u001b[0m\u001b[1;32m     93\u001b[0m             \u001b[0mself\u001b[0m\u001b[0;34m.\u001b[0m\u001b[0m_closefp\u001b[0m \u001b[0;34m=\u001b[0m \u001b[0;32mTrue\u001b[0m\u001b[0;34m\u001b[0m\u001b[0;34m\u001b[0m\u001b[0m\n\u001b[1;32m     94\u001b[0m             \u001b[0mself\u001b[0m\u001b[0;34m.\u001b[0m\u001b[0m_mode\u001b[0m \u001b[0;34m=\u001b[0m \u001b[0mmode_code\u001b[0m\u001b[0;34m\u001b[0m\u001b[0;34m\u001b[0m\u001b[0m\n",
      "\u001b[0;31mFileNotFoundError\u001b[0m: [Errno 2] No such file or directory: './bookinjhjkhjgs.sample.csv.bz2'"
     ]
    }
   ],
   "source": [
    "import bz2\n",
    "#fileBz2=bz2.BZ2File('./bookings.sample.csv.bz2')\n",
    "with bz2.BZ2File('./bookinjhjkhjgs.sample.csv.bz2') as fileBz2:\n",
    "    k=0 \n",
    "    for line in fileBz2:\n",
    "        k+=1\n",
    "        if k==4:\n",
    "            break\n",
    "    print(k)"
   ]
  },
  {
   "cell_type": "code",
   "execution_count": 48,
   "metadata": {},
   "outputs": [
    {
     "data": {
      "text/plain": [
       "True"
      ]
     },
     "execution_count": 48,
     "metadata": {},
     "output_type": "execute_result"
    }
   ],
   "source": [
    "fileBz2.closed"
   ]
  },
  {
   "cell_type": "code",
   "execution_count": 49,
   "metadata": {},
   "outputs": [
    {
     "name": "stdout",
     "output_type": "stream",
     "text": [
      "Variable   Type       Data/Info\n",
      "-------------------------------\n",
      "bz2        module     <module 'bz2' from '/home<...>a3/lib/python3.7/bz2.py'>\n",
      "fileBz2    BZ2File    <bz2.BZ2File object at 0x7f0461e34e48>\n",
      "k          int        4\n",
      "line       bytes      b'2013-03-26 00:00:00^1A <...>:51^1^2013^3^NULL     \\n'\n"
     ]
    }
   ],
   "source": [
    "whos"
   ]
  },
  {
   "cell_type": "code",
   "execution_count": null,
   "metadata": {},
   "outputs": [],
   "source": []
  },
  {
   "cell_type": "code",
   "execution_count": null,
   "metadata": {},
   "outputs": [],
   "source": []
  },
  {
   "cell_type": "code",
   "execution_count": null,
   "metadata": {},
   "outputs": [],
   "source": []
  },
  {
   "cell_type": "code",
   "execution_count": null,
   "metadata": {},
   "outputs": [],
   "source": []
  },
  {
   "cell_type": "markdown",
   "metadata": {},
   "source": [
    "## 3) What if the file didnt exist? Use Try-except..."
   ]
  },
  {
   "cell_type": "code",
   "execution_count": 58,
   "metadata": {},
   "outputs": [
    {
     "name": "stdout",
     "output_type": "stream",
     "text": [
      "value error\n"
     ]
    }
   ],
   "source": [
    "import bz2\n",
    "try:\n",
    "    with bz2.BZ2File('./bookings.sample.csv.bz2') as fileBz2:\n",
    "        k=0 \n",
    "        l=int('a')\n",
    "        for line in fileBz2:\n",
    "            k+=1\n",
    "        print(k)\n",
    "except FileNotFoundError:\n",
    "    print(\"File not found\")\n",
    "except ValueError:\n",
    "    print(\"value error\")\n",
    "except:\n",
    "    print('unexpected error')"
   ]
  },
  {
   "cell_type": "code",
   "execution_count": null,
   "metadata": {},
   "outputs": [],
   "source": []
  },
  {
   "cell_type": "code",
   "execution_count": 60,
   "metadata": {},
   "outputs": [
    {
     "name": "stdout",
     "output_type": "stream",
     "text": [
      "[Errno 2] No such file or directory: './bookikjlkjngs.sample.csv.bz2'\n"
     ]
    }
   ],
   "source": [
    "import bz2\n",
    "try:\n",
    "    with bz2.BZ2File('./bookikjlkjngs.sample.csv.bz2') as fileBz2:\n",
    "        k=0 \n",
    "        l=int('a')\n",
    "        for line in fileBz2:\n",
    "            k+=1\n",
    "        print(k)\n",
    "except FileNotFoundError as message:\n",
    "    print(message)\n",
    "except ValueError:\n",
    "    print(\"value error\")\n",
    "except:\n",
    "    print('unexpected error')"
   ]
  },
  {
   "cell_type": "code",
   "execution_count": 56,
   "metadata": {},
   "outputs": [
    {
     "ename": "ValueError",
     "evalue": "invalid literal for int() with base 10: 'a'",
     "output_type": "error",
     "traceback": [
      "\u001b[0;31m---------------------------------------------------------------------------\u001b[0m",
      "\u001b[0;31mValueError\u001b[0m                                Traceback (most recent call last)",
      "\u001b[0;32m<ipython-input-56-233884bacd4e>\u001b[0m in \u001b[0;36m<module>\u001b[0;34m\u001b[0m\n\u001b[0;32m----> 1\u001b[0;31m \u001b[0mint\u001b[0m\u001b[0;34m(\u001b[0m\u001b[0;34m'a'\u001b[0m\u001b[0;34m)\u001b[0m\u001b[0;34m\u001b[0m\u001b[0;34m\u001b[0m\u001b[0m\n\u001b[0m",
      "\u001b[0;31mValueError\u001b[0m: invalid literal for int() with base 10: 'a'"
     ]
    }
   ],
   "source": [
    "int('a')"
   ]
  },
  {
   "cell_type": "code",
   "execution_count": 61,
   "metadata": {},
   "outputs": [
    {
     "name": "stdout",
     "output_type": "stream",
     "text": [
      "10000\n"
     ]
    }
   ],
   "source": [
    "import bz2\n",
    "try:\n",
    "    with bz2.BZ2File('./bookings.sample.csv.bz2') as fileBz2:\n",
    "        for k, line in enumerate(fileBz2):\n",
    "            pass\n",
    "        print(k+1)\n",
    "except FileNotFoundError as message:\n",
    "    print(message)\n",
    "except ValueError:\n",
    "    print(\"value error\")\n",
    "except:\n",
    "    print('unexpected error')"
   ]
  },
  {
   "cell_type": "markdown",
   "metadata": {
    "collapsed": true
   },
   "source": [
    "## Con Pandas"
   ]
  },
  {
   "cell_type": "code",
   "execution_count": 62,
   "metadata": {},
   "outputs": [],
   "source": [
    "import pandas as pd"
   ]
  },
  {
   "cell_type": "code",
   "execution_count": 63,
   "metadata": {
    "collapsed": true
   },
   "outputs": [
    {
     "name": "stdout",
     "output_type": "stream",
     "text": [
      "\r\n",
      "bzcat: I/O or other error, bailing out.  Possible reason follows.\r\n",
      "bzcat: Broken pipe\r\n",
      "\tInput file = bookings.sample.csv.bz2, output file = (stdout)\r\n",
      "act_date           \r\n",
      "source\r\n",
      "pos_ctry\r\n",
      "pos_iata\r\n",
      "pos_oid  \r\n",
      "rloc          \r\n",
      "cre_date           \r\n",
      "duration\r\n",
      "distance\r\n",
      "dep_port\r\n",
      "dep_city\r\n",
      "dep_ctry\r\n",
      "arr_port\r\n",
      "arr_city\r\n",
      "arr_ctry\r\n",
      "lst_port\r\n",
      "lst_city\r\n",
      "lst_ctry\r\n",
      "brd_port\r\n",
      "brd_city\r\n",
      "brd_ctry\r\n",
      "off_port\r\n",
      "off_city\r\n",
      "off_ctry\r\n",
      "mkt_port\r\n",
      "mkt_city\r\n",
      "mkt_ctry\r\n",
      "intl\r\n",
      "route          \r\n",
      "carrier\r\n",
      "bkg_class\r\n",
      "cab_class\r\n",
      "brd_time           \r\n",
      "off_time           \r\n",
      "pax\r\n",
      "year\r\n",
      "month\r\n",
      "oid      \r\n"
     ]
    }
   ],
   "source": [
    "! bzcat bookings.sample.csv.bz2 | head -1 | tr ^ \"\\n\""
   ]
  },
  {
   "cell_type": "code",
   "execution_count": 65,
   "metadata": {},
   "outputs": [],
   "source": [
    "df=pd.read_csv('bookings.sample.csv.bz2', sep=\"^\", usecols=[\"pax\"])"
   ]
  },
  {
   "cell_type": "code",
   "execution_count": 67,
   "metadata": {},
   "outputs": [
    {
     "data": {
      "text/plain": [
       "((9999, 1), 9999)"
      ]
     },
     "execution_count": 67,
     "metadata": {},
     "output_type": "execute_result"
    }
   ],
   "source": [
    "df.shape, len(df)"
   ]
  },
  {
   "cell_type": "code",
   "execution_count": null,
   "metadata": {},
   "outputs": [],
   "source": []
  }
 ],
 "metadata": {
  "kernelspec": {
   "display_name": "Python 3",
   "language": "python",
   "name": "python3"
  },
  "language_info": {
   "codemirror_mode": {
    "name": "ipython",
    "version": 3
   },
   "file_extension": ".py",
   "mimetype": "text/x-python",
   "name": "python",
   "nbconvert_exporter": "python",
   "pygments_lexer": "ipython3",
   "version": "3.7.1"
  }
 },
 "nbformat": 4,
 "nbformat_minor": 1
}
