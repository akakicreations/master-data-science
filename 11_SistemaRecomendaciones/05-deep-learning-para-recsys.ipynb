{
 "cells": [
  {
   "cell_type": "markdown",
   "metadata": {},
   "source": [
    "<img src=\"kschool.png\" width=\"120\" height=\"120\" align=\"right\"/>\n",
    "\n",
    "# Deep Learning para RecSys"
   ]
  },
  {
   "cell_type": "markdown",
   "metadata": {},
   "source": [
    "<div class  = \"alert alert-info\">\n",
    "\n",
    "Deep Learning tiene muchísimas aplicaciones hoy en día. En RecSys también. En este apartado, explicaremos la generación de un modelo básico basado en redes neuronales cuya funcionalidad sea la de recomendación de items y la clasificación de users/items por su cercanía en el espacio. \n",
    "\n",
    "**Destacamos**:\n",
    "- La arquitectura de las redes neuronales destinadas a RecSys, generalmente, llevan la capa **Embeddings**.\n",
    "\n",
    "</div>"
   ]
  },
  {
   "cell_type": "code",
   "execution_count": null,
   "metadata": {},
   "outputs": [],
   "source": [
    "\n",
    "!conda install -c conda-forge keras"
   ]
  },
  {
   "cell_type": "markdown",
   "metadata": {},
   "source": [
    "### Embeddings Layer"
   ]
  },
  {
   "cell_type": "code",
   "execution_count": 1,
   "metadata": {},
   "outputs": [
    {
     "name": "stderr",
     "output_type": "stream",
     "text": [
      "Using TensorFlow backend.\n"
     ]
    }
   ],
   "source": [
    "from keras.models import Sequential\n",
    "from keras.layers import Embedding\n",
    "import numpy as np"
   ]
  },
  {
   "cell_type": "code",
   "execution_count": 14,
   "metadata": {},
   "outputs": [],
   "source": [
    "\"\"\"Creamos un modelo muy básico para ver cómo se generan los embeddings de forma aleatoria\"\"\"\n",
    "\n",
    "model = Sequential()\n",
    "\n",
    "embedding_layer = Embedding(input_dim=12,output_dim=2, input_length=1)\n",
    "model.add(embedding_layer)\n",
    "\n",
    "# input_dim: int > 0. Size of the vocabulary, i.e. maximum integer index + 1\n",
    "# output_dim: int >= 0. Dimension of the dense embedding.\n",
    "\n",
    "model.compile(optimizer='adam', loss='mse')"
   ]
  },
  {
   "cell_type": "code",
   "execution_count": 15,
   "metadata": {
    "scrolled": true
   },
   "outputs": [
    {
     "name": "stdout",
     "output_type": "stream",
     "text": [
      "12\n"
     ]
    },
    {
     "data": {
      "text/plain": [
       "[array([[-0.01069353, -0.03593321],\n",
       "        [ 0.01711858,  0.03937488],\n",
       "        [ 0.02071525, -0.04347534],\n",
       "        [ 0.03532977,  0.02441214],\n",
       "        [ 0.0348999 ,  0.00450302],\n",
       "        [ 0.03029199,  0.00532515],\n",
       "        [ 0.02707135, -0.03912349],\n",
       "        [-0.02121965,  0.01535379],\n",
       "        [-0.04856913, -0.03546305],\n",
       "        [ 0.01482311,  0.00654041],\n",
       "        [ 0.03432706,  0.04383845],\n",
       "        [ 0.02137232, -0.04390403]], dtype=float32)]"
      ]
     },
     "execution_count": 15,
     "metadata": {},
     "output_type": "execute_result"
    }
   ],
   "source": [
    "print(len(embedding_layer.get_weights()[0]))\n",
    "embedding_layer.get_weights()"
   ]
  },
  {
   "cell_type": "code",
   "execution_count": 13,
   "metadata": {},
   "outputs": [],
   "source": [
    "# print(model.predict(np.array([[4]])))"
   ]
  },
  {
   "cell_type": "markdown",
   "metadata": {},
   "source": [
    "### Práctica"
   ]
  },
  {
   "cell_type": "markdown",
   "metadata": {},
   "source": [
    "##### Dataset"
   ]
  },
  {
   "cell_type": "code",
   "execution_count": 16,
   "metadata": {},
   "outputs": [],
   "source": [
    "import matplotlib.pyplot as plt\n",
    "import pandas as pd"
   ]
  },
  {
   "cell_type": "code",
   "execution_count": 17,
   "metadata": {},
   "outputs": [
    {
     "name": "stdout",
     "output_type": "stream",
     "text": [
      "Number of rating records: 100836\n",
      "Total of users: 610\n",
      "Total of movies: 9742\n"
     ]
    }
   ],
   "source": [
    "def read_movie_files(folder):\n",
    "\n",
    "    pd_ratings = pd.read_csv(folder+'/ratings.csv')\n",
    "    print('Number of rating records: ' + str(len(pd_ratings)))\n",
    "    print('Total of users: ' + str(pd_ratings.userId.nunique()))\n",
    "    \n",
    "    pd_movies = pd.read_csv(folder+'/movies.csv')\n",
    "    print('Total of movies: ' + str(pd_movies.movieId.nunique()))\n",
    "    \n",
    "    return pd_ratings, pd_movies\n",
    "\n",
    "folder = './data/movies'\n",
    "pd_ratings, pd_movies = read_movie_files(folder)\n",
    "\n",
    "# En este ejemplo no vamos a utilizar los géneros para nada"
   ]
  },
  {
   "cell_type": "code",
   "execution_count": 20,
   "metadata": {},
   "outputs": [],
   "source": [
    "import warnings\n",
    "warnings.filterwarnings(\"ignore\")"
   ]
  },
  {
   "cell_type": "code",
   "execution_count": 29,
   "metadata": {},
   "outputs": [
    {
     "data": {
      "text/html": [
       "<div>\n",
       "<style scoped>\n",
       "    .dataframe tbody tr th:only-of-type {\n",
       "        vertical-align: middle;\n",
       "    }\n",
       "\n",
       "    .dataframe tbody tr th {\n",
       "        vertical-align: top;\n",
       "    }\n",
       "\n",
       "    .dataframe thead th {\n",
       "        text-align: right;\n",
       "    }\n",
       "</style>\n",
       "<table border=\"1\" class=\"dataframe\">\n",
       "  <thead>\n",
       "    <tr style=\"text-align: right;\">\n",
       "      <th></th>\n",
       "      <th>userId</th>\n",
       "      <th>movieId</th>\n",
       "      <th>rating</th>\n",
       "      <th>timestamp</th>\n",
       "      <th>user_id_new</th>\n",
       "      <th>movie_id_new</th>\n",
       "    </tr>\n",
       "  </thead>\n",
       "  <tbody>\n",
       "    <tr>\n",
       "      <th>0</th>\n",
       "      <td>1</td>\n",
       "      <td>1</td>\n",
       "      <td>4.0</td>\n",
       "      <td>964982703</td>\n",
       "      <td>1</td>\n",
       "      <td>1</td>\n",
       "    </tr>\n",
       "    <tr>\n",
       "      <th>1</th>\n",
       "      <td>112</td>\n",
       "      <td>1</td>\n",
       "      <td>3.0</td>\n",
       "      <td>1442535639</td>\n",
       "      <td>112</td>\n",
       "      <td>1</td>\n",
       "    </tr>\n",
       "    <tr>\n",
       "      <th>2</th>\n",
       "      <td>448</td>\n",
       "      <td>1</td>\n",
       "      <td>5.0</td>\n",
       "      <td>1019126661</td>\n",
       "      <td>448</td>\n",
       "      <td>1</td>\n",
       "    </tr>\n",
       "    <tr>\n",
       "      <th>3</th>\n",
       "      <td>451</td>\n",
       "      <td>1</td>\n",
       "      <td>5.0</td>\n",
       "      <td>854089165</td>\n",
       "      <td>451</td>\n",
       "      <td>1</td>\n",
       "    </tr>\n",
       "    <tr>\n",
       "      <th>4</th>\n",
       "      <td>453</td>\n",
       "      <td>1</td>\n",
       "      <td>5.0</td>\n",
       "      <td>1005966797</td>\n",
       "      <td>453</td>\n",
       "      <td>1</td>\n",
       "    </tr>\n",
       "    <tr>\n",
       "      <th>...</th>\n",
       "      <td>...</td>\n",
       "      <td>...</td>\n",
       "      <td>...</td>\n",
       "      <td>...</td>\n",
       "      <td>...</td>\n",
       "      <td>...</td>\n",
       "    </tr>\n",
       "    <tr>\n",
       "      <th>100831</th>\n",
       "      <td>184</td>\n",
       "      <td>193581</td>\n",
       "      <td>4.0</td>\n",
       "      <td>1537109082</td>\n",
       "      <td>184</td>\n",
       "      <td>9720</td>\n",
       "    </tr>\n",
       "    <tr>\n",
       "      <th>100832</th>\n",
       "      <td>184</td>\n",
       "      <td>193583</td>\n",
       "      <td>3.5</td>\n",
       "      <td>1537109545</td>\n",
       "      <td>184</td>\n",
       "      <td>9721</td>\n",
       "    </tr>\n",
       "    <tr>\n",
       "      <th>100833</th>\n",
       "      <td>184</td>\n",
       "      <td>193585</td>\n",
       "      <td>3.5</td>\n",
       "      <td>1537109805</td>\n",
       "      <td>184</td>\n",
       "      <td>9722</td>\n",
       "    </tr>\n",
       "    <tr>\n",
       "      <th>100834</th>\n",
       "      <td>184</td>\n",
       "      <td>193587</td>\n",
       "      <td>3.5</td>\n",
       "      <td>1537110021</td>\n",
       "      <td>184</td>\n",
       "      <td>9723</td>\n",
       "    </tr>\n",
       "    <tr>\n",
       "      <th>100835</th>\n",
       "      <td>331</td>\n",
       "      <td>193609</td>\n",
       "      <td>4.0</td>\n",
       "      <td>1537157606</td>\n",
       "      <td>331</td>\n",
       "      <td>9724</td>\n",
       "    </tr>\n",
       "  </tbody>\n",
       "</table>\n",
       "<p>100836 rows × 6 columns</p>\n",
       "</div>"
      ],
      "text/plain": [
       "        userId  movieId  rating   timestamp  user_id_new  movie_id_new\n",
       "0            1        1     4.0   964982703            1             1\n",
       "1          112        1     3.0  1442535639          112             1\n",
       "2          448        1     5.0  1019126661          448             1\n",
       "3          451        1     5.0   854089165          451             1\n",
       "4          453        1     5.0  1005966797          453             1\n",
       "...        ...      ...     ...         ...          ...           ...\n",
       "100831     184   193581     4.0  1537109082          184          9720\n",
       "100832     184   193583     3.5  1537109545          184          9721\n",
       "100833     184   193585     3.5  1537109805          184          9722\n",
       "100834     184   193587     3.5  1537110021          184          9723\n",
       "100835     331   193609     4.0  1537157606          331          9724\n",
       "\n",
       "[100836 rows x 6 columns]"
      ]
     },
     "execution_count": 29,
     "metadata": {},
     "output_type": "execute_result"
    }
   ],
   "source": [
    "# Los usuarios/películas deberían tener un ID consecutivo, por eso hacemos una transformación\n",
    "\n",
    "pd_ratings2 = pd_ratings.copy()\n",
    "\n",
    "pd_ratings2 = pd_ratings2.sort_values('userId').reset_index(drop=True)\n",
    "pd_ratings2['user_id_new'] = 0\n",
    "cnt = 1\n",
    "pd_ratings2.user_id_new[0] = cnt\n",
    "for i in range(1,len(pd_ratings2)):\n",
    "    if pd_ratings2.userId[i] != pd_ratings2.userId[i-1]:\n",
    "        cnt += 1    \n",
    "    pd_ratings2.user_id_new[i] = cnt\n",
    "    \n",
    "\n",
    "pd_ratings2 = pd_ratings2.sort_values('movieId').reset_index(drop=True)\n",
    "pd_ratings2['movie_id_new'] = 0\n",
    "cnt = 1\n",
    "pd_ratings2.movie_id_new[0] = cnt\n",
    "for i in range(1,len(pd_ratings2)):\n",
    "    if pd_ratings2.movieId[i] != pd_ratings2.movieId[i-1]:\n",
    "        cnt += 1    \n",
    "    pd_ratings2.movie_id_new[i] = cnt\n",
    "        \n",
    "\n",
    "# pd_ratings2 = pd_ratings2[['rating','user_id_new','movie_id_new']]\n",
    "pd_ratings2"
   ]
  },
  {
   "cell_type": "markdown",
   "metadata": {},
   "source": [
    "##### Model"
   ]
  },
  {
   "cell_type": "code",
   "execution_count": 36,
   "metadata": {},
   "outputs": [
    {
     "name": "stdout",
     "output_type": "stream",
     "text": [
      "Model: \"model_2\"\n",
      "__________________________________________________________________________________________________\n",
      "Layer (type)                    Output Shape         Param #     Connected to                     \n",
      "==================================================================================================\n",
      "Movie-Input (InputLayer)        (None, 1)            0                                            \n",
      "__________________________________________________________________________________________________\n",
      "User-Input (InputLayer)         (None, 1)            0                                            \n",
      "__________________________________________________________________________________________________\n",
      "Movie-Embedding (Embedding)     (None, 1, 50)        487150      Movie-Input[0][0]                \n",
      "__________________________________________________________________________________________________\n",
      "User-Embedding (Embedding)      (None, 1, 50)        30550       User-Input[0][0]                 \n",
      "__________________________________________________________________________________________________\n",
      "Flatten-Movies (Flatten)        (None, 50)           0           Movie-Embedding[0][0]            \n",
      "__________________________________________________________________________________________________\n",
      "Flatten-Users (Flatten)         (None, 50)           0           User-Embedding[0][0]             \n",
      "__________________________________________________________________________________________________\n",
      "Dot-Product (Dot)               (None, 1)            0           Flatten-Movies[0][0]             \n",
      "                                                                 Flatten-Users[0][0]              \n",
      "==================================================================================================\n",
      "Total params: 517,700\n",
      "Trainable params: 517,700\n",
      "Non-trainable params: 0\n",
      "__________________________________________________________________________________________________\n"
     ]
    }
   ],
   "source": [
    "from keras.layers import Input, Embedding, Flatten, Dot, Dense\n",
    "from keras.models import Model\n",
    "\n",
    "\n",
    "n_users = 610\n",
    "n_movies = 9742\n",
    "\n",
    "# Embedding Layer: An embedding column takes sparse data as input and returns a lower-dimensional dense vector as output.\n",
    "# Dot Layer: Computes a dot product between samples in two tensors.\n",
    "\n",
    "# Una primera arquitectura para transformar las peliculas\n",
    "movie_input = Input(shape=[1], name=\"Movie-Input\")\n",
    "movie_embedding = Embedding(n_movies+1, 50, name=\"Movie-Embedding\")(movie_input)\n",
    "movie_vec = Flatten(name=\"Flatten-Movies\")(movie_embedding)\n",
    "\n",
    "# Una primera arquitectura para transformar los usuarios\n",
    "user_input = Input(shape=[1], name=\"User-Input\")\n",
    "user_embedding = Embedding(n_users+1, 50, name=\"User-Embedding\")(user_input)\n",
    "user_vec = Flatten(name=\"Flatten-Users\")(user_embedding)\n",
    "\n",
    "# Una capa para juntar ambas arquitecturas\n",
    "prod = Dot(name=\"Dot-Product\", axes=1)([movie_vec, user_vec])\n",
    "model = Model([user_input, movie_input], prod)\n",
    "model.compile('adam', 'mean_squared_error')\n",
    "\n",
    "model.summary()"
   ]
  },
  {
   "cell_type": "code",
   "execution_count": 37,
   "metadata": {},
   "outputs": [],
   "source": [
    "from sklearn.model_selection import train_test_split\n",
    "\n",
    "train, test = train_test_split(pd_ratings2, test_size=0.2, random_state=42)"
   ]
  },
  {
   "cell_type": "code",
   "execution_count": 49,
   "metadata": {
    "scrolled": true
   },
   "outputs": [
    {
     "name": "stdout",
     "output_type": "stream",
     "text": [
      "Epoch 1/10\n",
      "80668/80668 [==============================] - 39s 482us/step - loss: 0.7722\n",
      "Epoch 2/10\n",
      "80668/80668 [==============================] - 39s 482us/step - loss: 0.6521\n",
      "Epoch 3/10\n",
      "80668/80668 [==============================] - 40s 491us/step - loss: 0.5549\n",
      "Epoch 4/10\n",
      "80668/80668 [==============================] - 40s 494us/step - loss: 0.4707\n",
      "Epoch 5/10\n",
      "80668/80668 [==============================] - 40s 500us/step - loss: 0.3974\n",
      "Epoch 6/10\n",
      "80668/80668 [==============================] - 40s 498us/step - loss: 0.3316\n",
      "Epoch 7/10\n",
      "80668/80668 [==============================] - 40s 492us/step - loss: 0.2752\n",
      "Epoch 8/10\n",
      "80668/80668 [==============================] - 37s 462us/step - loss: 0.2266\n",
      "Epoch 9/10\n",
      "80668/80668 [==============================] - 37s 456us/step - loss: 0.1888\n",
      "Epoch 10/10\n",
      "80668/80668 [==============================] - 37s 455us/step - loss: 0.1575\n"
     ]
    }
   ],
   "source": [
    "history = model.fit([train.user_id_new, train.movie_id_new], train.rating, epochs=10, verbose=1)"
   ]
  },
  {
   "cell_type": "markdown",
   "metadata": {},
   "source": [
    "##### Hacemos una recomendación"
   ]
  },
  {
   "cell_type": "code",
   "execution_count": 50,
   "metadata": {},
   "outputs": [
    {
     "data": {
      "text/plain": [
       "array([[ 3.730135  ],\n",
       "       [ 4.030402  ],\n",
       "       [ 3.406557  ],\n",
       "       ...,\n",
       "       [ 3.4627771 ],\n",
       "       [ 2.6730027 ],\n",
       "       [-0.07938191]], dtype=float32)"
      ]
     },
     "execution_count": 50,
     "metadata": {},
     "output_type": "execute_result"
    }
   ],
   "source": [
    "numero_de_usuario = 2\n",
    "movie_data = np.array(list(set(pd_ratings2.movie_id_new))) # todas las pelis \n",
    "user = np.array([numero_de_usuario for i in range(len(movie_data))]) \n",
    "\n",
    "predictions = model.predict([user, movie_data])\n",
    "predictions"
   ]
  },
  {
   "cell_type": "code",
   "execution_count": 51,
   "metadata": {},
   "outputs": [],
   "source": [
    "pd_predictions = pd.DataFrame(predictions,columns=['score'])\n",
    "pd_predictions['movie_id_new'] = range(len(pd_predictions))\n",
    "\n",
    "pd_predictions = pd.merge(pd_predictions, pd_ratings2, on='movie_id_new')\n",
    "pd_predictions = pd.merge(pd_predictions, pd_movies, on='movieId')\n",
    "pd_predictions = pd_predictions[['score', 'title']].drop_duplicates()\n",
    "pd_predictions = pd_predictions.sort_values(by='score', ascending=False)"
   ]
  },
  {
   "cell_type": "code",
   "execution_count": 52,
   "metadata": {},
   "outputs": [
    {
     "data": {
      "text/html": [
       "<div>\n",
       "<style scoped>\n",
       "    .dataframe tbody tr th:only-of-type {\n",
       "        vertical-align: middle;\n",
       "    }\n",
       "\n",
       "    .dataframe tbody tr th {\n",
       "        vertical-align: top;\n",
       "    }\n",
       "\n",
       "    .dataframe thead th {\n",
       "        text-align: right;\n",
       "    }\n",
       "</style>\n",
       "<table border=\"1\" class=\"dataframe\">\n",
       "  <thead>\n",
       "    <tr style=\"text-align: right;\">\n",
       "      <th></th>\n",
       "      <th>score</th>\n",
       "      <th>title</th>\n",
       "    </tr>\n",
       "  </thead>\n",
       "  <tbody>\n",
       "    <tr>\n",
       "      <th>99114</th>\n",
       "      <td>6.470357</td>\n",
       "      <td>Da geht noch was! (2013)</td>\n",
       "    </tr>\n",
       "    <tr>\n",
       "      <th>55489</th>\n",
       "      <td>6.237610</td>\n",
       "      <td>Big Kahuna, The (2000)</td>\n",
       "    </tr>\n",
       "    <tr>\n",
       "      <th>75472</th>\n",
       "      <td>6.000915</td>\n",
       "      <td>Children of Dune (2003)</td>\n",
       "    </tr>\n",
       "    <tr>\n",
       "      <th>42348</th>\n",
       "      <td>5.842342</td>\n",
       "      <td>Meet Joe Black (1998)</td>\n",
       "    </tr>\n",
       "    <tr>\n",
       "      <th>42947</th>\n",
       "      <td>5.731104</td>\n",
       "      <td>Psycho (1998)</td>\n",
       "    </tr>\n",
       "    <tr>\n",
       "      <th>...</th>\n",
       "      <td>...</td>\n",
       "      <td>...</td>\n",
       "    </tr>\n",
       "    <tr>\n",
       "      <th>99567</th>\n",
       "      <td>-0.233367</td>\n",
       "      <td>Big Short, The (2015)</td>\n",
       "    </tr>\n",
       "    <tr>\n",
       "      <th>89535</th>\n",
       "      <td>-0.236252</td>\n",
       "      <td>Boy Eats Girl (2005)</td>\n",
       "    </tr>\n",
       "    <tr>\n",
       "      <th>98495</th>\n",
       "      <td>-0.239443</td>\n",
       "      <td>Daddy, I'm A Zombie (2012)</td>\n",
       "    </tr>\n",
       "    <tr>\n",
       "      <th>99329</th>\n",
       "      <td>-0.240825</td>\n",
       "      <td>Victor Frankenstein (2015)</td>\n",
       "    </tr>\n",
       "    <tr>\n",
       "      <th>67757</th>\n",
       "      <td>-0.311452</td>\n",
       "      <td>Amy's O (a.k.a. Amy's Orgasm) (2001)</td>\n",
       "    </tr>\n",
       "  </tbody>\n",
       "</table>\n",
       "<p>9723 rows × 2 columns</p>\n",
       "</div>"
      ],
      "text/plain": [
       "          score                                 title\n",
       "99114  6.470357              Da geht noch was! (2013)\n",
       "55489  6.237610                Big Kahuna, The (2000)\n",
       "75472  6.000915               Children of Dune (2003)\n",
       "42348  5.842342                 Meet Joe Black (1998)\n",
       "42947  5.731104                         Psycho (1998)\n",
       "...         ...                                   ...\n",
       "99567 -0.233367                 Big Short, The (2015)\n",
       "89535 -0.236252                  Boy Eats Girl (2005)\n",
       "98495 -0.239443            Daddy, I'm A Zombie (2012)\n",
       "99329 -0.240825            Victor Frankenstein (2015)\n",
       "67757 -0.311452  Amy's O (a.k.a. Amy's Orgasm) (2001)\n",
       "\n",
       "[9723 rows x 2 columns]"
      ]
     },
     "execution_count": 52,
     "metadata": {},
     "output_type": "execute_result"
    }
   ],
   "source": [
    "pd_predictions"
   ]
  },
  {
   "cell_type": "markdown",
   "metadata": {},
   "source": [
    "##### Comprobamos la precisión de la red neuronal"
   ]
  },
  {
   "cell_type": "code",
   "execution_count": 53,
   "metadata": {},
   "outputs": [],
   "source": [
    "y_hat = model.predict([pd_ratings2.user_id_new, pd_ratings2.movie_id_new])"
   ]
  },
  {
   "cell_type": "code",
   "execution_count": 54,
   "metadata": {},
   "outputs": [
    {
     "data": {
      "text/html": [
       "<div>\n",
       "<style scoped>\n",
       "    .dataframe tbody tr th:only-of-type {\n",
       "        vertical-align: middle;\n",
       "    }\n",
       "\n",
       "    .dataframe tbody tr th {\n",
       "        vertical-align: top;\n",
       "    }\n",
       "\n",
       "    .dataframe thead th {\n",
       "        text-align: right;\n",
       "    }\n",
       "</style>\n",
       "<table border=\"1\" class=\"dataframe\">\n",
       "  <thead>\n",
       "    <tr style=\"text-align: right;\">\n",
       "      <th></th>\n",
       "      <th>userId</th>\n",
       "      <th>movieId</th>\n",
       "      <th>rating</th>\n",
       "      <th>timestamp</th>\n",
       "      <th>user_id_new</th>\n",
       "      <th>movie_id_new</th>\n",
       "      <th>y_hat</th>\n",
       "    </tr>\n",
       "  </thead>\n",
       "  <tbody>\n",
       "    <tr>\n",
       "      <th>0</th>\n",
       "      <td>1</td>\n",
       "      <td>1</td>\n",
       "      <td>4.0</td>\n",
       "      <td>964982703</td>\n",
       "      <td>1</td>\n",
       "      <td>1</td>\n",
       "      <td>3.702958</td>\n",
       "    </tr>\n",
       "    <tr>\n",
       "      <th>1</th>\n",
       "      <td>112</td>\n",
       "      <td>1</td>\n",
       "      <td>3.0</td>\n",
       "      <td>1442535639</td>\n",
       "      <td>112</td>\n",
       "      <td>1</td>\n",
       "      <td>3.445664</td>\n",
       "    </tr>\n",
       "    <tr>\n",
       "      <th>2</th>\n",
       "      <td>448</td>\n",
       "      <td>1</td>\n",
       "      <td>5.0</td>\n",
       "      <td>1019126661</td>\n",
       "      <td>448</td>\n",
       "      <td>1</td>\n",
       "      <td>4.561472</td>\n",
       "    </tr>\n",
       "    <tr>\n",
       "      <th>3</th>\n",
       "      <td>451</td>\n",
       "      <td>1</td>\n",
       "      <td>5.0</td>\n",
       "      <td>854089165</td>\n",
       "      <td>451</td>\n",
       "      <td>1</td>\n",
       "      <td>5.005678</td>\n",
       "    </tr>\n",
       "    <tr>\n",
       "      <th>4</th>\n",
       "      <td>453</td>\n",
       "      <td>1</td>\n",
       "      <td>5.0</td>\n",
       "      <td>1005966797</td>\n",
       "      <td>453</td>\n",
       "      <td>1</td>\n",
       "      <td>4.957592</td>\n",
       "    </tr>\n",
       "    <tr>\n",
       "      <th>...</th>\n",
       "      <td>...</td>\n",
       "      <td>...</td>\n",
       "      <td>...</td>\n",
       "      <td>...</td>\n",
       "      <td>...</td>\n",
       "      <td>...</td>\n",
       "      <td>...</td>\n",
       "    </tr>\n",
       "    <tr>\n",
       "      <th>100831</th>\n",
       "      <td>184</td>\n",
       "      <td>193581</td>\n",
       "      <td>4.0</td>\n",
       "      <td>1537109082</td>\n",
       "      <td>184</td>\n",
       "      <td>9720</td>\n",
       "      <td>4.375689</td>\n",
       "    </tr>\n",
       "    <tr>\n",
       "      <th>100832</th>\n",
       "      <td>184</td>\n",
       "      <td>193583</td>\n",
       "      <td>3.5</td>\n",
       "      <td>1537109545</td>\n",
       "      <td>184</td>\n",
       "      <td>9721</td>\n",
       "      <td>3.185722</td>\n",
       "    </tr>\n",
       "    <tr>\n",
       "      <th>100833</th>\n",
       "      <td>184</td>\n",
       "      <td>193585</td>\n",
       "      <td>3.5</td>\n",
       "      <td>1537109805</td>\n",
       "      <td>184</td>\n",
       "      <td>9722</td>\n",
       "      <td>3.725782</td>\n",
       "    </tr>\n",
       "    <tr>\n",
       "      <th>100834</th>\n",
       "      <td>184</td>\n",
       "      <td>193587</td>\n",
       "      <td>3.5</td>\n",
       "      <td>1537110021</td>\n",
       "      <td>184</td>\n",
       "      <td>9723</td>\n",
       "      <td>3.083560</td>\n",
       "    </tr>\n",
       "    <tr>\n",
       "      <th>100835</th>\n",
       "      <td>331</td>\n",
       "      <td>193609</td>\n",
       "      <td>4.0</td>\n",
       "      <td>1537157606</td>\n",
       "      <td>331</td>\n",
       "      <td>9724</td>\n",
       "      <td>0.034629</td>\n",
       "    </tr>\n",
       "  </tbody>\n",
       "</table>\n",
       "<p>100836 rows × 7 columns</p>\n",
       "</div>"
      ],
      "text/plain": [
       "        userId  movieId  rating   timestamp  user_id_new  movie_id_new  \\\n",
       "0            1        1     4.0   964982703            1             1   \n",
       "1          112        1     3.0  1442535639          112             1   \n",
       "2          448        1     5.0  1019126661          448             1   \n",
       "3          451        1     5.0   854089165          451             1   \n",
       "4          453        1     5.0  1005966797          453             1   \n",
       "...        ...      ...     ...         ...          ...           ...   \n",
       "100831     184   193581     4.0  1537109082          184          9720   \n",
       "100832     184   193583     3.5  1537109545          184          9721   \n",
       "100833     184   193585     3.5  1537109805          184          9722   \n",
       "100834     184   193587     3.5  1537110021          184          9723   \n",
       "100835     331   193609     4.0  1537157606          331          9724   \n",
       "\n",
       "           y_hat  \n",
       "0       3.702958  \n",
       "1       3.445664  \n",
       "2       4.561472  \n",
       "3       5.005678  \n",
       "4       4.957592  \n",
       "...          ...  \n",
       "100831  4.375689  \n",
       "100832  3.185722  \n",
       "100833  3.725782  \n",
       "100834  3.083560  \n",
       "100835  0.034629  \n",
       "\n",
       "[100836 rows x 7 columns]"
      ]
     },
     "execution_count": 54,
     "metadata": {},
     "output_type": "execute_result"
    }
   ],
   "source": [
    "pd_ratings2['y_hat'] = y_hat\n",
    "pd_ratings2"
   ]
  },
  {
   "cell_type": "code",
   "execution_count": 55,
   "metadata": {},
   "outputs": [
    {
     "data": {
      "image/png": "[encoded data removed]",
      "text/plain": [
       "<Figure size 432x288 with 1 Axes>"
      ]
     },
     "metadata": {
      "needs_background": "light"
     },
     "output_type": "display_data"
    }
   ],
   "source": [
    "plt.hist(pd_ratings2.y_hat - pd_ratings2.rating, bins=100)\n",
    "plt.show()"
   ]
  },
  {
   "cell_type": "code",
   "execution_count": 27,
   "metadata": {},
   "outputs": [
    {
     "data": {
      "image/png": "[encoded data removed]",
      "text/plain": [
       "<Figure size 432x288 with 1 Axes>"
      ]
     },
     "metadata": {
      "needs_background": "light"
     },
     "output_type": "display_data"
    }
   ],
   "source": [
    "plt.hist(pd_ratings2.y_hat - pd_ratings2.rating, bins=100)\n",
    "plt.show()"
   ]
  },
  {
   "cell_type": "code",
   "execution_count": null,
   "metadata": {},
   "outputs": [],
   "source": []
  },
  {
   "cell_type": "code",
   "execution_count": null,
   "metadata": {},
   "outputs": [],
   "source": []
  },
  {
   "cell_type": "markdown",
   "metadata": {},
   "source": [
    "### Ejercicio:"
   ]
  },
  {
   "cell_type": "markdown",
   "metadata": {},
   "source": [
    "<div class  = \"alert alert-success\">\n",
    "\n",
    "Con este mismo dataset, realizar un estudio con la precisión del algoritmo cuando el espacio de embeddings aumenta. Así mismo mostrad el error cometido y el tiempo de computación.\n",
    "\n",
    "</div>"
   ]
  },
  {
   "cell_type": "code",
   "execution_count": null,
   "metadata": {},
   "outputs": [],
   "source": []
  },
  {
   "cell_type": "code",
   "execution_count": null,
   "metadata": {},
   "outputs": [],
   "source": []
  },
  {
   "cell_type": "code",
   "execution_count": null,
   "metadata": {},
   "outputs": [],
   "source": []
  },
  {
   "cell_type": "code",
   "execution_count": null,
   "metadata": {},
   "outputs": [],
   "source": []
  }
 ],
 "metadata": {
  "kernelspec": {
   "display_name": "Python 3",
   "language": "python",
   "name": "python3"
  },
  "language_info": {
   "codemirror_mode": {
    "name": "ipython",
    "version": 3
   },
   "file_extension": ".py",
   "mimetype": "text/x-python",
   "name": "python",
   "nbconvert_exporter": "python",
   "pygments_lexer": "ipython3",
   "version": "3.6.9"
  }
 },
 "nbformat": 4,
 "nbformat_minor": 2
}
