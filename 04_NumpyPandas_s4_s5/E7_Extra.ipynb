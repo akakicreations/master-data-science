{
 "cells": [
  {
   "cell_type": "markdown",
   "metadata": {},
   "source": [
    "# Extra"
   ]
  },
  {
   "cell_type": "markdown",
   "metadata": {},
   "source": [
    "Usaremos los datos tick a tick del IVE (S&P 500 Value Index) que os descargasteis de Drive."
   ]
  },
  {
   "cell_type": "code",
   "execution_count": null,
   "metadata": {},
   "outputs": [],
   "source": [
    "import pandas as pd\n",
    "import numpy as np\n",
    "import matplotlib.pyplot as plt\n",
    "%matplotlib inline"
   ]
  },
  {
   "cell_type": "markdown",
   "metadata": {},
   "source": [
    "- Carga el dataset, explóralo y da estructura correspondiente a los datos. El nombre de las columnas es el siguiente\n",
    "\n",
    "**['date', 'time', 'price', 'bid', 'ask', 'volume']**"
   ]
  },
  {
   "cell_type": "code",
   "execution_count": null,
   "metadata": {},
   "outputs": [],
   "source": [
    "data_ive = pd.read_csv(\"IVE_tickbidask.txt\", sep=',', names=['date', 'time', 'price', 'bid', 'ask', 'volume'])"
   ]
  },
  {
   "cell_type": "code",
   "execution_count": null,
   "metadata": {},
   "outputs": [],
   "source": [
    "data_ive_peq = pd.read_csv(\"IVE_tickbidask.txt\", sep=',', names=['date', 'time', 'price', 'bid', 'ask', 'volume'], nrows=10000)"
   ]
  },
  {
   "cell_type": "code",
   "execution_count": null,
   "metadata": {},
   "outputs": [],
   "source": [
    "data_ive.head(3)"
   ]
  },
  {
   "cell_type": "code",
   "execution_count": null,
   "metadata": {},
   "outputs": [],
   "source": [
    "data_ive.dtypes"
   ]
  },
  {
   "cell_type": "code",
   "execution_count": 49,
   "metadata": {},
   "outputs": [],
   "source": [
    "#Para poner la fecha en formato date\n",
    "from datetime import datetime\n",
    "from datetime import timedelta"
   ]
  },
  {
   "cell_type": "code",
   "execution_count": 53,
   "metadata": {},
   "outputs": [
    {
     "data": {
      "text/html": [
       "<div>\n",
       "<style scoped>\n",
       "    .dataframe tbody tr th:only-of-type {\n",
       "        vertical-align: middle;\n",
       "    }\n",
       "\n",
       "    .dataframe tbody tr th {\n",
       "        vertical-align: top;\n",
       "    }\n",
       "\n",
       "    .dataframe thead th {\n",
       "        text-align: right;\n",
       "    }\n",
       "</style>\n",
       "<table border=\"1\" class=\"dataframe\">\n",
       "  <thead>\n",
       "    <tr style=\"text-align: right;\">\n",
       "      <th></th>\n",
       "      <th>date</th>\n",
       "      <th>time</th>\n",
       "      <th>price</th>\n",
       "      <th>bid</th>\n",
       "      <th>ask</th>\n",
       "      <th>volume</th>\n",
       "    </tr>\n",
       "  </thead>\n",
       "  <tbody>\n",
       "    <tr>\n",
       "      <th>09/28/2009 09:30:00</th>\n",
       "      <td>09/28/2009</td>\n",
       "      <td>09:30:00</td>\n",
       "      <td>50.79</td>\n",
       "      <td>50.70</td>\n",
       "      <td>50.79</td>\n",
       "      <td>100</td>\n",
       "    </tr>\n",
       "    <tr>\n",
       "      <th>09/28/2009 09:30:00</th>\n",
       "      <td>09/28/2009</td>\n",
       "      <td>09:30:00</td>\n",
       "      <td>50.71</td>\n",
       "      <td>50.70</td>\n",
       "      <td>50.79</td>\n",
       "      <td>638</td>\n",
       "    </tr>\n",
       "    <tr>\n",
       "      <th>09/28/2009 09:31:32</th>\n",
       "      <td>09/28/2009</td>\n",
       "      <td>09:31:32</td>\n",
       "      <td>50.75</td>\n",
       "      <td>50.75</td>\n",
       "      <td>50.76</td>\n",
       "      <td>100</td>\n",
       "    </tr>\n",
       "  </tbody>\n",
       "</table>\n",
       "</div>"
      ],
      "text/plain": [
       "                           date      time  price    bid    ask  volume\n",
       "09/28/2009 09:30:00  09/28/2009  09:30:00  50.79  50.70  50.79     100\n",
       "09/28/2009 09:30:00  09/28/2009  09:30:00  50.71  50.70  50.79     638\n",
       "09/28/2009 09:31:32  09/28/2009  09:31:32  50.75  50.75  50.76     100"
      ]
     },
     "execution_count": 53,
     "metadata": {},
     "output_type": "execute_result"
    }
   ],
   "source": [
    "data_ive.index = (data_ive.date +' '+ data_ive.time)\n",
    "data_ive.head(3)"
   ]
  },
  {
   "cell_type": "code",
   "execution_count": 56,
   "metadata": {},
   "outputs": [],
   "source": [
    "data_ive.index = pd.to_datetime(data_ive.index, format=\"%m/%d/%Y %H:%M:%S\")"
   ]
  },
  {
   "cell_type": "code",
   "execution_count": 57,
   "metadata": {},
   "outputs": [
    {
     "data": {
      "text/html": [
       "<div>\n",
       "<style scoped>\n",
       "    .dataframe tbody tr th:only-of-type {\n",
       "        vertical-align: middle;\n",
       "    }\n",
       "\n",
       "    .dataframe tbody tr th {\n",
       "        vertical-align: top;\n",
       "    }\n",
       "\n",
       "    .dataframe thead th {\n",
       "        text-align: right;\n",
       "    }\n",
       "</style>\n",
       "<table border=\"1\" class=\"dataframe\">\n",
       "  <thead>\n",
       "    <tr style=\"text-align: right;\">\n",
       "      <th></th>\n",
       "      <th>date</th>\n",
       "      <th>time</th>\n",
       "      <th>price</th>\n",
       "      <th>bid</th>\n",
       "      <th>ask</th>\n",
       "      <th>volume</th>\n",
       "    </tr>\n",
       "  </thead>\n",
       "  <tbody>\n",
       "    <tr>\n",
       "      <th>2009-09-28 09:30:00</th>\n",
       "      <td>09/28/2009</td>\n",
       "      <td>09:30:00</td>\n",
       "      <td>50.79</td>\n",
       "      <td>50.70</td>\n",
       "      <td>50.79</td>\n",
       "      <td>100</td>\n",
       "    </tr>\n",
       "    <tr>\n",
       "      <th>2009-09-28 09:30:00</th>\n",
       "      <td>09/28/2009</td>\n",
       "      <td>09:30:00</td>\n",
       "      <td>50.71</td>\n",
       "      <td>50.70</td>\n",
       "      <td>50.79</td>\n",
       "      <td>638</td>\n",
       "    </tr>\n",
       "    <tr>\n",
       "      <th>2009-09-28 09:31:32</th>\n",
       "      <td>09/28/2009</td>\n",
       "      <td>09:31:32</td>\n",
       "      <td>50.75</td>\n",
       "      <td>50.75</td>\n",
       "      <td>50.76</td>\n",
       "      <td>100</td>\n",
       "    </tr>\n",
       "  </tbody>\n",
       "</table>\n",
       "</div>"
      ],
      "text/plain": [
       "                           date      time  price    bid    ask  volume\n",
       "2009-09-28 09:30:00  09/28/2009  09:30:00  50.79  50.70  50.79     100\n",
       "2009-09-28 09:30:00  09/28/2009  09:30:00  50.71  50.70  50.79     638\n",
       "2009-09-28 09:31:32  09/28/2009  09:31:32  50.75  50.75  50.76     100"
      ]
     },
     "execution_count": 57,
     "metadata": {},
     "output_type": "execute_result"
    }
   ],
   "source": [
    "data_ive.head(3)"
   ]
  },
  {
   "cell_type": "code",
   "execution_count": null,
   "metadata": {},
   "outputs": [],
   "source": [
    "data_ive.drop(columns=['date', 'time'] #Falta algoooo"
   ]
  },
  {
   "cell_type": "code",
   "execution_count": 58,
   "metadata": {},
   "outputs": [
    {
     "name": "stdout",
     "output_type": "stream",
     "text": [
      "(6860940, 6)\n",
      "(10000, 6)\n"
     ]
    }
   ],
   "source": [
    "print(data_ive.shape)\n",
    "print(data_ive_peq.shape)"
   ]
  },
  {
   "cell_type": "markdown",
   "metadata": {},
   "source": [
    "- Estudia estadísticas básicas para detectar outliers"
   ]
  },
  {
   "cell_type": "code",
   "execution_count": 62,
   "metadata": {},
   "outputs": [
    {
     "data": {
      "text/html": [
       "<div>\n",
       "<style scoped>\n",
       "    .dataframe tbody tr th:only-of-type {\n",
       "        vertical-align: middle;\n",
       "    }\n",
       "\n",
       "    .dataframe tbody tr th {\n",
       "        vertical-align: top;\n",
       "    }\n",
       "\n",
       "    .dataframe thead th {\n",
       "        text-align: right;\n",
       "    }\n",
       "</style>\n",
       "<table border=\"1\" class=\"dataframe\">\n",
       "  <thead>\n",
       "    <tr style=\"text-align: right;\">\n",
       "      <th></th>\n",
       "      <th>date</th>\n",
       "      <th>time</th>\n",
       "      <th>price</th>\n",
       "      <th>bid</th>\n",
       "      <th>ask</th>\n",
       "      <th>volume</th>\n",
       "    </tr>\n",
       "  </thead>\n",
       "  <tbody>\n",
       "    <tr>\n",
       "      <th>2009-09-28 09:30:00</th>\n",
       "      <td>09/28/2009</td>\n",
       "      <td>09:30:00</td>\n",
       "      <td>50.7900</td>\n",
       "      <td>50.70</td>\n",
       "      <td>50.79</td>\n",
       "      <td>100</td>\n",
       "    </tr>\n",
       "    <tr>\n",
       "      <th>2009-09-28 09:30:00</th>\n",
       "      <td>09/28/2009</td>\n",
       "      <td>09:30:00</td>\n",
       "      <td>50.7100</td>\n",
       "      <td>50.70</td>\n",
       "      <td>50.79</td>\n",
       "      <td>638</td>\n",
       "    </tr>\n",
       "    <tr>\n",
       "      <th>2009-09-28 09:31:32</th>\n",
       "      <td>09/28/2009</td>\n",
       "      <td>09:31:32</td>\n",
       "      <td>50.7500</td>\n",
       "      <td>50.75</td>\n",
       "      <td>50.76</td>\n",
       "      <td>100</td>\n",
       "    </tr>\n",
       "    <tr>\n",
       "      <th>2009-09-28 09:31:32</th>\n",
       "      <td>09/28/2009</td>\n",
       "      <td>09:31:32</td>\n",
       "      <td>50.7500</td>\n",
       "      <td>50.75</td>\n",
       "      <td>50.76</td>\n",
       "      <td>100</td>\n",
       "    </tr>\n",
       "    <tr>\n",
       "      <th>2009-09-28 09:31:33</th>\n",
       "      <td>09/28/2009</td>\n",
       "      <td>09:31:33</td>\n",
       "      <td>50.7500</td>\n",
       "      <td>50.75</td>\n",
       "      <td>50.76</td>\n",
       "      <td>100</td>\n",
       "    </tr>\n",
       "    <tr>\n",
       "      <th>...</th>\n",
       "      <td>...</td>\n",
       "      <td>...</td>\n",
       "      <td>...</td>\n",
       "      <td>...</td>\n",
       "      <td>...</td>\n",
       "      <td>...</td>\n",
       "    </tr>\n",
       "    <tr>\n",
       "      <th>2011-10-06 10:11:11</th>\n",
       "      <td>10/06/2011</td>\n",
       "      <td>10:11:11</td>\n",
       "      <td>51.9100</td>\n",
       "      <td>51.88</td>\n",
       "      <td>51.90</td>\n",
       "      <td>176</td>\n",
       "    </tr>\n",
       "    <tr>\n",
       "      <th>2011-10-06 10:11:11</th>\n",
       "      <td>10/06/2011</td>\n",
       "      <td>10:11:11</td>\n",
       "      <td>51.9200</td>\n",
       "      <td>51.90</td>\n",
       "      <td>51.92</td>\n",
       "      <td>100</td>\n",
       "    </tr>\n",
       "    <tr>\n",
       "      <th>2011-10-06 10:11:29</th>\n",
       "      <td>10/06/2011</td>\n",
       "      <td>10:11:29</td>\n",
       "      <td>51.9400</td>\n",
       "      <td>51.94</td>\n",
       "      <td>51.96</td>\n",
       "      <td>200</td>\n",
       "    </tr>\n",
       "    <tr>\n",
       "      <th>2011-10-06 10:11:29</th>\n",
       "      <td>10/06/2011</td>\n",
       "      <td>10:11:29</td>\n",
       "      <td>51.9429</td>\n",
       "      <td>51.94</td>\n",
       "      <td>51.96</td>\n",
       "      <td>150</td>\n",
       "    </tr>\n",
       "    <tr>\n",
       "      <th>2011-10-06 10:11:43</th>\n",
       "      <td>10/06/2011</td>\n",
       "      <td>10:11:43</td>\n",
       "      <td>51.9900</td>\n",
       "      <td>51.97</td>\n",
       "      <td>51.99</td>\n",
       "      <td>1000</td>\n",
       "    </tr>\n",
       "  </tbody>\n",
       "</table>\n",
       "<p>164034 rows × 6 columns</p>\n",
       "</div>"
      ],
      "text/plain": [
       "                           date      time    price    bid    ask  volume\n",
       "2009-09-28 09:30:00  09/28/2009  09:30:00  50.7900  50.70  50.79     100\n",
       "2009-09-28 09:30:00  09/28/2009  09:30:00  50.7100  50.70  50.79     638\n",
       "2009-09-28 09:31:32  09/28/2009  09:31:32  50.7500  50.75  50.76     100\n",
       "2009-09-28 09:31:32  09/28/2009  09:31:32  50.7500  50.75  50.76     100\n",
       "2009-09-28 09:31:33  09/28/2009  09:31:33  50.7500  50.75  50.76     100\n",
       "...                         ...       ...      ...    ...    ...     ...\n",
       "2011-10-06 10:11:11  10/06/2011  10:11:11  51.9100  51.88  51.90     176\n",
       "2011-10-06 10:11:11  10/06/2011  10:11:11  51.9200  51.90  51.92     100\n",
       "2011-10-06 10:11:29  10/06/2011  10:11:29  51.9400  51.94  51.96     200\n",
       "2011-10-06 10:11:29  10/06/2011  10:11:29  51.9429  51.94  51.96     150\n",
       "2011-10-06 10:11:43  10/06/2011  10:11:43  51.9900  51.97  51.99    1000\n",
       "\n",
       "[164034 rows x 6 columns]"
      ]
     },
     "execution_count": 62,
     "metadata": {},
     "output_type": "execute_result"
    }
   ],
   "source": [
    "data_ive[data_ive['price'] < 52]"
   ]
  },
  {
   "cell_type": "code",
   "execution_count": 40,
   "metadata": {},
   "outputs": [
    {
     "data": {
      "text/html": [
       "<div>\n",
       "<style scoped>\n",
       "    .dataframe tbody tr th:only-of-type {\n",
       "        vertical-align: middle;\n",
       "    }\n",
       "\n",
       "    .dataframe tbody tr th {\n",
       "        vertical-align: top;\n",
       "    }\n",
       "\n",
       "    .dataframe thead th {\n",
       "        text-align: right;\n",
       "    }\n",
       "</style>\n",
       "<table border=\"1\" class=\"dataframe\">\n",
       "  <thead>\n",
       "    <tr style=\"text-align: right;\">\n",
       "      <th></th>\n",
       "      <th>date</th>\n",
       "      <th>time</th>\n",
       "      <th>price</th>\n",
       "      <th>bid</th>\n",
       "      <th>ask</th>\n",
       "      <th>volume</th>\n",
       "    </tr>\n",
       "  </thead>\n",
       "  <tbody>\n",
       "    <tr>\n",
       "      <th>296799</th>\n",
       "      <td>05/06/2010</td>\n",
       "      <td>14:49:07</td>\n",
       "      <td>0.11</td>\n",
       "      <td>0.10</td>\n",
       "      <td>44.03</td>\n",
       "      <td>500</td>\n",
       "    </tr>\n",
       "    <tr>\n",
       "      <th>296838</th>\n",
       "      <td>05/06/2010</td>\n",
       "      <td>14:53:30</td>\n",
       "      <td>1.10</td>\n",
       "      <td>1.10</td>\n",
       "      <td>30.28</td>\n",
       "      <td>2600</td>\n",
       "    </tr>\n",
       "    <tr>\n",
       "      <th>296839</th>\n",
       "      <td>05/06/2010</td>\n",
       "      <td>14:53:32</td>\n",
       "      <td>1.10</td>\n",
       "      <td>1.10</td>\n",
       "      <td>30.28</td>\n",
       "      <td>2600</td>\n",
       "    </tr>\n",
       "    <tr>\n",
       "      <th>296943</th>\n",
       "      <td>05/06/2010</td>\n",
       "      <td>14:55:32</td>\n",
       "      <td>1.10</td>\n",
       "      <td>1.10</td>\n",
       "      <td>50.57</td>\n",
       "      <td>300</td>\n",
       "    </tr>\n",
       "    <tr>\n",
       "      <th>296944</th>\n",
       "      <td>05/06/2010</td>\n",
       "      <td>14:55:32</td>\n",
       "      <td>1.10</td>\n",
       "      <td>1.10</td>\n",
       "      <td>50.57</td>\n",
       "      <td>300</td>\n",
       "    </tr>\n",
       "    <tr>\n",
       "      <th>296945</th>\n",
       "      <td>05/06/2010</td>\n",
       "      <td>14:55:32</td>\n",
       "      <td>1.10</td>\n",
       "      <td>1.10</td>\n",
       "      <td>50.57</td>\n",
       "      <td>100</td>\n",
       "    </tr>\n",
       "    <tr>\n",
       "      <th>296946</th>\n",
       "      <td>05/06/2010</td>\n",
       "      <td>14:55:32</td>\n",
       "      <td>1.10</td>\n",
       "      <td>1.00</td>\n",
       "      <td>50.57</td>\n",
       "      <td>200</td>\n",
       "    </tr>\n",
       "    <tr>\n",
       "      <th>296947</th>\n",
       "      <td>05/06/2010</td>\n",
       "      <td>14:55:32</td>\n",
       "      <td>1.10</td>\n",
       "      <td>1.00</td>\n",
       "      <td>50.57</td>\n",
       "      <td>700</td>\n",
       "    </tr>\n",
       "    <tr>\n",
       "      <th>296948</th>\n",
       "      <td>05/06/2010</td>\n",
       "      <td>14:55:32</td>\n",
       "      <td>1.10</td>\n",
       "      <td>1.00</td>\n",
       "      <td>50.57</td>\n",
       "      <td>200</td>\n",
       "    </tr>\n",
       "    <tr>\n",
       "      <th>296949</th>\n",
       "      <td>05/06/2010</td>\n",
       "      <td>14:55:32</td>\n",
       "      <td>1.10</td>\n",
       "      <td>1.00</td>\n",
       "      <td>50.57</td>\n",
       "      <td>1200</td>\n",
       "    </tr>\n",
       "    <tr>\n",
       "      <th>296950</th>\n",
       "      <td>05/06/2010</td>\n",
       "      <td>14:55:32</td>\n",
       "      <td>1.10</td>\n",
       "      <td>1.00</td>\n",
       "      <td>50.57</td>\n",
       "      <td>200</td>\n",
       "    </tr>\n",
       "    <tr>\n",
       "      <th>296951</th>\n",
       "      <td>05/06/2010</td>\n",
       "      <td>14:55:32</td>\n",
       "      <td>1.10</td>\n",
       "      <td>0.55</td>\n",
       "      <td>50.57</td>\n",
       "      <td>500</td>\n",
       "    </tr>\n",
       "    <tr>\n",
       "      <th>296952</th>\n",
       "      <td>05/06/2010</td>\n",
       "      <td>14:55:32</td>\n",
       "      <td>1.10</td>\n",
       "      <td>0.55</td>\n",
       "      <td>50.57</td>\n",
       "      <td>100</td>\n",
       "    </tr>\n",
       "    <tr>\n",
       "      <th>296953</th>\n",
       "      <td>05/06/2010</td>\n",
       "      <td>14:55:32</td>\n",
       "      <td>1.10</td>\n",
       "      <td>0.55</td>\n",
       "      <td>50.57</td>\n",
       "      <td>200</td>\n",
       "    </tr>\n",
       "    <tr>\n",
       "      <th>296954</th>\n",
       "      <td>05/06/2010</td>\n",
       "      <td>14:55:32</td>\n",
       "      <td>1.10</td>\n",
       "      <td>0.55</td>\n",
       "      <td>50.57</td>\n",
       "      <td>800</td>\n",
       "    </tr>\n",
       "  </tbody>\n",
       "</table>\n",
       "</div>"
      ],
      "text/plain": [
       "              date      time  price   bid    ask  volume\n",
       "296799  05/06/2010  14:49:07   0.11  0.10  44.03     500\n",
       "296838  05/06/2010  14:53:30   1.10  1.10  30.28    2600\n",
       "296839  05/06/2010  14:53:32   1.10  1.10  30.28    2600\n",
       "296943  05/06/2010  14:55:32   1.10  1.10  50.57     300\n",
       "296944  05/06/2010  14:55:32   1.10  1.10  50.57     300\n",
       "296945  05/06/2010  14:55:32   1.10  1.10  50.57     100\n",
       "296946  05/06/2010  14:55:32   1.10  1.00  50.57     200\n",
       "296947  05/06/2010  14:55:32   1.10  1.00  50.57     700\n",
       "296948  05/06/2010  14:55:32   1.10  1.00  50.57     200\n",
       "296949  05/06/2010  14:55:32   1.10  1.00  50.57    1200\n",
       "296950  05/06/2010  14:55:32   1.10  1.00  50.57     200\n",
       "296951  05/06/2010  14:55:32   1.10  0.55  50.57     500\n",
       "296952  05/06/2010  14:55:32   1.10  0.55  50.57     100\n",
       "296953  05/06/2010  14:55:32   1.10  0.55  50.57     200\n",
       "296954  05/06/2010  14:55:32   1.10  0.55  50.57     800"
      ]
     },
     "execution_count": 40,
     "metadata": {},
     "output_type": "execute_result"
    }
   ],
   "source": [
    "data_ive[data_ive['price'] < 20] #Para ver cuantos valores hay menores de 30"
   ]
  },
  {
   "cell_type": "code",
   "execution_count": 44,
   "metadata": {},
   "outputs": [
    {
     "data": {
      "text/plain": [
       "date      29\n",
       "time      29\n",
       "price     29\n",
       "bid       29\n",
       "ask       29\n",
       "volume    29\n",
       "dtype: int64"
      ]
     },
     "execution_count": 44,
     "metadata": {},
     "output_type": "execute_result"
    }
   ],
   "source": [
    "data_ive[data_ive['price'] < 30].count()"
   ]
  },
  {
   "cell_type": "code",
   "execution_count": 23,
   "metadata": {},
   "outputs": [
    {
     "data": {
      "text/html": [
       "<div>\n",
       "<style scoped>\n",
       "    .dataframe tbody tr th:only-of-type {\n",
       "        vertical-align: middle;\n",
       "    }\n",
       "\n",
       "    .dataframe tbody tr th {\n",
       "        vertical-align: top;\n",
       "    }\n",
       "\n",
       "    .dataframe thead th {\n",
       "        text-align: right;\n",
       "    }\n",
       "</style>\n",
       "<table border=\"1\" class=\"dataframe\">\n",
       "  <thead>\n",
       "    <tr style=\"text-align: right;\">\n",
       "      <th></th>\n",
       "      <th>price</th>\n",
       "      <th>bid</th>\n",
       "      <th>ask</th>\n",
       "      <th>volume</th>\n",
       "    </tr>\n",
       "  </thead>\n",
       "  <tbody>\n",
       "    <tr>\n",
       "      <th>count</th>\n",
       "      <td>6860940.000</td>\n",
       "      <td>6860940.000</td>\n",
       "      <td>6860940.000</td>\n",
       "      <td>6860940.000</td>\n",
       "    </tr>\n",
       "    <tr>\n",
       "      <th>mean</th>\n",
       "      <td>88.710</td>\n",
       "      <td>88.702</td>\n",
       "      <td>88.716</td>\n",
       "      <td>253.852</td>\n",
       "    </tr>\n",
       "    <tr>\n",
       "      <th>std</th>\n",
       "      <td>19.536</td>\n",
       "      <td>19.538</td>\n",
       "      <td>19.535</td>\n",
       "      <td>3240.033</td>\n",
       "    </tr>\n",
       "    <tr>\n",
       "      <th>min</th>\n",
       "      <td>0.110</td>\n",
       "      <td>0.000</td>\n",
       "      <td>0.000</td>\n",
       "      <td>0.000</td>\n",
       "    </tr>\n",
       "    <tr>\n",
       "      <th>25%</th>\n",
       "      <td>75.110</td>\n",
       "      <td>75.110</td>\n",
       "      <td>75.120</td>\n",
       "      <td>100.000</td>\n",
       "    </tr>\n",
       "    <tr>\n",
       "      <th>50%</th>\n",
       "      <td>91.500</td>\n",
       "      <td>91.490</td>\n",
       "      <td>91.500</td>\n",
       "      <td>100.000</td>\n",
       "    </tr>\n",
       "    <tr>\n",
       "      <th>75%</th>\n",
       "      <td>105.280</td>\n",
       "      <td>105.280</td>\n",
       "      <td>105.290</td>\n",
       "      <td>200.000</td>\n",
       "    </tr>\n",
       "    <tr>\n",
       "      <th>max</th>\n",
       "      <td>121.120</td>\n",
       "      <td>121.120</td>\n",
       "      <td>123.000</td>\n",
       "      <td>2600000.000</td>\n",
       "    </tr>\n",
       "  </tbody>\n",
       "</table>\n",
       "</div>"
      ],
      "text/plain": [
       "             price          bid          ask       volume\n",
       "count  6860940.000  6860940.000  6860940.000  6860940.000\n",
       "mean        88.710       88.702       88.716      253.852\n",
       "std         19.536       19.538       19.535     3240.033\n",
       "min          0.110        0.000        0.000        0.000\n",
       "25%         75.110       75.110       75.120      100.000\n",
       "50%         91.500       91.490       91.500      100.000\n",
       "75%        105.280      105.280      105.290      200.000\n",
       "max        121.120      121.120      123.000  2600000.000"
      ]
     },
     "execution_count": 23,
     "metadata": {},
     "output_type": "execute_result"
    }
   ],
   "source": [
    "data_ive.describe().round(3)"
   ]
  },
  {
   "cell_type": "markdown",
   "metadata": {},
   "source": [
    "- Haz un plot cerca del suceso outlier"
   ]
  },
  {
   "cell_type": "code",
   "execution_count": 36,
   "metadata": {},
   "outputs": [
    {
     "data": {
      "text/plain": [
       "<matplotlib.axes._subplots.AxesSubplot at 0x13f6bbcf8>"
      ]
     },
     "execution_count": 36,
     "metadata": {},
     "output_type": "execute_result"
    },
    {
     "data": {
      "image/png": "[encoded data removed]",
      "text/plain": [
       "<Figure size 432x288 with 1 Axes>"
      ]
     },
     "metadata": {
      "needs_background": "light"
     },
     "output_type": "display_data"
    }
   ],
   "source": [
    "data_ive['price'].plot()"
   ]
  },
  {
   "cell_type": "code",
   "execution_count": 41,
   "metadata": {},
   "outputs": [
    {
     "data": {
      "text/plain": [
       "<matplotlib.axes._subplots.AxesSubplot at 0x138671a20>"
      ]
     },
     "execution_count": 41,
     "metadata": {},
     "output_type": "execute_result"
    },
    {
     "data": {
      "image/png": "[encoded data removed]",
      "text/plain": [
       "<Figure size 432x288 with 1 Axes>"
      ]
     },
     "metadata": {
      "needs_background": "light"
     },
     "output_type": "display_data"
    }
   ],
   "source": [
    "data_ive['bid'].plot()"
   ]
  },
  {
   "cell_type": "code",
   "execution_count": 42,
   "metadata": {},
   "outputs": [
    {
     "data": {
      "text/plain": [
       "<matplotlib.axes._subplots.AxesSubplot at 0x134804518>"
      ]
     },
     "execution_count": 42,
     "metadata": {},
     "output_type": "execute_result"
    },
    {
     "data": {
      "image/png": "[encoded data removed]",
      "text/plain": [
       "<Figure size 432x288 with 1 Axes>"
      ]
     },
     "metadata": {
      "needs_background": "light"
     },
     "output_type": "display_data"
    }
   ],
   "source": [
    "data_ive['ask'].plot()"
   ]
  },
  {
   "cell_type": "code",
   "execution_count": 45,
   "metadata": {},
   "outputs": [],
   "source": [
    "data_ive_high = data_ive[data_ive['price'] > 30]"
   ]
  },
  {
   "cell_type": "code",
   "execution_count": 47,
   "metadata": {},
   "outputs": [
    {
     "data": {
      "text/plain": [
       "<matplotlib.axes._subplots.AxesSubplot at 0x134642780>"
      ]
     },
     "execution_count": 47,
     "metadata": {},
     "output_type": "execute_result"
    },
    {
     "data": {
      "image/png": "[encoded data removed]",
      "text/plain": [
       "<Figure size 432x288 with 1 Axes>"
      ]
     },
     "metadata": {
      "needs_background": "light"
     },
     "output_type": "display_data"
    }
   ],
   "source": [
    "data_ive_high['price'].plot()"
   ]
  },
  {
   "cell_type": "code",
   "execution_count": 63,
   "metadata": {},
   "outputs": [
    {
     "data": {
      "text/plain": [
       "Timestamp('2010-05-06 14:49:07')"
      ]
     },
     "execution_count": 63,
     "metadata": {},
     "output_type": "execute_result"
    }
   ],
   "source": [
    "data_ive.price.idxmin() #Así preguntas el indice del número menor"
   ]
  },
  {
   "cell_type": "markdown",
   "metadata": {},
   "source": [
    "- Tira las columnas 'bid' y 'ask', y selecciona los datos a partir del 1 de Enero de 2011."
   ]
  },
  {
   "cell_type": "markdown",
   "metadata": {},
   "source": [
    "- Calcula las velas diarias, mensuales y anuales del precio (ohlc)."
   ]
  },
  {
   "cell_type": "code",
   "execution_count": 66,
   "metadata": {},
   "outputs": [
    {
     "data": {
      "text/html": [
       "<div>\n",
       "<style scoped>\n",
       "    .dataframe tbody tr th:only-of-type {\n",
       "        vertical-align: middle;\n",
       "    }\n",
       "\n",
       "    .dataframe tbody tr th {\n",
       "        vertical-align: top;\n",
       "    }\n",
       "\n",
       "    .dataframe thead th {\n",
       "        text-align: right;\n",
       "    }\n",
       "</style>\n",
       "<table border=\"1\" class=\"dataframe\">\n",
       "  <thead>\n",
       "    <tr style=\"text-align: right;\">\n",
       "      <th></th>\n",
       "      <th>open</th>\n",
       "      <th>high</th>\n",
       "      <th>low</th>\n",
       "      <th>close</th>\n",
       "    </tr>\n",
       "  </thead>\n",
       "  <tbody>\n",
       "    <tr>\n",
       "      <th>2009-09-28</th>\n",
       "      <td>50.79</td>\n",
       "      <td>51.6000</td>\n",
       "      <td>50.7100</td>\n",
       "      <td>51.5400</td>\n",
       "    </tr>\n",
       "    <tr>\n",
       "      <th>2009-09-29</th>\n",
       "      <td>51.78</td>\n",
       "      <td>51.9600</td>\n",
       "      <td>51.3700</td>\n",
       "      <td>51.4900</td>\n",
       "    </tr>\n",
       "    <tr>\n",
       "      <th>2009-09-30</th>\n",
       "      <td>51.66</td>\n",
       "      <td>51.6900</td>\n",
       "      <td>50.7800</td>\n",
       "      <td>51.2900</td>\n",
       "    </tr>\n",
       "    <tr>\n",
       "      <th>2009-10-01</th>\n",
       "      <td>51.16</td>\n",
       "      <td>51.1600</td>\n",
       "      <td>49.7800</td>\n",
       "      <td>50.3166</td>\n",
       "    </tr>\n",
       "    <tr>\n",
       "      <th>2009-10-02</th>\n",
       "      <td>49.30</td>\n",
       "      <td>49.8100</td>\n",
       "      <td>49.1900</td>\n",
       "      <td>49.5100</td>\n",
       "    </tr>\n",
       "    <tr>\n",
       "      <th>...</th>\n",
       "      <td>...</td>\n",
       "      <td>...</td>\n",
       "      <td>...</td>\n",
       "      <td>...</td>\n",
       "    </tr>\n",
       "    <tr>\n",
       "      <th>2019-06-10</th>\n",
       "      <td>113.00</td>\n",
       "      <td>115.1700</td>\n",
       "      <td>113.0000</td>\n",
       "      <td>114.4400</td>\n",
       "    </tr>\n",
       "    <tr>\n",
       "      <th>2019-06-11</th>\n",
       "      <td>115.17</td>\n",
       "      <td>115.3351</td>\n",
       "      <td>114.4000</td>\n",
       "      <td>114.6100</td>\n",
       "    </tr>\n",
       "    <tr>\n",
       "      <th>2019-06-12</th>\n",
       "      <td>114.52</td>\n",
       "      <td>114.7000</td>\n",
       "      <td>114.0950</td>\n",
       "      <td>114.2100</td>\n",
       "    </tr>\n",
       "    <tr>\n",
       "      <th>2019-06-13</th>\n",
       "      <td>114.63</td>\n",
       "      <td>115.0700</td>\n",
       "      <td>114.5569</td>\n",
       "      <td>114.9700</td>\n",
       "    </tr>\n",
       "    <tr>\n",
       "      <th>2019-06-14</th>\n",
       "      <td>114.74</td>\n",
       "      <td>115.0500</td>\n",
       "      <td>114.3100</td>\n",
       "      <td>114.7700</td>\n",
       "    </tr>\n",
       "  </tbody>\n",
       "</table>\n",
       "<p>2445 rows × 4 columns</p>\n",
       "</div>"
      ],
      "text/plain": [
       "              open      high       low     close\n",
       "2009-09-28   50.79   51.6000   50.7100   51.5400\n",
       "2009-09-29   51.78   51.9600   51.3700   51.4900\n",
       "2009-09-30   51.66   51.6900   50.7800   51.2900\n",
       "2009-10-01   51.16   51.1600   49.7800   50.3166\n",
       "2009-10-02   49.30   49.8100   49.1900   49.5100\n",
       "...            ...       ...       ...       ...\n",
       "2019-06-10  113.00  115.1700  113.0000  114.4400\n",
       "2019-06-11  115.17  115.3351  114.4000  114.6100\n",
       "2019-06-12  114.52  114.7000  114.0950  114.2100\n",
       "2019-06-13  114.63  115.0700  114.5569  114.9700\n",
       "2019-06-14  114.74  115.0500  114.3100  114.7700\n",
       "\n",
       "[2445 rows x 4 columns]"
      ]
     },
     "execution_count": 66,
     "metadata": {},
     "output_type": "execute_result"
    }
   ],
   "source": [
    "data_ive.price.resample('1D').ohlc().dropna() #Calcula y tira los NaN"
   ]
  },
  {
   "cell_type": "markdown",
   "metadata": {},
   "source": [
    "- Define una función que devuelva un dataframe en el que sólo se muestren negociaciones cada 1.000.0000 de euros negociados."
   ]
  },
  {
   "cell_type": "markdown",
   "metadata": {},
   "source": [
    "- Calcula los retornos de las velas diarias y cada 1.000.000 de euros negociados."
   ]
  },
  {
   "cell_type": "markdown",
   "metadata": {},
   "source": [
    "- Haz un plot de las distribución de los retornos."
   ]
  },
  {
   "cell_type": "markdown",
   "metadata": {},
   "source": [
    "- Con los precios muestreados calcula las [bandas de bollinger](https://es.wikipedia.org/wiki/Bandas_de_Bollinger)."
   ]
  },
  {
   "cell_type": "markdown",
   "metadata": {},
   "source": [
    "- Haz un plot donde muestres las bandas de Bollinger junto con le precio."
   ]
  }
 ],
 "metadata": {
  "kernelspec": {
   "display_name": "Python 3",
   "language": "python",
   "name": "python3"
  },
  "language_info": {
   "codemirror_mode": {
    "name": "ipython",
    "version": 3
   },
   "file_extension": ".py",
   "mimetype": "text/x-python",
   "name": "python",
   "nbconvert_exporter": "python",
   "pygments_lexer": "ipython3",
   "version": "3.7.3"
  }
 },
 "nbformat": 4,
 "nbformat_minor": 4
}
