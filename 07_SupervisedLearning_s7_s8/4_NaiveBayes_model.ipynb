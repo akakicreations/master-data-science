{
 "nbformat": 4,
 "nbformat_minor": 2,
 "metadata": {
  "language_info": {
   "name": "python",
   "codemirror_mode": {
    "name": "ipython",
    "version": 3
   },
   "version": "3.7.3-final"
  },
  "orig_nbformat": 2,
  "file_extension": ".py",
  "mimetype": "text/x-python",
  "name": "python",
  "npconvert_exporter": "python",
  "pygments_lexer": "ipython3",
  "version": 3,
  "kernelspec": {
   "name": "python3",
   "display_name": "Python 3"
  }
 },
 "cells": [
  {
   "cell_type": "markdown",
   "metadata": {},
   "source": [
    "# Clasificadores Naive Bayes\n",
    "\n",
    "\n",
    "Un clasificador Naive Bayes tipo Bernoulli cuenta con qué frecuencia las características de cada clase son distintas de cero. Para entenderlo bien, veamos un ejemplo:"
   ]
  },
  {
   "cell_type": "code",
   "execution_count": 2,
   "metadata": {},
   "outputs": [],
   "source": [
    "# Importamos paquetes\n",
    "import pandas as pd\n",
    "import numpy as np\n",
    "import matplotlib\n",
    "import scipy as sp\n",
    "import matplotlib.pyplot as plt\n",
    "import mglearn"
   ]
  },
  {
   "cell_type": "code",
   "execution_count": 3,
   "metadata": {},
   "outputs": [],
   "source": [
    "# Crear un array X de 4x4 con ceros y unos aleatoriamente\n",
    "X = np.array([[0, 1, 0, 1],\n",
    "              [1, 0, 1, 1],\n",
    "              [0, 0, 0, 1],\n",
    "              [1, 0, 1, 0]])\n",
    "# Crear un array y de 1x4 con las etiquetas (ceros y unos)\n",
    "y = np.array([0, 1, 0, 1])"
   ]
  },
  {
   "cell_type": "markdown",
   "metadata": {},
   "source": [
    "Tenemos cuatro muestras con cuatro características binarias cada una de ellas. Hay dos clases, 0 y 1. Para la clase 0 (primera y tercera muestra) la primera característica es 0 veces, y distinta de cero ninguna, la segunda característica es 0 una vez y distinta de 0 otra, y así sucesivamente.\n",
    "\n",
    "El mismo tipo de conteo se realiza para las muestras en la segunda clase. Contar las entradas distintas de cero por clase tiene esta pinta:"
   ]
  },
  {
   "cell_type": "code",
   "execution_count": 4,
   "metadata": {},
   "outputs": [
    {
     "name": "stdout",
     "output_type": "stream",
     "text": "Feature counts:\n {0: array([0, 1, 0, 2]), 1: array([2, 0, 2, 1])}\n"
    }
   ],
   "source": [
    "# Contar tipo de características\n",
    "counts = {}\n",
    "for label in np.unique(y):\n",
    "    # iterate over each class\n",
    "    # count (sum) entries of 1 per feature\n",
    "    counts[label] = X[y == label].sum(axis=0)\n",
    "print(\"Feature counts:\\n\", counts)"
   ]
  },
  {
   "cell_type": "code",
   "execution_count": 5,
   "metadata": {},
   "outputs": [
    {
     "data": {
      "text/plain": "BernoulliNB(alpha=1.0, binarize=0.0, class_prior=None, fit_prior=True)"
     },
     "execution_count": 5,
     "metadata": {},
     "output_type": "execute_result"
    }
   ],
   "source": [
    "# Importar BernoulliNB, instanciar y entrenar\n",
    "from sklearn.naive_bayes import BernoulliNB\n",
    "clf = BernoulliNB()\n",
    "clf.fit(X,y)"
   ]
  },
  {
   "cell_type": "code",
   "execution_count": 6,
   "metadata": {},
   "outputs": [
    {
     "name": "stdout",
     "output_type": "stream",
     "text": "[1]\n"
    }
   ],
   "source": [
    "# Probar una predicción\n",
    "print(clf.predict([[1,1,1,0]]))\n",
    "\n",
    "# Para números con datos binarios (0 y 1) es mejor Bernoulli, para textos(ej.SPAM) es mejor otros como Multinomial."
   ]
  },
  {
   "cell_type": "markdown",
   "metadata": {},
   "source": [
    "Para hacer una predicción, la muestra suministrada se compara con la estadística de cada una de las clases, y el resultado es la mejor correspondencia.\n",
    "\n",
    "En el caso de `MultinomialNB` y `GaussianNB`, utilizan parámetros estadísticos diferentes. `MultinomialNB` considera el valor medio de cada característica para cada clase, mientras que `GaussianNB` almacena el valor medio y la desviación estándar de cada característica para cada clase.\n",
    "\n",
    "Al hacer una predicción, tanto para `MultinomialNB` como para `BernoulliNB` llegamos a una fórmula de predicción que es similar a la de los modelos lineales."
   ]
  },
  {
   "cell_type": "code",
   "execution_count": null,
   "metadata": {},
   "outputs": [],
   "source": []
  }
 ]
}