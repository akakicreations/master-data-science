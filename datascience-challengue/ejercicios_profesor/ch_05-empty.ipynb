{
 "cells": [
  {
   "cell_type": "markdown",
   "metadata": {},
   "source": [
    "## Write a Web Service\n",
    "\n",
    "Wrap the output of the second exercise in a web service that returns the data in JSON format (instead of printing to the standard output).\n",
    "\n",
    "The web service should accept a parameter n>0. For the top 10 airports, n is 10. For the X top airports, n is X \n"
   ]
  },
  {
   "cell_type": "markdown",
   "metadata": {},
   "source": [
    "## Web Service"
   ]
  },
  {
   "cell_type": "raw",
   "metadata": {},
   "source": [
    "http://flask.pocoo.org/docs/0.10/quickstart/"
   ]
  },
  {
   "cell_type": "code",
   "execution_count": 1,
   "metadata": {},
   "outputs": [],
   "source": [
    "from flask import Flask"
   ]
  },
  {
   "cell_type": "code",
   "execution_count": 2,
   "metadata": {},
   "outputs": [],
   "source": [
    "app = Flask(\"My first web service\")\n",
    "@app.route('/hello', methods=['GET'])\n",
    "#GET    The browser tells the server to just get the information stored on that page and send it. \n",
    "def get_hello():\n",
    "    return \"Hello DS from the service!\""
   ]
  },
  {
   "cell_type": "code",
   "execution_count": 3,
   "metadata": {},
   "outputs": [
    {
     "name": "stdout",
     "output_type": "stream",
     "text": [
      " * Serving Flask app \"My first web service\" (lazy loading)\n",
      " * Environment: production\n",
      "   WARNING: This is a development server. Do not use it in a production deployment.\n",
      "   Use a production WSGI server instead.\n",
      " * Debug mode: off\n"
     ]
    },
    {
     "name": "stderr",
     "output_type": "stream",
     "text": [
      " * Running on http://127.0.0.1:5000/ (Press CTRL+C to quit)\n",
      "127.0.0.1 - - [27/Jan/2020 20:00:57] \"GET / HTTP/1.1\" 404 -\n",
      "127.0.0.1 - - [27/Jan/2020 20:00:57] \"GET /favicon.ico HTTP/1.1\" 404 -\n",
      "127.0.0.1 - - [27/Jan/2020 20:01:16] \"GET /hello HTTP/1.1\" 200 -\n",
      "127.0.0.1 - - [27/Jan/2020 20:01:16] \"GET /favicon.ico HTTP/1.1\" 404 -\n",
      "127.0.0.1 - - [27/Jan/2020 20:02:15] \"GET /hello HTTP/1.1\" 200 -\n",
      "127.0.0.1 - - [27/Jan/2020 20:02:51] \"GET /ret_number HTTP/1.1\" 404 -\n",
      "127.0.0.1 - - [27/Jan/2020 20:02:51] \"GET /favicon.ico HTTP/1.1\" 404 -\n",
      "127.0.0.1 - - [27/Jan/2020 20:03:23] \"GET / HTTP/1.1\" 404 -\n",
      "127.0.0.1 - - [27/Jan/2020 20:03:26] \"GET /ret_number HTTP/1.1\" 404 -\n",
      "127.0.0.1 - - [27/Jan/2020 20:03:26] \"GET /ret_number HTTP/1.1\" 404 -\n"
     ]
    }
   ],
   "source": [
    "app.run()\n",
    "#Running on http://127.0.0.1:5000/"
   ]
  },
  {
   "cell_type": "raw",
   "metadata": {},
   "source": [
    "http://127.0.0.1:5000/hello\n",
    "#La página donde va la info."
   ]
  },
  {
   "cell_type": "raw",
   "metadata": {},
   "source": [
    "HTTP (the protocol web applications are speaking) knows different methods for accessing URLs. By default, a route only answers to GET requests, but that can be changed by providing the methods argument to the route() decorator. "
   ]
  },
  {
   "cell_type": "raw",
   "metadata": {},
   "source": [
    "The HTTP method (also often called “the verb”) tells the server what the clients wants to do with the requested page."
   ]
  },
  {
   "cell_type": "raw",
   "metadata": {},
   "source": [
    "GET\n",
    "    The browser tells the server to just get the information stored on that page and send it. This is probably the most common method.\n",
    "\n",
    "HEAD\n",
    "    The browser tells the server to get the information, but it is only interested in the headers, not the content of the page. An application is supposed to handle that as if a GET request was received but to not deliver the actual content.\n",
    "    \n",
    "POST\n",
    "    The browser tells the server that it wants to post some new information to that URL and that the server must ensure the data is stored and only stored once. This is how HTML forms usually transmit data to the server.\n",
    "\n",
    "PUT\n",
    "    Similar to POST but the server might trigger the store procedure multiple times by overwriting the old values more than once. Now you might be asking why this is useful, but there are some good reasons to do it this way. Consider that the connection is lost during transmission: in this situation a system between the browser and the server might receive the request safely a second time without breaking things. With POST that would not be possible because it must only be triggered once.\n",
    "\n",
    "DELETE\n",
    "    Remove the information at the given location.\n",
    "\n",
    "OPTIONS\n",
    "    Provides a quick way for a client to figure out which methods are supported by this URL. Starting with Flask 0.6, this is implemented for you automatically. "
   ]
  },
  {
   "cell_type": "code",
   "execution_count": 4,
   "metadata": {},
   "outputs": [],
   "source": [
    "app = Flask(\"My first web service\")\n",
    "@app.route('/hello', methods=['GET'])\n",
    "#GET    The browser tells the server to just get the information stored on that page and send it. \n",
    "def get_hello():\n",
    "    return \"Hello DS from the service!\"\n",
    "\n",
    "@app.route('/ret_number',methods=['GET'])\n",
    "def get_number():\n",
    "    return \"expecting a number\""
   ]
  },
  {
   "cell_type": "code",
   "execution_count": 5,
   "metadata": {},
   "outputs": [
    {
     "name": "stdout",
     "output_type": "stream",
     "text": [
      " * Serving Flask app \"My first web service\" (lazy loading)\n",
      " * Environment: production\n",
      "   WARNING: This is a development server. Do not use it in a production deployment.\n",
      "   Use a production WSGI server instead.\n",
      " * Debug mode: off\n"
     ]
    },
    {
     "name": "stderr",
     "output_type": "stream",
     "text": [
      " * Running on http://127.0.0.1:5000/ (Press CTRL+C to quit)\n",
      "127.0.0.1 - - [27/Jan/2020 20:04:14] \"GET /ret_number HTTP/1.1\" 200 -\n",
      "127.0.0.1 - - [27/Jan/2020 20:04:43] \"GET /23 HTTP/1.1\" 404 -\n",
      "127.0.0.1 - - [27/Jan/2020 20:04:43] \"GET /favicon.ico HTTP/1.1\" 404 -\n"
     ]
    }
   ],
   "source": [
    "app.run() #Tarda mucho en cargar, preguntar a profesor"
   ]
  },
  {
   "cell_type": "code",
   "execution_count": 8,
   "metadata": {},
   "outputs": [],
   "source": [
    "app = Flask(\"My first web service\")\n",
    "@app.route('/hello', methods=['GET'])\n",
    "#GET    The browser tells the server to just get the information stored on that page and send it. \n",
    "def get_hello():\n",
    "    return \"Hello DS from the service!\"\n",
    "\n",
    "@app.route('/ret_number/<int:n>',methods=['GET'])\n",
    "def get_number(n):\n",
    "    return \"I got %d\"%n"
   ]
  },
  {
   "cell_type": "code",
   "execution_count": 9,
   "metadata": {},
   "outputs": [
    {
     "name": "stdout",
     "output_type": "stream",
     "text": [
      " * Serving Flask app \"My first web service\" (lazy loading)\n",
      " * Environment: production\n",
      "   WARNING: This is a development server. Do not use it in a production deployment.\n",
      "   Use a production WSGI server instead.\n",
      " * Debug mode: off\n"
     ]
    },
    {
     "name": "stderr",
     "output_type": "stream",
     "text": [
      " * Running on http://127.0.0.1:5000/ (Press CTRL+C to quit)\n",
      "127.0.0.1 - - [27/Jan/2020 20:05:30] \"GET / HTTP/1.1\" 404 -\n",
      "127.0.0.1 - - [27/Jan/2020 20:05:31] \"GET / HTTP/1.1\" 404 -\n",
      "127.0.0.1 - - [27/Jan/2020 20:05:33] \"GET / HTTP/1.1\" 404 -\n",
      "127.0.0.1 - - [27/Jan/2020 20:05:50] \"GET / HTTP/1.1\" 404 -\n",
      "127.0.0.1 - - [27/Jan/2020 20:05:50] \"GET / HTTP/1.1\" 404 -\n",
      "127.0.0.1 - - [27/Jan/2020 20:06:15] \"GET / HTTP/1.1\" 404 -\n",
      "127.0.0.1 - - [27/Jan/2020 20:06:19] \"GET /87 HTTP/1.1\" 404 -\n",
      "127.0.0.1 - - [27/Jan/2020 20:06:19] \"GET /favicon.ico HTTP/1.1\" 404 -\n"
     ]
    }
   ],
   "source": [
    "app.run()"
   ]
  },
  {
   "cell_type": "markdown",
   "metadata": {},
   "source": [
    "# no lo hemos visto en la clase"
   ]
  },
  {
   "cell_type": "raw",
   "metadata": {},
   "source": [
    "JavaScript Object Notation, es un formato de texto ligero para el intercambio de datos\n",
    "JSON is text, written with JavaScript object notation.\n",
    "    JSON is data exchange format. You convert to it when you need to make the data available externally. \n",
    "var myObj = { \"name\":\"John\", \"age\":31, \"city\":\"New York\" };"
   ]
  },
  {
   "cell_type": "markdown",
   "metadata": {},
   "source": [
    "https://jsonformatter.org/json-pretty-print #says if it is valid or not  \n",
    "https://jsonformatter.curiousconcept.com/ # you can drill down"
   ]
  },
  {
   "cell_type": "code",
   "execution_count": 15,
   "metadata": {},
   "outputs": [],
   "source": [
    "import json\n"
   ]
  }
 ],
 "metadata": {
  "kernelspec": {
   "display_name": "Python 3",
   "language": "python",
   "name": "python3"
  },
  "language_info": {
   "codemirror_mode": {
    "name": "ipython",
    "version": 3
   },
   "file_extension": ".py",
   "mimetype": "text/x-python",
   "name": "python",
   "nbconvert_exporter": "python",
   "pygments_lexer": "ipython3",
   "version": "3.7.3"
  }
 },
 "nbformat": 4,
 "nbformat_minor": 4
}
