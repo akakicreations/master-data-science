{
 "cells": [
  {
   "cell_type": "markdown",
   "execution_count": null,
   "metadata": {},
   "outputs": [],
   "source": [
    "# Aprendizaje Supervisado con Scikit-Learn - Día 1\n",
    "\n",
    "Antes que nada, vamos a comprobar las versiones de las diferentes librerías que vamos a estar utilizando a lo largo de las clases:"
   ]
  },
  {
   "cell_type": "code",
   "execution_count": null,
   "metadata": {},
   "outputs": [],
   "source": [
    "import sys\n",
    "print(\"Python version:\", sys.version)\n",
    "\n",
    "import pandas as pd\n",
    "print(\"pandas version:\", pd.__version__)\n",
    "\n",
    "import matplotlib\n",
    "print(\"matplotlib version:\", matplotlib.__version__)\n",
    "\n",
    "import numpy as np\n",
    "print(\"NumPy version:\", np.__version__)\n",
    "\n",
    "import scipy as sp\n",
    "print(\"SciPy version:\", sp.__version__)\n",
    "\n",
    "import IPython\n",
    "print(\"IPython version:\", IPython.__version__)\n",
    "\n",
    "import sklearn\n",
    "print(\"scikit-learn version:\", sklearn.__version__)"
   ]
  },
  {
   "cell_type": "code",
   "execution_count": null,
   "metadata": {},
   "outputs": [],
   "source": []
  },
  {
   "cell_type": "markdown",
   "execution_count": null,
   "metadata": {},
   "outputs": [],
   "source": [
    "Por último, vamos a desactivar los mensajes de advertencia *`DeprecationWarnings`*, ya que no afectan en nada al código ni nuestros objetivos formativos para las clases:"
   ]
  },
  {
   "cell_type": "code",
   "execution_count": null,
   "metadata": {},
   "outputs": [],
   "source": [
    "# Importamos un filtro de warnings\n",
    "from warnings import simplefilter\n",
    "# Ignoramos los DeprecationWarnings, en concreto el del módulo six.py\n",
    "simplefilter(action='ignore', category=DeprecationWarning)"
   ]
  },
  {
   "cell_type": "code",
   "execution_count": null,
   "metadata": {},
   "outputs": [],
   "source": [
    "# Hacemos ciertas configuraciones iniciales\n",
    "%matplotlib inline\n",
    "from preamble import *"
   ]
  },
  {
   "cell_type": "markdown",
   "execution_count": null,
   "metadata": {},
   "outputs": [],
   "source": [
    "## Lab 0 - Datasets de ejemplo"
   ]
  },
  {
   "cell_type": "markdown",
   "execution_count": null,
   "metadata": {},
   "outputs": [],
   "source": [
    "Una de las mejores maneras de aprender es, en general, reducir la dimensionalidad de un problema hasta comprender las cuestiones básicas y desarrollar una *intuición*.\n",
    "\n",
    "Ésta es una técnica muy utilizada en Ciencias Físicas, donde muchas veces se estudia un modelo unidimensional y luego se generaliza, con la ayuda de herramientas matemáticas, a $n$ dimensiones.\n",
    "\n",
    "Aquí haremos lo mismo gracias a una serie de Datasets básicos que utilizaremos en conjunto con otros reales a lo largo del curso."
   ]
  },
  {
   "cell_type": "raw",
   "execution_count": null,
   "metadata": {
    "hide_input": false
   },
   "outputs": [],
   "source": [
    "mglearn.plots.plot_grid_search_overview()"
   ]
  },
  {
   "cell_type": "markdown",
   "execution_count": null,
   "metadata": {},
   "outputs": [],
   "source": [
    "### Forge Dataset\n",
    "Utilizaremos un dataset llamado *Forge* para algunos ejemplos de modelos de clasificación supervisada. He aquí el dataset:"
   ]
  },
  {
   "cell_type": "code",
   "execution_count": null,
   "metadata": {},
   "outputs": [],
   "source": [
    "# Generamos un dataset\n",
    "X, y = mglearn.datasets.make_forge() # Característica, Característica\n",
    "# Lo pintamos\n",
    "mglearn.discrete_scatter(X[:, 0], X[:, 1], y)\n",
    "plt.legend([\"Clase 0\", \"Clase 1\"], loc=4)\n",
    "plt.xlabel(\"Caractística 1\")\n",
    "plt.ylabel(\"característica 2\")"
   ]
  },
  {
   "cell_type": "markdown",
   "execution_count": null,
   "metadata": {},
   "outputs": [],
   "source": [
    "¿Cuántos datapoints y características tiene este Dataset $X$? Utiliza Numpy para saber la respuesta, apóyate en el método `type()` de Python si necesitas saber qué métodos puedes utilizar sobre él, así como la combinación `Tab` y `Shift-Tab` para conocer la documentación de los diferentes métodos disponibles:"
   ]
  },
  {
   "cell_type": "code",
   "execution_count": null,
   "metadata": {},
   "outputs": [],
   "source": [
    "# Escribe la línea de código abajo\n",
    "print(\"X.shape:\", X.shape)"
   ]
  },
  {
   "cell_type": "markdown",
   "execution_count": null,
   "metadata": {},
   "outputs": [],
   "source": [
    "#### Dataset Wave"
   ]
  },
  {
   "cell_type": "markdown",
   "execution_count": null,
   "metadata": {},
   "outputs": [],
   "source": [
    "Utilizaremos otro dataset llamado *Wave* para los ejemplos básicos de regresión supervisada. Igualmente, utilizamos un dataset muy sencillo, de pocas dimensiones que nos ayude a visualizar y a desarrollar una intuición sobre nuestros modelos."
   ]
  },
  {
   "cell_type": "code",
   "execution_count": null,
   "metadata": {},
   "outputs": [],
   "source": [
    "# Generamos un dataset\n",
    "X, y = mglearn.datasets.make_wave(n_samples=40) #Inputs, Outputs\n",
    "plt.plot(X, y, 'o')\n",
    "plt.ylim(-3, 3)\n",
    "plt.xlabel(\"Característica\")\n",
    "plt.ylabel(\"Objetivo\")"
   ]
  },
  {
   "cell_type": "markdown",
   "execution_count": null,
   "metadata": {},
   "outputs": [],
   "source": [
    "#### Un ejemplo real: Wisconsin Breast Cancer Dataset\n",
    "Scikit-learn incluye algunos datasets reales con el propósito de trabajar con ellos de manera más sencilla. Éstos se almacenan como objetos `Bunch`. Lo único que es necesario saber de estos objetos por el momento es que se comportan como diccionarios de Python, con el beneficio añadido de que los valores se pueden acceder con *dot notation*."
   ]
  },
  {
   "cell_type": "code",
   "execution_count": null,
   "metadata": {},
   "outputs": [],
   "source": [
    "from sklearn.datasets import load_breast_cancer\n",
    "cancer = load_breast_cancer()\n",
    "print(\"cancer.keys():\\n\", cancer.keys())"
   ]
  },
  {
   "cell_type": "code",
   "execution_count": null,
   "metadata": {},
   "outputs": [],
   "source": [
    "type(cancer)"
   ]
  },
  {
   "cell_type": "code",
   "execution_count": null,
   "metadata": {},
   "outputs": [],
   "source": [
    "print(\"Dimensiones del dataset:\", cancer.data.shape)"
   ]
  },
  {
   "cell_type": "markdown",
   "execution_count": null,
   "metadata": {},
   "outputs": [],
   "source": [
    "Cada tumor está etiquetado como *benigno* o *maligno*, y el objetivo será aprender a predecir en base a ciertas características del tejido si un tumor es benigno o maligno."
   ]
  },
  {
   "cell_type": "code",
   "execution_count": null,
   "metadata": {},
   "outputs": [],
   "source": [
    "print(\"Conteo de muestras por clase:\\n\",\n",
    "      {n: v for n, v in zip(cancer.target_names, np.bincount(cancer.target))})"
   ]
  },
  {
   "cell_type": "markdown",
   "execution_count": null,
   "metadata": {},
   "outputs": [],
   "source": [
    "Para obtener una descripción del significado de cada una de las características, podemos usar el atributo `feature_names`:"
   ]
  },
  {
   "cell_type": "code",
   "execution_count": null,
   "metadata": {},
   "outputs": [],
   "source": [
    "print(\"Nombres de las características:\\n\", cancer.feature_names)"
   ]
  },
  {
   "cell_type": "markdown",
   "execution_count": null,
   "metadata": {},
   "outputs": [],
   "source": [
    "#### Otro ejemplo real: Boston Housing Dataset\n",
    "El objetivo de este dataset es predecir el valor medio de las casas en varios barrios de Boston en la década de los '70 usando información como la tasa de criminalidad, proximidad al río Charles, acceso a autovías, etc."
   ]
  },
  {
   "cell_type": "code",
   "execution_count": null,
   "metadata": {},
   "outputs": [],
   "source": [
    "from sklearn.datasets import load_boston\n",
    "boston = load_boston()\n",
    "print(\"Data shape:\", boston.data.shape)"
   ]
  },
  {
   "cell_type": "markdown",
   "execution_count": null,
   "metadata": {},
   "outputs": [],
   "source": [
    "A efectos de utilizar este dataset, es mejor complementarlo considerando no sólo las 13 características iniciales, sino todos los productos entre características (llamados también *interacciones*). La generación de interacciones la haremos incrementando el grado polinómico del dataset con el transformador de Scikit Learn [PolynomialFeatures](https://scikit-learn.org/stable/modules/generated/sklearn.preprocessing.PolynomialFeatures.html) Además, modificaremos la escala de los datos para uniformizarla y poder utilizar el concepto de medida de los datos correctamente gracias al preprocesador [MinMaxScaler](https://scikit-learn.org/stable/modules/generated/sklearn.preprocessing.MinMaxScaler.html) de Scikit-Learn.\n",
    "\n",
    "El incluir características derivadas como estas se llama **Ingeniería de características**. El dataset ampliado puede cargarse gracias a la función `load_extended_boston`."
   ]
  },
  {
   "cell_type": "code",
   "execution_count": null,
   "metadata": {},
   "outputs": [],
   "source": [
    "# Definimos una función en Python para encapsular la ingeniería de características que vamos a realizar sobre el dataset\n",
    "from sklearn.preprocessing import MinMaxScaler\n",
    "from sklearn.preprocessing import PolynomialFeatures\n",
    "def load_extended_boston():\n",
    "    boston = load_boston()\n",
    "    X = boston.data\n",
    "    # Aplicamos un MinMaxScaler para escalar las características bajo un mismo criterio\n",
    "    X = MinMaxScaler().fit_transform(boston.data)\n",
    "    # Finalmente, generamos interacciones entre las diferentes características.\n",
    "    X = PolynomialFeatures(degree=2, include_bias=False).fit_transform(X)\n",
    "    return X, boston.target"
   ]
  },
  {
   "cell_type": "code",
   "execution_count": null,
   "metadata": {},
   "outputs": [],
   "source": [
    "X, y = load_extended_boston()\n",
    "print(\"X.shape:\", X.shape)"
   ]
  },
  {
   "cell_type": "markdown",
   "execution_count": null,
   "metadata": {},
   "outputs": [],
   "source": [
    "## Lab 1 - k-Nearest Neighbors\n",
    "### Clasificación k-NN"
   ]
  },
  {
   "cell_type": "markdown",
   "execution_count": null,
   "metadata": {},
   "outputs": [],
   "source": [
    "Usemos para empezar nuestro dataset *Forge*. Primero, separamos los datos en un set de training y de test para poder evaluar el rendimiento del modelo:"
   ]
  },
  {
   "cell_type": "code",
   "execution_count": 1,
   "metadata": {},
   "outputs": [
    {
     "name": "stderr",
     "output_type": "stream",
     "text": "/Users/victormac/anaconda3/envs/ks-sl/lib/python3.7/site-packages/sklearn/externals/six.py:31: DeprecationWarning: The module is deprecated in version 0.21 and will be removed in version 0.23 since we've dropped support for Python 2.7. Please rely on the official version of six (https://pypi.org/project/six/).\n  \"(https://pypi.org/project/six/).\", DeprecationWarning)\n"
    }
   ],
   "source": [
    "import mglearn\n",
    "from sklearn.preprocessing import MinMaxScaler, PolynomialFeatures\n",
    "\n",
    "from sklearn.model_selection import train_test_split\n",
    "X, y = mglearn.datasets.make_forge()\n",
    "\n",
    "X_train, X_test, y_train, y_test = train_test_split(X, y, random_state=0)"
   ]
  },
  {
   "cell_type": "markdown",
   "execution_count": null,
   "metadata": {},
   "outputs": [],
   "source": [
    "Lo siguiente es importar e instanciar la clase. Aquí es donde podemos poner un número de vecinos, por ejemplo, 3:"
   ]
  },
  {
   "cell_type": "code",
   "execution_count": 3,
   "metadata": {},
   "outputs": [],
   "source": [
    "from sklearn.neighbors import KNeighborsClassifier\n",
    "clf = KNeighborsClassifier(n_neighbors=3)"
   ]
  },
  {
   "cell_type": "markdown",
   "execution_count": null,
   "metadata": {},
   "outputs": [],
   "source": [
    "Finalmente, entrenamos el modelo usando el juego de datos de entrenamiento. Esto implica almacenar el dataset para poder calcular los vecinos durante la predicción:"
   ]
  },
  {
   "cell_type": "code",
   "execution_count": 4,
   "metadata": {},
   "outputs": [
    {
     "data": {
      "text/plain": "KNeighborsClassifier(algorithm='auto', leaf_size=30, metric='minkowski',\n                     metric_params=None, n_jobs=None, n_neighbors=3, p=2,\n                     weights='uniform')"
     },
     "execution_count": 4,
     "metadata": {},
     "output_type": "execute_result"
    }
   ],
   "source": [
    "clf.fit(X_train, y_train)"
   ]
  },
  {
   "cell_type": "code",
   "execution_count": 5,
   "metadata": {},
   "outputs": [
    {
     "name": "stdout",
     "output_type": "stream",
     "text": "Predicciones sobre el juego de pruebas: [1 0 1 0 1 0 0]\n"
    }
   ],
   "source": [
    "print(\"Predicciones sobre el juego de pruebas:\", clf.predict(X_test))"
   ]
  },
  {
   "cell_type": "code",
   "execution_count": 6,
   "metadata": {},
   "outputs": [
    {
     "name": "stdout",
     "output_type": "stream",
     "text": "Precisión sobre el juego de pruebas: 0.86\n"
    }
   ],
   "source": [
    "print(\"Precisión sobre el juego de pruebas: {:.2f}\"\n",
    "      .format(clf.score(X_test, y_test)))"
   ]
  },
  {
   "cell_type": "markdown",
   "execution_count": null,
   "metadata": {},
   "outputs": [],
   "source": [
    "### Análisis de KNeighborsClassifier"
   ]
  },
  {
   "cell_type": "markdown",
   "execution_count": null,
   "metadata": {},
   "outputs": [],
   "source": [
    "Se puede ilustrar la predicción para todos los puntos en el plano $xy$. Se usan colores en el plano de acuero con la clase predicha para el punto en cuestión. Eso permite ver la frontera de decisión y desarrollar una cierta intuición sobre el modelo en función del número de vecinos.\n",
    "\n",
    "En el siguiente código, se generan gráficas para valores de vecinos de 1, 3 y 9:"
   ]
  },
  {
   "cell_type": "code",
   "execution_count": 7,
   "metadata": {},
   "outputs": [
    {
     "ename": "NameError",
     "evalue": "name 'plt' is not defined",
     "output_type": "error",
     "traceback": [
      "\u001b[0;31m---------------------------------------------------------------------------\u001b[0m",
      "\u001b[0;31mNameError\u001b[0m                                 Traceback (most recent call last)",
      "\u001b[0;32m<ipython-input-7-a7942f78e0b0>\u001b[0m in \u001b[0;36m<module>\u001b[0;34m\u001b[0m\n\u001b[0;32m----> 1\u001b[0;31m \u001b[0mfig\u001b[0m\u001b[0;34m,\u001b[0m \u001b[0maxes\u001b[0m \u001b[0;34m=\u001b[0m \u001b[0mplt\u001b[0m\u001b[0;34m.\u001b[0m\u001b[0msubplots\u001b[0m\u001b[0;34m(\u001b[0m\u001b[0;36m1\u001b[0m\u001b[0;34m,\u001b[0m \u001b[0;36m3\u001b[0m\u001b[0;34m,\u001b[0m \u001b[0mfigsize\u001b[0m\u001b[0;34m=\u001b[0m\u001b[0;34m(\u001b[0m\u001b[0;36m10\u001b[0m\u001b[0;34m,\u001b[0m \u001b[0;36m3\u001b[0m\u001b[0;34m)\u001b[0m\u001b[0;34m)\u001b[0m\u001b[0;34m\u001b[0m\u001b[0;34m\u001b[0m\u001b[0m\n\u001b[0m\u001b[1;32m      2\u001b[0m \u001b[0;34m\u001b[0m\u001b[0m\n\u001b[1;32m      3\u001b[0m \u001b[0;32mfor\u001b[0m \u001b[0mn_neighbors\u001b[0m\u001b[0;34m,\u001b[0m \u001b[0max\u001b[0m \u001b[0;32min\u001b[0m \u001b[0mzip\u001b[0m\u001b[0;34m(\u001b[0m\u001b[0;34m[\u001b[0m\u001b[0;36m1\u001b[0m\u001b[0;34m,\u001b[0m \u001b[0;36m3\u001b[0m\u001b[0;34m,\u001b[0m \u001b[0;36m9\u001b[0m\u001b[0;34m]\u001b[0m\u001b[0;34m,\u001b[0m \u001b[0maxes\u001b[0m\u001b[0;34m)\u001b[0m\u001b[0;34m:\u001b[0m\u001b[0;34m\u001b[0m\u001b[0;34m\u001b[0m\u001b[0m\n\u001b[1;32m      4\u001b[0m     \u001b[0;31m# the fit method returns the object self, so we can instantiate\u001b[0m\u001b[0;34m\u001b[0m\u001b[0;34m\u001b[0m\u001b[0;34m\u001b[0m\u001b[0m\n\u001b[1;32m      5\u001b[0m     \u001b[0;31m# and fit in one line\u001b[0m\u001b[0;34m\u001b[0m\u001b[0;34m\u001b[0m\u001b[0;34m\u001b[0m\u001b[0m\n",
      "\u001b[0;31mNameError\u001b[0m: name 'plt' is not defined"
     ]
    }
   ],
   "source": [
    "fig, axes = plt.subplots(1, 3, figsize=(10, 3))\n",
    "\n",
    "for n_neighbors, ax in zip([1, 3, 9], axes):\n",
    "    # the fit method returns the object self, so we can instantiate\n",
    "    # and fit in one line\n",
    "    clf = KNeighborsClassifier(n_neighbors=n_neighbors).fit(X, y)\n",
    "    mglearn.plots.plot_2d_separator(\n",
    "        clf, X, fill=True, eps=0.5, ax=ax, alpha=.4)\n",
    "    mglearn.discrete_scatter(X[:, 0], X[:, 1], y, ax=ax)\n",
    "    ax.set_title(\"{} vecino(s)\".format(n_neighbors))\n",
    "    ax.set_xlabel(\"característica 0\")\n",
    "    ax.set_ylabel(\"característica 1\")\n",
    "axes[0].legend(loc=3)"
   ]
  },
  {
   "cell_type": "markdown",
   "execution_count": null,
   "metadata": {},
   "outputs": [],
   "source": [
    "**Pregunta**: ¿qué diferencias observas en la frontera de clasificación y qué puede decirse del uso de varios vecinos frente al uso de uno sólo?"
   ]
  },
  {
   "cell_type": "markdown",
   "execution_count": null,
   "metadata": {},
   "outputs": [],
   "source": [
    "\n",
    "Un sólo vecino hace que la frontera de decisión se ajuste mucho a los datos de entrenamiento. Si se incrementa el número de vecinos, la frontera se suaviza.\n",
    "Esto implica que con un número bajo de vecinos, el modelo es más complejo, y con un número alto, menos. Yendo a un extremo, si $k=n$, donde n es el núermo de muestras del juego de entrenamiento, todos los puntos tendrían el mismo número de vecions y la predicción sería siempre la mism: la clase más frecuente en el juego de entrenamiento."
   ]
  },
  {
   "cell_type": "markdown",
   "execution_count": null,
   "metadata": {},
   "outputs": [],
   "source": [
    "Vamos a evaluar ahora la conexión entre complejidad y generalización usando un dataset real (Breast Cancer Dataset):"
   ]
  },
  {
   "cell_type": "code",
   "execution_count": null,
   "metadata": {},
   "outputs": [],
   "source": [
    "from sklearn.datasets import load_breast_cancer\n",
    "\n",
    "cancer = load_breast_cancer()\n",
    "X_train, X_test, y_train, y_test = train_test_split(\n",
    "    cancer.data, cancer.target,\n",
    "    stratify=cancer.target, random_state=66)\n",
    "\n",
    "training_accuracy = []\n",
    "test_accuracy = []\n",
    "# Probamos n_neighbors de 1 a 10\n",
    "neighbors_settings = range(1, 11)\n",
    "\n",
    "for n_neighbors in neighbors_settings:\n",
    "    # Construimos el modelo\n",
    "    clf = KNeighborsClassifier(n_neighbors=n_neighbors)\n",
    "    clf.fit(X_train, y_train)\n",
    "    # Guardamos la precisión del training set\n",
    "    training_accuracy.append(clf.score(X_train, y_train))\n",
    "    # Guardamos la precisión de testing set (generalización)\n",
    "    test_accuracy.append(clf.score(X_test, y_test))\n",
    "    \n",
    "plt.plot(neighbors_settings,\n",
    "         training_accuracy, label=\"precisión training\")\n",
    "plt.plot(neighbors_settings, test_accuracy, label=\"precisión test\")\n",
    "plt.ylabel(\"Precisión\")\n",
    "plt.xlabel(\"n_neighbors\")\n",
    "plt.legend()"
   ]
  },
  {
   "cell_type": "markdown",
   "execution_count": null,
   "metadata": {},
   "outputs": [],
   "source": [
    "¿Reconoces las características de las curvas  de complejidad frente a precisión que vimos al principio? (Nótese que por el eje de ordenadas, la curva correspondiente al training set está invertida)\n",
    "\n",
    "**¿Qué numero de vecinos es el mejor para obtener el mejor rendimiento del modelo?**\n",
    "\n",
    "Como puede verse en la gráfica, obtenemos el mejor rendimiento en test para k=6, lo que nos da también la precisión que obtenemos en el dataset de training."
   ]
  },
  {
   "cell_type": "markdown",
   "execution_count": null,
   "metadata": {},
   "outputs": [],
   "source": [
    "### Regresión k-NN\n",
    "También hay una variante de regresión de k-Nearest Neighbors. De nuevo, comparemos el uso de un solo vecino frente a tres para ver la variación de las predicciones:"
   ]
  },
  {
   "cell_type": "code",
   "execution_count": 8,
   "metadata": {},
   "outputs": [
    {
     "data": {
      "image/png": "[encoded data removed]",
      "image/svg+xml": "<?xml version=\"1.0\" encoding=\"utf-8\" standalone=\"no\"?>\n<!DOCTYPE svg PUBLIC \"-//W3C//DTD SVG 1.1//EN\"\n  \"http://www.w3.org/Graphics/SVG/1.1/DTD/svg11.dtd\">\n<!-- Created with matplotlib (https://matplotlib.org/) -->\n<svg height=\"396.748375pt\" version=\"1.1\" viewBox=\"0 0 607.820312 396.748375\" width=\"607.820312pt\" xmlns=\"http://www.w3.org/2000/svg\" xmlns:xlink=\"http://www.w3.org/1999/xlink\">\n <defs>\n  <style type=\"text/css\">\n*{stroke-linecap:butt;stroke-linejoin:round;}\n  </style>\n </defs>\n <g id=\"figure_1\">\n  <g id=\"patch_1\">\n   <path d=\"M 0 396.748375 \nL 607.820312 396.748375 \nL 607.820312 0 \nL 0 0 \nz\n\" style=\"fill:none;\"/>\n  </g>\n  <g id=\"axes_1\">\n   <g id=\"patch_2\">\n    <path d=\"M 42.620312 359.192125 \nL 600.620312 359.192125 \nL 600.620312 33.032125 \nL 42.620312 33.032125 \nz\n\" style=\"fill:#ffffff;\"/>\n   </g>\n   <g id=\"patch_3\">\n    <path clip-path=\"url(#p9cd215a363)\" d=\"M 170.448174 275.742374 \nL 170.448174 275.742374 \nL 170.448174 275.71607 \nL 190.572299 275.71607 \nL 190.572299 275.768677 \nL 170.448174 275.768677 \nL 170.448174 275.742374 \nz\n\" style=\"stroke:#000000;stroke-linejoin:miter;\"/>\n   </g>\n   <g id=\"patch_4\">\n    <path clip-path=\"url(#p9cd215a363)\" d=\"M 422.605047 182.729625 \nL 422.605047 182.729625 \nL 422.605047 182.755928 \nL 404.312603 182.755928 \nL 404.312603 182.703322 \nL 422.605047 182.703322 \nL 422.605047 182.729625 \nz\n\" style=\"stroke:#000000;stroke-linejoin:miter;\"/>\n   </g>\n   <g id=\"patch_5\">\n    <path clip-path=\"url(#p9cd215a363)\" d=\"M 448.126128 155.114826 \nL 448.126128 155.114826 \nL 448.126128 155.088523 \nL 457.747679 155.088523 \nL 457.747679 155.14113 \nL 448.126128 155.14113 \nL 448.126128 155.114826 \nz\n\" style=\"stroke:#000000;stroke-linejoin:miter;\"/>\n   </g>\n   <g id=\"matplotlib.axis_1\">\n    <g id=\"xtick_1\">\n     <g id=\"line2d_1\">\n      <defs>\n       <path d=\"M 0 0 \nL 0 3.5 \n\" id=\"m0570756116\" style=\"stroke:#000000;stroke-width:0.8;\"/>\n      </defs>\n      <g>\n       <use style=\"stroke:#000000;stroke-width:0.8;\" x=\"56.984609\" xlink:href=\"#m0570756116\" y=\"359.192125\"/>\n      </g>\n     </g>\n     <g id=\"text_1\">\n      <!-- −3 -->\n      <defs>\n       <path d=\"M 10.59375 35.5 \nL 73.1875 35.5 \nL 73.1875 27.203125 \nL 10.59375 27.203125 \nz\n\" id=\"DejaVuSans-8722\"/>\n       <path d=\"M 40.578125 39.3125 \nQ 47.65625 37.796875 51.625 33 \nQ 55.609375 28.21875 55.609375 21.1875 \nQ 55.609375 10.40625 48.1875 4.484375 \nQ 40.765625 -1.421875 27.09375 -1.421875 \nQ 22.515625 -1.421875 17.65625 -0.515625 \nQ 12.796875 0.390625 7.625 2.203125 \nL 7.625 11.71875 \nQ 11.71875 9.328125 16.59375 8.109375 \nQ 21.484375 6.890625 26.8125 6.890625 \nQ 36.078125 6.890625 40.9375 10.546875 \nQ 45.796875 14.203125 45.796875 21.1875 \nQ 45.796875 27.640625 41.28125 31.265625 \nQ 36.765625 34.90625 28.71875 34.90625 \nL 20.21875 34.90625 \nL 20.21875 43.015625 \nL 29.109375 43.015625 \nQ 36.375 43.015625 40.234375 45.921875 \nQ 44.09375 48.828125 44.09375 54.296875 \nQ 44.09375 59.90625 40.109375 62.90625 \nQ 36.140625 65.921875 28.71875 65.921875 \nQ 24.65625 65.921875 20.015625 65.03125 \nQ 15.375 64.15625 9.8125 62.3125 \nL 9.8125 71.09375 \nQ 15.4375 72.65625 20.34375 73.4375 \nQ 25.25 74.21875 29.59375 74.21875 \nQ 40.828125 74.21875 47.359375 69.109375 \nQ 53.90625 64.015625 53.90625 55.328125 \nQ 53.90625 49.265625 50.4375 45.09375 \nQ 46.96875 40.921875 40.578125 39.3125 \nz\n\" id=\"DejaVuSans-51\"/>\n      </defs>\n      <g transform=\"translate(49.613515 373.790563)scale(0.1 -0.1)\">\n       <use xlink:href=\"#DejaVuSans-8722\"/>\n       <use x=\"83.789062\" xlink:href=\"#DejaVuSans-51\"/>\n      </g>\n     </g>\n    </g>\n    <g id=\"xtick_2\">\n     <g id=\"line2d_2\">\n      <g>\n       <use style=\"stroke:#000000;stroke-width:0.8;\" x=\"146.043069\" xlink:href=\"#m0570756116\" y=\"359.192125\"/>\n      </g>\n     </g>\n     <g id=\"text_2\">\n      <!-- −2 -->\n      <defs>\n       <path d=\"M 19.1875 8.296875 \nL 53.609375 8.296875 \nL 53.609375 0 \nL 7.328125 0 \nL 7.328125 8.296875 \nQ 12.9375 14.109375 22.625 23.890625 \nQ 32.328125 33.6875 34.8125 36.53125 \nQ 39.546875 41.84375 41.421875 45.53125 \nQ 43.3125 49.21875 43.3125 52.78125 \nQ 43.3125 58.59375 39.234375 62.25 \nQ 35.15625 65.921875 28.609375 65.921875 \nQ 23.96875 65.921875 18.8125 64.3125 \nQ 13.671875 62.703125 7.8125 59.421875 \nL 7.8125 69.390625 \nQ 13.765625 71.78125 18.9375 73 \nQ 24.125 74.21875 28.421875 74.21875 \nQ 39.75 74.21875 46.484375 68.546875 \nQ 53.21875 62.890625 53.21875 53.421875 \nQ 53.21875 48.921875 51.53125 44.890625 \nQ 49.859375 40.875 45.40625 35.40625 \nQ 44.1875 33.984375 37.640625 27.21875 \nQ 31.109375 20.453125 19.1875 8.296875 \nz\n\" id=\"DejaVuSans-50\"/>\n      </defs>\n      <g transform=\"translate(138.671975 373.790563)scale(0.1 -0.1)\">\n       <use xlink:href=\"#DejaVuSans-8722\"/>\n       <use x=\"83.789062\" xlink:href=\"#DejaVuSans-50\"/>\n      </g>\n     </g>\n    </g>\n    <g id=\"xtick_3\">\n     <g id=\"line2d_3\">\n      <g>\n       <use style=\"stroke:#000000;stroke-width:0.8;\" x=\"235.101529\" xlink:href=\"#m0570756116\" y=\"359.192125\"/>\n      </g>\n     </g>\n     <g id=\"text_3\">\n      <!-- −1 -->\n      <defs>\n       <path d=\"M 12.40625 8.296875 \nL 28.515625 8.296875 \nL 28.515625 63.921875 \nL 10.984375 60.40625 \nL 10.984375 69.390625 \nL 28.421875 72.90625 \nL 38.28125 72.90625 \nL 38.28125 8.296875 \nL 54.390625 8.296875 \nL 54.390625 0 \nL 12.40625 0 \nz\n\" id=\"DejaVuSans-49\"/>\n      </defs>\n      <g transform=\"translate(227.730435 373.790563)scale(0.1 -0.1)\">\n       <use xlink:href=\"#DejaVuSans-8722\"/>\n       <use x=\"83.789062\" xlink:href=\"#DejaVuSans-49\"/>\n      </g>\n     </g>\n    </g>\n    <g id=\"xtick_4\">\n     <g id=\"line2d_4\">\n      <g>\n       <use style=\"stroke:#000000;stroke-width:0.8;\" x=\"324.159989\" xlink:href=\"#m0570756116\" y=\"359.192125\"/>\n      </g>\n     </g>\n     <g id=\"text_4\">\n      <!-- 0 -->\n      <defs>\n       <path d=\"M 31.78125 66.40625 \nQ 24.171875 66.40625 20.328125 58.90625 \nQ 16.5 51.421875 16.5 36.375 \nQ 16.5 21.390625 20.328125 13.890625 \nQ 24.171875 6.390625 31.78125 6.390625 \nQ 39.453125 6.390625 43.28125 13.890625 \nQ 47.125 21.390625 47.125 36.375 \nQ 47.125 51.421875 43.28125 58.90625 \nQ 39.453125 66.40625 31.78125 66.40625 \nz\nM 31.78125 74.21875 \nQ 44.046875 74.21875 50.515625 64.515625 \nQ 56.984375 54.828125 56.984375 36.375 \nQ 56.984375 17.96875 50.515625 8.265625 \nQ 44.046875 -1.421875 31.78125 -1.421875 \nQ 19.53125 -1.421875 13.0625 8.265625 \nQ 6.59375 17.96875 6.59375 36.375 \nQ 6.59375 54.828125 13.0625 64.515625 \nQ 19.53125 74.21875 31.78125 74.21875 \nz\n\" id=\"DejaVuSans-48\"/>\n      </defs>\n      <g transform=\"translate(320.978739 373.790563)scale(0.1 -0.1)\">\n       <use xlink:href=\"#DejaVuSans-48\"/>\n      </g>\n     </g>\n    </g>\n    <g id=\"xtick_5\">\n     <g id=\"line2d_5\">\n      <g>\n       <use style=\"stroke:#000000;stroke-width:0.8;\" x=\"413.218449\" xlink:href=\"#m0570756116\" y=\"359.192125\"/>\n      </g>\n     </g>\n     <g id=\"text_5\">\n      <!-- 1 -->\n      <g transform=\"translate(410.037199 373.790563)scale(0.1 -0.1)\">\n       <use xlink:href=\"#DejaVuSans-49\"/>\n      </g>\n     </g>\n    </g>\n    <g id=\"xtick_6\">\n     <g id=\"line2d_6\">\n      <g>\n       <use style=\"stroke:#000000;stroke-width:0.8;\" x=\"502.276909\" xlink:href=\"#m0570756116\" y=\"359.192125\"/>\n      </g>\n     </g>\n     <g id=\"text_6\">\n      <!-- 2 -->\n      <g transform=\"translate(499.095659 373.790563)scale(0.1 -0.1)\">\n       <use xlink:href=\"#DejaVuSans-50\"/>\n      </g>\n     </g>\n    </g>\n    <g id=\"xtick_7\">\n     <g id=\"line2d_7\">\n      <g>\n       <use style=\"stroke:#000000;stroke-width:0.8;\" x=\"591.33537\" xlink:href=\"#m0570756116\" y=\"359.192125\"/>\n      </g>\n     </g>\n     <g id=\"text_7\">\n      <!-- 3 -->\n      <g transform=\"translate(588.15412 373.790563)scale(0.1 -0.1)\">\n       <use xlink:href=\"#DejaVuSans-51\"/>\n      </g>\n     </g>\n    </g>\n    <g id=\"text_8\">\n     <!-- Feature -->\n     <defs>\n      <path d=\"M 9.8125 72.90625 \nL 51.703125 72.90625 \nL 51.703125 64.59375 \nL 19.671875 64.59375 \nL 19.671875 43.109375 \nL 48.578125 43.109375 \nL 48.578125 34.8125 \nL 19.671875 34.8125 \nL 19.671875 0 \nL 9.8125 0 \nz\n\" id=\"DejaVuSans-70\"/>\n      <path d=\"M 56.203125 29.59375 \nL 56.203125 25.203125 \nL 14.890625 25.203125 \nQ 15.484375 15.921875 20.484375 11.0625 \nQ 25.484375 6.203125 34.421875 6.203125 \nQ 39.59375 6.203125 44.453125 7.46875 \nQ 49.3125 8.734375 54.109375 11.28125 \nL 54.109375 2.78125 \nQ 49.265625 0.734375 44.1875 -0.34375 \nQ 39.109375 -1.421875 33.890625 -1.421875 \nQ 20.796875 -1.421875 13.15625 6.1875 \nQ 5.515625 13.8125 5.515625 26.8125 \nQ 5.515625 40.234375 12.765625 48.109375 \nQ 20.015625 56 32.328125 56 \nQ 43.359375 56 49.78125 48.890625 \nQ 56.203125 41.796875 56.203125 29.59375 \nz\nM 47.21875 32.234375 \nQ 47.125 39.59375 43.09375 43.984375 \nQ 39.0625 48.390625 32.421875 48.390625 \nQ 24.90625 48.390625 20.390625 44.140625 \nQ 15.875 39.890625 15.1875 32.171875 \nz\n\" id=\"DejaVuSans-101\"/>\n      <path d=\"M 34.28125 27.484375 \nQ 23.390625 27.484375 19.1875 25 \nQ 14.984375 22.515625 14.984375 16.5 \nQ 14.984375 11.71875 18.140625 8.90625 \nQ 21.296875 6.109375 26.703125 6.109375 \nQ 34.1875 6.109375 38.703125 11.40625 \nQ 43.21875 16.703125 43.21875 25.484375 \nL 43.21875 27.484375 \nz\nM 52.203125 31.203125 \nL 52.203125 0 \nL 43.21875 0 \nL 43.21875 8.296875 \nQ 40.140625 3.328125 35.546875 0.953125 \nQ 30.953125 -1.421875 24.3125 -1.421875 \nQ 15.921875 -1.421875 10.953125 3.296875 \nQ 6 8.015625 6 15.921875 \nQ 6 25.140625 12.171875 29.828125 \nQ 18.359375 34.515625 30.609375 34.515625 \nL 43.21875 34.515625 \nL 43.21875 35.40625 \nQ 43.21875 41.609375 39.140625 45 \nQ 35.0625 48.390625 27.6875 48.390625 \nQ 23 48.390625 18.546875 47.265625 \nQ 14.109375 46.140625 10.015625 43.890625 \nL 10.015625 52.203125 \nQ 14.9375 54.109375 19.578125 55.046875 \nQ 24.21875 56 28.609375 56 \nQ 40.484375 56 46.34375 49.84375 \nQ 52.203125 43.703125 52.203125 31.203125 \nz\n\" id=\"DejaVuSans-97\"/>\n      <path d=\"M 18.3125 70.21875 \nL 18.3125 54.6875 \nL 36.8125 54.6875 \nL 36.8125 47.703125 \nL 18.3125 47.703125 \nL 18.3125 18.015625 \nQ 18.3125 11.328125 20.140625 9.421875 \nQ 21.96875 7.515625 27.59375 7.515625 \nL 36.8125 7.515625 \nL 36.8125 0 \nL 27.59375 0 \nQ 17.1875 0 13.234375 3.875 \nQ 9.28125 7.765625 9.28125 18.015625 \nL 9.28125 47.703125 \nL 2.6875 47.703125 \nL 2.6875 54.6875 \nL 9.28125 54.6875 \nL 9.28125 70.21875 \nz\n\" id=\"DejaVuSans-116\"/>\n      <path d=\"M 8.5 21.578125 \nL 8.5 54.6875 \nL 17.484375 54.6875 \nL 17.484375 21.921875 \nQ 17.484375 14.15625 20.5 10.265625 \nQ 23.53125 6.390625 29.59375 6.390625 \nQ 36.859375 6.390625 41.078125 11.03125 \nQ 45.3125 15.671875 45.3125 23.6875 \nL 45.3125 54.6875 \nL 54.296875 54.6875 \nL 54.296875 0 \nL 45.3125 0 \nL 45.3125 8.40625 \nQ 42.046875 3.421875 37.71875 1 \nQ 33.40625 -1.421875 27.6875 -1.421875 \nQ 18.265625 -1.421875 13.375 4.4375 \nQ 8.5 10.296875 8.5 21.578125 \nz\nM 31.109375 56 \nz\n\" id=\"DejaVuSans-117\"/>\n      <path d=\"M 41.109375 46.296875 \nQ 39.59375 47.171875 37.8125 47.578125 \nQ 36.03125 48 33.890625 48 \nQ 26.265625 48 22.1875 43.046875 \nQ 18.109375 38.09375 18.109375 28.8125 \nL 18.109375 0 \nL 9.078125 0 \nL 9.078125 54.6875 \nL 18.109375 54.6875 \nL 18.109375 46.1875 \nQ 20.953125 51.171875 25.484375 53.578125 \nQ 30.03125 56 36.53125 56 \nQ 37.453125 56 38.578125 55.875 \nQ 39.703125 55.765625 41.0625 55.515625 \nz\n\" id=\"DejaVuSans-114\"/>\n     </defs>\n     <g transform=\"translate(302.348437 387.468687)scale(0.1 -0.1)\">\n      <use xlink:href=\"#DejaVuSans-70\"/>\n      <use x=\"57.441406\" xlink:href=\"#DejaVuSans-101\"/>\n      <use x=\"118.964844\" xlink:href=\"#DejaVuSans-97\"/>\n      <use x=\"180.244141\" xlink:href=\"#DejaVuSans-116\"/>\n      <use x=\"219.453125\" xlink:href=\"#DejaVuSans-117\"/>\n      <use x=\"282.832031\" xlink:href=\"#DejaVuSans-114\"/>\n      <use x=\"323.914062\" xlink:href=\"#DejaVuSans-101\"/>\n     </g>\n    </g>\n   </g>\n   <g id=\"matplotlib.axis_2\">\n    <g id=\"ytick_1\">\n     <g id=\"line2d_8\">\n      <defs>\n       <path d=\"M 0 0 \nL -3.5 0 \n\" id=\"m57bd272f1a\" style=\"stroke:#000000;stroke-width:0.8;\"/>\n      </defs>\n      <g>\n       <use style=\"stroke:#000000;stroke-width:0.8;\" x=\"42.620312\" xlink:href=\"#m57bd272f1a\" y=\"353.93148\"/>\n      </g>\n     </g>\n     <g id=\"text_9\">\n      <!-- −3 -->\n      <g transform=\"translate(20.878125 357.730699)scale(0.1 -0.1)\">\n       <use xlink:href=\"#DejaVuSans-8722\"/>\n       <use x=\"83.789062\" xlink:href=\"#DejaVuSans-51\"/>\n      </g>\n     </g>\n    </g>\n    <g id=\"ytick_2\">\n     <g id=\"line2d_9\">\n      <g>\n       <use style=\"stroke:#000000;stroke-width:0.8;\" x=\"42.620312\" xlink:href=\"#m57bd272f1a\" y=\"301.325028\"/>\n      </g>\n     </g>\n     <g id=\"text_10\">\n      <!-- −2 -->\n      <g transform=\"translate(20.878125 305.124247)scale(0.1 -0.1)\">\n       <use xlink:href=\"#DejaVuSans-8722\"/>\n       <use x=\"83.789062\" xlink:href=\"#DejaVuSans-50\"/>\n      </g>\n     </g>\n    </g>\n    <g id=\"ytick_3\">\n     <g id=\"line2d_10\">\n      <g>\n       <use style=\"stroke:#000000;stroke-width:0.8;\" x=\"42.620312\" xlink:href=\"#m57bd272f1a\" y=\"248.718577\"/>\n      </g>\n     </g>\n     <g id=\"text_11\">\n      <!-- −1 -->\n      <g transform=\"translate(20.878125 252.517795)scale(0.1 -0.1)\">\n       <use xlink:href=\"#DejaVuSans-8722\"/>\n       <use x=\"83.789062\" xlink:href=\"#DejaVuSans-49\"/>\n      </g>\n     </g>\n    </g>\n    <g id=\"ytick_4\">\n     <g id=\"line2d_11\">\n      <g>\n       <use style=\"stroke:#000000;stroke-width:0.8;\" x=\"42.620312\" xlink:href=\"#m57bd272f1a\" y=\"196.112125\"/>\n      </g>\n     </g>\n     <g id=\"text_12\">\n      <!-- 0 -->\n      <g transform=\"translate(29.257812 199.911344)scale(0.1 -0.1)\">\n       <use xlink:href=\"#DejaVuSans-48\"/>\n      </g>\n     </g>\n    </g>\n    <g id=\"ytick_5\">\n     <g id=\"line2d_12\">\n      <g>\n       <use style=\"stroke:#000000;stroke-width:0.8;\" x=\"42.620312\" xlink:href=\"#m57bd272f1a\" y=\"143.505673\"/>\n      </g>\n     </g>\n     <g id=\"text_13\">\n      <!-- 1 -->\n      <g transform=\"translate(29.257812 147.304892)scale(0.1 -0.1)\">\n       <use xlink:href=\"#DejaVuSans-49\"/>\n      </g>\n     </g>\n    </g>\n    <g id=\"ytick_6\">\n     <g id=\"line2d_13\">\n      <g>\n       <use style=\"stroke:#000000;stroke-width:0.8;\" x=\"42.620312\" xlink:href=\"#m57bd272f1a\" y=\"90.899222\"/>\n      </g>\n     </g>\n     <g id=\"text_14\">\n      <!-- 2 -->\n      <g transform=\"translate(29.257812 94.698441)scale(0.1 -0.1)\">\n       <use xlink:href=\"#DejaVuSans-50\"/>\n      </g>\n     </g>\n    </g>\n    <g id=\"ytick_7\">\n     <g id=\"line2d_14\">\n      <g>\n       <use style=\"stroke:#000000;stroke-width:0.8;\" x=\"42.620312\" xlink:href=\"#m57bd272f1a\" y=\"38.29277\"/>\n      </g>\n     </g>\n     <g id=\"text_15\">\n      <!-- 3 -->\n      <g transform=\"translate(29.257812 42.091989)scale(0.1 -0.1)\">\n       <use xlink:href=\"#DejaVuSans-51\"/>\n      </g>\n     </g>\n    </g>\n    <g id=\"text_16\">\n     <!-- Target -->\n     <defs>\n      <path d=\"M -0.296875 72.90625 \nL 61.375 72.90625 \nL 61.375 64.59375 \nL 35.5 64.59375 \nL 35.5 0 \nL 25.59375 0 \nL 25.59375 64.59375 \nL -0.296875 64.59375 \nz\n\" id=\"DejaVuSans-84\"/>\n      <path d=\"M 45.40625 27.984375 \nQ 45.40625 37.75 41.375 43.109375 \nQ 37.359375 48.484375 30.078125 48.484375 \nQ 22.859375 48.484375 18.828125 43.109375 \nQ 14.796875 37.75 14.796875 27.984375 \nQ 14.796875 18.265625 18.828125 12.890625 \nQ 22.859375 7.515625 30.078125 7.515625 \nQ 37.359375 7.515625 41.375 12.890625 \nQ 45.40625 18.265625 45.40625 27.984375 \nz\nM 54.390625 6.78125 \nQ 54.390625 -7.171875 48.1875 -13.984375 \nQ 42 -20.796875 29.203125 -20.796875 \nQ 24.46875 -20.796875 20.265625 -20.09375 \nQ 16.0625 -19.390625 12.109375 -17.921875 \nL 12.109375 -9.1875 \nQ 16.0625 -11.328125 19.921875 -12.34375 \nQ 23.78125 -13.375 27.78125 -13.375 \nQ 36.625 -13.375 41.015625 -8.765625 \nQ 45.40625 -4.15625 45.40625 5.171875 \nL 45.40625 9.625 \nQ 42.625 4.78125 38.28125 2.390625 \nQ 33.9375 0 27.875 0 \nQ 17.828125 0 11.671875 7.65625 \nQ 5.515625 15.328125 5.515625 27.984375 \nQ 5.515625 40.671875 11.671875 48.328125 \nQ 17.828125 56 27.875 56 \nQ 33.9375 56 38.28125 53.609375 \nQ 42.625 51.21875 45.40625 46.390625 \nL 45.40625 54.6875 \nL 54.390625 54.6875 \nz\n\" id=\"DejaVuSans-103\"/>\n     </defs>\n     <g transform=\"translate(14.798437 212.483219)rotate(-90)scale(0.1 -0.1)\">\n      <use xlink:href=\"#DejaVuSans-84\"/>\n      <use x=\"60.833984\" xlink:href=\"#DejaVuSans-97\"/>\n      <use x=\"122.113281\" xlink:href=\"#DejaVuSans-114\"/>\n      <use x=\"163.210938\" xlink:href=\"#DejaVuSans-103\"/>\n      <use x=\"226.6875\" xlink:href=\"#DejaVuSans-101\"/>\n      <use x=\"288.210938\" xlink:href=\"#DejaVuSans-116\"/>\n     </g>\n    </g>\n   </g>\n   <g id=\"LineCollection_1\">\n    <path clip-path=\"url(#p9cd215a363)\" d=\"M 190.572299 359.192125 \nL 190.572299 33.032125 \n\" style=\"fill:none;stroke:#000000;stroke-dasharray:5.55,2.4;stroke-dashoffset:0;stroke-width:1.5;\"/>\n    <path clip-path=\"url(#p9cd215a363)\" d=\"M 404.312603 359.192125 \nL 404.312603 33.032125 \n\" style=\"fill:none;stroke:#000000;stroke-dasharray:5.55,2.4;stroke-dashoffset:0;stroke-width:1.5;\"/>\n    <path clip-path=\"url(#p9cd215a363)\" d=\"M 457.747679 359.192125 \nL 457.747679 33.032125 \n\" style=\"fill:none;stroke:#000000;stroke-dasharray:5.55,2.4;stroke-dashoffset:0;stroke-width:1.5;\"/>\n   </g>\n   <g id=\"line2d_15\">\n    <defs>\n     <path d=\"M 0 3 \nC 0.795609 3 1.55874 2.683901 2.12132 2.12132 \nC 2.683901 1.55874 3 0.795609 3 0 \nC 3 -0.795609 2.683901 -1.55874 2.12132 -2.12132 \nC 1.55874 -2.683901 0.795609 -3 0 -3 \nC -0.795609 -3 -1.55874 -2.683901 -2.12132 -2.12132 \nC -2.683901 -1.55874 -3 -0.795609 -3 0 \nC -3 0.795609 -2.683901 1.55874 -2.12132 2.12132 \nC -1.55874 2.683901 -0.795609 3 0 3 \nz\n\" id=\"me202a4cc4e\" style=\"stroke:#0000aa;\"/>\n    </defs>\n    <g clip-path=\"url(#p9cd215a363)\">\n     <use style=\"fill:#0000aa;stroke:#0000aa;\" x=\"257.120406\" xlink:href=\"#me202a4cc4e\" y=\"219.691427\"/>\n     <use style=\"fill:#0000aa;stroke:#0000aa;\" x=\"564.999522\" xlink:href=\"#me202a4cc4e\" y=\"178.687513\"/>\n     <use style=\"fill:#0000aa;stroke:#0000aa;\" x=\"448.126128\" xlink:href=\"#me202a4cc4e\" y=\"155.114826\"/>\n     <use style=\"fill:#0000aa;stroke:#0000aa;\" x=\"376.878225\" xlink:href=\"#me202a4cc4e\" y=\"194.272012\"/>\n     <use style=\"fill:#0000aa;stroke:#0000aa;\" x=\"140.353288\" xlink:href=\"#me202a4cc4e\" y=\"269.116009\"/>\n     <use style=\"fill:#0000aa;stroke:#0000aa;\" x=\"140.340399\" xlink:href=\"#me202a4cc4e\" y=\"326.153292\"/>\n     <use style=\"fill:#0000aa;stroke:#0000aa;\" x=\"88.021631\" xlink:href=\"#me202a4cc4e\" y=\"276.458382\"/>\n     <use style=\"fill:#0000aa;stroke:#0000aa;\" x=\"519.826491\" xlink:href=\"#me202a4cc4e\" y=\"117.50906\"/>\n     <use style=\"fill:#0000aa;stroke:#0000aa;\" x=\"378.190873\" xlink:href=\"#me202a4cc4e\" y=\"143.488642\"/>\n     <use style=\"fill:#0000aa;stroke:#0000aa;\" x=\"435.343729\" xlink:href=\"#me202a4cc4e\" y=\"184.035707\"/>\n     <use style=\"fill:#0000aa;stroke:#0000aa;\" x=\"67.983949\" xlink:href=\"#me202a4cc4e\" y=\"251.864208\"/>\n     <use style=\"fill:#0000aa;stroke:#0000aa;\" x=\"575.256676\" xlink:href=\"#me202a4cc4e\" y=\"155.133604\"/>\n     <use style=\"fill:#0000aa;stroke:#0000aa;\" x=\"501.800967\" xlink:href=\"#me202a4cc4e\" y=\"156.436967\"/>\n     <use style=\"fill:#0000aa;stroke:#0000aa;\" x=\"170.448174\" xlink:href=\"#me202a4cc4e\" y=\"275.742374\"/>\n     <use style=\"fill:#0000aa;stroke:#0000aa;\" x=\"154.142918\" xlink:href=\"#me202a4cc4e\" y=\"284.124515\"/>\n     <use style=\"fill:#0000aa;stroke:#0000aa;\" x=\"154.986948\" xlink:href=\"#me202a4cc4e\" y=\"243.719379\"/>\n     <use style=\"fill:#0000aa;stroke:#0000aa;\" x=\"219.556683\" xlink:href=\"#me202a4cc4e\" y=\"191.667646\"/>\n     <use style=\"fill:#0000aa;stroke:#0000aa;\" x=\"337.388607\" xlink:href=\"#me202a4cc4e\" y=\"223.853962\"/>\n     <use style=\"fill:#0000aa;stroke:#0000aa;\" x=\"287.794758\" xlink:href=\"#me202a4cc4e\" y=\"224.579895\"/>\n     <use style=\"fill:#0000aa;stroke:#0000aa;\" x=\"212.603121\" xlink:href=\"#me202a4cc4e\" y=\"214.046049\"/>\n     <use style=\"fill:#0000aa;stroke:#0000aa;\" x=\"383.928668\" xlink:href=\"#me202a4cc4e\" y=\"184.65539\"/>\n     <use style=\"fill:#0000aa;stroke:#0000aa;\" x=\"131.523259\" xlink:href=\"#me202a4cc4e\" y=\"255.278126\"/>\n     <use style=\"fill:#0000aa;stroke:#0000aa;\" x=\"213.092324\" xlink:href=\"#me202a4cc4e\" y=\"176.490377\"/>\n     <use style=\"fill:#0000aa;stroke:#0000aa;\" x=\"252.750338\" xlink:href=\"#me202a4cc4e\" y=\"190.979656\"/>\n     <use style=\"fill:#0000aa;stroke:#0000aa;\" x=\"300.685952\" xlink:href=\"#me202a4cc4e\" y=\"247.99162\"/>\n     <use style=\"fill:#0000aa;stroke:#0000aa;\" x=\"476.543981\" xlink:href=\"#me202a4cc4e\" y=\"145.244092\"/>\n     <use style=\"fill:#0000aa;stroke:#0000aa;\" x=\"163.680446\" xlink:href=\"#me202a4cc4e\" y=\"255.796782\"/>\n     <use style=\"fill:#0000aa;stroke:#0000aa;\" x=\"331.766172\" xlink:href=\"#me202a4cc4e\" y=\"159.393563\"/>\n     <use style=\"fill:#0000aa;stroke:#0000aa;\" x=\"373.541784\" xlink:href=\"#me202a4cc4e\" y=\"173.146344\"/>\n     <use style=\"fill:#0000aa;stroke:#0000aa;\" x=\"81.805422\" xlink:href=\"#me202a4cc4e\" y=\"246.431318\"/>\n     <use style=\"fill:#0000aa;stroke:#0000aa;\" x=\"381.626663\" xlink:href=\"#me202a4cc4e\" y=\"194.256232\"/>\n     <use style=\"fill:#0000aa;stroke:#0000aa;\" x=\"148.104304\" xlink:href=\"#me202a4cc4e\" y=\"305.839565\"/>\n     <use style=\"fill:#0000aa;stroke:#0000aa;\" x=\"91.744977\" xlink:href=\"#me202a4cc4e\" y=\"221.053387\"/>\n     <use style=\"fill:#0000aa;stroke:#0000aa;\" x=\"564.022317\" xlink:href=\"#me202a4cc4e\" y=\"115.251668\"/>\n     <use style=\"fill:#0000aa;stroke:#0000aa;\" x=\"572.97082\" xlink:href=\"#me202a4cc4e\" y=\"150.400647\"/>\n     <use style=\"fill:#0000aa;stroke:#0000aa;\" x=\"488.952347\" xlink:href=\"#me202a4cc4e\" y=\"97.388286\"/>\n     <use style=\"fill:#0000aa;stroke:#0000aa;\" x=\"219.755208\" xlink:href=\"#me202a4cc4e\" y=\"191.139463\"/>\n     <use style=\"fill:#0000aa;stroke:#0000aa;\" x=\"109.175777\" xlink:href=\"#me202a4cc4e\" y=\"270.551493\"/>\n     <use style=\"fill:#0000aa;stroke:#0000aa;\" x=\"422.605047\" xlink:href=\"#me202a4cc4e\" y=\"182.729625\"/>\n     <use style=\"fill:#0000aa;stroke:#0000aa;\" x=\"292.180429\" xlink:href=\"#me202a4cc4e\" y=\"191.16772\"/>\n    </g>\n   </g>\n   <g id=\"line2d_16\">\n    <defs>\n     <path d=\"M 0 -10 \nL -2.24514 -3.09017 \nL -9.510565 -3.09017 \nL -3.632713 1.18034 \nL -5.877853 8.09017 \nL -0 3.81966 \nL 5.877853 8.09017 \nL 3.632713 1.18034 \nL 9.510565 -3.09017 \nL 2.24514 -3.09017 \nz\n\" id=\"m9581fbf04f\" style=\"stroke:#50ff50;stroke-linejoin:bevel;\"/>\n    </defs>\n    <g clip-path=\"url(#p9cd215a363)\">\n     <use style=\"fill:#50ff50;stroke:#50ff50;stroke-linejoin:bevel;\" x=\"190.572299\" xlink:href=\"#m9581fbf04f\" y=\"353.93148\"/>\n     <use style=\"fill:#50ff50;stroke:#50ff50;stroke-linejoin:bevel;\" x=\"404.312603\" xlink:href=\"#m9581fbf04f\" y=\"353.93148\"/>\n     <use style=\"fill:#50ff50;stroke:#50ff50;stroke-linejoin:bevel;\" x=\"457.747679\" xlink:href=\"#m9581fbf04f\" y=\"353.93148\"/>\n    </g>\n   </g>\n   <g id=\"line2d_17\">\n    <defs>\n     <path d=\"M 0 -10 \nL -2.24514 -3.09017 \nL -9.510565 -3.09017 \nL -3.632713 1.18034 \nL -5.877853 8.09017 \nL -0 3.81966 \nL 5.877853 8.09017 \nL 3.632713 1.18034 \nL 9.510565 -3.09017 \nL 2.24514 -3.09017 \nz\n\" id=\"m3968aa9a8a\" style=\"stroke:#0000aa;stroke-linejoin:bevel;\"/>\n    </defs>\n    <g clip-path=\"url(#p9cd215a363)\">\n     <use style=\"fill:#0000aa;stroke:#0000aa;stroke-linejoin:bevel;\" x=\"190.572299\" xlink:href=\"#m3968aa9a8a\" y=\"275.742374\"/>\n     <use style=\"fill:#0000aa;stroke:#0000aa;stroke-linejoin:bevel;\" x=\"404.312603\" xlink:href=\"#m3968aa9a8a\" y=\"182.729625\"/>\n     <use style=\"fill:#0000aa;stroke:#0000aa;stroke-linejoin:bevel;\" x=\"457.747679\" xlink:href=\"#m3968aa9a8a\" y=\"155.114826\"/>\n    </g>\n   </g>\n   <g id=\"patch_6\">\n    <path d=\"M 42.620312 359.192125 \nL 42.620312 33.032125 \n\" style=\"fill:none;stroke:#000000;stroke-linecap:square;stroke-linejoin:miter;stroke-width:0.8;\"/>\n   </g>\n   <g id=\"patch_7\">\n    <path d=\"M 600.620312 359.192125 \nL 600.620312 33.032125 \n\" style=\"fill:none;stroke:#000000;stroke-linecap:square;stroke-linejoin:miter;stroke-width:0.8;\"/>\n   </g>\n   <g id=\"patch_8\">\n    <path d=\"M 42.620313 359.192125 \nL 600.620312 359.192125 \n\" style=\"fill:none;stroke:#000000;stroke-linecap:square;stroke-linejoin:miter;stroke-width:0.8;\"/>\n   </g>\n   <g id=\"patch_9\">\n    <path d=\"M 42.620313 33.032125 \nL 600.620312 33.032125 \n\" style=\"fill:none;stroke:#000000;stroke-linecap:square;stroke-linejoin:miter;stroke-width:0.8;\"/>\n   </g>\n   <g id=\"legend_1\">\n    <g id=\"patch_10\">\n     <path d=\"M 100.420312 24.878125 \nL 444.4875 24.878125 \nQ 446.4875 24.878125 446.4875 22.878125 \nL 446.4875 9.2 \nQ 446.4875 7.2 444.4875 7.2 \nL 100.420312 7.2 \nQ 98.420312 7.2 98.420312 9.2 \nL 98.420312 22.878125 \nQ 98.420312 24.878125 100.420312 24.878125 \nz\n\" style=\"fill:#ffffff;opacity:0.8;stroke:#cccccc;stroke-linejoin:miter;\"/>\n    </g>\n    <g id=\"line2d_18\"/>\n    <g id=\"line2d_19\">\n     <g>\n      <use style=\"fill:#0000aa;stroke:#0000aa;\" x=\"112.420312\" xlink:href=\"#me202a4cc4e\" y=\"15.298437\"/>\n     </g>\n    </g>\n    <g id=\"text_17\">\n     <!-- training data/target -->\n     <defs>\n      <path d=\"M 9.421875 54.6875 \nL 18.40625 54.6875 \nL 18.40625 0 \nL 9.421875 0 \nz\nM 9.421875 75.984375 \nL 18.40625 75.984375 \nL 18.40625 64.59375 \nL 9.421875 64.59375 \nz\n\" id=\"DejaVuSans-105\"/>\n      <path d=\"M 54.890625 33.015625 \nL 54.890625 0 \nL 45.90625 0 \nL 45.90625 32.71875 \nQ 45.90625 40.484375 42.875 44.328125 \nQ 39.84375 48.1875 33.796875 48.1875 \nQ 26.515625 48.1875 22.3125 43.546875 \nQ 18.109375 38.921875 18.109375 30.90625 \nL 18.109375 0 \nL 9.078125 0 \nL 9.078125 54.6875 \nL 18.109375 54.6875 \nL 18.109375 46.1875 \nQ 21.34375 51.125 25.703125 53.5625 \nQ 30.078125 56 35.796875 56 \nQ 45.21875 56 50.046875 50.171875 \nQ 54.890625 44.34375 54.890625 33.015625 \nz\n\" id=\"DejaVuSans-110\"/>\n      <path id=\"DejaVuSans-32\"/>\n      <path d=\"M 45.40625 46.390625 \nL 45.40625 75.984375 \nL 54.390625 75.984375 \nL 54.390625 0 \nL 45.40625 0 \nL 45.40625 8.203125 \nQ 42.578125 3.328125 38.25 0.953125 \nQ 33.9375 -1.421875 27.875 -1.421875 \nQ 17.96875 -1.421875 11.734375 6.484375 \nQ 5.515625 14.40625 5.515625 27.296875 \nQ 5.515625 40.1875 11.734375 48.09375 \nQ 17.96875 56 27.875 56 \nQ 33.9375 56 38.25 53.625 \nQ 42.578125 51.265625 45.40625 46.390625 \nz\nM 14.796875 27.296875 \nQ 14.796875 17.390625 18.875 11.75 \nQ 22.953125 6.109375 30.078125 6.109375 \nQ 37.203125 6.109375 41.296875 11.75 \nQ 45.40625 17.390625 45.40625 27.296875 \nQ 45.40625 37.203125 41.296875 42.84375 \nQ 37.203125 48.484375 30.078125 48.484375 \nQ 22.953125 48.484375 18.875 42.84375 \nQ 14.796875 37.203125 14.796875 27.296875 \nz\n\" id=\"DejaVuSans-100\"/>\n      <path d=\"M 25.390625 72.90625 \nL 33.6875 72.90625 \nL 8.296875 -9.28125 \nL 0 -9.28125 \nz\n\" id=\"DejaVuSans-47\"/>\n     </defs>\n     <g transform=\"translate(130.420312 18.798437)scale(0.1 -0.1)\">\n      <use xlink:href=\"#DejaVuSans-116\"/>\n      <use x=\"39.208984\" xlink:href=\"#DejaVuSans-114\"/>\n      <use x=\"80.322266\" xlink:href=\"#DejaVuSans-97\"/>\n      <use x=\"141.601562\" xlink:href=\"#DejaVuSans-105\"/>\n      <use x=\"169.384766\" xlink:href=\"#DejaVuSans-110\"/>\n      <use x=\"232.763672\" xlink:href=\"#DejaVuSans-105\"/>\n      <use x=\"260.546875\" xlink:href=\"#DejaVuSans-110\"/>\n      <use x=\"323.925781\" xlink:href=\"#DejaVuSans-103\"/>\n      <use x=\"387.402344\" xlink:href=\"#DejaVuSans-32\"/>\n      <use x=\"419.189453\" xlink:href=\"#DejaVuSans-100\"/>\n      <use x=\"482.666016\" xlink:href=\"#DejaVuSans-97\"/>\n      <use x=\"543.945312\" xlink:href=\"#DejaVuSans-116\"/>\n      <use x=\"583.154297\" xlink:href=\"#DejaVuSans-97\"/>\n      <use x=\"644.433594\" xlink:href=\"#DejaVuSans-47\"/>\n      <use x=\"678.125\" xlink:href=\"#DejaVuSans-116\"/>\n      <use x=\"717.333984\" xlink:href=\"#DejaVuSans-97\"/>\n      <use x=\"778.613281\" xlink:href=\"#DejaVuSans-114\"/>\n      <use x=\"819.710938\" xlink:href=\"#DejaVuSans-103\"/>\n      <use x=\"883.1875\" xlink:href=\"#DejaVuSans-101\"/>\n      <use x=\"944.710938\" xlink:href=\"#DejaVuSans-116\"/>\n     </g>\n    </g>\n    <g id=\"line2d_20\"/>\n    <g id=\"line2d_21\">\n     <g>\n      <use style=\"fill:#50ff50;stroke:#50ff50;stroke-linejoin:bevel;\" x=\"258.810938\" xlink:href=\"#m9581fbf04f\" y=\"15.298437\"/>\n     </g>\n    </g>\n    <g id=\"text_18\">\n     <!-- test data -->\n     <defs>\n      <path d=\"M 44.28125 53.078125 \nL 44.28125 44.578125 \nQ 40.484375 46.53125 36.375 47.5 \nQ 32.28125 48.484375 27.875 48.484375 \nQ 21.1875 48.484375 17.84375 46.4375 \nQ 14.5 44.390625 14.5 40.28125 \nQ 14.5 37.15625 16.890625 35.375 \nQ 19.28125 33.59375 26.515625 31.984375 \nL 29.59375 31.296875 \nQ 39.15625 29.25 43.1875 25.515625 \nQ 47.21875 21.78125 47.21875 15.09375 \nQ 47.21875 7.46875 41.1875 3.015625 \nQ 35.15625 -1.421875 24.609375 -1.421875 \nQ 20.21875 -1.421875 15.453125 -0.5625 \nQ 10.6875 0.296875 5.421875 2 \nL 5.421875 11.28125 \nQ 10.40625 8.6875 15.234375 7.390625 \nQ 20.0625 6.109375 24.8125 6.109375 \nQ 31.15625 6.109375 34.5625 8.28125 \nQ 37.984375 10.453125 37.984375 14.40625 \nQ 37.984375 18.0625 35.515625 20.015625 \nQ 33.0625 21.96875 24.703125 23.78125 \nL 21.578125 24.515625 \nQ 13.234375 26.265625 9.515625 29.90625 \nQ 5.8125 33.546875 5.8125 39.890625 \nQ 5.8125 47.609375 11.28125 51.796875 \nQ 16.75 56 26.8125 56 \nQ 31.78125 56 36.171875 55.265625 \nQ 40.578125 54.546875 44.28125 53.078125 \nz\n\" id=\"DejaVuSans-115\"/>\n     </defs>\n     <g transform=\"translate(276.810938 18.798437)scale(0.1 -0.1)\">\n      <use xlink:href=\"#DejaVuSans-116\"/>\n      <use x=\"39.208984\" xlink:href=\"#DejaVuSans-101\"/>\n      <use x=\"100.732422\" xlink:href=\"#DejaVuSans-115\"/>\n      <use x=\"152.832031\" xlink:href=\"#DejaVuSans-116\"/>\n      <use x=\"192.041016\" xlink:href=\"#DejaVuSans-32\"/>\n      <use x=\"223.828125\" xlink:href=\"#DejaVuSans-100\"/>\n      <use x=\"287.304688\" xlink:href=\"#DejaVuSans-97\"/>\n      <use x=\"348.583984\" xlink:href=\"#DejaVuSans-116\"/>\n      <use x=\"387.792969\" xlink:href=\"#DejaVuSans-97\"/>\n     </g>\n    </g>\n    <g id=\"line2d_22\"/>\n    <g id=\"line2d_23\">\n     <g>\n      <use style=\"fill:#0000aa;stroke:#0000aa;stroke-linejoin:bevel;\" x=\"351.717188\" xlink:href=\"#m3968aa9a8a\" y=\"15.298437\"/>\n     </g>\n    </g>\n    <g id=\"text_19\">\n     <!-- test prediction -->\n     <defs>\n      <path d=\"M 18.109375 8.203125 \nL 18.109375 -20.796875 \nL 9.078125 -20.796875 \nL 9.078125 54.6875 \nL 18.109375 54.6875 \nL 18.109375 46.390625 \nQ 20.953125 51.265625 25.265625 53.625 \nQ 29.59375 56 35.59375 56 \nQ 45.5625 56 51.78125 48.09375 \nQ 58.015625 40.1875 58.015625 27.296875 \nQ 58.015625 14.40625 51.78125 6.484375 \nQ 45.5625 -1.421875 35.59375 -1.421875 \nQ 29.59375 -1.421875 25.265625 0.953125 \nQ 20.953125 3.328125 18.109375 8.203125 \nz\nM 48.6875 27.296875 \nQ 48.6875 37.203125 44.609375 42.84375 \nQ 40.53125 48.484375 33.40625 48.484375 \nQ 26.265625 48.484375 22.1875 42.84375 \nQ 18.109375 37.203125 18.109375 27.296875 \nQ 18.109375 17.390625 22.1875 11.75 \nQ 26.265625 6.109375 33.40625 6.109375 \nQ 40.53125 6.109375 44.609375 11.75 \nQ 48.6875 17.390625 48.6875 27.296875 \nz\n\" id=\"DejaVuSans-112\"/>\n      <path d=\"M 48.78125 52.59375 \nL 48.78125 44.1875 \nQ 44.96875 46.296875 41.140625 47.34375 \nQ 37.3125 48.390625 33.40625 48.390625 \nQ 24.65625 48.390625 19.8125 42.84375 \nQ 14.984375 37.3125 14.984375 27.296875 \nQ 14.984375 17.28125 19.8125 11.734375 \nQ 24.65625 6.203125 33.40625 6.203125 \nQ 37.3125 6.203125 41.140625 7.25 \nQ 44.96875 8.296875 48.78125 10.40625 \nL 48.78125 2.09375 \nQ 45.015625 0.34375 40.984375 -0.53125 \nQ 36.96875 -1.421875 32.421875 -1.421875 \nQ 20.0625 -1.421875 12.78125 6.34375 \nQ 5.515625 14.109375 5.515625 27.296875 \nQ 5.515625 40.671875 12.859375 48.328125 \nQ 20.21875 56 33.015625 56 \nQ 37.15625 56 41.109375 55.140625 \nQ 45.0625 54.296875 48.78125 52.59375 \nz\n\" id=\"DejaVuSans-99\"/>\n      <path d=\"M 30.609375 48.390625 \nQ 23.390625 48.390625 19.1875 42.75 \nQ 14.984375 37.109375 14.984375 27.296875 \nQ 14.984375 17.484375 19.15625 11.84375 \nQ 23.34375 6.203125 30.609375 6.203125 \nQ 37.796875 6.203125 41.984375 11.859375 \nQ 46.1875 17.53125 46.1875 27.296875 \nQ 46.1875 37.015625 41.984375 42.703125 \nQ 37.796875 48.390625 30.609375 48.390625 \nz\nM 30.609375 56 \nQ 42.328125 56 49.015625 48.375 \nQ 55.71875 40.765625 55.71875 27.296875 \nQ 55.71875 13.875 49.015625 6.21875 \nQ 42.328125 -1.421875 30.609375 -1.421875 \nQ 18.84375 -1.421875 12.171875 6.21875 \nQ 5.515625 13.875 5.515625 27.296875 \nQ 5.515625 40.765625 12.171875 48.375 \nQ 18.84375 56 30.609375 56 \nz\n\" id=\"DejaVuSans-111\"/>\n     </defs>\n     <g transform=\"translate(369.717188 18.798437)scale(0.1 -0.1)\">\n      <use xlink:href=\"#DejaVuSans-116\"/>\n      <use x=\"39.208984\" xlink:href=\"#DejaVuSans-101\"/>\n      <use x=\"100.732422\" xlink:href=\"#DejaVuSans-115\"/>\n      <use x=\"152.832031\" xlink:href=\"#DejaVuSans-116\"/>\n      <use x=\"192.041016\" xlink:href=\"#DejaVuSans-32\"/>\n      <use x=\"223.828125\" xlink:href=\"#DejaVuSans-112\"/>\n      <use x=\"287.304688\" xlink:href=\"#DejaVuSans-114\"/>\n      <use x=\"328.386719\" xlink:href=\"#DejaVuSans-101\"/>\n      <use x=\"389.910156\" xlink:href=\"#DejaVuSans-100\"/>\n      <use x=\"453.386719\" xlink:href=\"#DejaVuSans-105\"/>\n      <use x=\"481.169922\" xlink:href=\"#DejaVuSans-99\"/>\n      <use x=\"536.150391\" xlink:href=\"#DejaVuSans-116\"/>\n      <use x=\"575.359375\" xlink:href=\"#DejaVuSans-105\"/>\n      <use x=\"603.142578\" xlink:href=\"#DejaVuSans-111\"/>\n      <use x=\"664.324219\" xlink:href=\"#DejaVuSans-110\"/>\n     </g>\n    </g>\n   </g>\n  </g>\n </g>\n <defs>\n  <clipPath id=\"p9cd215a363\">\n   <rect height=\"326.16\" width=\"558\" x=\"42.620312\" y=\"33.032125\"/>\n  </clipPath>\n </defs>\n</svg>\n",
      "text/plain": "<Figure size 720x432 with 1 Axes>"
     },
     "metadata": {
      "needs_background": "light"
     },
     "output_type": "display_data"
    }
   ],
   "source": [
    "mglearn.plots.plot_knn_regression(n_neighbors=1)"
   ]
  },
  {
   "cell_type": "code",
   "execution_count": null,
   "metadata": {},
   "outputs": [],
   "source": [
    "mglearn.plots.plot_knn_regression(n_neighbors=3)"
   ]
  },
  {
   "cell_type": "markdown",
   "execution_count": null,
   "metadata": {},
   "outputs": [],
   "source": [
    "La implementación de kNN para regresión en Scikit-learn es muy parecida a su equivalente de clasificación. Lo hacemos aquí para el *Wave* dataset:"
   ]
  },
  {
   "cell_type": "code",
   "execution_count": null,
   "metadata": {},
   "outputs": [],
   "source": [
    "from sklearn.neighbors import KNeighborsRegressor\n",
    "\n",
    "X, y = mglearn.datasets.make_wave(n_samples=40)\n",
    "\n",
    "# Partimos el dataset wave en training y test\n",
    "X_train, X_test, y_train, y_test = train_test_split(\n",
    "    X, y, random_state=0)\n",
    "\n",
    "# Instanciamos el modelo y especificamos 3 vecinos\n",
    "reg = KNeighborsRegressor(n_neighbors=3)\n",
    "# Ajustamos el modelo usando los objetivo y datos de training\n",
    "reg.fit(X_train, y_train)"
   ]
  },
  {
   "cell_type": "code",
   "execution_count": null,
   "metadata": {},
   "outputs": [],
   "source": [
    "print(\"Predicciones sobre el test set:\\n\", reg.predict(X_test))"
   ]
  },
  {
   "cell_type": "markdown",
   "execution_count": null,
   "metadata": {},
   "outputs": [],
   "source": [
    "También podemos evaluar el modelo utilizando el método `score`, que para la regresión devuelve $R^2$ (el coeficiente de determinación, una medida de lo bueno que es un modelo de regresión que veremos en más detalle más adelante):"
   ]
  },
  {
   "cell_type": "code",
   "execution_count": null,
   "metadata": {},
   "outputs": [],
   "source": [
    "print(\"Coeficiente de determinación del test set: {:.2f}\".format(reg.score(X_test, y_test)))"
   ]
  },
  {
   "cell_type": "markdown",
   "execution_count": null,
   "metadata": {},
   "outputs": [],
   "source": [
    "### Análisis de KNeighborsRegressor\n",
    "\n",
    "Para establecer el análisis, vamos a hacer una predicción de todos los posibles valores que puede tener la característica $x$ (donde $x\\in[1,3000]$), y para ello creamos un dataset que tenga todos los puntos en una línea:"
   ]
  },
  {
   "cell_type": "code",
   "execution_count": null,
   "metadata": {},
   "outputs": [],
   "source": [
    "fig, axes = plt.subplots(1, 3, figsize=(15, 4))\n",
    "# Crear 1,000 data points, igualmente espaciados entre -3 y 3\n",
    "line = np.linspace(-3, 3, 1000).reshape(-1, 1)\n",
    "for n_neighbors, ax in zip([1, 3, 9], axes):\n",
    "    # make predictions using 1, 3, or 9 neighbors\n",
    "    reg = KNeighborsRegressor(n_neighbors=n_neighbors)\n",
    "    reg.fit(X_train, y_train)\n",
    "    ax.plot(line, reg.predict(line))\n",
    "    ax.plot(X_train, y_train, '^', c=mglearn.cm2(0), markersize=8)\n",
    "    ax.plot(X_test, y_test, 'v', c=mglearn.cm2(1), markersize=8)\n",
    "\n",
    "    ax.set_title(\n",
    "        \"{} vecinos(s)\\n Train score: {:.2f} Test score: {:.2f}\".format(\n",
    "            n_neighbors, reg.score(X_train, y_train),\n",
    "            reg.score(X_test, y_test)))\n",
    "    ax.set_xlabel(\"Característica\")\n",
    "    ax.set_ylabel(\"Objetivo\")\n",
    "axes[0].legend([\"Predición modelo\", \"Training data/objetivo\",\n",
    "                \"Test data/objetivo\"], loc=\"best\")"
   ]
  },
  {
   "cell_type": "markdown",
   "execution_count": null,
   "metadata": {},
   "outputs": [],
   "source": [
    "Como ejercicio adicional con kNNs, ábrase el fichero [kNNs-Exercise.ipynb](kNNs-Exercise.ipynb)."
   ]
  },
  {
   "cell_type": "markdown",
   "execution_count": null,
   "metadata": {},
   "outputs": [],
   "source": [
    "# Aprendizaje Supervisado con Scikit-Learn - Día 2"
   ]
  },
  {
   "cell_type": "markdown",
   "execution_count": null,
   "metadata": {},
   "outputs": [],
   "source": [
    "## Lab 2 - Modelos lineales de regresión\n",
    "\\begin{align*}\n",
    "\\end{align*}\n",
    "A continuación, se muestra el gráfico del ajuste por regresión lineal de los datos del dataset *Wave*.  Lo mostramos para adelantar la discusión teórica sobre el modelo, más abajo aprenderemos cómo entrenar modelos lineales."
   ]
  },
  {
   "cell_type": "code",
   "execution_count": 9,
   "metadata": {},
   "outputs": [
    {
     "name": "stdout",
     "output_type": "stream",
     "text": "w[0]: 0.393906  b: -0.031804\n"
    },
    {
     "data": {
      "image/png": "[encoded data removed]",
      "image/svg+xml": "<?xml version=\"1.0\" encoding=\"utf-8\" standalone=\"no\"?>\n<!DOCTYPE svg PUBLIC \"-//W3C//DTD SVG 1.1//EN\"\n  \"http://www.w3.org/Graphics/SVG/1.1/DTD/svg11.dtd\">\n<!-- Created with matplotlib (https://matplotlib.org/) -->\n<svg height=\"429.896307pt\" version=\"1.1\" viewBox=\"0 0 460.8 429.896307\" width=\"460.8pt\" xmlns=\"http://www.w3.org/2000/svg\" xmlns:xlink=\"http://www.w3.org/1999/xlink\">\n <defs>\n  <style type=\"text/css\">\n*{stroke-linecap:butt;stroke-linejoin:round;}\n  </style>\n </defs>\n <g id=\"figure_1\">\n  <g id=\"patch_1\">\n   <path d=\"M 0 429.896307 \nL 460.8 429.896307 \nL 460.8 0 \nL 0 0 \nz\n\" style=\"fill:none;\"/>\n  </g>\n  <g id=\"axes_1\">\n   <g id=\"patch_2\">\n    <path d=\"M 7.2 416.817401 \nL 453.6 416.817401 \nL 453.6 10.999219 \nL 7.2 10.999219 \nz\n\" style=\"fill:#ffffff;\"/>\n   </g>\n   <g id=\"matplotlib.axis_1\">\n    <g id=\"xtick_1\">\n     <g id=\"line2d_1\">\n      <path clip-path=\"url(#pef2a52c145)\" d=\"M 27.490909 416.817401 \nL 27.490909 10.999219 \n\" style=\"fill:none;stroke:#b0b0b0;stroke-linecap:square;stroke-width:0.8;\"/>\n     </g>\n     <g id=\"line2d_2\">\n      <defs>\n       <path d=\"M 0 0 \nL 0 3.5 \n\" id=\"meaf3bdd76c\" style=\"stroke:#000000;stroke-width:0.8;\"/>\n      </defs>\n      <g>\n       <use style=\"stroke:#000000;stroke-width:0.8;\" x=\"27.490909\" xlink:href=\"#meaf3bdd76c\" y=\"213.90831\"/>\n      </g>\n     </g>\n     <g id=\"text_1\">\n      <!-- −3 -->\n      <defs>\n       <path d=\"M 10.59375 35.5 \nL 73.1875 35.5 \nL 73.1875 27.203125 \nL 10.59375 27.203125 \nz\n\" id=\"DejaVuSans-8722\"/>\n       <path d=\"M 40.578125 39.3125 \nQ 47.65625 37.796875 51.625 33 \nQ 55.609375 28.21875 55.609375 21.1875 \nQ 55.609375 10.40625 48.1875 4.484375 \nQ 40.765625 -1.421875 27.09375 -1.421875 \nQ 22.515625 -1.421875 17.65625 -0.515625 \nQ 12.796875 0.390625 7.625 2.203125 \nL 7.625 11.71875 \nQ 11.71875 9.328125 16.59375 8.109375 \nQ 21.484375 6.890625 26.8125 6.890625 \nQ 36.078125 6.890625 40.9375 10.546875 \nQ 45.796875 14.203125 45.796875 21.1875 \nQ 45.796875 27.640625 41.28125 31.265625 \nQ 36.765625 34.90625 28.71875 34.90625 \nL 20.21875 34.90625 \nL 20.21875 43.015625 \nL 29.109375 43.015625 \nQ 36.375 43.015625 40.234375 45.921875 \nQ 44.09375 48.828125 44.09375 54.296875 \nQ 44.09375 59.90625 40.109375 62.90625 \nQ 36.140625 65.921875 28.71875 65.921875 \nQ 24.65625 65.921875 20.015625 65.03125 \nQ 15.375 64.15625 9.8125 62.3125 \nL 9.8125 71.09375 \nQ 15.4375 72.65625 20.34375 73.4375 \nQ 25.25 74.21875 29.59375 74.21875 \nQ 40.828125 74.21875 47.359375 69.109375 \nQ 53.90625 64.015625 53.90625 55.328125 \nQ 53.90625 49.265625 50.4375 45.09375 \nQ 46.96875 40.921875 40.578125 39.3125 \nz\n\" id=\"DejaVuSans-51\"/>\n      </defs>\n      <g transform=\"translate(20.119815 228.506747)scale(0.1 -0.1)\">\n       <use xlink:href=\"#DejaVuSans-8722\"/>\n       <use x=\"83.789062\" xlink:href=\"#DejaVuSans-51\"/>\n      </g>\n     </g>\n    </g>\n    <g id=\"xtick_2\">\n     <g id=\"line2d_3\">\n      <path clip-path=\"url(#pef2a52c145)\" d=\"M 95.127273 416.817401 \nL 95.127273 10.999219 \n\" style=\"fill:none;stroke:#b0b0b0;stroke-linecap:square;stroke-width:0.8;\"/>\n     </g>\n     <g id=\"line2d_4\">\n      <g>\n       <use style=\"stroke:#000000;stroke-width:0.8;\" x=\"95.127273\" xlink:href=\"#meaf3bdd76c\" y=\"213.90831\"/>\n      </g>\n     </g>\n     <g id=\"text_2\">\n      <!-- −2 -->\n      <defs>\n       <path d=\"M 19.1875 8.296875 \nL 53.609375 8.296875 \nL 53.609375 0 \nL 7.328125 0 \nL 7.328125 8.296875 \nQ 12.9375 14.109375 22.625 23.890625 \nQ 32.328125 33.6875 34.8125 36.53125 \nQ 39.546875 41.84375 41.421875 45.53125 \nQ 43.3125 49.21875 43.3125 52.78125 \nQ 43.3125 58.59375 39.234375 62.25 \nQ 35.15625 65.921875 28.609375 65.921875 \nQ 23.96875 65.921875 18.8125 64.3125 \nQ 13.671875 62.703125 7.8125 59.421875 \nL 7.8125 69.390625 \nQ 13.765625 71.78125 18.9375 73 \nQ 24.125 74.21875 28.421875 74.21875 \nQ 39.75 74.21875 46.484375 68.546875 \nQ 53.21875 62.890625 53.21875 53.421875 \nQ 53.21875 48.921875 51.53125 44.890625 \nQ 49.859375 40.875 45.40625 35.40625 \nQ 44.1875 33.984375 37.640625 27.21875 \nQ 31.109375 20.453125 19.1875 8.296875 \nz\n\" id=\"DejaVuSans-50\"/>\n      </defs>\n      <g transform=\"translate(87.756179 228.506747)scale(0.1 -0.1)\">\n       <use xlink:href=\"#DejaVuSans-8722\"/>\n       <use x=\"83.789062\" xlink:href=\"#DejaVuSans-50\"/>\n      </g>\n     </g>\n    </g>\n    <g id=\"xtick_3\">\n     <g id=\"line2d_5\">\n      <path clip-path=\"url(#pef2a52c145)\" d=\"M 162.763636 416.817401 \nL 162.763636 10.999219 \n\" style=\"fill:none;stroke:#b0b0b0;stroke-linecap:square;stroke-width:0.8;\"/>\n     </g>\n     <g id=\"line2d_6\">\n      <g>\n       <use style=\"stroke:#000000;stroke-width:0.8;\" x=\"162.763636\" xlink:href=\"#meaf3bdd76c\" y=\"213.90831\"/>\n      </g>\n     </g>\n     <g id=\"text_3\">\n      <!-- −1 -->\n      <defs>\n       <path d=\"M 12.40625 8.296875 \nL 28.515625 8.296875 \nL 28.515625 63.921875 \nL 10.984375 60.40625 \nL 10.984375 69.390625 \nL 28.421875 72.90625 \nL 38.28125 72.90625 \nL 38.28125 8.296875 \nL 54.390625 8.296875 \nL 54.390625 0 \nL 12.40625 0 \nz\n\" id=\"DejaVuSans-49\"/>\n      </defs>\n      <g transform=\"translate(155.392543 228.506747)scale(0.1 -0.1)\">\n       <use xlink:href=\"#DejaVuSans-8722\"/>\n       <use x=\"83.789062\" xlink:href=\"#DejaVuSans-49\"/>\n      </g>\n     </g>\n    </g>\n    <g id=\"xtick_4\">\n     <g id=\"line2d_7\">\n      <path clip-path=\"url(#pef2a52c145)\" d=\"M 230.4 416.817401 \nL 230.4 10.999219 \n\" style=\"fill:none;stroke:#b0b0b0;stroke-linecap:square;stroke-width:0.8;\"/>\n     </g>\n     <g id=\"line2d_8\">\n      <g>\n       <use style=\"stroke:#000000;stroke-width:0.8;\" x=\"230.4\" xlink:href=\"#meaf3bdd76c\" y=\"213.90831\"/>\n      </g>\n     </g>\n     <g id=\"text_4\">\n      <!-- 0 -->\n      <defs>\n       <path d=\"M 31.78125 66.40625 \nQ 24.171875 66.40625 20.328125 58.90625 \nQ 16.5 51.421875 16.5 36.375 \nQ 16.5 21.390625 20.328125 13.890625 \nQ 24.171875 6.390625 31.78125 6.390625 \nQ 39.453125 6.390625 43.28125 13.890625 \nQ 47.125 21.390625 47.125 36.375 \nQ 47.125 51.421875 43.28125 58.90625 \nQ 39.453125 66.40625 31.78125 66.40625 \nz\nM 31.78125 74.21875 \nQ 44.046875 74.21875 50.515625 64.515625 \nQ 56.984375 54.828125 56.984375 36.375 \nQ 56.984375 17.96875 50.515625 8.265625 \nQ 44.046875 -1.421875 31.78125 -1.421875 \nQ 19.53125 -1.421875 13.0625 8.265625 \nQ 6.59375 17.96875 6.59375 36.375 \nQ 6.59375 54.828125 13.0625 64.515625 \nQ 19.53125 74.21875 31.78125 74.21875 \nz\n\" id=\"DejaVuSans-48\"/>\n      </defs>\n      <g transform=\"translate(227.21875 228.506747)scale(0.1 -0.1)\">\n       <use xlink:href=\"#DejaVuSans-48\"/>\n      </g>\n     </g>\n    </g>\n    <g id=\"xtick_5\">\n     <g id=\"line2d_9\">\n      <path clip-path=\"url(#pef2a52c145)\" d=\"M 298.036364 416.817401 \nL 298.036364 10.999219 \n\" style=\"fill:none;stroke:#b0b0b0;stroke-linecap:square;stroke-width:0.8;\"/>\n     </g>\n     <g id=\"line2d_10\">\n      <g>\n       <use style=\"stroke:#000000;stroke-width:0.8;\" x=\"298.036364\" xlink:href=\"#meaf3bdd76c\" y=\"213.90831\"/>\n      </g>\n     </g>\n     <g id=\"text_5\">\n      <!-- 1 -->\n      <g transform=\"translate(294.855114 228.506747)scale(0.1 -0.1)\">\n       <use xlink:href=\"#DejaVuSans-49\"/>\n      </g>\n     </g>\n    </g>\n    <g id=\"xtick_6\">\n     <g id=\"line2d_11\">\n      <path clip-path=\"url(#pef2a52c145)\" d=\"M 365.672727 416.817401 \nL 365.672727 10.999219 \n\" style=\"fill:none;stroke:#b0b0b0;stroke-linecap:square;stroke-width:0.8;\"/>\n     </g>\n     <g id=\"line2d_12\">\n      <g>\n       <use style=\"stroke:#000000;stroke-width:0.8;\" x=\"365.672727\" xlink:href=\"#meaf3bdd76c\" y=\"213.90831\"/>\n      </g>\n     </g>\n     <g id=\"text_6\">\n      <!-- 2 -->\n      <g transform=\"translate(362.491477 228.506747)scale(0.1 -0.1)\">\n       <use xlink:href=\"#DejaVuSans-50\"/>\n      </g>\n     </g>\n    </g>\n    <g id=\"xtick_7\">\n     <g id=\"line2d_13\">\n      <path clip-path=\"url(#pef2a52c145)\" d=\"M 433.309091 416.817401 \nL 433.309091 10.999219 \n\" style=\"fill:none;stroke:#b0b0b0;stroke-linecap:square;stroke-width:0.8;\"/>\n     </g>\n     <g id=\"line2d_14\">\n      <g>\n       <use style=\"stroke:#000000;stroke-width:0.8;\" x=\"433.309091\" xlink:href=\"#meaf3bdd76c\" y=\"213.90831\"/>\n      </g>\n     </g>\n     <g id=\"text_7\">\n      <!-- 3 -->\n      <g transform=\"translate(430.127841 228.506747)scale(0.1 -0.1)\">\n       <use xlink:href=\"#DejaVuSans-51\"/>\n      </g>\n     </g>\n    </g>\n   </g>\n   <g id=\"matplotlib.axis_2\">\n    <g id=\"ytick_1\">\n     <g id=\"line2d_15\">\n      <path clip-path=\"url(#pef2a52c145)\" d=\"M 7.2 416.817401 \nL 453.6 416.817401 \n\" style=\"fill:none;stroke:#b0b0b0;stroke-linecap:square;stroke-width:0.8;\"/>\n     </g>\n     <g id=\"line2d_16\">\n      <defs>\n       <path d=\"M 0 0 \nL -3.5 0 \n\" id=\"m819c49bccb\" style=\"stroke:#000000;stroke-width:0.8;\"/>\n      </defs>\n      <g>\n       <use style=\"stroke:#000000;stroke-width:0.8;\" x=\"230.4\" xlink:href=\"#m819c49bccb\" y=\"416.817401\"/>\n      </g>\n     </g>\n     <g id=\"text_8\">\n      <!-- −3 -->\n      <g transform=\"translate(208.657812 420.616619)scale(0.1 -0.1)\">\n       <use xlink:href=\"#DejaVuSans-8722\"/>\n       <use x=\"83.789062\" xlink:href=\"#DejaVuSans-51\"/>\n      </g>\n     </g>\n    </g>\n    <g id=\"ytick_2\">\n     <g id=\"line2d_17\">\n      <path clip-path=\"url(#pef2a52c145)\" d=\"M 7.2 349.181037 \nL 453.6 349.181037 \n\" style=\"fill:none;stroke:#b0b0b0;stroke-linecap:square;stroke-width:0.8;\"/>\n     </g>\n     <g id=\"line2d_18\">\n      <g>\n       <use style=\"stroke:#000000;stroke-width:0.8;\" x=\"230.4\" xlink:href=\"#m819c49bccb\" y=\"349.181037\"/>\n      </g>\n     </g>\n     <g id=\"text_9\">\n      <!-- −2 -->\n      <g transform=\"translate(208.657812 352.980256)scale(0.1 -0.1)\">\n       <use xlink:href=\"#DejaVuSans-8722\"/>\n       <use x=\"83.789062\" xlink:href=\"#DejaVuSans-50\"/>\n      </g>\n     </g>\n    </g>\n    <g id=\"ytick_3\">\n     <g id=\"line2d_19\">\n      <path clip-path=\"url(#pef2a52c145)\" d=\"M 7.2 281.544673 \nL 453.6 281.544673 \n\" style=\"fill:none;stroke:#b0b0b0;stroke-linecap:square;stroke-width:0.8;\"/>\n     </g>\n     <g id=\"line2d_20\">\n      <g>\n       <use style=\"stroke:#000000;stroke-width:0.8;\" x=\"230.4\" xlink:href=\"#m819c49bccb\" y=\"281.544673\"/>\n      </g>\n     </g>\n     <g id=\"text_10\">\n      <!-- −1 -->\n      <g transform=\"translate(208.657812 285.343892)scale(0.1 -0.1)\">\n       <use xlink:href=\"#DejaVuSans-8722\"/>\n       <use x=\"83.789062\" xlink:href=\"#DejaVuSans-49\"/>\n      </g>\n     </g>\n    </g>\n    <g id=\"ytick_4\">\n     <g id=\"line2d_21\">\n      <path clip-path=\"url(#pef2a52c145)\" d=\"M 7.2 213.90831 \nL 453.6 213.90831 \n\" style=\"fill:none;stroke:#b0b0b0;stroke-linecap:square;stroke-width:0.8;\"/>\n     </g>\n     <g id=\"line2d_22\">\n      <g>\n       <use style=\"stroke:#000000;stroke-width:0.8;\" x=\"230.4\" xlink:href=\"#m819c49bccb\" y=\"213.90831\"/>\n      </g>\n     </g>\n     <g id=\"text_11\">\n      <!-- 0 -->\n      <g transform=\"translate(217.0375 217.707528)scale(0.1 -0.1)\">\n       <use xlink:href=\"#DejaVuSans-48\"/>\n      </g>\n     </g>\n    </g>\n    <g id=\"ytick_5\">\n     <g id=\"line2d_23\">\n      <path clip-path=\"url(#pef2a52c145)\" d=\"M 7.2 146.271946 \nL 453.6 146.271946 \n\" style=\"fill:none;stroke:#b0b0b0;stroke-linecap:square;stroke-width:0.8;\"/>\n     </g>\n     <g id=\"line2d_24\">\n      <g>\n       <use style=\"stroke:#000000;stroke-width:0.8;\" x=\"230.4\" xlink:href=\"#m819c49bccb\" y=\"146.271946\"/>\n      </g>\n     </g>\n     <g id=\"text_12\">\n      <!-- 1 -->\n      <g transform=\"translate(217.0375 150.071165)scale(0.1 -0.1)\">\n       <use xlink:href=\"#DejaVuSans-49\"/>\n      </g>\n     </g>\n    </g>\n    <g id=\"ytick_6\">\n     <g id=\"line2d_25\">\n      <path clip-path=\"url(#pef2a52c145)\" d=\"M 7.2 78.635582 \nL 453.6 78.635582 \n\" style=\"fill:none;stroke:#b0b0b0;stroke-linecap:square;stroke-width:0.8;\"/>\n     </g>\n     <g id=\"line2d_26\">\n      <g>\n       <use style=\"stroke:#000000;stroke-width:0.8;\" x=\"230.4\" xlink:href=\"#m819c49bccb\" y=\"78.635582\"/>\n      </g>\n     </g>\n     <g id=\"text_13\">\n      <!-- 2 -->\n      <g transform=\"translate(217.0375 82.434801)scale(0.1 -0.1)\">\n       <use xlink:href=\"#DejaVuSans-50\"/>\n      </g>\n     </g>\n    </g>\n    <g id=\"ytick_7\">\n     <g id=\"line2d_27\">\n      <path clip-path=\"url(#pef2a52c145)\" d=\"M 7.2 10.999219 \nL 453.6 10.999219 \n\" style=\"fill:none;stroke:#b0b0b0;stroke-linecap:square;stroke-width:0.8;\"/>\n     </g>\n     <g id=\"line2d_28\">\n      <g>\n       <use style=\"stroke:#000000;stroke-width:0.8;\" x=\"230.4\" xlink:href=\"#m819c49bccb\" y=\"10.999219\"/>\n      </g>\n     </g>\n     <g id=\"text_14\">\n      <!-- 3 -->\n      <g transform=\"translate(217.0375 14.798437)scale(0.1 -0.1)\">\n       <use xlink:href=\"#DejaVuSans-51\"/>\n      </g>\n     </g>\n    </g>\n   </g>\n   <g id=\"line2d_29\">\n    <path clip-path=\"url(#pef2a52c145)\" d=\"M 27.490909 295.986457 \nL 31.590083 294.37177 \nL 35.689256 292.757083 \nL 39.78843 291.142395 \nL 43.887603 289.527708 \nL 47.986777 287.913021 \nL 52.08595 286.298334 \nL 56.185124 284.683647 \nL 60.284298 283.068959 \nL 64.383471 281.454272 \nL 68.482645 279.839585 \nL 72.581818 278.224898 \nL 76.680992 276.61021 \nL 80.780165 274.995523 \nL 84.879339 273.380836 \nL 88.978512 271.766149 \nL 93.077686 270.151462 \nL 97.17686 268.536774 \nL 101.276033 266.922087 \nL 105.375207 265.3074 \nL 109.47438 263.692713 \nL 113.573554 262.078025 \nL 117.672727 260.463338 \nL 121.771901 258.848651 \nL 125.871074 257.233964 \nL 129.970248 255.619277 \nL 134.069421 254.004589 \nL 138.168595 252.389902 \nL 142.267769 250.775215 \nL 146.366942 249.160528 \nL 150.466116 247.545841 \nL 154.565289 245.931153 \nL 158.664463 244.316466 \nL 162.763636 242.701779 \nL 166.86281 241.087092 \nL 170.961983 239.472404 \nL 175.061157 237.857717 \nL 179.160331 236.24303 \nL 183.259504 234.628343 \nL 187.358678 233.013656 \nL 191.457851 231.398968 \nL 195.557025 229.784281 \nL 199.656198 228.169594 \nL 203.755372 226.554907 \nL 207.854545 224.940219 \nL 211.953719 223.325532 \nL 216.052893 221.710845 \nL 220.152066 220.096158 \nL 224.25124 218.481471 \nL 228.350413 216.866783 \nL 232.449587 215.252096 \nL 236.54876 213.637409 \nL 240.647934 212.022722 \nL 244.747107 210.408035 \nL 248.846281 208.793347 \nL 252.945455 207.17866 \nL 257.044628 205.563973 \nL 261.143802 203.949286 \nL 265.242975 202.334598 \nL 269.342149 200.719911 \nL 273.441322 199.105224 \nL 277.540496 197.490537 \nL 281.639669 195.87585 \nL 285.738843 194.261162 \nL 289.838017 192.646475 \nL 293.93719 191.031788 \nL 298.036364 189.417101 \nL 302.135537 187.802413 \nL 306.234711 186.187726 \nL 310.333884 184.573039 \nL 314.433058 182.958352 \nL 318.532231 181.343665 \nL 322.631405 179.728977 \nL 326.730579 178.11429 \nL 330.829752 176.499603 \nL 334.928926 174.884916 \nL 339.028099 173.270228 \nL 343.127273 171.655541 \nL 347.226446 170.040854 \nL 351.32562 168.426167 \nL 355.424793 166.81148 \nL 359.523967 165.196792 \nL 363.62314 163.582105 \nL 367.722314 161.967418 \nL 371.821488 160.352731 \nL 375.920661 158.738044 \nL 380.019835 157.123356 \nL 384.119008 155.508669 \nL 388.218182 153.893982 \nL 392.317355 152.279295 \nL 396.416529 150.664607 \nL 400.515702 149.04992 \nL 404.614876 147.435233 \nL 408.71405 145.820546 \nL 412.813223 144.205859 \nL 416.912397 142.591171 \nL 421.01157 140.976484 \nL 425.110744 139.361797 \nL 429.209917 137.74711 \nL 433.309091 136.132422 \n\" style=\"fill:none;stroke:#1f77b4;stroke-linecap:square;stroke-width:1.5;\"/>\n   </g>\n   <g id=\"line2d_30\">\n    <defs>\n     <path d=\"M 0 3 \nC 0.795609 3 1.55874 2.683901 2.12132 2.12132 \nC 2.683901 1.55874 3 0.795609 3 0 \nC 3 -0.795609 2.683901 -1.55874 2.12132 -2.12132 \nC 1.55874 -2.683901 0.795609 -3 0 -3 \nC -0.795609 -3 -1.55874 -2.683901 -2.12132 -2.12132 \nC -2.683901 -1.55874 -3 -0.795609 -3 0 \nC -3 0.795609 -2.683901 1.55874 -2.12132 2.12132 \nC -1.55874 2.683901 -0.795609 3 0 3 \nz\n\" id=\"m0d9a3d9cb9\" style=\"stroke:#0000aa;\"/>\n    </defs>\n    <g clip-path=\"url(#pef2a52c145)\">\n     <use style=\"fill:#0000aa;stroke:#0000aa;\" x=\"179.486099\" xlink:href=\"#m0d9a3d9cb9\" y=\"293.768804\"/>\n     <use style=\"fill:#0000aa;stroke:#0000aa;\" x=\"413.30806\" xlink:href=\"#m0d9a3d9cb9\" y=\"180.079366\"/>\n     <use style=\"fill:#0000aa;stroke:#0000aa;\" x=\"324.54736\" xlink:href=\"#m0d9a3d9cb9\" y=\"204.592828\"/>\n     <use style=\"fill:#0000aa;stroke:#0000aa;\" x=\"270.437407\" xlink:href=\"#m0d9a3d9cb9\" y=\"134.505804\"/>\n     <use style=\"fill:#0000aa;stroke:#0000aa;\" x=\"90.80611\" xlink:href=\"#m0d9a3d9cb9\" y=\"303.212589\"/>\n     <use style=\"fill:#0000aa;stroke:#0000aa;\" x=\"90.796322\" xlink:href=\"#m0d9a3d9cb9\" y=\"374.453185\"/>\n     <use style=\"fill:#0000aa;stroke:#0000aa;\" x=\"51.062295\" xlink:href=\"#m0d9a3d9cb9\" y=\"261.333104\"/>\n     <use style=\"fill:#0000aa;stroke:#0000aa;\" x=\"379.000938\" xlink:href=\"#m0d9a3d9cb9\" y=\"132.52825\"/>\n     <use style=\"fill:#0000aa;stroke:#0000aa;\" x=\"271.43431\" xlink:href=\"#m0d9a3d9cb9\" y=\"194.115918\"/>\n     <use style=\"fill:#0000aa;stroke:#0000aa;\" x=\"314.839635\" xlink:href=\"#m0d9a3d9cb9\" y=\"183.491186\"/>\n     <use style=\"fill:#0000aa;stroke:#0000aa;\" x=\"35.844471\" xlink:href=\"#m0d9a3d9cb9\" y=\"246.811483\"/>\n     <use style=\"fill:#0000aa;stroke:#0000aa;\" x=\"421.097962\" xlink:href=\"#m0d9a3d9cb9\" y=\"119.545051\"/>\n     <use style=\"fill:#0000aa;stroke:#0000aa;\" x=\"365.311268\" xlink:href=\"#m0d9a3d9cb9\" y=\"141.277657\"/>\n     <use style=\"fill:#0000aa;stroke:#0000aa;\" x=\"113.661981\" xlink:href=\"#m0d9a3d9cb9\" y=\"302.402475\"/>\n     <use style=\"fill:#0000aa;stroke:#0000aa;\" x=\"101.278787\" xlink:href=\"#m0d9a3d9cb9\" y=\"300.285563\"/>\n     <use style=\"fill:#0000aa;stroke:#0000aa;\" x=\"101.919794\" xlink:href=\"#m0d9a3d9cb9\" y=\"277.875971\"/>\n     <use style=\"fill:#0000aa;stroke:#0000aa;\" x=\"150.957943\" xlink:href=\"#m0d9a3d9cb9\" y=\"236.019369\"/>\n     <use style=\"fill:#0000aa;stroke:#0000aa;\" x=\"240.44661\" xlink:href=\"#m0d9a3d9cb9\" y=\"196.231957\"/>\n     <use style=\"fill:#0000aa;stroke:#0000aa;\" x=\"202.782051\" xlink:href=\"#m0d9a3d9cb9\" y=\"298.883624\"/>\n     <use style=\"fill:#0000aa;stroke:#0000aa;\" x=\"145.676989\" xlink:href=\"#m0d9a3d9cb9\" y=\"264.396791\"/>\n     <use style=\"fill:#0000aa;stroke:#0000aa;\" x=\"275.791938\" xlink:href=\"#m0d9a3d9cb9\" y=\"148.807915\"/>\n     <use style=\"fill:#0000aa;stroke:#0000aa;\" x=\"84.100054\" xlink:href=\"#m0d9a3d9cb9\" y=\"264.798525\"/>\n     <use style=\"fill:#0000aa;stroke:#0000aa;\" x=\"146.048519\" xlink:href=\"#m0d9a3d9cb9\" y=\"225.982316\"/>\n     <use style=\"fill:#0000aa;stroke:#0000aa;\" x=\"176.167206\" xlink:href=\"#m0d9a3d9cb9\" y=\"204.866012\"/>\n     <use style=\"fill:#0000aa;stroke:#0000aa;\" x=\"212.572401\" xlink:href=\"#m0d9a3d9cb9\" y=\"239.999338\"/>\n     <use style=\"fill:#0000aa;stroke:#0000aa;\" x=\"346.12959\" xlink:href=\"#m0d9a3d9cb9\" y=\"159.866815\"/>\n     <use style=\"fill:#0000aa;stroke:#0000aa;\" x=\"108.52216\" xlink:href=\"#m0d9a3d9cb9\" y=\"289.62614\"/>\n     <use style=\"fill:#0000aa;stroke:#0000aa;\" x=\"236.176594\" xlink:href=\"#m0d9a3d9cb9\" y=\"147.676643\"/>\n     <use style=\"fill:#0000aa;stroke:#0000aa;\" x=\"267.903512\" xlink:href=\"#m0d9a3d9cb9\" y=\"169.387867\"/>\n     <use style=\"fill:#0000aa;stroke:#0000aa;\" x=\"46.341331\" xlink:href=\"#m0d9a3d9cb9\" y=\"219.411881\"/>\n     <use style=\"fill:#0000aa;stroke:#0000aa;\" x=\"274.043656\" xlink:href=\"#m0d9a3d9cb9\" y=\"262.702958\"/>\n     <use style=\"fill:#0000aa;stroke:#0000aa;\" x=\"96.692699\" xlink:href=\"#m0d9a3d9cb9\" y=\"286.736617\"/>\n     <use style=\"fill:#0000aa;stroke:#0000aa;\" x=\"53.890028\" xlink:href=\"#m0d9a3d9cb9\" y=\"270.509781\"/>\n     <use style=\"fill:#0000aa;stroke:#0000aa;\" x=\"412.565913\" xlink:href=\"#m0d9a3d9cb9\" y=\"165.923095\"/>\n     <use style=\"fill:#0000aa;stroke:#0000aa;\" x=\"419.361945\" xlink:href=\"#m0d9a3d9cb9\" y=\"149.598412\"/>\n     <use style=\"fill:#0000aa;stroke:#0000aa;\" x=\"355.553251\" xlink:href=\"#m0d9a3d9cb9\" y=\"188.132228\"/>\n     <use style=\"fill:#0000aa;stroke:#0000aa;\" x=\"151.108715\" xlink:href=\"#m0d9a3d9cb9\" y=\"227.173712\"/>\n     <use style=\"fill:#0000aa;stroke:#0000aa;\" x=\"67.128029\" xlink:href=\"#m0d9a3d9cb9\" y=\"275.721683\"/>\n     <use style=\"fill:#0000aa;stroke:#0000aa;\" x=\"305.165112\" xlink:href=\"#m0d9a3d9cb9\" y=\"158.944419\"/>\n     <use style=\"fill:#0000aa;stroke:#0000aa;\" x=\"206.112794\" xlink:href=\"#m0d9a3d9cb9\" y=\"277.091821\"/>\n     <use style=\"fill:#0000aa;stroke:#0000aa;\" x=\"77.016244\" xlink:href=\"#m0d9a3d9cb9\" y=\"329.655474\"/>\n     <use style=\"fill:#0000aa;stroke:#0000aa;\" x=\"228.442702\" xlink:href=\"#m0d9a3d9cb9\" y=\"235.761328\"/>\n     <use style=\"fill:#0000aa;stroke:#0000aa;\" x=\"41.446396\" xlink:href=\"#m0d9a3d9cb9\" y=\"244.150643\"/>\n     <use style=\"fill:#0000aa;stroke:#0000aa;\" x=\"396.509661\" xlink:href=\"#m0d9a3d9cb9\" y=\"132.871227\"/>\n     <use style=\"fill:#0000aa;stroke:#0000aa;\" x=\"132.508531\" xlink:href=\"#m0d9a3d9cb9\" y=\"264.737464\"/>\n     <use style=\"fill:#0000aa;stroke:#0000aa;\" x=\"296.354498\" xlink:href=\"#m0d9a3d9cb9\" y=\"186.845417\"/>\n     <use style=\"fill:#0000aa;stroke:#0000aa;\" x=\"153.988931\" xlink:href=\"#m0d9a3d9cb9\" y=\"215.643524\"/>\n     <use style=\"fill:#0000aa;stroke:#0000aa;\" x=\"238.543968\" xlink:href=\"#m0d9a3d9cb9\" y=\"161.413032\"/>\n     <use style=\"fill:#0000aa;stroke:#0000aa;\" x=\"249.355881\" xlink:href=\"#m0d9a3d9cb9\" y=\"197.717363\"/>\n     <use style=\"fill:#0000aa;stroke:#0000aa;\" x=\"102.508208\" xlink:href=\"#m0d9a3d9cb9\" y=\"321.336481\"/>\n     <use style=\"fill:#0000aa;stroke:#0000aa;\" x=\"420.96598\" xlink:href=\"#m0d9a3d9cb9\" y=\"164.438159\"/>\n     <use style=\"fill:#0000aa;stroke:#0000aa;\" x=\"342.053902\" xlink:href=\"#m0d9a3d9cb9\" y=\"196.936625\"/>\n     <use style=\"fill:#0000aa;stroke:#0000aa;\" x=\"408.756661\" xlink:href=\"#m0d9a3d9cb9\" y=\"145.202434\"/>\n     <use style=\"fill:#0000aa;stroke:#0000aa;\" x=\"390.628117\" xlink:href=\"#m0d9a3d9cb9\" y=\"126.692466\"/>\n     <use style=\"fill:#0000aa;stroke:#0000aa;\" x=\"270.129591\" xlink:href=\"#m0d9a3d9cb9\" y=\"169.800335\"/>\n     <use style=\"fill:#0000aa;stroke:#0000aa;\" x=\"401.604235\" xlink:href=\"#m0d9a3d9cb9\" y=\"158.031041\"/>\n     <use style=\"fill:#0000aa;stroke:#0000aa;\" x=\"63.402775\" xlink:href=\"#m0d9a3d9cb9\" y=\"330.519765\"/>\n     <use style=\"fill:#0000aa;stroke:#0000aa;\" x=\"107.024318\" xlink:href=\"#m0d9a3d9cb9\" y=\"318.517799\"/>\n     <use style=\"fill:#0000aa;stroke:#0000aa;\" x=\"45.844965\" xlink:href=\"#m0d9a3d9cb9\" y=\"284.068587\"/>\n     <use style=\"fill:#0000aa;stroke:#0000aa;\" x=\"159.515872\" xlink:href=\"#m0d9a3d9cb9\" y=\"247.139192\"/>\n    </g>\n   </g>\n   <g id=\"patch_3\">\n    <path d=\"M 230.4 416.817401 \nL 230.4 10.999219 \n\" style=\"fill:none;stroke:#000000;stroke-linecap:square;stroke-linejoin:miter;stroke-width:0.8;\"/>\n   </g>\n   <g id=\"patch_4\">\n    <path d=\"M 453.6 416.817401 \nL 453.6 10.999219 \n\" style=\"fill:none;\"/>\n   </g>\n   <g id=\"patch_5\">\n    <path d=\"M 7.2 213.90831 \nL 453.6 213.90831 \n\" style=\"fill:none;stroke:#000000;stroke-linecap:square;stroke-linejoin:miter;stroke-width:0.8;\"/>\n   </g>\n   <g id=\"patch_6\">\n    <path d=\"M 7.2 10.999219 \nL 453.6 10.999219 \n\" style=\"fill:none;\"/>\n   </g>\n   <g id=\"legend_1\">\n    <g id=\"patch_7\">\n     <path d=\"M 350.157812 48.355469 \nL 446.6 48.355469 \nQ 448.6 48.355469 448.6 46.355469 \nL 448.6 17.999219 \nQ 448.6 15.999219 446.6 15.999219 \nL 350.157812 15.999219 \nQ 348.157812 15.999219 348.157812 17.999219 \nL 348.157812 46.355469 \nQ 348.157812 48.355469 350.157812 48.355469 \nz\n\" style=\"fill:#ffffff;opacity:0.8;stroke:#cccccc;stroke-linejoin:miter;\"/>\n    </g>\n    <g id=\"line2d_31\">\n     <path d=\"M 352.157812 24.097656 \nL 372.157812 24.097656 \n\" style=\"fill:none;stroke:#1f77b4;stroke-linecap:square;stroke-width:1.5;\"/>\n    </g>\n    <g id=\"line2d_32\"/>\n    <g id=\"text_15\">\n     <!-- model -->\n     <defs>\n      <path d=\"M 52 44.1875 \nQ 55.375 50.25 60.0625 53.125 \nQ 64.75 56 71.09375 56 \nQ 79.640625 56 84.28125 50.015625 \nQ 88.921875 44.046875 88.921875 33.015625 \nL 88.921875 0 \nL 79.890625 0 \nL 79.890625 32.71875 \nQ 79.890625 40.578125 77.09375 44.375 \nQ 74.3125 48.1875 68.609375 48.1875 \nQ 61.625 48.1875 57.5625 43.546875 \nQ 53.515625 38.921875 53.515625 30.90625 \nL 53.515625 0 \nL 44.484375 0 \nL 44.484375 32.71875 \nQ 44.484375 40.625 41.703125 44.40625 \nQ 38.921875 48.1875 33.109375 48.1875 \nQ 26.21875 48.1875 22.15625 43.53125 \nQ 18.109375 38.875 18.109375 30.90625 \nL 18.109375 0 \nL 9.078125 0 \nL 9.078125 54.6875 \nL 18.109375 54.6875 \nL 18.109375 46.1875 \nQ 21.1875 51.21875 25.484375 53.609375 \nQ 29.78125 56 35.6875 56 \nQ 41.65625 56 45.828125 52.96875 \nQ 50 49.953125 52 44.1875 \nz\n\" id=\"DejaVuSans-109\"/>\n      <path d=\"M 30.609375 48.390625 \nQ 23.390625 48.390625 19.1875 42.75 \nQ 14.984375 37.109375 14.984375 27.296875 \nQ 14.984375 17.484375 19.15625 11.84375 \nQ 23.34375 6.203125 30.609375 6.203125 \nQ 37.796875 6.203125 41.984375 11.859375 \nQ 46.1875 17.53125 46.1875 27.296875 \nQ 46.1875 37.015625 41.984375 42.703125 \nQ 37.796875 48.390625 30.609375 48.390625 \nz\nM 30.609375 56 \nQ 42.328125 56 49.015625 48.375 \nQ 55.71875 40.765625 55.71875 27.296875 \nQ 55.71875 13.875 49.015625 6.21875 \nQ 42.328125 -1.421875 30.609375 -1.421875 \nQ 18.84375 -1.421875 12.171875 6.21875 \nQ 5.515625 13.875 5.515625 27.296875 \nQ 5.515625 40.765625 12.171875 48.375 \nQ 18.84375 56 30.609375 56 \nz\n\" id=\"DejaVuSans-111\"/>\n      <path d=\"M 45.40625 46.390625 \nL 45.40625 75.984375 \nL 54.390625 75.984375 \nL 54.390625 0 \nL 45.40625 0 \nL 45.40625 8.203125 \nQ 42.578125 3.328125 38.25 0.953125 \nQ 33.9375 -1.421875 27.875 -1.421875 \nQ 17.96875 -1.421875 11.734375 6.484375 \nQ 5.515625 14.40625 5.515625 27.296875 \nQ 5.515625 40.1875 11.734375 48.09375 \nQ 17.96875 56 27.875 56 \nQ 33.9375 56 38.25 53.625 \nQ 42.578125 51.265625 45.40625 46.390625 \nz\nM 14.796875 27.296875 \nQ 14.796875 17.390625 18.875 11.75 \nQ 22.953125 6.109375 30.078125 6.109375 \nQ 37.203125 6.109375 41.296875 11.75 \nQ 45.40625 17.390625 45.40625 27.296875 \nQ 45.40625 37.203125 41.296875 42.84375 \nQ 37.203125 48.484375 30.078125 48.484375 \nQ 22.953125 48.484375 18.875 42.84375 \nQ 14.796875 37.203125 14.796875 27.296875 \nz\n\" id=\"DejaVuSans-100\"/>\n      <path d=\"M 56.203125 29.59375 \nL 56.203125 25.203125 \nL 14.890625 25.203125 \nQ 15.484375 15.921875 20.484375 11.0625 \nQ 25.484375 6.203125 34.421875 6.203125 \nQ 39.59375 6.203125 44.453125 7.46875 \nQ 49.3125 8.734375 54.109375 11.28125 \nL 54.109375 2.78125 \nQ 49.265625 0.734375 44.1875 -0.34375 \nQ 39.109375 -1.421875 33.890625 -1.421875 \nQ 20.796875 -1.421875 13.15625 6.1875 \nQ 5.515625 13.8125 5.515625 26.8125 \nQ 5.515625 40.234375 12.765625 48.109375 \nQ 20.015625 56 32.328125 56 \nQ 43.359375 56 49.78125 48.890625 \nQ 56.203125 41.796875 56.203125 29.59375 \nz\nM 47.21875 32.234375 \nQ 47.125 39.59375 43.09375 43.984375 \nQ 39.0625 48.390625 32.421875 48.390625 \nQ 24.90625 48.390625 20.390625 44.140625 \nQ 15.875 39.890625 15.1875 32.171875 \nz\n\" id=\"DejaVuSans-101\"/>\n      <path d=\"M 9.421875 75.984375 \nL 18.40625 75.984375 \nL 18.40625 0 \nL 9.421875 0 \nz\n\" id=\"DejaVuSans-108\"/>\n     </defs>\n     <g transform=\"translate(380.157812 27.597656)scale(0.1 -0.1)\">\n      <use xlink:href=\"#DejaVuSans-109\"/>\n      <use x=\"97.412109\" xlink:href=\"#DejaVuSans-111\"/>\n      <use x=\"158.59375\" xlink:href=\"#DejaVuSans-100\"/>\n      <use x=\"222.070312\" xlink:href=\"#DejaVuSans-101\"/>\n      <use x=\"283.59375\" xlink:href=\"#DejaVuSans-108\"/>\n     </g>\n    </g>\n    <g id=\"line2d_33\"/>\n    <g id=\"line2d_34\">\n     <g>\n      <use style=\"fill:#0000aa;stroke:#0000aa;\" x=\"362.157812\" xlink:href=\"#m0d9a3d9cb9\" y=\"38.775781\"/>\n     </g>\n    </g>\n    <g id=\"text_16\">\n     <!-- training data -->\n     <defs>\n      <path d=\"M 18.3125 70.21875 \nL 18.3125 54.6875 \nL 36.8125 54.6875 \nL 36.8125 47.703125 \nL 18.3125 47.703125 \nL 18.3125 18.015625 \nQ 18.3125 11.328125 20.140625 9.421875 \nQ 21.96875 7.515625 27.59375 7.515625 \nL 36.8125 7.515625 \nL 36.8125 0 \nL 27.59375 0 \nQ 17.1875 0 13.234375 3.875 \nQ 9.28125 7.765625 9.28125 18.015625 \nL 9.28125 47.703125 \nL 2.6875 47.703125 \nL 2.6875 54.6875 \nL 9.28125 54.6875 \nL 9.28125 70.21875 \nz\n\" id=\"DejaVuSans-116\"/>\n      <path d=\"M 41.109375 46.296875 \nQ 39.59375 47.171875 37.8125 47.578125 \nQ 36.03125 48 33.890625 48 \nQ 26.265625 48 22.1875 43.046875 \nQ 18.109375 38.09375 18.109375 28.8125 \nL 18.109375 0 \nL 9.078125 0 \nL 9.078125 54.6875 \nL 18.109375 54.6875 \nL 18.109375 46.1875 \nQ 20.953125 51.171875 25.484375 53.578125 \nQ 30.03125 56 36.53125 56 \nQ 37.453125 56 38.578125 55.875 \nQ 39.703125 55.765625 41.0625 55.515625 \nz\n\" id=\"DejaVuSans-114\"/>\n      <path d=\"M 34.28125 27.484375 \nQ 23.390625 27.484375 19.1875 25 \nQ 14.984375 22.515625 14.984375 16.5 \nQ 14.984375 11.71875 18.140625 8.90625 \nQ 21.296875 6.109375 26.703125 6.109375 \nQ 34.1875 6.109375 38.703125 11.40625 \nQ 43.21875 16.703125 43.21875 25.484375 \nL 43.21875 27.484375 \nz\nM 52.203125 31.203125 \nL 52.203125 0 \nL 43.21875 0 \nL 43.21875 8.296875 \nQ 40.140625 3.328125 35.546875 0.953125 \nQ 30.953125 -1.421875 24.3125 -1.421875 \nQ 15.921875 -1.421875 10.953125 3.296875 \nQ 6 8.015625 6 15.921875 \nQ 6 25.140625 12.171875 29.828125 \nQ 18.359375 34.515625 30.609375 34.515625 \nL 43.21875 34.515625 \nL 43.21875 35.40625 \nQ 43.21875 41.609375 39.140625 45 \nQ 35.0625 48.390625 27.6875 48.390625 \nQ 23 48.390625 18.546875 47.265625 \nQ 14.109375 46.140625 10.015625 43.890625 \nL 10.015625 52.203125 \nQ 14.9375 54.109375 19.578125 55.046875 \nQ 24.21875 56 28.609375 56 \nQ 40.484375 56 46.34375 49.84375 \nQ 52.203125 43.703125 52.203125 31.203125 \nz\n\" id=\"DejaVuSans-97\"/>\n      <path d=\"M 9.421875 54.6875 \nL 18.40625 54.6875 \nL 18.40625 0 \nL 9.421875 0 \nz\nM 9.421875 75.984375 \nL 18.40625 75.984375 \nL 18.40625 64.59375 \nL 9.421875 64.59375 \nz\n\" id=\"DejaVuSans-105\"/>\n      <path d=\"M 54.890625 33.015625 \nL 54.890625 0 \nL 45.90625 0 \nL 45.90625 32.71875 \nQ 45.90625 40.484375 42.875 44.328125 \nQ 39.84375 48.1875 33.796875 48.1875 \nQ 26.515625 48.1875 22.3125 43.546875 \nQ 18.109375 38.921875 18.109375 30.90625 \nL 18.109375 0 \nL 9.078125 0 \nL 9.078125 54.6875 \nL 18.109375 54.6875 \nL 18.109375 46.1875 \nQ 21.34375 51.125 25.703125 53.5625 \nQ 30.078125 56 35.796875 56 \nQ 45.21875 56 50.046875 50.171875 \nQ 54.890625 44.34375 54.890625 33.015625 \nz\n\" id=\"DejaVuSans-110\"/>\n      <path d=\"M 45.40625 27.984375 \nQ 45.40625 37.75 41.375 43.109375 \nQ 37.359375 48.484375 30.078125 48.484375 \nQ 22.859375 48.484375 18.828125 43.109375 \nQ 14.796875 37.75 14.796875 27.984375 \nQ 14.796875 18.265625 18.828125 12.890625 \nQ 22.859375 7.515625 30.078125 7.515625 \nQ 37.359375 7.515625 41.375 12.890625 \nQ 45.40625 18.265625 45.40625 27.984375 \nz\nM 54.390625 6.78125 \nQ 54.390625 -7.171875 48.1875 -13.984375 \nQ 42 -20.796875 29.203125 -20.796875 \nQ 24.46875 -20.796875 20.265625 -20.09375 \nQ 16.0625 -19.390625 12.109375 -17.921875 \nL 12.109375 -9.1875 \nQ 16.0625 -11.328125 19.921875 -12.34375 \nQ 23.78125 -13.375 27.78125 -13.375 \nQ 36.625 -13.375 41.015625 -8.765625 \nQ 45.40625 -4.15625 45.40625 5.171875 \nL 45.40625 9.625 \nQ 42.625 4.78125 38.28125 2.390625 \nQ 33.9375 0 27.875 0 \nQ 17.828125 0 11.671875 7.65625 \nQ 5.515625 15.328125 5.515625 27.984375 \nQ 5.515625 40.671875 11.671875 48.328125 \nQ 17.828125 56 27.875 56 \nQ 33.9375 56 38.28125 53.609375 \nQ 42.625 51.21875 45.40625 46.390625 \nL 45.40625 54.6875 \nL 54.390625 54.6875 \nz\n\" id=\"DejaVuSans-103\"/>\n      <path id=\"DejaVuSans-32\"/>\n     </defs>\n     <g transform=\"translate(380.157812 42.275781)scale(0.1 -0.1)\">\n      <use xlink:href=\"#DejaVuSans-116\"/>\n      <use x=\"39.208984\" xlink:href=\"#DejaVuSans-114\"/>\n      <use x=\"80.322266\" xlink:href=\"#DejaVuSans-97\"/>\n      <use x=\"141.601562\" xlink:href=\"#DejaVuSans-105\"/>\n      <use x=\"169.384766\" xlink:href=\"#DejaVuSans-110\"/>\n      <use x=\"232.763672\" xlink:href=\"#DejaVuSans-105\"/>\n      <use x=\"260.546875\" xlink:href=\"#DejaVuSans-110\"/>\n      <use x=\"323.925781\" xlink:href=\"#DejaVuSans-103\"/>\n      <use x=\"387.402344\" xlink:href=\"#DejaVuSans-32\"/>\n      <use x=\"419.189453\" xlink:href=\"#DejaVuSans-100\"/>\n      <use x=\"482.666016\" xlink:href=\"#DejaVuSans-97\"/>\n      <use x=\"543.945312\" xlink:href=\"#DejaVuSans-116\"/>\n      <use x=\"583.154297\" xlink:href=\"#DejaVuSans-97\"/>\n     </g>\n    </g>\n   </g>\n  </g>\n </g>\n <defs>\n  <clipPath id=\"pef2a52c145\">\n   <rect height=\"405.818182\" width=\"446.4\" x=\"7.2\" y=\"10.999219\"/>\n  </clipPath>\n </defs>\n</svg>\n",
      "text/plain": "<Figure size 576x576 with 1 Axes>"
     },
     "metadata": {
      "needs_background": "light"
     },
     "output_type": "display_data"
    }
   ],
   "source": [
    "import mglearn\n",
    "mglearn.plots.plot_linear_regression_wave()"
   ]
  },
  {
   "cell_type": "markdown",
   "execution_count": null,
   "metadata": {},
   "outputs": [],
   "source": [
    "Se puede ver que el corte de la línea coincide con $b$, y que la pendiente es $w_0$. Si se compara esta recta con lo que hemos pintado previamente para el regresor kNN, una línea parece una predicción demasiado restrictiva y que el detalle de los datos se pierde. En parte es cierto, y es una asunción muy fuerte el suponer que el objetivo es una combinación lineal de características.\n",
    "\n",
    "Pero no nos dejemos engañar por la visión unidimensional del modelo. **Para datasets con muchas características** los modelos lineales pueden ser muy potentes.\n",
    "\n",
    "Hay diferentes modelos lineales para la regresión. La diferencia está en:\n",
    "\n",
    "  - cómo se aprenden $w$ y $b$ a partir de los datos de entrenamiento\n",
    "  - cómo se controla la complejidad del modelo."
   ]
  },
  {
   "cell_type": "markdown",
   "execution_count": null,
   "metadata": {},
   "outputs": [],
   "source": [
    "### Regresión lineal, alias Ordinary Least Squares (OLS)\n",
    "\n",
    "La regresión lineal OLS es el método más simple y clásico de regresión lineal. Se trata de buscar los parámetros $w$ (también llamado pesos o coeficientes) y $b$ (también llamado *offset* o *intercept*) que minimicen el error cuadrático medio entre predicción y objetivo. No tiene más parámetros, que implica sencillez, pero también menos capacidad para controlar la complejidad del modelo.\n",
    "\n",
    "Éste es el código que produce la gráfica que aparece más arriba:"
   ]
  },
  {
   "cell_type": "code",
   "execution_count": null,
   "metadata": {},
   "outputs": [],
   "source": [
    "from sklearn.linear_model import LinearRegression\n",
    "from sklearn.model_selection import train_test_split\n",
    "# Hacemos un dataset tipo wave con 60 muestras\n",
    "X, y = mglearn.datasets.make_wave(n_samples=60)\n",
    "# Hacemos el split, con un random_state=42\n",
    "X_train, X_test, y_train, y_test = train_test_split(X, y, random_state=42)\n",
    "\n",
    "# Por último, instanciamos y entrenamos el modelo\n",
    "lr = LinearRegression().fit(X_train, y_train)"
   ]
  },
  {
   "cell_type": "markdown",
   "execution_count": null,
   "metadata": {},
   "outputs": [],
   "source": [
    "Scikit-learn almacena siempre los datos derivados del entrenamiento de un modelo en atributos que terminan en guión bajo. En este caso, podemos consultar los pesos y el corte a través de las variables `coef_` y `intercept_`:"
   ]
  },
  {
   "cell_type": "code",
   "execution_count": null,
   "metadata": {},
   "outputs": [],
   "source": [
    "# Muestra ambas variables para el modelo que acabamos de entrenar\n",
    "print(\"lr.coef_:\", lr.coef_) #Así nos dice la pendiente de la recta\n",
    "print(\"lr.intercept_:\", lr.intercept_)"
   ]
  },
  {
   "cell_type": "markdown",
   "execution_count": null,
   "metadata": {},
   "outputs": [],
   "source": [
    "Echemos un vistazo al rendimiento en el training set y el test set a través de $R^{2}$:"
   ]
  },
  {
   "cell_type": "code",
   "execution_count": null,
   "metadata": {},
   "outputs": [],
   "source": [
    "print(\"Training set score: {:.2f}\".format(lr.score(X_train, y_train)))\n",
    "#No quiero ver 100%, el modelo tiene que generalizar bien\n",
    "print(\"Test set score: {:.2f}\".format(lr.score(X_test, y_test)))\n",
    "#No son muy buenos datos, son un poco bajas y tiene pinta de ser un poco underfitting"
   ]
  },
  {
   "cell_type": "markdown",
   "execution_count": null,
   "metadata": {},
   "outputs": [],
   "source": [
    "El $R^2$ de test no es demasiado bueno, pero ambos se parecen.\n",
    "\n",
    "Esto significa que probablemente estamos en una situación de *underfitting*. En este caso de regresión lineal, con una dimensión hay muy poco riesgo de hacer overfitting, ya que el modelo es muy restringido.\n",
    "\n",
    "Con datasets con más características, los modelos lineales son más potentes,  y como consecuencia hay un mayor riesgo de incurrir en *overfitting*. "
   ]
  },
  {
   "cell_type": "markdown",
   "execution_count": null,
   "metadata": {},
   "outputs": [],
   "source": [
    "**Ejercicio**\n",
    "\n",
    "Veamos cómo se comporta OLS sobre un dataset como Boston Housing, que tiene mayor dimensionalidad (106 características). La manera de hacerlo es igual que en una dimensión:"
   ]
  },
  {
   "cell_type": "code",
   "execution_count": null,
   "metadata": {},
   "outputs": [],
   "source": [
    "from sklearn.datasets import load_boston\n",
    "# Cargamos el dataset con la herramienta de carga de Scikit-Learn\n",
    "X, y = mglearn.datasets.load_extended_boston()\n"
   ]
  },
  {
   "cell_type": "code",
   "execution_count": null,
   "metadata": {},
   "outputs": [],
   "source": [
    "# Creamos datasets de entrenamiento y pruebas\n",
    "X_train, X_test, y_train, y_test = train_test_split(X, y, random_state=42)\n",
    "#el random state es como un seed, solo para que a todos nos salga lo mismo, en la realidad no lo usaremos\n",
    "\n",
    "# Entrenamos el modelo\n",
    "lr = LinearRegression().fit(X_train, y_train)"
   ]
  },
  {
   "cell_type": "markdown",
   "execution_count": null,
   "metadata": {},
   "outputs": [],
   "source": [
    "Ahora mostramos el score:"
   ]
  },
  {
   "cell_type": "code",
   "execution_count": null,
   "metadata": {},
   "outputs": [],
   "source": [
    "print(\"Training set score: {:.2f}\".format(lr.score(X_train, y_train)))\n",
    "print(\"Test set score: {:.2f}\".format(lr.score(X_test, y_test)))\n",
    "# Con más datos nos salen mejores scores, pero ojo\" es muy alta el training y más baja en el Test\n",
    "# Es probable que estemos haciendo overfitting\n",
    "# Podríamos introducir parámetros para dar más pesos a determinadas características: es lo que hace Ridge"
   ]
  },
  {
   "cell_type": "markdown",
   "execution_count": null,
   "metadata": {},
   "outputs": [],
   "source": [
    "$R^2$ es ahora bueno en el training set, pero mucho peor en el test set.\n",
    "\n",
    "La discrepancia en el valor de $R^2$ es una señal clara de que hay *overfitting*. Deberíamos buscar un modelo que nos permita algo de control sobre la complejidad."
   ]
  },
  {
   "cell_type": "markdown",
   "execution_count": null,
   "metadata": {},
   "outputs": [],
   "source": [
    "### Regresión contraída, de Tikhonov, o *Ridge*"
   ]
  },
  {
   "cell_type": "markdown",
   "execution_count": null,
   "metadata": {},
   "outputs": [],
   "source": [
    "La regresión *Ridge* usa la misma fórmula que OLS, pero los coeficientes $w$ se eligen de forma que se ajusten a una limitación adicional más allá de ajustarse a los datos.\n",
    "\n",
    "Se persigue además que los diferentes $w_i$ sean lo más pequeños posible.\n",
    "\n",
    "**Pregunta: ¿qué puede significar esto intuitivamente?**\n",
    "\n",
    "Esto significa que cada característica debería tener el menor peso posible sobre el resultado final, que se traduce en una pendiente menor a la vez que ajustándose para hacer una predicción."
   ]
  },
  {
   "cell_type": "markdown",
   "execution_count": null,
   "metadata": {},
   "outputs": [],
   "source": [
    "Esta técnica es un ejemplo de lo que se llama en ML **Regularización**, que es justamente restringir un modelo para evitar el *overfitting*. En particular, *Ridge* realiza una regularización de norma 2 ($L2$).\n",
    "\n",
    "Veamos cómo funciona en el dataset Boston Housing con Scikit-Learn:"
   ]
  },
  {
   "cell_type": "code",
   "execution_count": null,
   "metadata": {},
   "outputs": [],
   "source": [
    "#Es una regresión lineal pero introduciendo un grado de control, regulación L2,\n",
    "# que lo hace es cargarse los pesos que son pequeños y dar más protagonismo a pesos grandes\n",
    "\n",
    "from sklearn.linear_model import Ridge\n",
    "\n",
    "ridge = Ridge().fit(X_train, y_train)\n",
    "print(\"Training set score: {:.2f}\".format(ridge.score(X_train, y_train)))\n",
    "print(\"Test set score: {:.2f}\".format(ridge.score(X_test, y_test)))\n",
    "#Como se ve es mejor el Test, aunque baje un poco el Train, generalizamos mejor entonces\n",
    "# Como en este dataset teníamos muchas caracteristicas,\n",
    "# este tipo es mejor, porque el modelo es menos complejo "
   ]
  },
  {
   "cell_type": "markdown",
   "execution_count": null,
   "metadata": {},
   "outputs": [],
   "source": [
    "**Discutimos los resultados**\n",
    "\n",
    "Vemos que $R^2$ para el training set es más bajo que OLS, mientras que para test es más alto, lo cual es consistente con lo que estábamos esperando ya que antes teníamos una situación de sobreajuste. \n",
    "\n",
    "Ridge es un modelo más constreñido, así que tenemos menos posibilidad de sobreajuste. Aunque el rendimiento en el conjunto de aprendizaje sea peor, **generaliza mejor**.\n",
    "\n",
    "El parámetro de control del modelo por el cual elegimos el balance entre simplicidad y rendimiento en el training set se llama ***alpha***. En el caso anterior se usaba el valor por defecto, $\\alpha=1.0$.\n",
    "\n",
    "El valor óptimo de $\\alpha$ dependerá del dataset particular."
   ]
  },
  {
   "cell_type": "markdown",
   "execution_count": null,
   "metadata": {},
   "outputs": [],
   "source": [
    "**Ejercicio: vuelve a entrenar un Rigde sobre Boston Housing, pasando un valor de alpha = 10, y muestra los valores de $R^2$ para training y test**"
   ]
  },
  {
   "cell_type": "code",
   "execution_count": null,
   "metadata": {},
   "outputs": [],
   "source": [
    "ridge10 = Ridge(alpha=10).fit(X_train, y_train)\n",
    "print(\"Training set score: {:.2f}\".format(\n",
    "    ridge10.score(X_train, y_train)))\n",
    "print(\"Test set score: {:.2f}\".format(\n",
    "    ridge10.score(X_test, y_test)))"
   ]
  },
  {
   "cell_type": "markdown",
   "execution_count": null,
   "metadata": {},
   "outputs": [],
   "source": [
    "**Ejercicio: Haz lo mismo pasando un valor de alpha = 0.1, y muestra los valores de $R^2$ para training y test**"
   ]
  },
  {
   "cell_type": "code",
   "execution_count": 10,
   "metadata": {},
   "outputs": [
    {
     "ename": "NameError",
     "evalue": "name 'Ridge' is not defined",
     "output_type": "error",
     "traceback": [
      "\u001b[0;31m---------------------------------------------------------------------------\u001b[0m",
      "\u001b[0;31mNameError\u001b[0m                                 Traceback (most recent call last)",
      "\u001b[0;32m<ipython-input-10-fd64f1341c19>\u001b[0m in \u001b[0;36m<module>\u001b[0;34m\u001b[0m\n\u001b[0;32m----> 1\u001b[0;31m \u001b[0mridge01\u001b[0m \u001b[0;34m=\u001b[0m \u001b[0mRidge\u001b[0m\u001b[0;34m(\u001b[0m\u001b[0malpha\u001b[0m\u001b[0;34m=\u001b[0m\u001b[0;36m0.1\u001b[0m\u001b[0;34m)\u001b[0m\u001b[0;34m.\u001b[0m\u001b[0mfit\u001b[0m\u001b[0;34m(\u001b[0m\u001b[0mX_train\u001b[0m\u001b[0;34m,\u001b[0m \u001b[0my_train\u001b[0m\u001b[0;34m)\u001b[0m\u001b[0;34m\u001b[0m\u001b[0;34m\u001b[0m\u001b[0m\n\u001b[0m\u001b[1;32m      2\u001b[0m print(\"Training set score: {:.2f}\".format(\n\u001b[1;32m      3\u001b[0m     ridge01.score(X_train, y_train)))\n\u001b[1;32m      4\u001b[0m print(\"Test set score: {:.2f}\".format(\n\u001b[1;32m      5\u001b[0m     ridge01.score(X_test, y_test)))\n",
      "\u001b[0;31mNameError\u001b[0m: name 'Ridge' is not defined"
     ]
    }
   ],
   "source": [
    "ridge01 = Ridge(alpha=0.1).fit(X_train, y_train)\n",
    "print(\"Training set score: {:.2f}\".format(\n",
    "    ridge01.score(X_train, y_train)))\n",
    "print(\"Test set score: {:.2f}\".format(\n",
    "    ridge01.score(X_test, y_test)))\n",
    "# Si comparamos con el anterior, hemso conseguido un poco más de rendimiento\n",
    "# (mejor en el Test, predice mejor) reduciendo el valor de alpha"
   ]
  },
  {
   "cell_type": "markdown",
   "execution_count": null,
   "metadata": {},
   "outputs": [],
   "source": [
    "**Pregunta: ¿qué funciona mejor y cómo podríamos intentar mejorarlo?**\n",
    "\n",
    "$\\alpha=0.1$ funciona mejor, y podríamos intentar decrementar `alpha` aún algo más para ganar en generalización. Lo que se observa claramente es que el parámetro $\\alpha$ tiene una correspondencia con la complejidad del modelo que hemos visto en la presentación. Métodos concretos para seleccionar el parámetro entrarían dentro del campo de la **evaluación y mejora de modelos**."
   ]
  },
  {
   "cell_type": "markdown",
   "execution_count": null,
   "metadata": {},
   "outputs": [],
   "source": [
    "También podemos tener una visión cualitativa más amplia si inspeccionamos cómo cambian los coeficientes con el valor de `alpha`. Recordemos que en Scikit-learn tenemos el valor de estos coeficientes en el atributo `coef_`.\n",
    "\n",
    "Pintamos en un gráfico los coeficientes para los tres valores de $\\alpha$:"
   ]
  },
  {
   "cell_type": "code",
   "execution_count": null,
   "metadata": {},
   "outputs": [],
   "source": [
    "import matplotlib.pyplot as plt\n",
    "\n",
    "plt.plot(ridge.coef_, 's', label=\"Ridge alpha=1\")\n",
    "plt.plot(ridge10.coef_, '^', label=\"Ridge alpha=10\")\n",
    "plt.plot(ridge01.coef_, 'v', label=\"Ridge alpha=0.1\")\n",
    "\n",
    "plt.plot(lr.coef_, 'o', label=\"OLR\")\n",
    "plt.xlabel(\"Indice coef.\")\n",
    "plt.ylabel(\"Magnitud coef.\")\n",
    "xlims = plt.xlim()\n",
    "plt.hlines(0, xlims[0], xlims[1])\n",
    "plt.xlim(xlims)\n",
    "plt.ylim(-25, 25)\n",
    "plt.legend()\n",
    "# A mayor alpha más cercan están de la línea,\n",
    "# dando aun más peso a determinadas carecterísticas respecto a los otros alphas\n",
    "# Teniendo alpha muy alto es más restringido y nos podemos cargar la predicción"
   ]
  },
  {
   "cell_type": "markdown",
   "execution_count": null,
   "metadata": {},
   "outputs": [],
   "source": [
    "**Discusión**\n",
    "\n",
    "El eje $x$ tiene las componentes del vector de coeficientes ($x=0$ es $w_0$, $x=100$ es $w_100$), y el eje $y$ tiene el valor numérico del coeficiente.\n",
    "\n",
    "Un $\\alpha$ más alto significa un modelo más restringido, así que esperamos que las magnitudes de los coeficientes sean menores. Para $\\alpha=10$, vemos que el valor de los coeficientes permanece mayormente en el intervalo $[-3,3]$. Para $\\alpha=1$ los coeficientes son lago más grandes, y para $\\alpha=0.1$ lo son aún más y se ve que muchos de sus datapoints corresponden con el valor de la regresión lineal (que sería $\\alpha=0$) y son tan grandes que se salen de la gráfica.\n",
    "\n"
   ]
  },
  {
   "cell_type": "markdown",
   "execution_count": null,
   "metadata": {},
   "outputs": [],
   "source": [
    "Otra manera de entender la influencia de la regularización es fijar $\\alpha$ e ir cambiando la cantidad de datos en el training dataset. Eso es lo que puede verse en el gráfico que sigue:"
   ]
  },
  {
   "cell_type": "code",
   "execution_count": null,
   "metadata": {},
   "outputs": [],
   "source": [
    "mglearn.plots.plot_ridge_n_samples()\n",
    "# Se ve que la Línea regresión necesita un mínimo de datos, mientras que el Ridge no.\n",
    "# Conclusión: Usaremos Ridge cuando no tengamos una gran cantidad de datos\n",
    "# Se ve que con más datos, baja el rendimiento del training"
   ]
  },
  {
   "cell_type": "markdown",
   "execution_count": null,
   "metadata": {},
   "outputs": [],
   "source": [
    "**Discusión**\n",
    "\n",
    "Como esperábamos, $R^2$ para el traning set es más alto que para el testing set tanto para Ridge como para OLS. Ya que Ridge está regularizado, su $Rˆ2$ en training es más bajo que para OLS independientemente del tamaño del dataset.\n",
    "\n",
    "Sin embargo, su test score es mejor, en particular para datasets más pequeños. Para menos de 400 puntos OLS no aprende nada. En cuanto vamos incrementando la cantidad de datos, se ve que ambos modelos mejoran, y OLS alcanza el rendimiento del Ridge justo al final.\n",
    "\n",
    "La conclusión es que con datasets suficientemente grandes, la regularización pierde importancia, y que ambos Ridge y OLS tiene el mismo rendimiento.\n",
    "\n",
    "Otro aspecto interesante es que el rendimiento de entrenamiento decrece con el aumento de datos para la regresión lineal. Esto implica que cuantos más datos se añaden al modelo, más difícil es que se produzca sobreajuste o que se memoricen los datos."
   ]
  },
  {
   "cell_type": "markdown",
   "execution_count": null,
   "metadata": {},
   "outputs": [],
   "source": [
    "### Regresión LASSO (Least Absolute Shrinkage and Selection Operator)"
   ]
  },
  {
   "cell_type": "markdown",
   "execution_count": null,
   "metadata": {},
   "outputs": [],
   "source": [
    "Lasso es una alternativa a la regresión contraída. Utiliza una técnica similar consistente e reducir los coeficientes a casi cero, pero utilizando regularización $L1$.\n",
    "\n",
    "Cuando se usa $L1$, algunos coeficientes se hacen directamente cero, que implica que algunos coeficientes son ignorados por completo por el modelo.\n",
    "\n",
    "Esto constituye de facto una manera de hacer selección de características, aumentando la interpretabilidad del modelo y poniendo de relieve las características más importantes del mismo.\n",
    "\n",
    "Vamos a aplicar la técnica LASSO al dataset de Boston Housing:"
   ]
  },
  {
   "cell_type": "code",
   "execution_count": null,
   "metadata": {},
   "outputs": [],
   "source": [
    "# Esta es una regulación de nivel 1 (L1), similar a Ridge, pero aún más drástica\n",
    "# Lo vamos a utilizar cuando tenemos la sospecha que algunas características son muy importantes\n",
    "# (y puede que lo sepamos por análisis descriptivos anteriores)\n",
    "\n",
    "from sklearn.linear_model import Lasso\n",
    "\n",
    "lasso = Lasso().fit(X_train, y_train)\n",
    "print(\"Training set score: {:.2f}\".format(\n",
    "    lasso.score(X_train, y_train)))\n",
    "print(\"Test set score: {:.2f}\".format(\n",
    "    lasso.score(X_test, y_test)))\n",
    "\n",
    "# Suma las características que sean distintas de cero\n",
    "print(\"Características usadas:\", np.sum(lasso.coef_ != 0))\n",
    "\n",
    "# funciona muy muy mal y puede ser porque estamos utilizando solo 3 características de 106\n",
    "# habría que probar un valor de alpha diferente"
   ]
  },
  {
   "cell_type": "markdown",
   "execution_count": null,
   "metadata": {},
   "outputs": [],
   "source": [
    "**Discusión**\n",
    "\n",
    "Como puede verse, Lasso ha funcionado bastante mal en ambos sets de datos, lo cual indica que el modelo está subajustando. Esto puede verse porque sólo se han usado 4 características de 105.\n",
    "\n",
    "Al igual que Ridge, Lasso tiene un parámetro $\\alpha$ de regularización que controla cómo de rápido los coeficientes convergen a cero. En el ejemplo anterior, al no ser especificado, se está usando un valor por defecto $\\alpha=1.0$.\n",
    "\n",
    "Para reducir el subajuste, se decrece el valor de $\\alpha$. Cuando se hace esto también hay que incrementar el valor por defecto de `max_iter` (que por defecto es 1000):"
   ]
  },
  {
   "cell_type": "code",
   "execution_count": null,
   "metadata": {},
   "outputs": [],
   "source": [
    "# Decrementamos el valor de alpha a 0.01\n",
    "# Incrementamos el número de \"max_iter\",\n",
    "# De otra forma, el modelo nos advertirá de que deberíamos incrementarlo.\n",
    "lasso001 = Lasso(alpha=0.01, max_iter=100000).fit(\n",
    "    X_train, y_train)\n",
    "print(\"Training set score: {:.2f}\".format(\n",
    "    lasso001.score(X_train, y_train)))\n",
    "print(\"Test set score: {:.2f}\"\n",
    "      .format(lasso001.score(X_test, y_test)))\n",
    "print(\"Características usadas:\",\n",
    "      np.sum(lasso001.coef_ != 0))\n",
    "#Hay una mejora importante, y como se ve ha cogido más características"
   ]
  },
  {
   "cell_type": "markdown",
   "execution_count": null,
   "metadata": {},
   "outputs": [],
   "source": [
    "**Discusión**\n",
    "\n",
    "Un `alpha` más bajo nos permite un ajuste más complejo, que funcionará mejor sobre los datasets de training y test, y el rendimiento es algo mejor que usando Ridge. Estamos usando 33 de 105 características, siendo también el modelo algo menos complicado de entender.\n",
    "\n",
    "Si hiciésemos `alpha` demasiado bajo, eliminaríamos el efecto de la regularización y acabaríamos sobreajustando, con un resultado en consecuencia muy similar al de `LinearRegression`:"
   ]
  },
  {
   "cell_type": "code",
   "execution_count": null,
   "metadata": {},
   "outputs": [],
   "source": [
    "# Probamos con un alpha de 0001\n",
    "lasso0001 = Lasso(alpha=0.0001, max_iter=100000).fit(X_train, y_train)\n",
    "print(\"Training set score: {:.2f}\".format(lasso0001.score(X_train, y_train)))\n",
    "print(\"Test set score: {:.2f}\".format(lasso0001.score(X_test, y_test)))\n",
    "print(\"Características usadas:\", np.sum(lasso0001.coef_ != 0))\n",
    "\n",
    "# Hay mejora en el test, pero el Train es más alto, pero tal vez demasiado, aún así es bueno\n",
    "# Dependerá de otras cosas qué elegir, como el coste computacional económica, por ejemplo."
   ]
  },
  {
   "cell_type": "markdown",
   "execution_count": null,
   "metadata": {},
   "outputs": [],
   "source": [
    "Una vez más, podemos pintar los coeficientes de los modelos anteriores con valores distintos de `alpha`:"
   ]
  },
  {
   "cell_type": "code",
   "execution_count": null,
   "metadata": {},
   "outputs": [],
   "source": [
    "plt.plot(lasso.coef_, 's',\n",
    "         label=\"Lasso alpha=1\")\n",
    "plt.plot(lasso001.coef_, '^',\n",
    "         label=\"Lasso alpha=0.01\")\n",
    "plt.plot(lasso0001.coef_, 'v',\n",
    "         label=\"Lasso alpha=0.0001\")\n",
    "\n",
    "plt.plot(ridge01.coef_, 'o',\n",
    "         label=\"Ridge alpha=0.1\")\n",
    "plt.legend(ncol=2, loc=(0, 1.05))\n",
    "plt.ylim(-25, 25)\n",
    "plt.xlabel(\"Indice del coeficiente\")\n",
    "plt.ylabel(\"Magnitud del coeficiente\")\n",
    "# Como se ve con valor 1, solo hay 3 características fuera de la línea."
   ]
  },
  {
   "cell_type": "markdown",
   "execution_count": null,
   "metadata": {},
   "outputs": [],
   "source": [
    "**Discusión**\n",
    "\n",
    "Para `alpha`=1 se ve que la mayoría de los coeficientes son cero, y que los cuatro restantes son pequeños. Al decrementar `alpha` tenemos la solución marcada con triángulos rojos, que hace que la mayoría de las características sean cero. Con `alpha`=0.0001 nos queda un modelo bastante desregularizado, con la mayoría de los coeficientes distintos de cero y de gran magnitud.\n",
    "\n",
    "El modelo Ridge con `alpha`=0.1 tiene un rendimiento similar al Lasso con `alpha`=0.01, pero con Ridge todos los coeficientes son distintos de cero.\n",
    "\n",
    "En la práctica, la regresión Ridge es la primera opción entre los dos. Sin embargo, si el número de características es alto y se espera que sólo algunas de ellas sean relevantes, Lasso puede ser una mejor elección.\n",
    "\n",
    "De la misma forma, si lo que queremos es tener un modelo fácil de interpretar, Lasso es la opción ya que sólo usa un subconjunto de las características. Scikit-learn da la clase [`ElasticNet`](https://scikit-learn.org/stable/modules/generated/sklearn.linear_model.ElasticNet.html?highlight=elasticnet#sklearn.linear_model.ElasticNet) que combina ambos. En la práctica la combinación funciona mejor, al precio de tener que ajustar dos parámetros: uno para la regularización $L1$ y otro para la $L2$."
   ]
  },
  {
   "cell_type": "markdown",
   "execution_count": null,
   "metadata": {},
   "outputs": [],
   "source": [
    "## Lab 3 - Modelos lineales de clasificación"
   ]
  },
  {
   "cell_type": "markdown",
   "execution_count": null,
   "metadata": {},
   "outputs": [],
   "source": [
    "\\begin{align*}\n",
    "\\end{align*} Para empezar, apliquemos los modelos `LogisticRegression` y `LinearSVC` al dataset modelo `forge`, y visualicemos el límite de decisión para ambos: "
   ]
  },
  {
   "cell_type": "code",
   "execution_count": 11,
   "metadata": {},
   "outputs": [
    {
     "ename": "NameError",
     "evalue": "name 'plt' is not defined",
     "output_type": "error",
     "traceback": [
      "\u001b[0;31m---------------------------------------------------------------------------\u001b[0m",
      "\u001b[0;31mNameError\u001b[0m                                 Traceback (most recent call last)",
      "\u001b[0;32m<ipython-input-11-4969847c83af>\u001b[0m in \u001b[0;36m<module>\u001b[0;34m\u001b[0m\n\u001b[1;32m      6\u001b[0m \u001b[0mX\u001b[0m\u001b[0;34m,\u001b[0m \u001b[0my\u001b[0m \u001b[0;34m=\u001b[0m \u001b[0mmglearn\u001b[0m\u001b[0;34m.\u001b[0m\u001b[0mdatasets\u001b[0m\u001b[0;34m.\u001b[0m\u001b[0mmake_forge\u001b[0m\u001b[0;34m(\u001b[0m\u001b[0;34m)\u001b[0m\u001b[0;34m\u001b[0m\u001b[0;34m\u001b[0m\u001b[0m\n\u001b[1;32m      7\u001b[0m \u001b[0;34m\u001b[0m\u001b[0m\n\u001b[0;32m----> 8\u001b[0;31m \u001b[0mfig\u001b[0m\u001b[0;34m,\u001b[0m \u001b[0maxes\u001b[0m \u001b[0;34m=\u001b[0m \u001b[0mplt\u001b[0m\u001b[0;34m.\u001b[0m\u001b[0msubplots\u001b[0m\u001b[0;34m(\u001b[0m\u001b[0;36m1\u001b[0m\u001b[0;34m,\u001b[0m \u001b[0;36m2\u001b[0m\u001b[0;34m,\u001b[0m \u001b[0mfigsize\u001b[0m\u001b[0;34m=\u001b[0m\u001b[0;34m(\u001b[0m\u001b[0;36m10\u001b[0m\u001b[0;34m,\u001b[0m \u001b[0;36m3\u001b[0m\u001b[0;34m)\u001b[0m\u001b[0;34m)\u001b[0m\u001b[0;34m\u001b[0m\u001b[0;34m\u001b[0m\u001b[0m\n\u001b[0m\u001b[1;32m      9\u001b[0m \u001b[0;34m\u001b[0m\u001b[0m\n\u001b[1;32m     10\u001b[0m for model, ax in zip([LinearSVC(max_iter=10000),\n",
      "\u001b[0;31mNameError\u001b[0m: name 'plt' is not defined"
     ]
    }
   ],
   "source": [
    "# Importamos paquetes\n",
    "from sklearn.linear_model import LogisticRegression\n",
    "from sklearn.svm import LinearSVC\n",
    "\n",
    "# Importamos forge dataset\n",
    "X, y = mglearn.datasets.make_forge()\n",
    "\n",
    "fig, axes = plt.subplots(1, 2, figsize=(10, 3))\n",
    "\n",
    "for model, ax in zip([LinearSVC(max_iter=10000),\n",
    "                      LogisticRegression(\n",
    "                          solver='liblinear')], axes):\n",
    "    clf = model.fit(X, y)\n",
    "    mglearn.plots.plot_2d_separator(\n",
    "        clf, X, fill=False, eps=0.5,\n",
    "        ax=ax, alpha=.7)\n",
    "    mglearn.discrete_scatter(X[:, 0], X[:, 1], y, ax=ax)\n",
    "    ax.set_title(clf.__class__.__name__)\n",
    "    ax.set_xlabel(\"Característica 0\")\n",
    "    ax.set_ylabel(\"Característica 1\")\n",
    "axes[0].legend()\n",
    "#Se ve que hay dos outliers, pero el modelo funciona bien en general en los dos casos"
   ]
  },
  {
   "cell_type": "markdown",
   "execution_count": null,
   "metadata": {},
   "outputs": [],
   "source": [
    "Puede verse que el límite de decisión es una línea recta que separa ambas clases. Cualquier punto encima de la línea será clasificado como perteneciente a la clase 1, mientras que puntos por debajo lo serán como clase 0.\n",
    "\n",
    "Los dos límites son similares, y en ambos casos los algoritmos están utilizando regularización $L2$, que es lo mismo que hacía Ridge en el apartado anterior.\n",
    "\n",
    "El parámetro que determina la fuerza de regularización en ambos casos se llama $C$, donde valores altos de $C$ corresponden a una menor regularización. Es decir, con un valor alto de $C$ ambos modelos intentarán ajustarse a los datos de training lo mejor posible, mientras que con un valor bajo los modelos se centrarán en encontrar un vector coeficientes $w$ cercano a cero.\n",
    "\n",
    "El efecto de diferentes valores de C en `LinearSCV` puede verse en los siguientes tres gráficos:"
   ]
  },
  {
   "cell_type": "code",
   "execution_count": null,
   "metadata": {},
   "outputs": [],
   "source": [
    "mglearn.plots.plot_linear_svc_regularization()\n",
    "#Vamos a cambair el parámetro C, que es un regularización L2\n",
    "# Si sube C, ajustamos más al Training entonces los pesos son más importantes y afectan más a la separación\n",
    "# si bajamos C, se reduce la importancia que tienen los pesos de las características"
   ]
  },
  {
   "cell_type": "markdown",
   "execution_count": null,
   "metadata": {},
   "outputs": [],
   "source": [
    "El el gráfico de la izquierda, tenemos un valor de $C$ muy pequeño correspondiente a una alta regularización. El modelo fuertemente regularizado elige una linea relativamente horizontal, errando en la clasificación de 2 puntos.\n",
    "\n",
    "El gráfico central inclina la línea hacia el otro lado, y se ve que el modelo se enfoca más en los dos puntos incorrectamente clasificados.\n",
    "\n",
    "Finalmente, en el gráfico de la derecha, el valor alto de $C$ hace que el límite de decisión se incline mucho, clasificando correctamente todos los puntos de la clase 0. Uno de los puntos de la clase 1 permanece incorrectamente clasificado, pero no es posible hacerlo mejor con un límite lineal. Este último modelo está sobreajustando los datos de entrenamiento.\n",
    "\n",
    "Al igual que en el caso de regresión, los modelos de clasificación lineal pueden parecer muy limitados en espacios de bajas dimensiones. Sin embargo, son más potentes en dimensiones más altas y protegen bien contra el sobreajuste cuando se consideran más características.\n",
    "\n",
    "Veamos cómo se comporta la regresión logística en el dataset de cáncer de mama:"
   ]
  },
  {
   "cell_type": "code",
   "execution_count": null,
   "metadata": {},
   "outputs": [],
   "source": [
    "from sklearn.datasets import load_breast_cancer\n",
    "cancer = load_breast_cancer()\n",
    "X_train, X_test, y_train, y_test = train_test_split(\n",
    "    cancer.data, cancer.target,\n",
    "    stratify=cancer.target, random_state=42) #stratify para equilibrar los con o sin cancer\n",
    "logreg = LogisticRegression(solver='liblinear').fit(\n",
    "    X_train, y_train)\n",
    "print(\"Training set score: {:.3f}\"\n",
    "      .format(logreg.score(X_train, y_train)))\n",
    "print(\"Test set score: {:.3f}\"\n",
    "      .format(logreg.score(X_test, y_test)))\n",
    "# El rendimiento es muy bueno, pero de ambos, entonces habría que comprobar varias cosas con parámetros"
   ]
  },
  {
   "cell_type": "markdown",
   "execution_count": null,
   "metadata": {},
   "outputs": [],
   "source": [
    "Un valor de $C=1$ da un rendimiento bastante bueno, con un 95% de precisión en ambos datasets. Pero si ambos están muy próximos, es posible que estemos subajustando. Vamos a incrementar el valor de $C$ buscando un modelo con más flexibilidad hacia los datos de entrenamiento:"
   ]
  },
  {
   "cell_type": "code",
   "execution_count": null,
   "metadata": {},
   "outputs": [],
   "source": [
    "logreg100 = LogisticRegression(\n",
    "    solver='liblinear',C=100).fit(X_train, y_train)\n",
    "print(\"Training set score: {:.3f}\".format(\n",
    "    logreg100.score(X_train, y_train)))\n",
    "print(\"Test set score: {:.3f}\".format(\n",
    "    logreg100.score(X_test, y_test)))\n",
    "\n",
    "# Es muy parecido, ha subido un poco, eso quiere decir que nos hemos perdido algo aprendiendo más del training"
   ]
  },
  {
   "cell_type": "markdown",
   "execution_count": null,
   "metadata": {},
   "outputs": [],
   "source": [
    "Con $C=100$ tenemos más precisión en el dataset de entrenamiento, y también un poco más en el de test, lo que confirma nuestra intuición de que un modelo más complejo debería comportarse mejor.\n",
    "\n",
    "Podemos investigar también qué ocurre si usamos un modelo aún más regularizado que el suministrado por defecto, haciendo que $C=0.01$:"
   ]
  },
  {
   "cell_type": "code",
   "execution_count": null,
   "metadata": {},
   "outputs": [],
   "source": [
    "# Prueba con C=0.01 \n",
    "logreg001 = LogisticRegression(\n",
    "    solver='liblinear', C=0.01).fit(X_train, y_train)\n",
    "print(\"Training set score: {:.3f}\".format(\n",
    "    logreg001.score(X_train, y_train)))\n",
    "print(\"Test set score: {:.3f}\".format(\n",
    "    logreg001.score(X_test, y_test)))\n",
    "# Es muy parecido, pero ha bajado un poco, también es lógico porque hemos dado menor importancia a los pesos."
   ]
  },
  {
   "cell_type": "markdown",
   "execution_count": null,
   "metadata": {},
   "outputs": [],
   "source": [
    "Como era de esperar, moverse más en la escala de $C$ desde un modelo que ya desajustaba lo que hace es reducir la precisión con respecto a los valores de $C$ por defecto.\n",
    "\n",
    "Finalmente, echemos un vistazo al os coeficientes aprendidos por el modelo con tres valores diferentes de $C$:"
   ]
  },
  {
   "cell_type": "code",
   "execution_count": null,
   "metadata": {},
   "outputs": [],
   "source": [
    "plt.plot(logreg.coef_.T, 'o', label=\"C=1\")\n",
    "plt.plot(logreg100.coef_.T, '^', label=\"C=100\")\n",
    "plt.plot(logreg001.coef_.T, 'v', label=\"C=0.001\")\n",
    "plt.xticks(range(cancer.data.shape[1]),\n",
    "           cancer.feature_names, rotation=90)\n",
    "xlims = plt.xlim()\n",
    "plt.hlines(0, xlims[0], xlims[1])\n",
    "plt.xlim(xlims)\n",
    "plt.ylim(-5, 5)\n",
    "plt.xlabel(\"Característica\")\n",
    "plt.ylabel(\"Magnitud del coeficiente\")\n",
    "plt.legend()\n",
    "\n",
    "# se ve que Texture error y Mean radius son dos características importantes para\n",
    "# predecir si una persona tiene cancer, y luego están\n",
    "# worst concavity, worst compactness, también influyen pero menos.\n",
    "# Si miramos a Mean perimeter, hay que tener cuidado!, porque cambiando el C, puede ser positivo o negativo,\n",
    "# es decir pueden decir que tiene cancer o no y esto influencia en el modelo.\n",
    "# Este modelo es menos interpretable, si lo que queremos interpretar mejor debemos ir\n",
    "# a una regularización L1 (porque se cargan características) con la que puedes interpretar más cosas."
   ]
  },
  {
   "cell_type": "markdown",
   "execution_count": null,
   "metadata": {},
   "outputs": [],
   "source": [
    "`LogisticRegression` aplica una regularización tipo $L2$ por defecto, y por lo tanto sus resultados son parecidos a los que se obtenían con la regresión Ridge más arriba. Una regularización más fuerte aproxima más los coeficientes a cero, aunque estos nunca llegan a anularse.\n",
    "\n",
    "Si se miran los puntos en el gráfico con más detalle, se ven un efecto interesante en el tercer coeficiente, `mean perimeter`. Para $C=100$ y $C=1$, el coeficiente es negativo mientras que para $C=0.001$ es positivo, con una magnitud que es incluso mayor que para $C=1$. \n",
    "\n",
    "Al interpretar un modelo como este, uno puede pensar que el coeficiente nos dice la clase a la que está asociada una característica. Por ejemplo, se podría pensar que grandes magnitudes de `texture error` están relacionadas con que una muestra sea maligna. Sin embargo, el cambio de signo `mean perimeter` significa que dependiendo del modelo en el que nos enfoquemos, un valor alto de `mean perimeter` podría ser tanto un indicativo de benigno como de maligno.\n",
    "\n",
    "La conclusión es que las interpretaciones de los coeficientes en los modelos lineales no pueden realizarse a la ligera.\n",
    "\n",
    "Si quisiésemos tener un modelo más fácilmente interpretable, una regularización de tipo $L1$ ayuda, ya que limita al modelo a usar sólo algunas características. He aquí un gráfico de los coeficientes y las precisiones para un modelo $L1$:"
   ]
  },
  {
   "cell_type": "code",
   "execution_count": null,
   "metadata": {},
   "outputs": [],
   "source": [
    "for C, marker in zip([0.001, 1, 100], ['o', '^', 'v']):\n",
    "    lr_l1 = LogisticRegression(\n",
    "        max_iter=100000, C=C, solver='liblinear', penalty=\"l1\"\n",
    "    ).fit(X_train, y_train)\n",
    "    print(\"Precisión (Training) para Logistic Reg. L1 con C={:.3f}: {:.2f}\".format(\n",
    "          C, lr_l1.score(X_train, y_train)))\n",
    "    print(\"Precisión (Test) para Logistic Reg. L1 con C={:.3f}: {:.2f}\".format(\n",
    "          C, lr_l1.score(X_test, y_test)))\n",
    "    plt.plot(lr_l1.coef_.T, marker, label=\"C={:.3f}\".format(C))\n",
    "\n",
    "plt.xticks(\n",
    "    range(cancer.data.shape[1]), cancer.feature_names, rotation=90)\n",
    "xlims = plt.xlim()\n",
    "plt.hlines(0, xlims[0], xlims[1])\n",
    "plt.xlim(xlims)\n",
    "plt.xlabel(\"Característica\")\n",
    "plt.ylabel(\"Magnitud del coeficiente\")\n",
    "\n",
    "#Aquí podemos ver más claramente las características que más afectan a la precisión, es mucho más interpretable\n",
    "\n",
    "plt.ylim(-5, 5)\n",
    "plt.legend(loc=3)"
   ]
  },
  {
   "cell_type": "markdown",
   "execution_count": null,
   "metadata": {},
   "outputs": [],
   "source": [
    "Como puede verse, hay muchos paralelismos entre los modelos lineales de clasificación binaria y los de regresión. Como en la regresión la diferencia fundamental entre modelos es el parámetro de penalización, que influencia la regularización y si el modelo usa todas o sólo una parte de las características."
   ]
  },
  {
   "cell_type": "markdown",
   "execution_count": null,
   "metadata": {},
   "outputs": [],
   "source": [
    "### Modelos lineales de clasificación multiclase\n",
    "\\begin{align*}\n",
    "\\end{align*}\n",
    "Muchos modelos de clasificación lineal sólo funcionan con clasificaciones binarias, y no extienden a clasificación multicategoría (la regresión logística es una excepción).\n",
    "\n",
    "Para poder extender modelos binarios a un escenario multiclase, una técnica empleada con frecuencia es realizar una serie de entrenamientos *one-vs-rest*. Con esta técnica, se entrena un modelo binario para cada clase frente al resto, resultando en tantos modelos binario como clases haya. Para hacer una predicción, tendrán que ejecutarse todos los clasificadores binarios sobre la muestra en cuestión. El clasificador que tenga el score más alto marca cuál es la clase devuelta como resultado de la predicción.\n",
    "\n",
    "![one-vs-rest](images/one-vs-rest.jpeg)"
   ]
  },
  {
   "cell_type": "markdown",
   "execution_count": null,
   "metadata": {},
   "outputs": [],
   "source": [
    "Como ya se ha mencionado en la presentación, la regresión logística multiclase es diferente matemáticamente de la aproximación *one-vs-rest*, pero también se obtiene como resultado  un vector de coeficientes y un término $b$ por clase, con lo que se usa el mismo métdo para hacer la predicción de un coeficiente.\n",
    "\n",
    "Vamos a aplicar la técnica *one-vs-rest* a un dataset sencillo con tres clases. Usamos aquí un dataset bidimensional, al que cada clase se obtiene a partir de datos de una distribución normal:"
   ]
  },
  {
   "cell_type": "code",
   "execution_count": null,
   "metadata": {},
   "outputs": [],
   "source": [
    "from sklearn.datasets import make_blobs\n",
    "\n",
    "X, y = make_blobs(random_state=42)\n",
    "mglearn.discrete_scatter(X[:, 0], X[:, 1], y)\n",
    "plt.xlabel(\"Característica 0\")\n",
    "plt.ylabel(\"Característica 1\")\n",
    "plt.legend([\"Clase 0\", \"Clase 1\", \"Clase 2\"])"
   ]
  },
  {
   "cell_type": "markdown",
   "execution_count": null,
   "metadata": {},
   "outputs": [],
   "source": [
    "Con estos datos, entrenamos un modelo `LinearSVC`:"
   ]
  },
  {
   "cell_type": "code",
   "execution_count": null,
   "metadata": {},
   "outputs": [],
   "source": [
    "# Instanciamos un modelo LinearSCV\n",
    "linear_svm = LinearSVC().fit(X, y)\n",
    "print(\"dimensiones coeficientes: \", linear_svm.coef_.shape)\n",
    "print(\"Dimensiones término b: \", linear_svm.intercept_.shape)\n",
    "# Nos muestra que hay tres hiperplanos para diferenciar los grupos"
   ]
  },
  {
   "cell_type": "markdown",
   "execution_count": null,
   "metadata": {},
   "outputs": [],
   "source": [
    "`coef_` tiene dimensiones (3,2), 3 filas y dos columnas, lo que significa que cada fila contieneel vector de coeficientes de cada clase, y las columnas el valor del coeficiente para una de las dos características presentes. El término `intercept` es un array unidimensional (vector), con la $b$ de cada clase.\n",
    "\n",
    "Visualicemos las lineas frontera para cada clasificador binario:"
   ]
  },
  {
   "cell_type": "code",
   "execution_count": null,
   "metadata": {},
   "outputs": [],
   "source": [
    "mglearn.discrete_scatter(X[:, 0], X[:, 1], y)\n",
    "# Creamos puntos en una línea en el intervalo [-15, 15]\n",
    "line = np.linspace(-15, 15)\n",
    "\n",
    "# Iteramos para pintar las lineas con colores distintos\n",
    "for coef, intercept, color in zip(\n",
    "    linear_svm.coef_, linear_svm.intercept_, mglearn.cm3.colors):\n",
    "    plt.plot(line, -(line * coef[0] + intercept) / coef[1], c=color)\n",
    "plt.ylim(-10, 15)\n",
    "plt.xlim(-10, 8)\n",
    "plt.xlabel(\"Característica 0\")\n",
    "plt.ylabel(\"Característica 1\")\n",
    "plt.legend(['Clase 0', 'Clase 1', 'Clase 2', 'Linea clase 0', 'Linea clase 1',\n",
    "            'Linea clase 2'], loc=(1.01, 0.3))\n",
    "# Se ven las fronteras de decisión de las clases"
   ]
  },
  {
   "cell_type": "markdown",
   "execution_count": null,
   "metadata": {},
   "outputs": [],
   "source": [
    "Puede verse que las muestras de clase 0 están por encima de la línea de clase 0, que significa que están en el lado \"clase 0\" de este clasificador binario. Estas muestras también están por necima de la línea de la clase 2, que significa que están clasificadas como \"resto\" por el clasificador binario de la clase 2. Por último, también están a la izquierda de la línea de la clase 1, qe significa que el clasificador binario de la clase 1 también los clasifica como \"resto\".\n",
    "\n",
    "Cualquier punto en este área será clasificado como Clase 0 por el clasificador final pero, ¿qué ocurre con el triángulo en mitad de la gráfica? Los tres clasificadores clasifican las muestras en este área como \"resto\", así que la clase correspondiente a una muestra aquí será la que tenga el valor más alto en la fórmula de clasificación, que es la que corresponde a la línea de clase más cercana.\n",
    "\n",
    "Para ilustrarlo, hagamos la predicción para todos los puntos de este espacio bidimensional:"
   ]
  },
  {
   "cell_type": "code",
   "execution_count": null,
   "metadata": {},
   "outputs": [],
   "source": [
    "mglearn.plots.plot_2d_classification(linear_svm, X, fill=True, alpha=.7)\n",
    "mglearn.discrete_scatter(X[:, 0], X[:, 1], y)\n",
    "line = np.linspace(-15, 15)\n",
    "for coef, intercept, color in zip(linear_svm.coef_, linear_svm.intercept_,\n",
    "                                  mglearn.cm3.colors):\n",
    "    plt.plot(line, -(line * coef[0] + intercept) / coef[1], c=color)\n",
    "plt.legend(['Clase 0', 'Clase 1', 'Clase 2', 'Linea clase 0', 'Linea clase 1',\n",
    "            'Linea clase 2'], loc=(1.01, 0.3))\n",
    "plt.xlabel(\"Característica 0\")\n",
    "plt.ylabel(\"Característica 1\")"
   ]
  },
  {
   "cell_type": "markdown",
   "execution_count": null,
   "metadata": {},
   "outputs": [],
   "source": [
    "## Lab 4 - Clasificadores Naive Bayes\n",
    "\n",
    "\n",
    "Un clasificador Naive Bayes tipo Bernoulli cuenta con qué frecuencia las características de cada clase son distintas de cero. Para entenderlo bien, veamos un ejemplo:"
   ]
  },
  {
   "cell_type": "code",
   "execution_count": null,
   "metadata": {},
   "outputs": [],
   "source": [
    "# Crear un array X de 4x4 con ceros y unos aleatoriamente\n",
    "X = np.array([[0, 1, 0, 1],\n",
    "              [1, 0, 1, 1],\n",
    "              [0, 0, 0, 1],\n",
    "              [1, 0, 1, 0]])\n",
    "# Crear un array y de 1x4 con las etiquetas (ceros y unos)\n",
    "y = np.array([0, 1, 0, 1])"
   ]
  },
  {
   "cell_type": "markdown",
   "execution_count": null,
   "metadata": {},
   "outputs": [],
   "source": [
    "Tenemos cuatro muestras con cuatro características binarias cada una de ellas. Hay dos clases, 0 y 1. Para la clase 0 (primera y tercera muestra) la primera característica es 0 veces, y distinta de cero ninguna, la segunda característica es 0 una vez y distinta de 0 otra, y así sucesivamente.\n",
    "\n",
    "El mismo tipo de conteo se realiza para las muestras en la segunda clase. Contar las entradas distintas de cero por clase tiene esta pinta:"
   ]
  },
  {
   "cell_type": "code",
   "execution_count": null,
   "metadata": {},
   "outputs": [],
   "source": [
    "# Contar tipo de características\n",
    "counts = {}\n",
    "for label in np.unique(y):\n",
    "    # iterate over each class\n",
    "    # count (sum) entries of 1 per feature\n",
    "    counts[label] = X[y == label].sum(axis=0)\n",
    "print(\"Feature counts:\\n\", counts)"
   ]
  },
  {
   "cell_type": "code",
   "execution_count": null,
   "metadata": {},
   "outputs": [],
   "source": [
    "# Importar BernoulliNB, instanciar y entrenar\n",
    "from sklearn.naive_bayes import BernoulliNB\n",
    "clf = BernoulliNB()\n",
    "clf.fit(X,y)"
   ]
  },
  {
   "cell_type": "code",
   "execution_count": null,
   "metadata": {},
   "outputs": [],
   "source": [
    "# Probar una predicción\n",
    "print(clf.predict([[1,1,1,0]]))\n",
    "\n",
    "# Para números con datos binarios (0 y 1) es mejor Bernoulli, para textos(ej.SPAM) es mejor otros como Multinomial."
   ]
  },
  {
   "cell_type": "markdown",
   "execution_count": null,
   "metadata": {},
   "outputs": [],
   "source": [
    "Para hacer una predicción, la muestra suministrada se compara con la estadística de cada una de las clases, y el resultado es la mejor correspondencia.\n",
    "\n",
    "En el caso de `MultinomialNB` y `GaussianNB`, utilizan parámetros estadísticos diferentes. `MultinomialNB` considera el valor medio de cada característica para cada clase, mientras que `GaussianNB` almacena el valor medio y la desviación estándar de cada característica para cada clase.\n",
    "\n",
    "Al hacer una predicción, tanto para `MultinomialNB` como para `BernoulliNB` llegamos a una fórmula de predicción que es similar a la de los modelos lineales."
   ]
  },
  {
   "cell_type": "markdown",
   "execution_count": null,
   "metadata": {},
   "outputs": [],
   "source": [
    "## Lab 5 - Árboles de decisión"
   ]
  },
  {
   "cell_type": "markdown",
   "execution_count": null,
   "metadata": {},
   "outputs": [],
   "source": [
    "### Construcción de árboles de decisión\n",
    "Usemos ahora el método `make_moons` de Scikit-Learn para ilustrar gráficamente con un dataset de más puntos la construcción de un árbol de decisión, que también nos ayudará a revelar algunas de sus características:"
   ]
  },
  {
   "cell_type": "code",
   "execution_count": null,
   "metadata": {},
   "outputs": [],
   "source": [
    "mglearn.plots.plot_tree_progressive()"
   ]
  },
  {
   "cell_type": "markdown",
   "execution_count": null,
   "metadata": {},
   "outputs": [],
   "source": [
    "\n",
    "Se repite el particionado recursivo de datos hasta que cada región, que coincide con un hoja del árbol, sólo contiene una variable objetivo (una sola clase o un sólo valor de regresión).\n",
    "\n",
    "Para realizar una predicción sobre una nueva muestra, se mira en qué región cae. La predicción mayoritaria ahí es la que determina el valor de la predición. El mismo proceso se sigue si se recorre el árbol desde la raíz y yendo a izqda o derecha dependiendo del cumplimiento de la condición expresada en el nodo."
   ]
  },
  {
   "cell_type": "markdown",
   "execution_count": null,
   "metadata": {},
   "outputs": [],
   "source": [
    "### Control de la precisión de los árboles de decisión\n",
    "\n",
    "Todo este proceso, como puede intuirse, conduce a la construcción de árboles que son complejos y que sobreajustan mucho los datos de entrenamiento. El hecho de que existan hojas puras indica que el árbol es 100% preciso sobre el training set: cada punto de datos del mismo es una hoja que contiene a la clase mayoritaria correcta. Este sobreajuste se apreciaba bien en la figura anterior (áreas verticales finas de una clase en mitad de un área más grande de la otra clase).\n",
    "\n",
    "El tipo de fronteras de decisión así configuradas no es de la clase que uno se esperaría encontrar; hay demasiado foco en outliers y poco en elaborar un borde con un buen grado de generalización.\n",
    "\n",
    "Dos de las estrategias más comunes para evitar el sobreajuste son:\n",
    "\n",
    " - **Pre-prunning**: consiste en parar anticipadamente la construcción del árbol, por ejemplo limitando la profundidad máxima del árbol, el número máximo de hojas, o requerir la presencia de un número mínimo de muestras en un nodo para poder seguir adelante.\n",
    " - **Post-prunning**, o simplemente **prunning**: consiste en construir el árbol completo, pero eliminar posteriormente nodos que contienen poca información.\n",
    "\n",
    "Los árboles de decisión se implementan en Scikit-Learn con las clases `DecisionTreeRegressor` y `DecisionTreeClassifier`. classes. Scikit-learn sólo implementa estrategias de pre-pruning.\n",
    "\n",
    "\n",
    "Vamos a echar un vistazo al efecto del pre-prunning en más detalle en nuestro dataset de cáncer de mama. En principio, usamos la configuración por defecto para construir el árbol completo, que implica su crecimiento hasta que todas las hojas son puras."
   ]
  },
  {
   "cell_type": "code",
   "execution_count": null,
   "metadata": {},
   "outputs": [],
   "source": [
    "# Importar un DecisionTreeClassifier desde el módulo tree\n",
    "from sklearn.tree import DecisionTreeClassifier\n",
    "from sklearn.datasets import load_breast_cancer\n",
    "\n",
    "# Cargar el Breast Cancer Dataset\n",
    "cancer = load_breast_cancer()\n",
    "\n",
    "# Partir el dataset alrededor del target\n",
    "X_train, X_test, y_train, y_test = train_test_split(cancer.data, cancer.target, stratify = cancer.target,\n",
    "                                                    random_state = 42)\n",
    "\n",
    "# Instanciar un modelo y entrenarlo\n",
    "tree = DecisionTreeClassifier(random_state = 42)\n",
    "tree.fit(X_train, y_train)\n",
    "\n",
    "# Evaluarlo\n",
    "print(\"Precisión en el training set: {:.3f}\".format(tree.score(X_train, y_train)))\n",
    "print(\"Precisión en el test set: {:.3f}\".format(tree.score(X_test, y_test)))\n",
    "\n",
    "# Se ve que hace un overfitting total, entonces vamos a limitar esto haciendo un pre-running"
   ]
  },
  {
   "cell_type": "markdown",
   "execution_count": null,
   "metadata": {},
   "outputs": [],
   "source": [
    "Como esperábamos, la precisión sobre el training set es del 100%. Ya que todas las hojas son puras, el modelo ha memorizado todos los datos. La precisión sobre el test set es un poco peor que en los modelos lineales que ya hemos visto, en los que alcanzábamos alrededor del 95%.\n",
    "\n",
    "Si no restringiesemos la profundidad, el árbol se volvería innecesariamente profundo y complejo, y eso no generalizaría bien los datos. Si hacemos pre-prunning, pararemos el desarrollo del árbol antes de que los datos se memoricen.\n",
    "\n",
    "Una de las opciones que hemos comentado es limitar la profundidad máxima. Vamos a fijar el parámetro max_depth=4, haciendo que sólo se hagan cuatro decisiones. La precisión de entrenamiento bajará, sin duda, pero a cambio de un incremento de la precisión en test:"
   ]
  },
  {
   "cell_type": "code",
   "execution_count": null,
   "metadata": {},
   "outputs": [],
   "source": [
    "tree = DecisionTreeClassifier(max_depth=4, random_state=0) #Aquí ponemos 4 árboles\n",
    "tree.fit(X_train, y_train)\n",
    "\n",
    "print(\"Precisión en el training set: {:.3f}\"\n",
    "      .format(tree.score(X_train, y_train)))\n",
    "print(\"Precisión en el test set: {:.3f}\"\n",
    "      .format(tree.score(X_test, y_test)))\n",
    "\n",
    "# Parece que merece la pena aunque parezca poco, además que es bueno cortar el árbol"
   ]
  },
  {
   "cell_type": "markdown",
   "execution_count": null,
   "metadata": {},
   "outputs": [],
   "source": [
    "### Análisis de los árboles de decisión\n",
    "\n",
    "Podemos visualizar el árbol utilizando la función `export_graphviz` incluida en el módulo `tree`. Esta función graba el árbol en un fichero de tipo `.dot`, que es un formato texto para describir árboles.\n",
    "\n",
    "Usamos una opción para colorear los nodos para reflejar la clase mayoritaria en cada uno y le pasamos los nombres de clases y caracterísitcas:"
   ]
  },
  {
   "cell_type": "code",
   "execution_count": null,
   "metadata": {},
   "outputs": [],
   "source": [
    "from sklearn.tree import export_graphviz\n",
    "export_graphviz(tree, out_file=\"tree.dot\", \n",
    "                class_names=[\"maligno\", \"benigno\"],\n",
    "                feature_names=cancer.feature_names,\n",
    "                impurity=False, filled=True)"
   ]
  },
  {
   "cell_type": "markdown",
   "execution_count": null,
   "metadata": {},
   "outputs": [],
   "source": [
    "Por último, leemos el fichero y los visualizamos para representar el árbol:"
   ]
  },
  {
   "cell_type": "code",
   "execution_count": null,
   "metadata": {},
   "outputs": [],
   "source": [
    "#Tuev que instalar el paquete graphviz antes así en terminal: brew install graphviz\n",
    "import graphviz\n",
    "\n",
    "with open(\"tree.dot\") as f:\n",
    "    dot_graph = f.read()\n",
    "display(graphviz.Source(dot_graph))\n",
    "\n",
    "# Se ve que se interpreta bien, pero cortariamos un poco más para que sean un poco más explicables\n",
    "# De cada decisión los TRue caen a la izquierda y los False a la derecha"
   ]
  },
  {
   "cell_type": "markdown",
   "execution_count": null,
   "metadata": {},
   "outputs": [],
   "source": [
    "La visualización del árbol nos da una buena visión de cómo el algoritmo hace predicciones en detalle, y es además un buen ejemplo de funcionamiento de algoritmo de Machine Learning que puede ser explicado con facilidad a legos en la materia.\n",
    "\n",
    "Pero incluso con un límite de cuatro niveles de profundidad, el árbol puede volverse difícil de gestionar. Con 10 niveles, es prácticamente ininteligible. \n",
    "\n",
    "Un método de inspeccionar cómo está comportándose el árbol es visualizar la ruta que están siguiendo los datos. Si vamos hacia la derecha, vemos que worst radius <= 16.795 crea un nodo que contiene sólo 8 muestras benignas pero 134 malignas. De las 142 muestras que fueron para la ramificación derecha, casi todas ellas terminaron en una hoja a la derecha del todo (132).\n",
    "\n",
    "Si desde la raíz vamos hacia la izquierda, para worst radius > 16.795, acabamos con 25 malignas y 259 benignas. Casi todos las muestras benignas acaban en la segunda hoja de la derecha (254 muestras benignas), con al mayoría de las otras hojas con muy pocas muestras benignas."
   ]
  },
  {
   "cell_type": "markdown",
   "execution_count": null,
   "metadata": {},
   "outputs": [],
   "source": [
    "### Importancias de las características\n",
    "\n",
    "En vez de mirar el árbol completo, que puede ser demasiado, hay algunas propiedades útiles que podemos sacar para resumir cómo está funcionando el árbol. La más usada es la llamada importancias de las características (*feature importance*), que puntúa cómo de importantes es cada característica para cada una de las decisiones que toma el árbol. Es un número $\\in[0,1]$ para cada característica, donde 0 significa \"no usada en absoluto\" y 1 significa \"predice perfectamente el objetivo\". Las importancias de las características siempre suman uno:"
   ]
  },
  {
   "cell_type": "code",
   "execution_count": null,
   "metadata": {},
   "outputs": [],
   "source": [
    "print(\"Importancia de las características:\")\n",
    "print(tree.feature_importances_)\n",
    "# Nos dice la importancia de cada característica, a mayor numero, mayor importancia\n",
    "# Las que sean bajas, no quiere decir que no sean importantes,\n",
    "# sino que el árbol ha decidido que no la va a usar porque resume peor el tipo de decisión a tomar\n",
    "# Ojo esto siempre serán indicadores\n",
    "# Si en la Linear Regresión esta carecterística también es importante, entonces empezamos a valorar que sí."
   ]
  },
  {
   "cell_type": "markdown",
   "execution_count": null,
   "metadata": {},
   "outputs": [],
   "source": [
    "Podemos visualizar estas importancias de manera similar a la que visualizábamos los coeficientes en los modelos lineales:"
   ]
  },
  {
   "cell_type": "code",
   "execution_count": null,
   "metadata": {},
   "outputs": [],
   "source": [
    "def plot_feature_importances_cancer(model):\n",
    "    n_features = cancer.data.shape[1]\n",
    "    plt.barh(np.arange(n_features), \n",
    "             model.feature_importances_, align='center')\n",
    "    plt.yticks(np.arange(n_features), cancer.feature_names)\n",
    "    plt.xlabel(\"Importancia de la característica\")\n",
    "    plt.ylabel(\"Característica\")\n",
    "    plt.ylim(-1, n_features)\n",
    "\n",
    "plot_feature_importances_cancer(tree)"
   ]
  },
  {
   "cell_type": "markdown",
   "execution_count": null,
   "metadata": {},
   "outputs": [],
   "source": [
    "Se ve, como se esperaba, que la característica que aparece en el nodo raíz (\"worst radius\") es de lejos la más importante. Esto confirma nuestas observación en el análisis del árbol que el primer nivel separa las diferentes clases bastante bien.\n",
    "\n",
    "Sin embargo, que una característica tenga una importancia relativamente baja no quiere decir que no sea informativa. Sólo significa que dicha característica no fue elegida por el árbol, seguramente porque hay otra característica que codifica la misma información.\n",
    "\n",
    "En contraste con los coeficientes de los modelos lineales, las importancias de las características son siempre positivas y no codifican de qué clase es indicativa una característica. La importancia de una característica nos dice que \"worst radius\" es importante, pero no nos dice si es indicativo de una muestra maligna o benigna. De hecho no existe una relación tan sencilla entre características y clases, tal y como puede verse en el siguiente ejemplo:"
   ]
  },
  {
   "cell_type": "code",
   "execution_count": null,
   "metadata": {},
   "outputs": [],
   "source": [
    "tree = mglearn.plots.plot_tree_not_monotone()\n",
    "display(tree)\n",
    "#Para comprobar si el dataset es monótono, para interpretarlos"
   ]
  },
  {
   "cell_type": "markdown",
   "execution_count": null,
   "metadata": {},
   "outputs": [],
   "source": [
    "Este gráfico muestra un dataset con dos características y dos clases. En este caso, toda la información está contenida en $x_1$, mientras que $x_2$ no se usa en absoluto. Pero la relación entre $x_1$ y la clase resultante no es monótona, en el sentido en que podamos decir que un valor elevado de $x_1$ significa clase 0, y uno bajo significa clase 1 o viceversa.\n",
    "\n",
    "Aunque la discusión aquí se ha centrado en árboles de decisión para clasificación, todo lo dicho es válido también para regresión, implementado en Scikit-Learn por la clase `DecisionTreeRegressor`. El uso y análisis es muy mimilar, con mención especial al hecho de que no se pueden hacer extrapolaciones para hacer predicciones fuera del rango de los datos.\n",
    "\n",
    "Echemos un vistazo a esto en más detalle usando un dataset de precios históricos de RAM:"
   ]
  },
  {
   "cell_type": "code",
   "execution_count": null,
   "metadata": {},
   "outputs": [],
   "source": [
    "import os\n",
    "ram_prices = pd.read_csv(os.path.join(mglearn.datasets.DATA_PATH, \"ram_price.csv\"))\n",
    "\n",
    "plt.semilogy(ram_prices.date, ram_prices.price)\n",
    "plt.xlabel(\"Año\")\n",
    "plt.ylabel(\"Precio en $/Mbyte\")\n",
    "#Hay una tendencia clara"
   ]
  },
  {
   "cell_type": "raw",
   "execution_count": null,
   "metadata": {},
   "outputs": [],
   "source": [
    "Nótese la escala logarítmica del eje de ordenadas. Cuando se grafica logarítmicamente, la relación entre año y precio en dólares/Mb parece lineal y relativamente sencilla de predecir (salvo algunas crestas).\n",
    "\n",
    "Hagamos una predicción para los años posteriores al 2000 usando los datos históricos hasta este punto, contando con la fecha como única característica. Comparararemos dos modelos sencillos: `DecisionTreeRegressor` y `LinearRegressor`, reescalando los precios logarítmicamente para tener una relación lineal. Esto no supone una diferencia en cuanto a `DecisionTreeRegressor` pero sí para `LinearRegression`. Una vez entrenados los modelos y hechas las predicciones, aplicamos un mapeo exponencial para deshacer la transformación logarítmica.\n",
    "\n",
    "Haremos predicciones sobre el dataset completo por razones de visualización, aunque para una evaluación cuantitativa deberíamos considerar sólo el dataset de test:"
   ]
  },
  {
   "cell_type": "code",
   "execution_count": null,
   "metadata": {},
   "outputs": [],
   "source": [
    "from sklearn.tree import DecisionTreeRegressor\n",
    "# Usamos datos históricos para predecir precios después del año 2000 \n",
    "data_train = ram_prices[ram_prices.date < 2000]\n",
    "data_test = ram_prices[ram_prices.date >= 2000]\n",
    "\n",
    "# Predecimos precios en base a fechas\n",
    "X_train = data_train.date[:, np.newaxis] # Lo convertimos en vector columna con newaxis\n",
    "# Usamos una transformación logarítmica para obtener\n",
    "# una relación más sencilla de los datos y el objetivo \n",
    "y_train = np.log(data_train.price) # Hacemos la transformación logarítmica\n",
    "\n",
    "tree = DecisionTreeRegressor(max_depth=3\n",
    "                            ).fit(X_train, y_train)\n",
    "linear_reg = LinearRegression().fit(X_train, y_train)\n",
    "\n",
    "# Predecimos para todos los datos\n",
    "X_all = ram_prices.date[:, np.newaxis]\n",
    "\n",
    "pred_tree = tree.predict(X_all)\n",
    "pred_lr = linear_reg.predict(X_all)\n",
    "\n",
    "# Deshacemos la transformación logarítmica\n",
    "price_tree = np.exp(pred_tree)\n",
    "price_lr = np.exp(pred_lr)"
   ]
  },
  {
   "cell_type": "markdown",
   "execution_count": null,
   "metadata": {},
   "outputs": [],
   "source": [
    "Ahora, dibujamos  las predicciones para comparar los modelos con los datos de partida:"
   ]
  },
  {
   "cell_type": "code",
   "execution_count": null,
   "metadata": {},
   "outputs": [],
   "source": [
    "plt.semilogy(data_train.date,\n",
    "             data_train.price, label=\"Training data\")\n",
    "plt.semilogy(data_test.date,\n",
    "             data_test.price, label=\"Test data\")\n",
    "plt.semilogy(ram_prices.date,\n",
    "             price_tree, label=\"Predicción Árbol\")\n",
    "plt.semilogy(ram_prices.date,\n",
    "             price_lr, label=\"Predicción Lineal\")\n",
    "plt.legend()\n",
    "\n",
    "# El árbol predice distinto, peor aún así la regresión lineal predice mejor\n",
    "# Se ve que en el año 2000, el árbol se mantiene constante, como el árbol no tiene datos del rango más adelante\n",
    "# de 2000, no predice bien. Es decir si la variable está fuera de rango del entrenamiento,\n",
    "# es mal predicto el árbol, porqu no sabe tomar decisiones de cosas que no sabe.\n",
    "# Todo lo relacionado con tendencias, el árbol de decisión no es buena.\n",
    "# Tampoco es bueno el randomForest por lo mismo."
   ]
  },
  {
   "cell_type": "markdown",
   "execution_count": null,
   "metadata": {},
   "outputs": [],
   "source": [
    "La diferencia que puede apreciarse entre el Árbol de decisión y el modelo lineal es importante.\n",
    "\n",
    "El modelo lineal aproxima con una recta, como ya sabíamos que ocurriría, y la línea da una buena predicción de los datos de test omitiendo las variaciones de grano fino que ocurren en ambos datasets.\n",
    "\n",
    "El árbol de decisión por el contrrio hace una predicción cuasi-perfecta en el dataset de entrenamiento. Sin embargo, una vez abandona el intervalo para el cual tiene datos, reutiliza la predicción del último datapoint del intervalo conocido para emitir predicciones en el dataset de test. El árbol no es capaz de generar respuestas nuevas fuera de lo que ha podido ver en el dataset de training. Esta limitación es de aplicación en todos los modelos basados en árbol."
   ]
  },
  {
   "cell_type": "markdown",
   "execution_count": null,
   "metadata": {},
   "outputs": [],
   "source": [
    "# Aprendizaje Supervisado con Scikit-Learn - Día 3"
   ]
  },
  {
   "cell_type": "markdown",
   "execution_count": null,
   "metadata": {},
   "outputs": [],
   "source": [
    "## Ensembles de árboles de decisión\n",
    "\n",
    "### Análisis de los random forests\n",
    "\n",
    "Vamos a construir un random forest con cinco árboles sobre el dataset `two_moons` que vimos anteriormente:"
   ]
  },
  {
   "cell_type": "code",
   "execution_count": null,
   "metadata": {},
   "outputs": [],
   "source": [
    "from sklearn.ensemble import RandomForestClassifier\n",
    "from sklearn.datasets import make_moons\n",
    "\n",
    "# Usa make moons con 100 muestras\n",
    "X, y = make_moons(n_samples=100, noise=0.25, random_state=3)\n",
    "\n",
    "# Haz el split test / training\n",
    "X_train, X_test, y_train, y_test = train_test_split(\n",
    "    X, y, stratify=y,random_state=42)\n",
    "\n",
    "# Instancia y entrena un random forest con 5 estimadores\n",
    "forest = RandomForestClassifier(\n",
    "    n_estimators=5, random_state=2)\n",
    "forest.fit(X_train, y_train)"
   ]
  },
  {
   "cell_type": "markdown",
   "execution_count": null,
   "metadata": {},
   "outputs": [],
   "source": [
    "Los arboles construidos como parte del random forest se almacenan en el atributo `estimators_`. \n",
    "\n",
    "Vamos a visualizar ahora las fronteras de decisión aprendidas por cada árbol, junto con la predicción agregada hecha por el forest:"
   ]
  },
  {
   "cell_type": "code",
   "execution_count": null,
   "metadata": {},
   "outputs": [],
   "source": [
    "# Ahora lo pintamos\n",
    "fig, axes = plt.subplots(2, 3, figsize=(20, 10))\n",
    "# ravel(): devuelve un array aplanado de elementos contiguos\n",
    "# Pasamos los árboles con el atributo _estimators_ a una \n",
    "# función visualizadora\n",
    "for i, (ax, tree) in enumerate(zip(axes.ravel(),\n",
    "                                   forest.estimators_)):\n",
    "    ax.set_title(\"Árbol {}\".format(i))\n",
    "    mglearn.plots.plot_tree_partition(\n",
    "        X_train, y_train, tree, ax=ax)\n",
    "    \n",
    "mglearn.plots.plot_2d_separator(\n",
    "    forest, X_train, fill=True, ax=axes[-1, -1], alpha=.4)\n",
    "axes[-1, -1].set_title(\"Random Forest\")\n",
    "mglearn.discrete_scatter(\n",
    "    X_train[:, 0], X_train[:, 1], y_train)\n",
    "\n",
    "# Vemso que las fronteras son diferentes y cómo se generan los árboles, en la vida real no se usan\n",
    "# 4 árboles sino cientos de ellos"
   ]
  },
  {
   "cell_type": "markdown",
   "execution_count": null,
   "metadata": {},
   "outputs": [],
   "source": [
    "Puede verse con bastante claridad en los gráficos que la frontera de decisión aprendida por cada uno de los cinco árboles es bastante diferente. Cada uno de ellos comete errores ya que hay muestras de entrenamiento que no están incluidas en el dataset de entrenamiento del árbol en sí por efecto del bootstrapping.\n",
    "\n",
    "El random forest sobreajusta menos que cualquiera de los árboles individuales, y por lo tanto suministra una frontera de decisión mucho más intuitiva. En un ejemplo real utilizaremos muchos más árboles (cientos o miles), lo cual producirán una frontera de decisión mucho más suave."
   ]
  },
  {
   "cell_type": "markdown",
   "execution_count": null,
   "metadata": {},
   "outputs": [],
   "source": [
    "Pongamos un ejemplo más y construyamos una random forest de 100 árboles sobre el dataset de cancer de mama:"
   ]
  },
  {
   "cell_type": "code",
   "execution_count": null,
   "metadata": {},
   "outputs": [],
   "source": [
    "# Partimos nuestro cancer dataset\n",
    "from sklearn.datasets import load_breast_cancer\n",
    "cancer = load_breast_cancer()\n",
    "\n",
    "\n",
    "#from sklearn.datasets import load_breast_cancer\n",
    "#cancer = load_breast_cancer()\n",
    "X_train, X_test, y_train, y_test = train_test_split(\n",
    "    cancer.data, cancer.target, random_state=0)\n",
    "\n",
    "# Instanciamos y entrenamos un bosque con 100 estimadores\n",
    "forest = RandomForestClassifier(\n",
    "    n_estimators=100, random_state=0)\n",
    "forest.fit(X_train, y_train)\n",
    "\n",
    "# Muestra las precisiones de los dos sets de training y test\n",
    "print(\"Precisión en el training set: {:.3f}\"\n",
    "      .format(forest.score(X_train, y_train)))\n",
    "print(\"Precisión en el test set: {:.3f}\"\n",
    "      .format(forest.score(X_test, y_test)))\n",
    "\n",
    "# La predicción del test es muy buena de partida, tanto de training como del test,\n",
    "# entonces tendremos que tocar pocos parámetros\n",
    "# Si comparamos con la Regresión lineal(0,95), este está mejor"
   ]
  },
  {
   "cell_type": "markdown",
   "execution_count": null,
   "metadata": {},
   "outputs": [],
   "source": [
    "El random forest nos da una precisión del 97%, mejor que la de los modelos lineales o la de un solo decision tree, sin tener que optimizar ningún parámetro. Podríamos ajustar el parámetro `max_features` o aplicar pre-prunning tal y como hicimos para el árbol de decisión único. Sin embargo, los valores por defecto parecer que funcionan bastante bien.\n",
    "\n",
    "Al igual que el árbol de decisión, los random forests proporcionan importancia de características.  Éstas se calculan agregando las importancias de las características para todos los árboles del bosque. Lo habitual es que las importancias que suministra el random forest sean más fidedignas que las que suministra un único árbol."
   ]
  },
  {
   "cell_type": "code",
   "execution_count": 1,
   "metadata": {},
   "outputs": [
    {
     "ename": "NameError",
     "evalue": "name 'plot_feature_importances_cancer' is not defined",
     "output_type": "error",
     "traceback": [
      "\u001b[0;31m---------------------------------------------------------------------------\u001b[0m",
      "\u001b[0;31mNameError\u001b[0m                                 Traceback (most recent call last)",
      "\u001b[0;32m<ipython-input-1-5383cb10e09e>\u001b[0m in \u001b[0;36m<module>\u001b[0;34m\u001b[0m\n\u001b[0;32m----> 1\u001b[0;31m \u001b[0mplot_feature_importances_cancer\u001b[0m\u001b[0;34m(\u001b[0m\u001b[0mforest\u001b[0m\u001b[0;34m)\u001b[0m\u001b[0;34m\u001b[0m\u001b[0;34m\u001b[0m\u001b[0m\n\u001b[0m",
      "\u001b[0;31mNameError\u001b[0m: name 'plot_feature_importances_cancer' is not defined"
     ]
    }
   ],
   "source": [
    "plot_feature_importances_cancer(forest)"
   ]
  },
  {
   "cell_type": "markdown",
   "execution_count": null,
   "metadata": {},
   "outputs": [],
   "source": [
    "El random forest da una importancia distinta de cero a más caracteríscas que un único árbol, y al igual que éste, da mucha importancia a la característica *worst radius*. Sin embargo, elige *worst perimeter* como la característica más informativa de todas. La aleatoriedad introducida en la construcción del random forest obliga al algoritmo a considerar múltiples explicaciones, con el resultado de que el random forest tienen una perspectiva más amplia de los datos que un único árbol."
   ]
  },
  {
   "cell_type": "markdown",
   "execution_count": null,
   "metadata": {},
   "outputs": [],
   "source": [
    "### Análisis de las Gradient Boosting Machines"
   ]
  },
  {
   "cell_type": "markdown",
   "execution_count": null,
   "metadata": {},
   "outputs": [],
   "source": [
    "Veamos un ejemplo de uso de `GradientBoostingClassifier` en el dataset de cáncer de mama. Por defecto, se usan 100 árboles de un máximo de tres niveles de profundidad y un learning rate de 0.1:"
   ]
  },
  {
   "cell_type": "code",
   "execution_count": null,
   "metadata": {},
   "outputs": [],
   "source": [
    "# Importamos GradientBoostingClassifier del mismo módulo ensemble\n",
    "from sklearn.ensemble import GradientBoostingClassifier\n",
    "\n",
    "# Hacemos split train y test\n",
    "X_train, X_test, y_train, y_test = train_test_split(\n",
    "    cancer.data, cancer.target, random_state=0)\n",
    "\n",
    "# Instanciamos y entrenamos el modelo\n",
    "gbrt = GradientBoostingClassifier(random_state=0)\n",
    "gbrt.fit(X_train, y_train)\n",
    "\n",
    "# Visualizamos las precisiones de ambos sets con 3 decimales\n",
    "print(\"Precisión en el training set: {:.3f}\"\n",
    "      .format(gbrt.score(X_train, y_train)))\n",
    "print(\"Precisión en el test set: {:.3f}\"\n",
    "      .format(gbrt.score(X_test, y_test)))\n",
    "      \n",
    "#Sale igual que el Random forest"
   ]
  },
  {
   "cell_type": "markdown",
   "execution_count": null,
   "metadata": {},
   "outputs": [],
   "source": [
    "La precisión en el training set indica que podemos estar sobreajustando. Para reducir este sobreajuste, podemos o bien aplicar un pre prunning más fuerte o bien bajar el parámetro learning rate:"
   ]
  },
  {
   "cell_type": "code",
   "execution_count": null,
   "metadata": {},
   "outputs": [],
   "source": [
    "# Reentrenamos aplicando prunning\n",
    "gbrt = GradientBoostingClassifier(random_state=0, max_depth=1)\n",
    "gbrt.fit(X_train, y_train)\n",
    "\n",
    "print(\"Precisión en el training set: {:.3f}\"\n",
    "      .format(gbrt.score(X_train, y_train)))\n",
    "print(\"Precisión en el test set: {:.3f}\"\n",
    "      .format(gbrt.score(X_test, y_test)))\n",
    "\n",
    "# Vemos que no hemos conseguido nada así, pero podría ser mejor para que el\n",
    "# traning no sea tan preciso y se pueda generalizar más"
   ]
  },
  {
   "cell_type": "code",
   "execution_count": null,
   "metadata": {},
   "outputs": [],
   "source": [
    "# Reentrenamos modificando la tasa de aprendizaje\n",
    "gbrt = GradientBoostingClassifier(random_state=0, learning_rate=0.01)\n",
    "gbrt.fit(X_train, y_train)\n",
    "\n",
    "print(\"Precisión en el training set: {:.3f}\"\n",
    "      .format(gbrt.score(X_train, y_train)))\n",
    "print(\"PRecisión en el test set: {:.3f}\"\n",
    "      .format(gbrt.score(X_test, y_test)))\n",
    "\n",
    "# Y también vemos que no hemos conseguido nada así"
   ]
  },
  {
   "cell_type": "markdown",
   "execution_count": null,
   "metadata": {},
   "outputs": [],
   "source": [
    "Ambos métodos de decremento de la complejidad del modelo reducen la precisión en el training set, como era de esperar. En este caso, bajar la profundidad máxima del árbol mejora bastante el modelo, mientras que bajar el learning rate solo mejora la generalización levemente.\n",
    "\n",
    "Como en los otros casos, vamos a ver cómo se están asignando las importancias de las características ahora:"
   ]
  },
  {
   "cell_type": "code",
   "execution_count": null,
   "metadata": {},
   "outputs": [],
   "source": [
    "gbrt = GradientBoostingClassifier(random_state=0, max_depth=1)\n",
    "gbrt.fit(X_train, y_train)\n",
    "\n",
    "plot_feature_importances_cancer(gbrt)"
   ]
  },
  {
   "cell_type": "markdown",
   "execution_count": null,
   "metadata": {},
   "outputs": [],
   "source": [
    "Podemos ver que la importancia de las características es similar a la de los random forests, aunque aquí se ve que gradient boosting ignora completamente algunas de ellas.\n",
    "\n",
    "Ya que tanto gradient boosting machines como random forests se comportan bien sobre tipos de datos parecidos, una aproximación tomada con frecuencia es probar primero un random forest, que es bastante robusto. Si el random forest funciona bien pero el tiempo que se tarda en hacer una predicción es crítico, o es importante exprimir al máximo la precisión en predicción del modelo, probar con gradient boosting suele ser de ayuda.\n",
    "\n",
    "Si se quiere aplicar gradient boosting a problemas en gran escala, puede merecer la pena investigar algo más el paquete xgboost y su interfaz Python, que es más rápido que la implementación de Scikit-Learn para muchos datasets."
   ]
  },
  {
   "cell_type": "markdown",
   "execution_count": null,
   "metadata": {},
   "outputs": [],
   "source": [
    "## Kernelized Support Vector Machines\n",
    "### Modelos lineales con características no lineales"
   ]
  },
  {
   "cell_type": "markdown",
   "execution_count": null,
   "metadata": {},
   "outputs": [],
   "source": [
    "Hemos visto que los modelos lineales pueden ser bastante limitados en espacios 2D, ya que las lineas e hiperplanos tienen una flexibilidad limitada. Una manera de hacer un modelo lineal más flexible, como hemos visto, es aplicar ingeniería de características añadiendo interacciones o procesamiento polinómico de las características de entrada.\n",
    "\n",
    "Echemos un vistazo al dataset sintético que usamos para analiza la importancia de las características previamente:"
   ]
  },
  {
   "cell_type": "code",
   "execution_count": null,
   "metadata": {},
   "outputs": [],
   "source": [
    "# from sklearn.datasets import make_blobs\n",
    "X, y = make_blobs(centers=4, random_state=8)\n",
    "y = y % 2\n",
    "\n",
    "mglearn.discrete_scatter(X[:, 0], X[:, 1], y)\n",
    "plt.xlabel(\"Feature 0\")\n",
    "plt.ylabel(\"Feature 1\")"
   ]
  },
  {
   "cell_type": "markdown",
   "execution_count": null,
   "metadata": {},
   "outputs": [],
   "source": [
    "Un modelo lineal de clasificación puede sólo separar puntos usando una línea, y no será por tanto capaz de hacer un buen trabajo en este dataset:"
   ]
  },
  {
   "cell_type": "code",
   "execution_count": null,
   "metadata": {},
   "outputs": [],
   "source": [
    "# Hacer una clasificación lineal sobre el dataset\n",
    "from sklearn.svm import LinearSVC\n",
    "linear_svm = LinearSVC(max_iter=10000).fit(X, y)\n",
    "\n",
    "mglearn.plots.plot_2d_separator(linear_svm, X)\n",
    "mglearn.discrete_scatter(X[:, 0], X[:, 1], y)\n",
    "plt.xlabel(\"Feature 0\")\n",
    "plt.ylabel(\"Feature 1\")\n",
    "\n",
    "# La regresión lineal hace lo que puede y no es un modelo muy válido\n",
    "# porque la frontera de desición no clasifica nada"
   ]
  },
  {
   "cell_type": "markdown",
   "execution_count": null,
   "metadata": {},
   "outputs": [],
   "source": [
    "Hagamos una expansión de las características de entrada, añadiendo también el cuadrado de la característica 1 como nueva característica. En vez de representar cada muestra como un punto bidimensional (característica 0, característica 1), la representamos como un punto 3D (característica 0, característica 1, característica 2 = (característica 1)^2):"
   ]
  },
  {
   "cell_type": "code",
   "execution_count": null,
   "metadata": {},
   "outputs": [],
   "source": [
    "# Añadimos la primera característica elevada al cuadrado, para probar\n",
    "X_new = np.hstack([X, X[:, 1:] ** 2])\n",
    "\n",
    "\n",
    "from mpl_toolkits.mplot3d import Axes3D, axes3d\n",
    "figure = plt.figure()\n",
    "# Visualizamos en 3D\n",
    "ax = Axes3D(figure, elev=-152, azim=-26)\n",
    "# Pintamos todos los puntos con y==0, y luego con y == 1\n",
    "mask = y == 0\n",
    "ax.scatter(X_new[mask, 0], X_new[mask, 1], X_new[mask, 2], c='b',\n",
    "           cmap=mglearn.cm2, s=60, edgecolor='k')\n",
    "ax.scatter(X_new[~mask, 0], X_new[~mask, 1], X_new[~mask, 2],\n",
    "           c='r', marker='^',\n",
    "           cmap=mglearn.cm2, s=60, edgecolor='k')\n",
    "ax.set_xlabel(\"característica 0\")\n",
    "ax.set_ylabel(\"característica 1\")\n",
    "ax.set_zlabel(\"(característica 1)ˆ2\")"
   ]
  },
  {
   "cell_type": "markdown",
   "execution_count": null,
   "metadata": {},
   "outputs": [],
   "source": [
    "En esta nueva representación de los datos sí es posible separar las dos clases usando un modelo lineal, la separación es un plano en tres dimensiones. Se puede confirmar esto haciendo un entrenamiento de un modelo lineal sobre el nuevo dataset aumentado:"
   ]
  },
  {
   "cell_type": "code",
   "execution_count": null,
   "metadata": {},
   "outputs": [],
   "source": [
    "linear_svm_3d = LinearSVC(max_iter=10000).fit(X_new, y)\n",
    "coef, intercept = linear_svm_3d.coef_.ravel(), linear_svm_3d.intercept_\n",
    "\n",
    "# show linear decision boundary\n",
    "figure = plt.figure()\n",
    "ax = Axes3D(figure, elev=-152, azim=-26)\n",
    "xx = np.linspace(X_new[:, 0].min() - 2, X_new[:, 0].max() + 2, 50)\n",
    "yy = np.linspace(X_new[:, 1].min() - 2, X_new[:, 1].max() + 2, 50)\n",
    "\n",
    "XX, YY = np.meshgrid(xx, yy)\n",
    "ZZ = (coef[0] * XX + coef[1] * YY + intercept) / -coef[2]\n",
    "ax.plot_surface(XX, YY, ZZ, rstride=8, cstride=8, alpha=0.3)\n",
    "ax.scatter(X_new[mask, 0], X_new[mask, 1], X_new[mask, 2], c='b',\n",
    "           cmap=mglearn.cm2, s=60, edgecolor='k')\n",
    "ax.scatter(X_new[~mask, 0], X_new[~mask, 1],\n",
    "           X_new[~mask, 2], c='r', marker='^',\n",
    "           cmap=mglearn.cm2, s=60, edgecolor='k')\n",
    "\n",
    "ax.set_xlabel(\"Característica 0\")\n",
    "ax.set_ylabel(\"Característica 1\")\n",
    "ax.set_zlabel(\"(Característica 1)^2\")"
   ]
  },
  {
   "cell_type": "markdown",
   "execution_count": null,
   "metadata": {},
   "outputs": [],
   "source": [
    "Considerado en función de la características originales, el modelo lineal SVM ya no es en realidad lineal. No es una línea sino una elipse, como puede verse a continuación:"
   ]
  },
  {
   "cell_type": "code",
   "execution_count": null,
   "metadata": {},
   "outputs": [],
   "source": [
    "ZZ = YY ** 2\n",
    "dec = linear_svm_3d.decision_function(\n",
    "    np.c_[XX.ravel(), YY.ravel(), ZZ.ravel()])\n",
    "plt.contourf(XX, YY, dec.reshape(XX.shape),\n",
    "             levels=[dec.min(), 0, dec.max()],\n",
    "             cmap=mglearn.cm2, alpha=0.5)\n",
    "mglearn.discrete_scatter(X[:, 0], X[:, 1], y)\n",
    "plt.xlabel(\"Característica 0\")\n",
    "plt.ylabel(\"Característica 1\")"
   ]
  },
  {
   "cell_type": "markdown",
   "execution_count": null,
   "metadata": {},
   "outputs": [],
   "source": [
    "### El truco del Kernel\n",
    "La lección a a aprender aquí es que la adición de características no lineales a la representación de nuestros datos puede hacer que los modelos lineales sean muchos más potentes. Sin embargo, en muchas ocasiones no sabremos qué características tenemos que añadir, y añadir tantas como todas las interacciones posibles en, por ejemplo, un espacio de 100 dimensiones, es computacionalmente muy caro.\n",
    "\n",
    "Afortunadamente, como hemos visto en la teoría de las presentaciones, hay un truco matemático muy conveniente  que nos permite entrenar un clasificador en un espacio dimensional más alto sin la necesidad de calcular esa nueva representación de los datos. Esto es lo que hemos visto ya que se conoce con el nombre de *kernel trick*, y funciona calculando directamente la distancia (más concretamente, el producto escalar) de las muestras en la representación expandida de las características, sin tener que llegar a calcular nunca esta representación.\n",
    "\n",
    "Hay dos maneras de hacer el mapeo de los datos a un espacio dimensional más alto que son las más utilizadas con SMVs:\n",
    "\n",
    " - **Un kernel polinómico**, que computa todos los posibles polinomios hasta un grado dado de las características originales (tipo (característica 1)^2 * (característica 2)^5)\n",
    " - **Un kernel RBF (Radial Basis Function)**, también conocido como kernel Gaussiano. El kernel gaussiano es un poco más complicado de explicar (lo hemos intentado en el material de presentación del curso), ya que corresponde a un espacio de características de dimensión infinita. Una manera de explicar el kernel Gaussiano es decir que considera todos los posibles polinomios de todos los grados, pero que la importancia de las características decrece conforme crece el grado polinómico."
   ]
  },
  {
   "cell_type": "markdown",
   "execution_count": null,
   "metadata": {},
   "outputs": [],
   "source": [
    "### Análisis de Support Vector Machines\n",
    "\\begin{align*}\n",
    "\\end{align*}\n",
    "Durante el entrenamiento, SMV aprende cuán importante es cada uno de las muestras en la representación de la frontera de decisión entre las dos clases. Por norma general, sólo un subconjunto de las muestras de entrenamiento son importantes aquí: las que caen en el borde entre las dos clases, como ya hemos visto en la teoría. Éstas son las muestras que llamábamos vectores soporte y que dan a SVM su nombre.\n",
    "\n",
    "Cuando vamos a hacer la predicción de un nuevo punto, lo que hace el modelo es medir la distancia a cada uno de los vectores soporte. La clasificación se realiza basándose en esas distancias y la importancia de las características que se aprendió durante la fase de entrenamiento (almacenada en el atributo `dual_coef_` del modelo).\n",
    "\n",
    "Por defecto, la distancia entre las muestas se mide con el kernel Gaussiano:\n",
    "\n",
    "$k_rbf(x_1, x_2) = e^{\\gamma \\left\\Vert x_1 - x_2 \\right\\Vert ^ 2}$\n",
    "\n",
    "En esta ecuación, $x_1$ y $x_2$ son muestras, $\\left\\Vert x_1 - X-2 \\right\\Vert$ denota la distancia euclídea, y $\\gamma$ es un parámetro que controla la anchura del kernel Gaussiano.\n",
    "\n",
    "A continuación se muestra el resultado del entrenamiento de SVM en un dataset bidimensional (*Forge* dataset). La frontera de decisión se muestra en negro, y los vectores soporte están remarcados:"
   ]
  },
  {
   "cell_type": "code",
   "execution_count": null,
   "metadata": {},
   "outputs": [],
   "source": [
    "# Importamos SVC desde el módulo svm\n",
    "from sklearn.svm import SVC\n",
    "\n",
    "# Hacemos un dataset levemente modificado\n",
    "X, y = mglearn.tools.make_handcrafted_dataset()                                                                  \n",
    "svm = SVC(kernel='rbf', C=10, gamma=0.1).fit(X, y)\n",
    "\n",
    "# Instanciamos y entrenamos un SVC con RBF, C=10 y gamma=0.1\n",
    "mglearn.plots.plot_2d_separator(svm, X, eps=.5)\n",
    "mglearn.discrete_scatter(X[:, 0], X[:, 1], y)\n",
    "# Pintamos los vectores soporte\n",
    "sv = svm.support_vectors_\n",
    "# Las etiquetas de clase de los vectores vienen dadas por el signo de dual_coef\n",
    "sv_labels = svm.dual_coef_.ravel() > 0\n",
    "mglearn.discrete_scatter(sv[:, 0], sv[:, 1],\n",
    "                         sv_labels, s=15,\n",
    "                         markeredgewidth=3)\n",
    "plt.xlabel(\"Característica 0\")\n",
    "plt.ylabel(\"Característica 1\")\n",
    "\n",
    "# Nos muestra una curva suave que nos muestra los bordes soportes, tiene buena pinta como clasifica"
   ]
  },
  {
   "cell_type": "markdown",
   "execution_count": null,
   "metadata": {},
   "outputs": [],
   "source": [
    "En este caso, SMV produce una curva suave. Hemos ajustado dos parámetros, $C$ y $\\gamma$, que vamos a ver ahora en detalle:"
   ]
  },
  {
   "cell_type": "markdown",
   "execution_count": null,
   "metadata": {},
   "outputs": [],
   "source": [
    "### Ajuste de los parámetros de SVM\n",
    "\n",
    "El parámetro $\\gamma$ es el que hemos mostrado en la fórmula anterior, y controla la anchura del kernel Gaussiano. Esto est básicamente determinar la escala de qué significa que dos puntos esté juntos. El parámetro $C$ es un parámetro de regularización, similar al utilizado en los modelos lineales, que limita la importancia de cada punto (y más específicamente, el valor `dual_coef_`).\n",
    "\n",
    "Veamos que ocurre cuando vamos variando estos parámetros:"
   ]
  },
  {
   "cell_type": "code",
   "execution_count": null,
   "metadata": {},
   "outputs": [],
   "source": [
    "# Hacemos 6 subplots\n",
    "fig, axes = plt.subplots(3, 3, figsize=(15, 10))\n",
    "\n",
    "# Iteramos para valores de C=0.1, 1 y 1000 en filas, y gamma -1, 0, 1 en columnas\n",
    "for ax, C in zip(axes, [-1, 0, 3]):\n",
    "    for a, gamma in zip(ax, range(-1, 2)):\n",
    "        # Nos apoyamos en una función ya definida para pintar los SVMs\n",
    "        mglearn.plots.plot_svm(log_C=C, \n",
    "                               log_gamma=gamma, ax=a)\n",
    "        \n",
    "axes[0, 0].legend([\"Clase 0\", \"Clase 1\",\n",
    "                   \"Clase SV 0\", \"Clase SV 1\"],\n",
    "                  ncol=4, loc=(.9, 1.2))\n",
    "# En horizontal, vemos las variaciones desde un valor de gamma pequeño(tamaño del kernel) a grande\n",
    "# En vertical, vemos las variaciones con C (parámetro de regularización), arriba tenemos un modelo muy restringido\n",
    "# y abajo no"
   ]
  },
  {
   "cell_type": "markdown",
   "execution_count": null,
   "metadata": {},
   "outputs": [],
   "source": [
    "Yendo de izquierda a derecha, vamos incrementando el valor del parámetro $\\gamma$ de 0.1 a 10. Un $\\gamma$ pequeño implica un radio grande para el kernel Gaussiano, que significa que son muchos puntos los que se consideran en proximidad. Esto se refleja en fronteras de decisión más suaves a la izquierda, y más enfocadas en muestras concretas a medida que nos vamos moviendo a la derecha. Un valor bajo de $\\gamma$ significa que la frontera de decisión variará lentamente, lo cual genera un modelo de baja complejidad, mientras que un valor alto de gamma generará modelos más complejos.\n",
    "\n",
    "Yendo de arriba a abajo, incrementamos el valor del parámetro $C$ de 0.1 a 1000. Como en el caso de los modelos lineales, una $C$ pequeña implica un modelo muy restringido, donde cada punto de datos puede tener puede tener sólo una influencia muy limitada. Esto se puede arriba a la izquierda, donde la frontera de decisión parece casi lineal, con las muestras mal clasificadas apenas teniendo ninguna influencia sobre la línea. Al incrementar $C$, como ocurre en los gráficos de abajo, se permite que estos puntos tengan una influencia más fuerte sobre el modelo y esto provoca que la frontera de decisión se adapte para clasificarlos correctamente."
   ]
  },
  {
   "cell_type": "markdown",
   "execution_count": null,
   "metadata": {},
   "outputs": [],
   "source": [
    "Apliquemos ahora SVM con kernel RBF al Breast Cancer dataset. Por defecto, $C=1$ y $\\gamma = \\frac{1}{\\mathrm{n\\_features}}$:"
   ]
  },
  {
   "cell_type": "code",
   "execution_count": null,
   "metadata": {},
   "outputs": [],
   "source": [
    "from sklearn.model_selection import train_test_split\n",
    "from sklearn.datasets import load_breast_cancer\n",
    "cancer = load_breast_cancer()\n",
    "\n",
    "# Partimos en test y training\n",
    "X_train, X_test, y_train, y_test = train_test_split(\n",
    "    cancer.data, cancer.target, random_state=0)\n",
    "\n",
    "# Instanciamos y entrenamos un SVC\n",
    "svc = SVC(gamma='auto')\n",
    "svc.fit(X_train, y_train)\n",
    "\n",
    "# Mostramos las precisiones\n",
    "print(\"Precisión en el training set: {:.2f}\"\n",
    "      .format(svc.score(X_train, y_train)))\n",
    "print(\"Precisión en el test set: {:.2f}\"\n",
    "      .format(svc.score(X_test, y_test)))"
   ]
  },
  {
   "cell_type": "markdown",
   "execution_count": null,
   "metadata": {},
   "outputs": [],
   "source": [
    "El modelo sobreajusta bastante, con una precisión perfecta en el training set y sólo un 63% de precisión en el test set. Aunque los modelos SVM se comportan muy bien, son muy sensibles al ajuste de los parámetros y al escalado de los datos. En particular, requieren que todas las características varíen dentro de una escala similar.\n",
    "\n",
    "Echemos un vistazo a los valores mínimos y máximos de cada característica, graficados en espacio logarítmico:"
   ]
  },
  {
   "cell_type": "code",
   "execution_count": null,
   "metadata": {},
   "outputs": [],
   "source": [
    "# Usamos un boxplot para mostrarlos\n",
    "plt.boxplot(X_train, manage_ticks=False)\n",
    "plt.yscale(\"symlog\")\n",
    "plt.xlabel(\"Índice de la característica\")\n",
    "plt.ylabel(\"Magnitud de la característica\")\n",
    "\n",
    "# Esto nso quiere decir que hay que hacer preprocesado, porque hay muchos tipos de magnitud,\n",
    "# y esto afecta mucho al SVM"
   ]
  },
  {
   "cell_type": "markdown",
   "execution_count": null,
   "metadata": {},
   "outputs": [],
   "source": [
    "A partir de este gráfico podemos ver que las características en el Breast Cancer dataset son de órdenes de magnitud diferentes. Esto, que ya puede ser problemático para otros modelos (por ejemplo, modelos lineales), es devastador para kernel SVMs. Veamos algunas maneras de tratar con este problema, alguna de las cuales ya hemos adelantado en clase:"
   ]
  },
  {
   "cell_type": "markdown",
   "execution_count": null,
   "metadata": {},
   "outputs": [],
   "source": [
    "### Preprocesado de datos para SVMs\n",
    "Una manera de resolver este problema es mediante el reescalado de cada característica, como ya se ha visto en otros ejercicios, para que todas permanezcan en el mismo rango de escala (hablamos también de esto en las [notas adicionales de clase](https://docs.google.com/document/d/1ywFwDW-M4g2Skt-gU0UQWsX6P5ITbvjTOuDl-eGchj8). Un método muy común utilizando en SVMs es escalar todas las características entre 0 y 1, lo que se puede hacer con el preprocesador `MinMaxScaler` de Scikit-Learn.\n",
    "\n",
    "Con el ánimo de ilustrar exactamente qué hace este preprocesador, lo hacemos a continuación manualmente:"
   ]
  },
  {
   "cell_type": "code",
   "execution_count": null,
   "metadata": {},
   "outputs": [],
   "source": [
    "# Calculamos el valor mínimo de cada característica en el training set\n",
    "min_on_training = X_train.min(axis=0)\n",
    "# Calculamos el rango de cada característica\n",
    "#(max - min) en el training set\n",
    "range_on_training = (X_train - min_on_training).max(axis=0)\n",
    "\n",
    "# Restamos el mínimo y dividimos por el rango\n",
    "# después, min=0 y max=1 para cada caracterísitca\n",
    "X_train_scaled = (X_train - min_on_training) / range_on_training\n",
    "print(\"Mínimo para cada característica\\n\",\n",
    "      X_train_scaled.min(axis=0))\n",
    "print(\"Máximo para cada característica\\n\",\n",
    "      X_train_scaled.max(axis=0))"
   ]
  },
  {
   "cell_type": "code",
   "execution_count": null,
   "metadata": {},
   "outputs": [],
   "source": [
    "# Utilizamos la misma transformación en el test set,\n",
    "# usando el mínimo y el rango del training set. See Chapter 3 (unsupervised learning) for details.\n",
    "# usando el mínimo y el rango del training set.\n",
    "X_test_scaled = (X_test - min_on_training) / range_on_training"
   ]
  },
  {
   "cell_type": "markdown",
   "execution_count": null,
   "metadata": {},
   "outputs": [],
   "source": [
    "Con estos cambios, probamos de nuevo a entrenar y evaluar el modelo:"
   ]
  },
  {
   "cell_type": "code",
   "execution_count": null,
   "metadata": {},
   "outputs": [],
   "source": [
    "# Instanciamos y entrenamos un SVC\n",
    "svc = SVC(gamma='auto')\n",
    "svc.fit(X_train_scaled, y_train)\n",
    "\n",
    "# Mostramos las precisiones\n",
    "print(\"Precisión en el training set: {:.3f}\".format(svc.score(X_train_scaled, y_train)))\n",
    "print(\"Precisión en el test set: {:.3f}\".format(svc.score(X_test_scaled, y_test)))"
   ]
  },
  {
   "cell_type": "markdown",
   "execution_count": null,
   "metadata": {},
   "outputs": [],
   "source": [
    "Como puede verse, escalar los datos mejora enormemente los resultados. De hecho, ahora estamos en una situación de subajuste, donde ambos rendimientos de training y test son similares pero menos cercanos a 100%. Desde esta situación de partida, podemos intentar incrementar $C$ o $\\gamma$ para ajustar con un modelo más complejo.\n",
    "\n",
    "Por ejemplo:"
   ]
  },
  {
   "cell_type": "code",
   "execution_count": null,
   "metadata": {},
   "outputs": [],
   "source": [
    "# Entrena svc on C=1000\n",
    "svc = SVC(C=1000,gamma='auto')\n",
    "svc.fit(X_train_scaled, y_train)\n",
    "\n",
    "# Muestra la precisión\n",
    "print(\"Precisión en el training set: {:.3f}\".format(\n",
    "    svc.score(X_train_scaled, y_train)))\n",
    "print(\"Precisión en el test set: {:.3f}\"\n",
    "      .format(svc.score(X_test_scaled, y_test)))\n",
    "# Se ve que ha funcionado muy bien el subir el C"
   ]
  },
  {
   "cell_type": "code",
   "execution_count": null,
   "metadata": {},
   "outputs": [],
   "source": []
  }
 ],
 "metadata": {
  "kernelspec": {
   "display_name": "ks-sl",
   "language": "python",
   "name": "ks-sl"
  },
  "language_info": {
   "codemirror_mode": {
    "name": "ipython",
    "version": 3
   },
   "file_extension": ".py",
   "mimetype": "text/x-python",
   "name": "python",
   "nbconvert_exporter": "python",
   "pygments_lexer": "ipython3",
   "version": "3.7.3-final"
  },
  "latex_metadata": {
   "author": "Andreas C. M\\\"ller",
   "title": "Machine Learning with Python"
  }
 },
 "nbformat": 4,
 "nbformat_minor": 2
}