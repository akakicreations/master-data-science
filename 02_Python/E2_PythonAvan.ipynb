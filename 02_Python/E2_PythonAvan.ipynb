{
 "cells": [
  {
   "cell_type": "markdown",
   "metadata": {},
   "source": [
    "# Ejercicios Python Avanzado"
   ]
  },
  {
   "cell_type": "markdown",
   "metadata": {},
   "source": [
    "___"
   ]
  },
  {
   "cell_type": "markdown",
   "metadata": {},
   "source": [
    "## 7. Control Flow"
   ]
  },
  {
   "cell_type": "markdown",
   "metadata": {},
   "source": [
    "### Condicionales\n",
    "\n",
    "- Escribe un scrip que comprube si un año es bisiesto usando condicionales.\n",
    "\n",
    "*Año bisiesto es el divisible entre 4, salvo que sea año secular -último de cada siglo, terminado en «00»-, en cuyo caso también ha de ser divisible entre 400.* Fuente [Wikipedia](https://es.wikipedia.org/wiki/A%C3%B1o_bisiesto)"
   ]
  },
  {
   "cell_type": "code",
   "execution_count": 10,
   "metadata": {},
   "outputs": [
    {
     "name": "stdin",
     "output_type": "stream",
     "text": [
      "Escribe un año 200000\n"
     ]
    },
    {
     "name": "stdout",
     "output_type": "stream",
     "text": [
      "algo va mal\n"
     ]
    }
   ],
   "source": [
    "#Entrada \n",
    "ano_bisiesto = int(input('Escribe un año'))\n",
    "\n",
    "#Algoritmo\n",
    "if ano_bisiesto % 4:\n",
    "    print(str(ano_bisiesto) + ' es año bisiesto!')\n",
    "elif ano_bisiesto % 400:  #NO FUNCIONA Y NO SÉ POR QUÉ\n",
    "    print(str(ano_bisiesto) + ' es año bisiesto y terminado en 00!')\n",
    "else:\n",
    "    print('algo va mal')\n",
    "\n",
    "#salida"
   ]
  },
  {
   "cell_type": "markdown",
   "metadata": {},
   "source": [
    "### Bucles"
   ]
  },
  {
   "cell_type": "markdown",
   "metadata": {},
   "source": [
    "- Con un bucle `for` y un condicional encuentra todos los divisores de un número"
   ]
  },
  {
   "cell_type": "code",
   "execution_count": null,
   "metadata": {},
   "outputs": [],
   "source": [
    "#Recoger de ejercicios resuelto de profesor"
   ]
  },
  {
   "cell_type": "markdown",
   "metadata": {},
   "source": [
    "- Haz lo mismo pero con un bucle `while`."
   ]
  },
  {
   "cell_type": "code",
   "execution_count": null,
   "metadata": {},
   "outputs": [],
   "source": [
    "#Recoger de ejercicios resuelto de profesor"
   ]
  },
  {
   "cell_type": "markdown",
   "metadata": {},
   "source": [
    "- Encuentra el máximo divisor (distinto de él mismo) de un número con un bucle (`for` o `while`) y sal del bucle mismo cuando lo encuentres."
   ]
  },
  {
   "cell_type": "code",
   "execution_count": null,
   "metadata": {},
   "outputs": [],
   "source": [
    "#Recoger de ejercicios resuelto de profesor"
   ]
  },
  {
   "cell_type": "markdown",
   "metadata": {},
   "source": [
    "### map, filter, reduce"
   ]
  },
  {
   "cell_type": "markdown",
   "metadata": {},
   "source": [
    "Suma el cuadrado de los números divisibles entre un número A que hay hasta un número B usando `map`, `filter` y `reduce`"
   ]
  },
  {
   "cell_type": "code",
   "execution_count": null,
   "metadata": {},
   "outputs": [],
   "source": []
  },
  {
   "cell_type": "markdown",
   "metadata": {},
   "source": [
    "### Exceptiones"
   ]
  },
  {
   "cell_type": "markdown",
   "metadata": {},
   "source": [
    "- Intenta dividir por cero y controla sólo esa excepción."
   ]
  },
  {
   "cell_type": "code",
   "execution_count": 20,
   "metadata": {},
   "outputs": [
    {
     "name": "stdout",
     "output_type": "stream",
     "text": [
      "Ehh, no se puede dividir entre 0\n"
     ]
    }
   ],
   "source": [
    "number = 6 #Mirar el del profesor también\n",
    "number2 = 0\n",
    "try:\n",
    "    division = int(number / number2)\n",
    "    print('Resultado: ' + str(division))\n",
    "except ZeroDivisionError:\n",
    "    print ('Ehh, no se puede dividir entre 0')\n",
    "    "
   ]
  },
  {
   "cell_type": "markdown",
   "metadata": {},
   "source": [
    "### Debugger"
   ]
  },
  {
   "cell_type": "markdown",
   "metadata": {},
   "source": [
    "- Introduce una parada del pdb en algún punto de alguno de los códigos que has escrito arriba.\n",
    "    - Muestra el lugar donde estás\n",
    "    - Muestra todo el código\n",
    "    - Avanza pro el código\n",
    "    - Aborta\n",
    "    - Continua la ejecución"
   ]
  },
  {
   "cell_type": "markdown",
   "metadata": {},
   "source": [
    "___"
   ]
  },
  {
   "cell_type": "markdown",
   "metadata": {},
   "source": [
    "## 8. Funciones"
   ]
  },
  {
   "cell_type": "markdown",
   "metadata": {},
   "source": [
    "- Define una función que calcule el número de vocales en una string pasada como argumento."
   ]
  },
  {
   "cell_type": "code",
   "execution_count": 57,
   "metadata": {},
   "outputs": [],
   "source": [
    "def n_vocales(string): #Mirar ejercicios del profesor\n",
    "    count = 0\n",
    "    for s in string:\n",
    "        if s in 'aeiou':\n",
    "            count += 1\n",
    "    return count"
   ]
  },
  {
   "cell_type": "code",
   "execution_count": 58,
   "metadata": {},
   "outputs": [
    {
     "data": {
      "text/plain": [
       "3"
      ]
     },
     "execution_count": 58,
     "metadata": {},
     "output_type": "execute_result"
    }
   ],
   "source": [
    "n_vocales('avion')"
   ]
  },
  {
   "cell_type": "markdown",
   "metadata": {},
   "source": [
    "- Define una función que pregunte al usuario su año de nacimiento y calcule su edad"
   ]
  },
  {
   "cell_type": "code",
   "execution_count": null,
   "metadata": {},
   "outputs": [],
   "source": [
    "def edad(x):\n",
    "    edad_calculo = 2020- int(x)\n",
    "    return edad_calculo"
   ]
  },
  {
   "cell_type": "code",
   "execution_count": null,
   "metadata": {},
   "outputs": [],
   "source": [
    "edad(1986)"
   ]
  },
  {
   "cell_type": "markdown",
   "metadata": {},
   "source": [
    "___"
   ]
  },
  {
   "cell_type": "markdown",
   "metadata": {},
   "source": [
    "## 9. Módulos"
   ]
  },
  {
   "cell_type": "markdown",
   "metadata": {},
   "source": [
    "- Guarda las funciones definidas en el apartado anterior en un fichero `.py`"
   ]
  },
  {
   "cell_type": "code",
   "execution_count": 1,
   "metadata": {},
   "outputs": [
    {
     "name": "stdout",
     "output_type": "stream",
     "text": [
      "Overwriting tmp/prueba.py\n"
     ]
    }
   ],
   "source": [
    "%%file tmp/prueba.py\n",
    "\n",
    "def edad(x):\n",
    "    edad_calculo = 2020- int(x)\n",
    "    return edad_calculo"
   ]
  },
  {
   "cell_type": "markdown",
   "metadata": {},
   "source": [
    "- Reinicia el kernel y comrpueba las variables que hay definidas en el namespace con magia."
   ]
  },
  {
   "cell_type": "code",
   "execution_count": 14,
   "metadata": {},
   "outputs": [
    {
     "name": "stdout",
     "output_type": "stream",
     "text": [
      "Variable   Type        Data/Info\n",
      "--------------------------------\n",
      "edad       function    <function edad at 0x10291f1e0>\n",
      "pr         module      <module 'tmp.prueba' from<...>_10-01-20/tmp/prueba.py'>\n",
      "tmp        module      <module 'tmp' (namespace)>\n"
     ]
    }
   ],
   "source": [
    "%whos"
   ]
  },
  {
   "cell_type": "markdown",
   "metadata": {},
   "source": [
    "- Importa el módulo y usa una función."
   ]
  },
  {
   "cell_type": "code",
   "execution_count": 1,
   "metadata": {},
   "outputs": [],
   "source": [
    "from tmp.prueba import edad_ #Importante hay que reiniciar el kernel si se cambia porque si no, no va"
   ]
  },
  {
   "cell_type": "code",
   "execution_count": 2,
   "metadata": {},
   "outputs": [
    {
     "data": {
      "text/plain": [
       "34"
      ]
     },
     "execution_count": 2,
     "metadata": {},
     "output_type": "execute_result"
    }
   ],
   "source": [
    "edad_(1986)"
   ]
  },
  {
   "cell_type": "markdown",
   "metadata": {},
   "source": [
    "- Importa sólo una función específica y úsala"
   ]
  },
  {
   "cell_type": "code",
   "execution_count": 3,
   "metadata": {},
   "outputs": [],
   "source": [
    "import tmp.prueba as pr #ojo, import tmp.prueba a secas no valdría porque se crea un módulo con mombre tmp"
   ]
  },
  {
   "cell_type": "markdown",
   "metadata": {},
   "source": [
    "- Comprueba las variables definidas en el namespace."
   ]
  },
  {
   "cell_type": "code",
   "execution_count": 15,
   "metadata": {},
   "outputs": [
    {
     "name": "stdout",
     "output_type": "stream",
     "text": [
      "Variable   Type        Data/Info\n",
      "--------------------------------\n",
      "edad       function    <function edad at 0x10291f1e0>\n",
      "pr         module      <module 'tmp.prueba' from<...>_10-01-20/tmp/prueba.py'>\n",
      "tmp        module      <module 'tmp' (namespace)>\n"
     ]
    }
   ],
   "source": [
    "%whos"
   ]
  },
  {
   "cell_type": "markdown",
   "metadata": {},
   "source": [
    "___"
   ]
  },
  {
   "cell_type": "markdown",
   "metadata": {},
   "source": [
    "## 10. Ficheros"
   ]
  },
  {
   "cell_type": "markdown",
   "metadata": {},
   "source": [
    "- Lee las primeras 5 líneas del fichero de la cotización de google que se encuentra en la dirección `../data/googl.us.csv`"
   ]
  },
  {
   "cell_type": "code",
   "execution_count": 30,
   "metadata": {},
   "outputs": [
    {
     "name": "stdout",
     "output_type": "stream",
     "text": [
      "['Date,Open,High,Low,Close,Volume,OpenInt\\n', '2004-08-19,50,52.03,47.98,50.17,44703800,0\\n', '2004-08-20,50.505,54.54,50.25,54.155,22857200,0\\n', '2004-08-23,55.375,56.74,54.525,54.7,18274400,0\\n', '2004-08-24,55.62,55.8,51.785,52.435,15262600,0\\n']\n"
     ]
    }
   ],
   "source": [
    "with open ('data/googl.us.csv', 'r') as f:\n",
    "    line = f.readlines()[:5]\n",
    "print(line)"
   ]
  },
  {
   "cell_type": "code",
   "execution_count": 31,
   "metadata": {},
   "outputs": [
    {
     "data": {
      "text/plain": [
       "(3333, 7)"
      ]
     },
     "execution_count": 31,
     "metadata": {},
     "output_type": "execute_result"
    }
   ],
   "source": [
    "#Con pandas\n",
    "import pandas as pd\n",
    "df = pd.read_csv('data/googl.us.csv', sep=',')\n",
    "df.head()"
   ]
  },
  {
   "cell_type": "markdown",
   "metadata": {},
   "source": [
    "- Escribe ahora las cinco primeras líneas en un nuevo fichero `tmp/file.csv` quitando el header"
   ]
  },
  {
   "cell_type": "code",
   "execution_count": null,
   "metadata": {},
   "outputs": [],
   "source": [
    "#Ver en documento profesor"
   ]
  },
  {
   "cell_type": "markdown",
   "metadata": {},
   "source": [
    "- Ahora añade las líneas siguientes al archivo anterior"
   ]
  },
  {
   "cell_type": "code",
   "execution_count": null,
   "metadata": {},
   "outputs": [],
   "source": [
    "#Ver en documento profesor"
   ]
  },
  {
   "cell_type": "markdown",
   "metadata": {},
   "source": [
    "___"
   ]
  },
  {
   "cell_type": "markdown",
   "metadata": {},
   "source": [
    "## 11. Clases"
   ]
  },
  {
   "cell_type": "markdown",
   "metadata": {},
   "source": [
    "- Crea una clase que modele la conexión a una base de datos."
   ]
  }
 ],
 "metadata": {
  "kernelspec": {
   "display_name": "Python 3",
   "language": "python",
   "name": "python3"
  },
  "language_info": {
   "codemirror_mode": {
    "name": "ipython",
    "version": 3
   },
   "file_extension": ".py",
   "mimetype": "text/x-python",
   "name": "python",
   "nbconvert_exporter": "python",
   "pygments_lexer": "ipython3",
   "version": "3.7.3"
  }
 },
 "nbformat": 4,
 "nbformat_minor": 4
}
