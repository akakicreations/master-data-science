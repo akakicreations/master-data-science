{
  "nbformat": 4,
  "nbformat_minor": 0,
  "metadata": {
    "kernelspec": {
      "display_name": "Python 3",
      "language": "python",
      "name": "python3"
    },
    "language_info": {
      "codemirror_mode": {
        "name": "ipython",
        "version": 3
      },
      "file_extension": ".py",
      "mimetype": "text/x-python",
      "name": "python",
      "nbconvert_exporter": "python",
      "pygments_lexer": "ipython3",
      "version": "3.7.7"
    },
    "colab": {
      "name": "05-ML_in_Spark.inclass.ipynb",
      "provenance": [],
      "collapsed_sections": []
    }
  },
  "cells": [
    {
      "cell_type": "markdown",
      "metadata": {
        "id": "QZjWUHQkAxRq",
        "colab_type": "text"
      },
      "source": [
        "# Tuning Machine Learning models in Spark\n",
        "\n",
        "<a href = \"http://yogen.io\"><img src=\"http://yogen.io/assets/logo.svg\" alt=\"yogen\" style=\"width: 200px; float: right;\"/></a>"
      ]
    },
    {
      "cell_type": "markdown",
      "metadata": {
        "id": "S5zHJELkAxR0",
        "colab_type": "text"
      },
      "source": [
        "### If you are running this notebook in Google Colab\n",
        "\n",
        "Copy the following to a code cell and run it. It will install and set up Spark for you.\n",
        "\n",
        "```python\n",
        "!apt-get install openjdk-8-jdk-headless -qq > /dev/null\n",
        "!wget -q http://apache.uvigo.es/spark/spark-2.4.6/spark-2.4.6-bin-hadoop2.7.tgz\n",
        "!tar -xf spark-2.4.6-bin-hadoop2.7.tgz\n",
        "!pip install -q findspark pyspark==2.4.6\n",
        "\n",
        "import os\n",
        "import findspark\n",
        "from pyspark.sql import SparkSession\n",
        "\n",
        "os.environ[\"JAVA_HOME\"] = \"/usr/lib/jvm/java-8-openjdk-amd64\"\n",
        "os.environ[\"SPARK_HOME\"] = \"/content/spark-2.4.6-bin-hadoop2.7\"\n",
        "findspark.init()\n",
        "spark = SparkSession.builder.master(\"local[*]\").getOrCreate()\n",
        "```"
      ]
    },
    {
      "cell_type": "code",
      "metadata": {
        "id": "XGBVt7QAAxR6",
        "colab_type": "code",
        "colab": {
          "base_uri": "https://localhost:8080/",
          "height": 67
        },
        "outputId": "306fa7d3-e5fd-4351-e21f-f0bf87f55361"
      },
      "source": [
        "!apt-get install openjdk-8-jdk-headless -qq > /dev/null\n",
        "!wget -q http://apache.uvigo.es/spark/spark-2.4.6/spark-2.4.6-bin-hadoop2.7.tgz\n",
        "!tar -xf spark-2.4.6-bin-hadoop2.7.tgz\n",
        "!pip install -q findspark pyspark==2.4.6\n",
        " \n",
        "import os\n",
        "import findspark\n",
        "from pyspark.sql import SparkSession\n",
        " \n",
        "os.environ[\"JAVA_HOME\"] = \"/usr/lib/jvm/java-8-openjdk-amd64\"\n",
        "os.environ[\"SPARK_HOME\"] = \"/content/spark-2.4.6-bin-hadoop2.7\"\n",
        "findspark.init()\n",
        "spark = SparkSession.builder.master(\"local[*]\").getOrCreate()"
      ],
      "execution_count": 1,
      "outputs": [
        {
          "output_type": "stream",
          "text": [
            "\u001b[K     |████████████████████████████████| 218.4MB 65kB/s \n",
            "\u001b[K     |████████████████████████████████| 204kB 46.8MB/s \n",
            "\u001b[?25h  Building wheel for pyspark (setup.py) ... \u001b[?25l\u001b[?25hdone\n"
          ],
          "name": "stdout"
        }
      ]
    },
    {
      "cell_type": "markdown",
      "metadata": {
        "id": "EUYWyNpOAxSU",
        "colab_type": "text"
      },
      "source": [
        "## ML Pipelines in Spark\n",
        "\n",
        "ML model training and tuning often represents running the same steps once and again. Often, we run the same steps with small variations in order to evaluate combinations of parameters. \n",
        "\n",
        "In order to make this use case a lot easier, Spark provides the [Pipeline](https://spark.apache.org/docs/2.3.0/ml-pipeline.html) abstraction.\n",
        "\n",
        "A Pipeline represents a series of steps in the processing of a dataset. Each step is a Transformer or an Estimator. The whole Pipeline is an Estimator, so we can .fit the whole pipeline in one step. When we do that, the steps'  .fit and .transform methods will be called in turn."
      ]
    },
    {
      "cell_type": "markdown",
      "metadata": {
        "id": "Pqihd9trAxSZ",
        "colab_type": "text"
      },
      "source": [
        "![pipelineestimator](https://spark.apache.org/docs/2.3.0/img/ml-Pipeline.png)"
      ]
    },
    {
      "cell_type": "markdown",
      "metadata": {
        "id": "L4x9H0t4AxSd",
        "colab_type": "text"
      },
      "source": [
        "![PipelineModel](https://spark.apache.org/docs/2.3.0/img/ml-PipelineModel.png)"
      ]
    },
    {
      "cell_type": "markdown",
      "metadata": {
        "id": "J27R_Y56AxSi",
        "colab_type": "text"
      },
      "source": [
        "## Example: predicting flight delays\n",
        "\n",
        "We'll be using the same [Transtats'](https://www.transtats.bts.gov/) OTP performance data] from way back when. Remember it?\n",
        "\n",
        "It's a table that contains all domestic departures by US air air carriers that represent at least one percent of domestic scheduled passenger revenues, with data on each individual departure including [Tail Number](https://en.wikipedia.org/wiki/Tail_number), departure delay, origin, destination and carrier.\n"
      ]
    },
    {
      "cell_type": "markdown",
      "metadata": {
        "id": "-pyGsWlkAxSl",
        "colab_type": "text"
      },
      "source": [
        "### Load the data\n",
        "\n",
        "Opening .zip files in Spark is a bit of a pain. For now, let's just decompress the file we want to read. When we are ready to expand the processing to the cluster, we will need to do [this](https://stackoverflow.com/questions/28569788/how-to-open-stream-zip-files-through-spark).\n",
        "\n",
        "```python\n",
        "csvname = 'On_Time_Reporting_Carrier_On_Time_Performance_(1987_present)_2018_12.csv'\n",
        "columns_of_interest = ['Year', 'Month', 'DayofMonth', 'DayOfWeek', 'Reporting_Airline', \n",
        "                       'Tail_Number', 'Flight_Number_Reporting_Airline', 'Origin', \n",
        "                       'OriginCityName', 'OriginStateName', 'Dest', 'DestCityName', 'DestStateName',\n",
        "                       'DepTime', 'DepDelay', 'AirTime', 'Distance']\n",
        "```"
      ]
    },
    {
      "cell_type": "code",
      "metadata": {
        "scrolled": false,
        "id": "ABxCNZ85AxSp",
        "colab_type": "code",
        "colab": {
          "base_uri": "https://localhost:8080/",
          "height": 54
        },
        "outputId": "512ef876-bf49-4bd7-95ee-6c6acba55c47"
      },
      "source": [
        "flights = spark.read.csv('On_Time_Reporting_Carrier_On_Time_Performance_1987_present_2018_12 (1).csv.gz', header=True, inferSchema=True)\n",
        "flights"
      ],
      "execution_count": 5,
      "outputs": [
        {
          "output_type": "execute_result",
          "data": {
            "text/plain": [
              "DataFrame[Year: int, Quarter: int, Month: int, DayofMonth: int, DayOfWeek: int, FlightDate: timestamp, Reporting_Airline: string, DOT_ID_Reporting_Airline: int, IATA_CODE_Reporting_Airline: string, Tail_Number: string, Flight_Number_Reporting_Airline: int, OriginAirportID: int, OriginAirportSeqID: int, OriginCityMarketID: int, Origin: string, OriginCityName: string, OriginState: string, OriginStateFips: int, OriginStateName: string, OriginWac: int, DestAirportID: int, DestAirportSeqID: int, DestCityMarketID: int, Dest: string, DestCityName: string, DestState: string, DestStateFips: int, DestStateName: string, DestWac: int, CRSDepTime: int, DepTime: int, DepDelay: double, DepDelayMinutes: double, DepDel15: double, DepartureDelayGroups: int, DepTimeBlk: string, TaxiOut: double, WheelsOff: int, WheelsOn: int, TaxiIn: double, CRSArrTime: int, ArrTime: int, ArrDelay: double, ArrDelayMinutes: double, ArrDel15: double, ArrivalDelayGroups: int, ArrTimeBlk: string, Cancelled: double, CancellationCode: string, Diverted: double, CRSElapsedTime: double, ActualElapsedTime: double, AirTime: double, Flights: double, Distance: double, DistanceGroup: int, CarrierDelay: double, WeatherDelay: double, NASDelay: double, SecurityDelay: double, LateAircraftDelay: double, FirstDepTime: int, TotalAddGTime: double, LongestAddGTime: double, DivAirportLandings: int, DivReachedDest: double, DivActualElapsedTime: double, DivArrDelay: double, DivDistance: double, Div1Airport: string, Div1AirportID: int, Div1AirportSeqID: int, Div1WheelsOn: int, Div1TotalGTime: double, Div1LongestGTime: double, Div1WheelsOff: int, Div1TailNum: string, Div2Airport: string, Div2AirportID: int, Div2AirportSeqID: int, Div2WheelsOn: int, Div2TotalGTime: double, Div2LongestGTime: double, Div2WheelsOff: int, Div2TailNum: string, Div3Airport: string, Div3AirportID: string, Div3AirportSeqID: string, Div3WheelsOn: string, Div3TotalGTime: string, Div3LongestGTime: string, Div3WheelsOff: string, Div3TailNum: string, Div4Airport: string, Div4AirportID: string, Div4AirportSeqID: string, Div4WheelsOn: string, Div4TotalGTime: string, Div4LongestGTime: string, Div4WheelsOff: string, Div4TailNum: string, Div5Airport: string, Div5AirportID: string, Div5AirportSeqID: string, Div5WheelsOn: string, Div5TotalGTime: string, Div5LongestGTime: string, Div5WheelsOff: string, Div5TailNum: string, _c109: string]"
            ]
          },
          "metadata": {
            "tags": []
          },
          "execution_count": 5
        }
      ]
    },
    {
      "cell_type": "code",
      "metadata": {
        "id": "Zf_dc92VI4OX",
        "colab_type": "code",
        "colab": {
          "base_uri": "https://localhost:8080/",
          "height": 54
        },
        "outputId": "a8150080-1c79-4e33-db41-500adb484083"
      },
      "source": [
        "columns_of_interest = ['Year', 'Month', 'DayofMonth', 'DayOfWeek', 'Reporting_Airline', \n",
        "                       'Tail_Number', 'Flight_Number_Reporting_Airline', 'Origin', \n",
        "                       'OriginCityName', 'OriginStateName', 'Dest', 'DestCityName', 'DestStateName',\n",
        "                       'DepTime', 'DepDelay', 'AirTime', 'Distance']\n",
        "\n",
        "flights = flights[columns_of_interest]\n",
        "flights"
      ],
      "execution_count": 6,
      "outputs": [
        {
          "output_type": "execute_result",
          "data": {
            "text/plain": [
              "DataFrame[Year: int, Month: int, DayofMonth: int, DayOfWeek: int, Reporting_Airline: string, Tail_Number: string, Flight_Number_Reporting_Airline: int, Origin: string, OriginCityName: string, OriginStateName: string, Dest: string, DestCityName: string, DestStateName: string, DepTime: int, DepDelay: double, AirTime: double, Distance: double]"
            ]
          },
          "metadata": {
            "tags": []
          },
          "execution_count": 6
        }
      ]
    },
    {
      "cell_type": "markdown",
      "metadata": {
        "id": "ElNKMegaAxS-",
        "colab_type": "text"
      },
      "source": [
        "### Drop nas\n",
        "\n",
        "There are only a few departures for which any of the columns of interest contains null values. The most expedient way to handle them is to just drop them, since they won't make much of a difference."
      ]
    },
    {
      "cell_type": "code",
      "metadata": {
        "id": "k_qSuBLnAxTB",
        "colab_type": "code",
        "colab": {
          "base_uri": "https://localhost:8080/",
          "height": 121
        },
        "outputId": "e1db6ac7-ba30-45e5-eef7-989ddf2ecff8"
      },
      "source": [
        "from pyspark.sql import types, functions\n",
        "\n",
        "flights[flights['Origin'].isNull()].show()"
      ],
      "execution_count": 15,
      "outputs": [
        {
          "output_type": "stream",
          "text": [
            "+----+-----+----------+---------+-----------------+-----------+-------------------------------+------+--------------+---------------+----+------------+-------------+-------+--------+-------+--------+\n",
            "|Year|Month|DayofMonth|DayOfWeek|Reporting_Airline|Tail_Number|Flight_Number_Reporting_Airline|Origin|OriginCityName|OriginStateName|Dest|DestCityName|DestStateName|DepTime|DepDelay|AirTime|Distance|\n",
            "+----+-----+----------+---------+-----------------+-----------+-------------------------------+------+--------------+---------------+----+------------+-------------+-------+--------+-------+--------+\n",
            "+----+-----+----------+---------+-----------------+-----------+-------------------------------+------+--------------+---------------+----+------------+-------------+-------+--------+-------+--------+\n",
            "\n"
          ],
          "name": "stdout"
        }
      ]
    },
    {
      "cell_type": "markdown",
      "metadata": {
        "id": "YNi4ub7xAxTP",
        "colab_type": "text"
      },
      "source": [
        "NA-related functions are grouped in a .na attribute of DataFrames."
      ]
    },
    {
      "cell_type": "code",
      "metadata": {
        "id": "ICegG89MAxTR",
        "colab_type": "code",
        "colab": {
          "base_uri": "https://localhost:8080/",
          "height": 54
        },
        "outputId": "fce977f7-7204-4296-b814-5138382cade1"
      },
      "source": [
        "flights_nonas = flights.na.drop()\n",
        "flights_nonas"
      ],
      "execution_count": 18,
      "outputs": [
        {
          "output_type": "execute_result",
          "data": {
            "text/plain": [
              "DataFrame[Year: int, Month: int, DayofMonth: int, DayOfWeek: int, Reporting_Airline: string, Tail_Number: string, Flight_Number_Reporting_Airline: int, Origin: string, OriginCityName: string, OriginStateName: string, Dest: string, DestCityName: string, DestStateName: string, DepTime: int, DepDelay: double, AirTime: double, Distance: double]"
            ]
          },
          "metadata": {
            "tags": []
          },
          "execution_count": 18
        }
      ]
    },
    {
      "cell_type": "markdown",
      "metadata": {
        "id": "nfecgR_AAxTd",
        "colab_type": "text"
      },
      "source": [
        "## Feature extraction and generation of target variable\n",
        "\n",
        "The departing hour is the most important factor in delays, so we need to calculate it from the departure time. Since the input file uses a funny format for times, Spark has interpreted them as floats:"
      ]
    },
    {
      "cell_type": "code",
      "metadata": {
        "scrolled": true,
        "id": "AauJsaHWAxTi",
        "colab_type": "code",
        "colab": {
          "base_uri": "https://localhost:8080/",
          "height": 202
        },
        "outputId": "801be9f3-9a21-4845-da0b-3cf95c2fa2a9"
      },
      "source": [
        "flights_nonas.select('DepTime').show(5)"
      ],
      "execution_count": 19,
      "outputs": [
        {
          "output_type": "stream",
          "text": [
            "+-------+\n",
            "|DepTime|\n",
            "+-------+\n",
            "|   1048|\n",
            "|    638|\n",
            "|   1710|\n",
            "|   1318|\n",
            "|    953|\n",
            "+-------+\n",
            "only showing top 5 rows\n",
            "\n"
          ],
          "name": "stdout"
        }
      ]
    },
    {
      "cell_type": "markdown",
      "metadata": {
        "id": "FPqERL42AxTz",
        "colab_type": "text"
      },
      "source": [
        "#### Exercise\n",
        "\n",
        "Calculated the 'DepHour' column that represents the hour as an int."
      ]
    },
    {
      "cell_type": "code",
      "metadata": {
        "id": "ve1ehZKlAxT4",
        "colab_type": "code",
        "colab": {
          "base_uri": "https://localhost:8080/",
          "height": 54
        },
        "outputId": "33e5bb8f-39c3-4da2-cb6f-e39ffb823570"
      },
      "source": [
        "my_udf = functions.udf(lambda x: x // 100, returnType=types.IntegerType())\n",
        "\n",
        "with_hours = flights_nonas.withColumn('DepHour', my_udf('DepTime'))\n",
        "with_hours"
      ],
      "execution_count": 22,
      "outputs": [
        {
          "output_type": "execute_result",
          "data": {
            "text/plain": [
              "DataFrame[Year: int, Month: int, DayofMonth: int, DayOfWeek: int, Reporting_Airline: string, Tail_Number: string, Flight_Number_Reporting_Airline: int, Origin: string, OriginCityName: string, OriginStateName: string, Dest: string, DestCityName: string, DestStateName: string, DepTime: int, DepDelay: double, AirTime: double, Distance: double, DepHour: int]"
            ]
          },
          "metadata": {
            "tags": []
          },
          "execution_count": 22
        }
      ]
    },
    {
      "cell_type": "markdown",
      "metadata": {
        "id": "lBm0k-37AxUC",
        "colab_type": "text"
      },
      "source": [
        "We will also generate a binary target variable. The aviation industry considers a flight delayed when it departs more than 15 minutes after its scheduled departure time, so we will use that. We will create it as an integer, since that is what the learning algorithms expect."
      ]
    },
    {
      "cell_type": "code",
      "metadata": {
        "id": "QugOMJsjAxUG",
        "colab_type": "code",
        "colab": {
          "base_uri": "https://localhost:8080/",
          "height": 54
        },
        "outputId": "4ee20382-0c9e-461f-80ee-1a10618e56dc"
      },
      "source": [
        "delays = with_hours.withColumn('Delayed', (with_hours['DepDelay'] > 15).cast(types.IntegerType()))\n",
        "delays"
      ],
      "execution_count": 27,
      "outputs": [
        {
          "output_type": "execute_result",
          "data": {
            "text/plain": [
              "DataFrame[Year: int, Month: int, DayofMonth: int, DayOfWeek: int, Reporting_Airline: string, Tail_Number: string, Flight_Number_Reporting_Airline: int, Origin: string, OriginCityName: string, OriginStateName: string, Dest: string, DestCityName: string, DestStateName: string, DepTime: int, DepDelay: double, AirTime: double, Distance: double, DepHour: int, Delayed: int]"
            ]
          },
          "metadata": {
            "tags": []
          },
          "execution_count": 27
        }
      ]
    },
    {
      "cell_type": "code",
      "metadata": {
        "id": "KJc-vwL0OLDv",
        "colab_type": "code",
        "colab": {
          "base_uri": "https://localhost:8080/",
          "height": 306
        },
        "outputId": "7e50f61a-b82c-437b-a4eb-07e80df84077"
      },
      "source": [
        "delays.show(10)"
      ],
      "execution_count": 30,
      "outputs": [
        {
          "output_type": "stream",
          "text": [
            "+----+-----+----------+---------+-----------------+-----------+-------------------------------+------+--------------+---------------+----+----------------+-------------+-------+--------+-------+--------+-------+-------+\n",
            "|Year|Month|DayofMonth|DayOfWeek|Reporting_Airline|Tail_Number|Flight_Number_Reporting_Airline|Origin|OriginCityName|OriginStateName|Dest|    DestCityName|DestStateName|DepTime|DepDelay|AirTime|Distance|DepHour|Delayed|\n",
            "+----+-----+----------+---------+-----------------+-----------+-------------------------------+------+--------------+---------------+----+----------------+-------------+-------+--------+-------+--------+-------+-------+\n",
            "|2018|   12|        25|        2|               WN|     N566WN|                           1823|   OAK|   Oakland, CA|     California| GEG|     Spokane, WA|   Washington|   1048|    18.0|  111.0|   723.0|     10|      1|\n",
            "|2018|   12|        25|        2|               WN|     N562WN|                            982|   OAK|   Oakland, CA|     California| HOU|     Houston, TX|        Texas|    638|    -2.0|  204.0|  1642.0|      6|      0|\n",
            "|2018|   12|        25|        2|               WN|     N8611F|                           1562|   OAK|   Oakland, CA|     California| HOU|     Houston, TX|        Texas|   1710|     0.0|  207.0|  1642.0|     17|      0|\n",
            "|2018|   12|        25|        2|               WN|     N7721E|                           1687|   OAK|   Oakland, CA|     California| HOU|     Houston, TX|        Texas|   1318|    -2.0|  204.0|  1642.0|     13|      0|\n",
            "|2018|   12|        25|        2|               WN|     N218WN|                           1877|   OAK|   Oakland, CA|     California| HOU|     Houston, TX|        Texas|    953|    -2.0|  205.0|  1642.0|      9|      0|\n",
            "|2018|   12|        25|        2|               WN|     N8615E|                            646|   OAK|   Oakland, CA|     California| IND|Indianapolis, IN|      Indiana|   1646|     1.0|  216.0|  1933.0|     16|      0|\n",
            "|2018|   12|        25|        2|               WN|     N704SW|                            353|   OAK|   Oakland, CA|     California| LAS|   Las Vegas, NV|       Nevada|   1813|    13.0|   64.0|   407.0|     18|      0|\n",
            "|2018|   12|        25|        2|               WN|     N785SW|                            661|   OAK|   Oakland, CA|     California| LAS|   Las Vegas, NV|       Nevada|   1450|     0.0|   62.0|   407.0|     14|      0|\n",
            "|2018|   12|        25|        2|               WN|     N8657B|                           1068|   OAK|   Oakland, CA|     California| LAS|   Las Vegas, NV|       Nevada|    953|    -2.0|   62.0|   407.0|      9|      0|\n",
            "|2018|   12|        25|        2|               WN|     N419WN|                           1498|   OAK|   Oakland, CA|     California| LAS|   Las Vegas, NV|       Nevada|   1219|    -6.0|   67.0|   407.0|     12|      0|\n",
            "+----+-----+----------+---------+-----------------+-----------+-------------------------------+------+--------------+---------------+----+----------------+-------------+-------+--------+-------+--------+-------+-------+\n",
            "only showing top 10 rows\n",
            "\n"
          ],
          "name": "stdout"
        }
      ]
    },
    {
      "cell_type": "markdown",
      "metadata": {
        "id": "NexXFvNRAxUW",
        "colab_type": "text"
      },
      "source": [
        "In order to make the training times manageable, let's pick only 10% of the data to train."
      ]
    },
    {
      "cell_type": "code",
      "metadata": {
        "id": "2Gp-CuWEAxUY",
        "colab_type": "code",
        "colab": {}
      },
      "source": [
        "sample, rest = delays.randomSplit([.1, .9])"
      ],
      "execution_count": 33,
      "outputs": []
    },
    {
      "cell_type": "markdown",
      "metadata": {
        "id": "5JpuyJfFAxUp",
        "colab_type": "text"
      },
      "source": [
        "## Handle different fields in different ways\n",
        "\n",
        "We have features of at least three kinds:\n",
        "\n",
        "* Numeric continuous fields, which we can use as input to many algorithms as they are. In particular, decision trees can take continuous variables with any value as input, since they only look for the cutoff point that most increases the homogeneity of the resulting groups. In contrast, if we were using a logistic regression with regularization, for example, we would need to first scale the variables to have comparable magnitudes.\n",
        "\n",
        "* There are fields which we will treat as categorical variables, but which are already integers. These need to be one-hot encoded.\n",
        "\n",
        "* Finally, there are several categorical variables that are encoded as strings. These need to be one-hot encoded, but OneHotEncoder requires numeric input. Therefore, we will need to apply a StringIndexer to each of them before one-hot encoding.\n",
        "\n",
        "```python\n",
        "# Reminder:\n",
        "\n",
        "categorical_fields = ['Year', 'Month', 'DayofMonth', 'DayOfWeek', 'Reporting_Airline', \n",
        "                      'Origin', 'OriginCityName', 'OriginStateName', \n",
        "                      'Dest', 'DestCityName', 'DestStateName']\n",
        "\n",
        "string_fields = [field.name for field in flights_sample.schema.fields if field.dataType == types.StringType()]\n",
        "\n",
        "continuous_fields = ['Distance', 'DepHour']\n",
        "\n",
        "target_field = 'Delayed'\n",
        "```"
      ]
    },
    {
      "cell_type": "code",
      "metadata": {
        "id": "kL7qlsA5PX6s",
        "colab_type": "code",
        "colab": {
          "base_uri": "https://localhost:8080/",
          "height": 336
        },
        "outputId": "4f47bc1d-ef3f-401b-c795-07d3d967c2dd"
      },
      "source": [
        "sample.schema.fields"
      ],
      "execution_count": 39,
      "outputs": [
        {
          "output_type": "execute_result",
          "data": {
            "text/plain": [
              "[StructField(Year,IntegerType,true),\n",
              " StructField(Month,IntegerType,true),\n",
              " StructField(DayofMonth,IntegerType,true),\n",
              " StructField(DayOfWeek,IntegerType,true),\n",
              " StructField(Reporting_Airline,StringType,true),\n",
              " StructField(Tail_Number,StringType,true),\n",
              " StructField(Flight_Number_Reporting_Airline,IntegerType,true),\n",
              " StructField(Origin,StringType,true),\n",
              " StructField(OriginCityName,StringType,true),\n",
              " StructField(OriginStateName,StringType,true),\n",
              " StructField(Dest,StringType,true),\n",
              " StructField(DestCityName,StringType,true),\n",
              " StructField(DestStateName,StringType,true),\n",
              " StructField(DepTime,IntegerType,true),\n",
              " StructField(DepDelay,DoubleType,true),\n",
              " StructField(AirTime,DoubleType,true),\n",
              " StructField(Distance,DoubleType,true),\n",
              " StructField(DepHour,IntegerType,true),\n",
              " StructField(Delayed,IntegerType,true)]"
            ]
          },
          "metadata": {
            "tags": []
          },
          "execution_count": 39
        }
      ]
    },
    {
      "cell_type": "code",
      "metadata": {
        "id": "SFf-CakrAxUt",
        "colab_type": "code",
        "colab": {}
      },
      "source": [
        "categorical_fields = ['Year', 'Month', 'DayofMonth', 'DayOfWeek', 'Reporting_Airline', \n",
        "                      'Origin', 'OriginCityName', 'OriginStateName', \n",
        "                      'Dest', 'DestCityName', 'DestStateName']\n",
        " \n",
        "string_fields = [field.name for field in sample.schema.fields if field.dataType == types.StringType()]\n",
        " \n",
        "continuous_fields = ['Distance', 'DepHour']\n",
        " \n",
        "target_field = 'Delayed'"
      ],
      "execution_count": 35,
      "outputs": []
    },
    {
      "cell_type": "markdown",
      "metadata": {
        "id": "R4LDzfN_AxU8",
        "colab_type": "text"
      },
      "source": [
        "We have generated the list of names of columns that have dataType string with a list comprehension, rather than hard-coding it, but it is just like the other ones."
      ]
    },
    {
      "cell_type": "code",
      "metadata": {
        "id": "Tr9EYvjNAxU-",
        "colab_type": "code",
        "colab": {
          "base_uri": "https://localhost:8080/",
          "height": 151
        },
        "outputId": "725711d6-2785-4ef5-cb4d-f1a9df747a24"
      },
      "source": [
        "string_fields"
      ],
      "execution_count": 40,
      "outputs": [
        {
          "output_type": "execute_result",
          "data": {
            "text/plain": [
              "['Reporting_Airline',\n",
              " 'Tail_Number',\n",
              " 'Origin',\n",
              " 'OriginCityName',\n",
              " 'OriginStateName',\n",
              " 'Dest',\n",
              " 'DestCityName',\n",
              " 'DestStateName']"
            ]
          },
          "metadata": {
            "tags": []
          },
          "execution_count": 40
        }
      ]
    },
    {
      "cell_type": "markdown",
      "metadata": {
        "id": "JXrGnOlQAxVI",
        "colab_type": "text"
      },
      "source": [
        "## Handling categorical fields\n",
        "\n",
        "Let's do the processing of just one field first, as an example. Then we will process the rest."
      ]
    },
    {
      "cell_type": "markdown",
      "metadata": {
        "id": "HAoq5H-jAxVL",
        "colab_type": "text"
      },
      "source": [
        "### StringIndexer \n",
        "\n",
        "A [StringIndexer](https://spark.apache.org/docs/2.2.0/ml-features.html#stringindexer) is an estimator that takes a single string field, then produces a transformer that codifies said field as numeric labels that are fit for feeding to a one-hot encoding. \n",
        "\n",
        "We need to specify an input column, an output column, and a way to handle invalids. In this case, invalids are values that the indexer has not seen during fitting but that the transformer finds during processing. Its values are 'error' (the default), which is pretty self-explanatory, 'skip', which drops them, and 'keep', which is what we want. It will assign all unseen labels to a single category index."
      ]
    },
    {
      "cell_type": "code",
      "metadata": {
        "id": "y1rN0BANAxVM",
        "colab_type": "code",
        "colab": {
          "base_uri": "https://localhost:8080/",
          "height": 34
        },
        "outputId": "3bde6502-9f7a-4ebc-fad7-c82fa532c806"
      },
      "source": [
        "from pyspark.ml.feature import StringIndexer\n",
        "\n",
        "indexer = StringIndexer(inputCol='Origin', outputCol='OriginIndex', handleInvalid='keep')\n",
        "indexer.fit"
      ],
      "execution_count": 45,
      "outputs": [
        {
          "output_type": "execute_result",
          "data": {
            "text/plain": [
              "<bound method Estimator.fit of StringIndexer_83af668af8fb>"
            ]
          },
          "metadata": {
            "tags": []
          },
          "execution_count": 45
        }
      ]
    },
    {
      "cell_type": "code",
      "metadata": {
        "id": "MuD62T40STCv",
        "colab_type": "code",
        "colab": {}
      },
      "source": [
        "indexer_model = indexer.fit(sample)"
      ],
      "execution_count": 47,
      "outputs": []
    },
    {
      "cell_type": "code",
      "metadata": {
        "id": "GpnD5b1CScqq",
        "colab_type": "code",
        "colab": {
          "base_uri": "https://localhost:8080/",
          "height": 54
        },
        "outputId": "61e38700-4894-4e7e-ae97-02f4bffb6750"
      },
      "source": [
        "indexer_model.transform(sample)"
      ],
      "execution_count": 50,
      "outputs": [
        {
          "output_type": "execute_result",
          "data": {
            "text/plain": [
              "DataFrame[Year: int, Month: int, DayofMonth: int, DayOfWeek: int, Reporting_Airline: string, Tail_Number: string, Flight_Number_Reporting_Airline: int, Origin: string, OriginCityName: string, OriginStateName: string, Dest: string, DestCityName: string, DestStateName: string, DepTime: int, DepDelay: double, AirTime: double, Distance: double, DepHour: int, Delayed: int, OriginIndex: double]"
            ]
          },
          "metadata": {
            "tags": []
          },
          "execution_count": 50
        }
      ]
    },
    {
      "cell_type": "markdown",
      "metadata": {
        "id": "wuHeFG2fAxVY",
        "colab_type": "text"
      },
      "source": [
        "### OneHotEncoder\n",
        "\n",
        "A [OneHotEncoder](https://spark.apache.org/docs/latest/ml-features#onehotencoderestimator) generates a n-1 length vector column for an n-category column of category indices. \n",
        "\n",
        "We need to specify an input and an output column."
      ]
    },
    {
      "cell_type": "code",
      "metadata": {
        "id": "I6ELUqRpAxVb",
        "colab_type": "code",
        "colab": {
          "base_uri": "https://localhost:8080/",
          "height": 34
        },
        "outputId": "7c5be884-3cae-488a-8a79-a005a4bce6c8"
      },
      "source": [
        "from pyspark.ml.feature import OneHotEncoderEstimator\n",
        "\n",
        "encoder = OneHotEncoderEstimator(inputCols=['OriginIndex'], outputCols=['OriginOneHot'], handleInvalid='keep')\n",
        "encoder_model = encoder.fit(indexer_model.transform(sample))\n",
        "encoder_model"
      ],
      "execution_count": 53,
      "outputs": [
        {
          "output_type": "execute_result",
          "data": {
            "text/plain": [
              "OneHotEncoderEstimator_4210b4e8a790"
            ]
          },
          "metadata": {
            "tags": []
          },
          "execution_count": 53
        }
      ]
    },
    {
      "cell_type": "code",
      "metadata": {
        "id": "2uScje_5VYXG",
        "colab_type": "code",
        "colab": {
          "base_uri": "https://localhost:8080/",
          "height": 202
        },
        "outputId": "439143bd-0307-4f4e-d9f6-eaeca6793be3"
      },
      "source": [
        "encoded = encoder_model.transform(indexer_model.transform(sample))\n",
        "encoded[['Origin', 'OriginIndex', 'OriginOneHot']].show(5)"
      ],
      "execution_count": 56,
      "outputs": [
        {
          "output_type": "stream",
          "text": [
            "+------+-----------+-----------------+\n",
            "|Origin|OriginIndex|     OriginOneHot|\n",
            "+------+-----------+-----------------+\n",
            "|   MSP|       11.0| (345,[11],[1.0])|\n",
            "|   EVV|      160.0|(345,[160],[1.0])|\n",
            "|   JFK|       18.0| (345,[18],[1.0])|\n",
            "|   CVG|       43.0| (345,[43],[1.0])|\n",
            "|   IAH|        7.0|  (345,[7],[1.0])|\n",
            "+------+-----------+-----------------+\n",
            "only showing top 5 rows\n",
            "\n"
          ],
          "name": "stdout"
        }
      ]
    },
    {
      "cell_type": "markdown",
      "metadata": {
        "id": "2LAV0-6CAxVt",
        "colab_type": "text"
      },
      "source": [
        "### SparseVectors\n",
        "\n",
        "The vectors produced by OneHotEncoder will each have only one non-zero value, but can potentially be very long. An efficient way to represent them is therefore a SparseVector, and that is what OneHotEncoder generates. \n",
        "\n",
        "A SparseVector is a data structure that only stores the length of the vector, a list of positions, and a list of values. All other values are assumed to be 0s.\n",
        "\n",
        "This way, a vector like the following, with lenght 15 and non-zero values only on positions 3 and 9:\n",
        "\n",
        "```python\n",
        "[0.0, 0.0, 0.0, 6.0, 0.0, 0.0, 0.0, 0.0, 0.0, 4.0, 0.0, 0.0, 0.0, 0.0, 0.0]\n",
        "```\n",
        "\n",
        "can be compactly expressed as\n",
        "\n",
        "```python\n",
        "(15, [3, 9], [6.0, 4.0])\n",
        "```"
      ]
    },
    {
      "cell_type": "markdown",
      "metadata": {
        "id": "8qbkPzn6AxWD",
        "colab_type": "text"
      },
      "source": [
        "## Let's build our first Pipeline!\n",
        "\n",
        "Our pipeline consists of a number of StringIndexers, followed by one OneHotEncoder, followed by a VectorAssembler, with a RandomForestClassifier at the end.\n",
        "\n",
        "A Spark Pipeline is a single Estimator. We build it secifying the stages it comprises, and then we are ready to .fit it in one go. This will save us a lot of trouble, since we don't need to fit and transform each stage individually."
      ]
    },
    {
      "cell_type": "code",
      "metadata": {
        "id": "oZ9HO93BAxWE",
        "colab_type": "code",
        "colab": {
          "base_uri": "https://localhost:8080/",
          "height": 34
        },
        "outputId": "65d696e5-4d7a-46cc-9b9e-93b403e4def3"
      },
      "source": [
        "from pyspark.ml.pipeline import Pipeline\n",
        "\n",
        "pl = Pipeline(stages=[])\n",
        "\n",
        "pl.fit"
      ],
      "execution_count": 60,
      "outputs": [
        {
          "output_type": "execute_result",
          "data": {
            "text/plain": [
              "<bound method Estimator.fit of Pipeline_3faccf6e283c>"
            ]
          },
          "metadata": {
            "tags": []
          },
          "execution_count": 60
        }
      ]
    },
    {
      "cell_type": "markdown",
      "metadata": {
        "id": "zwa4Aum1AxWQ",
        "colab_type": "text"
      },
      "source": [
        "### StringIndexer stages\n",
        "\n",
        "We only need to StringIndex some of the fields. We are going to build the input and output column names programatically.\n"
      ]
    },
    {
      "cell_type": "code",
      "metadata": {
        "id": "6lwzEqX8AxWT",
        "colab_type": "code",
        "colab": {
          "base_uri": "https://localhost:8080/",
          "height": 151
        },
        "outputId": "86ebd20e-3f6c-445a-87bf-a4c5eb2d6cc3"
      },
      "source": [
        "string_fields"
      ],
      "execution_count": 61,
      "outputs": [
        {
          "output_type": "execute_result",
          "data": {
            "text/plain": [
              "['Reporting_Airline',\n",
              " 'Tail_Number',\n",
              " 'Origin',\n",
              " 'OriginCityName',\n",
              " 'OriginStateName',\n",
              " 'Dest',\n",
              " 'DestCityName',\n",
              " 'DestStateName']"
            ]
          },
          "metadata": {
            "tags": []
          },
          "execution_count": 61
        }
      ]
    },
    {
      "cell_type": "code",
      "metadata": {
        "id": "aLztQ5XxdEbU",
        "colab_type": "code",
        "colab": {
          "base_uri": "https://localhost:8080/",
          "height": 151
        },
        "outputId": "9b21bf32-741e-45ec-a202-70d26e9e765e"
      },
      "source": [
        "indexers = [ StringIndexer(inputCol=field, outputCol=field + 'Index', handleInvalid='keep') for field in string_fields ]\n",
        "indexers"
      ],
      "execution_count": 63,
      "outputs": [
        {
          "output_type": "execute_result",
          "data": {
            "text/plain": [
              "[StringIndexer_01fa400f91ba,\n",
              " StringIndexer_f46347b3d435,\n",
              " StringIndexer_32eabf471201,\n",
              " StringIndexer_bd88972f507b,\n",
              " StringIndexer_53c36a29f55d,\n",
              " StringIndexer_ee49ef3973fc,\n",
              " StringIndexer_d235b7718c7d,\n",
              " StringIndexer_8c5ab37b736b]"
            ]
          },
          "metadata": {
            "tags": []
          },
          "execution_count": 63
        }
      ]
    },
    {
      "cell_type": "markdown",
      "metadata": {
        "id": "E0dUcD8tAxWj",
        "colab_type": "text"
      },
      "source": [
        "### OneHotEncoderEstimator\n",
        "\n",
        "One OneHotEncoderEstimator can handle all categorical columns. We are also going to build it programatically"
      ]
    },
    {
      "cell_type": "code",
      "metadata": {
        "id": "byB7ZkdqAxWk",
        "colab_type": "code",
        "colab": {
          "base_uri": "https://localhost:8080/",
          "height": 34
        },
        "outputId": "4494086f-8d81-4239-d386-e635e6666ddb"
      },
      "source": [
        "nonstrings = [ field for field in categorical_fields if field not in string_fields ]\n",
        "nonstrings"
      ],
      "execution_count": 81,
      "outputs": [
        {
          "output_type": "execute_result",
          "data": {
            "text/plain": [
              "['Year', 'Month', 'DayofMonth', 'DayOfWeek']"
            ]
          },
          "metadata": {
            "tags": []
          },
          "execution_count": 81
        }
      ]
    },
    {
      "cell_type": "code",
      "metadata": {
        "id": "9wGriqFvehOK",
        "colab_type": "code",
        "colab": {}
      },
      "source": [
        "inputs = nonstrings\n",
        "outputs = [ field + 'OneHot' for field in nonstrings ]\n",
        "\n",
        "inputs.extend([ field + 'Index' for field in string_fields])\n",
        "outputs.extend([ field + 'OneHot' for field in string_fields])"
      ],
      "execution_count": 82,
      "outputs": []
    },
    {
      "cell_type": "code",
      "metadata": {
        "id": "c9RgPOiPfhyk",
        "colab_type": "code",
        "colab": {}
      },
      "source": [
        "encoder = OneHotEncoderEstimator(inputCols=inputs, outputCols=outputs, handleInvalid='keep')"
      ],
      "execution_count": 85,
      "outputs": []
    },
    {
      "cell_type": "markdown",
      "metadata": {
        "id": "lGFjA6ahAxWv",
        "colab_type": "text"
      },
      "source": [
        "### VectorAssembler\n",
        "\n",
        "Once we have generated our features, we can assemble them into a single features column, together with the continuous_fields."
      ]
    },
    {
      "cell_type": "code",
      "metadata": {
        "id": "46PTWR5nAxWx",
        "colab_type": "code",
        "colab": {}
      },
      "source": [
        "from pyspark.ml.feature import VectorAssembler\n",
        "\n",
        "assembler = VectorAssembler(inputCols=outputs, outputCol='features')"
      ],
      "execution_count": 87,
      "outputs": []
    },
    {
      "cell_type": "markdown",
      "metadata": {
        "id": "9cqQVkWiAxW-",
        "colab_type": "text"
      },
      "source": [
        "### RandomForestClassifier\n",
        "\n",
        "Aaaaand we are ready to do some Machine Learning! We'll use a RandomForestClassifier to try to predict delayed versus non delayed flights, a binary classification task."
      ]
    },
    {
      "cell_type": "code",
      "metadata": {
        "id": "m-vADsZ-AxXB",
        "colab_type": "code",
        "colab": {}
      },
      "source": [
        "from pyspark.ml.classification import RandomForestClassifier\n",
        "\n",
        "rf = RandomForestClassifier(featuresCol='features', labelCol='Delayed' )"
      ],
      "execution_count": 89,
      "outputs": []
    },
    {
      "cell_type": "markdown",
      "metadata": {
        "id": "tFT6b0XBAxXP",
        "colab_type": "text"
      },
      "source": [
        "### Pipeline!\n",
        "\n",
        "Now that we have all the stages, we are finally ready to put them together into a single Estimator, our Pipeline."
      ]
    },
    {
      "cell_type": "code",
      "metadata": {
        "id": "ReOvZ5eVAxXR",
        "colab_type": "code",
        "colab": {
          "base_uri": "https://localhost:8080/",
          "height": 50
        },
        "outputId": "f8381ebc-d437-4328-d7b1-36991e67bf4b"
      },
      "source": [
        "%%time\n",
        "my_first_pipeline = Pipeline(stages=indexers + [encoder] + [assembler] + [rf])\n",
        "pipeline_model = my_first_pipeline.fit(sample)"
      ],
      "execution_count": 91,
      "outputs": [
        {
          "output_type": "stream",
          "text": [
            "CPU times: user 128 ms, sys: 19 ms, total: 147 ms\n",
            "Wall time: 2min 21s\n"
          ],
          "name": "stdout"
        }
      ]
    },
    {
      "cell_type": "markdown",
      "metadata": {
        "id": "m2ZtDTGoAxXa",
        "colab_type": "text"
      },
      "source": [
        "Now that we have gone to the trouble of building our Pipeline, fitting it and using it to predict the probabilty of delay on unseen data is as easy as using a single Estimator:"
      ]
    },
    {
      "cell_type": "code",
      "metadata": {
        "scrolled": false,
        "id": "NEXd8aalAxXd",
        "colab_type": "code",
        "colab": {
          "base_uri": "https://localhost:8080/",
          "height": 54
        },
        "outputId": "3bc60421-c8c9-40cc-fd16-2ccee3e2f673"
      },
      "source": [
        "predictions = pipeline_model.transform(rest)\n",
        "predictions.cache()"
      ],
      "execution_count": 94,
      "outputs": [
        {
          "output_type": "execute_result",
          "data": {
            "text/plain": [
              "DataFrame[Year: int, Month: int, DayofMonth: int, DayOfWeek: int, Reporting_Airline: string, Tail_Number: string, Flight_Number_Reporting_Airline: int, Origin: string, OriginCityName: string, OriginStateName: string, Dest: string, DestCityName: string, DestStateName: string, DepTime: int, DepDelay: double, AirTime: double, Distance: double, DepHour: int, Delayed: int, Reporting_AirlineIndex: double, Tail_NumberIndex: double, OriginIndex: double, OriginCityNameIndex: double, OriginStateNameIndex: double, DestIndex: double, DestCityNameIndex: double, DestStateNameIndex: double, DestStateNameOneHot: vector, OriginCityNameOneHot: vector, DayOfWeekOneHot: vector, Reporting_AirlineOneHot: vector, YearOneHot: vector, OriginOneHot: vector, OriginStateNameOneHot: vector, DayofMonthOneHot: vector, Tail_NumberOneHot: vector, DestOneHot: vector, DestCityNameOneHot: vector, MonthOneHot: vector, features: vector, rawPrediction: vector, probability: vector, prediction: double]"
            ]
          },
          "metadata": {
            "tags": []
          },
          "execution_count": 94
        }
      ]
    },
    {
      "cell_type": "code",
      "metadata": {
        "id": "5RyRGo1LhoVR",
        "colab_type": "code",
        "colab": {
          "base_uri": "https://localhost:8080/",
          "height": 454
        },
        "outputId": "b307c8c0-a059-4ec5-f8d8-ed082881ae8a"
      },
      "source": [
        "predictions[['Delayed', 'rawPrediction', 'probability', 'prediction']].show(20)"
      ],
      "execution_count": 95,
      "outputs": [
        {
          "output_type": "stream",
          "text": [
            "+-------+--------------------+--------------------+----------+\n",
            "|Delayed|       rawPrediction|         probability|prediction|\n",
            "+-------+--------------------+--------------------+----------+\n",
            "|      0|[16.5944093438199...|[0.82972046719099...|       0.0|\n",
            "|      0|[16.5944093438199...|[0.82972046719099...|       0.0|\n",
            "|      0|[16.5944093438199...|[0.82972046719099...|       0.0|\n",
            "|      0|[16.5944093438199...|[0.82972046719099...|       0.0|\n",
            "|      0|[16.5944093438199...|[0.82972046719099...|       0.0|\n",
            "|      0|[16.5944093438199...|[0.82972046719099...|       0.0|\n",
            "|      1|[16.5944093438199...|[0.82972046719099...|       0.0|\n",
            "|      0|[16.5944093438199...|[0.82972046719099...|       0.0|\n",
            "|      0|[16.5944093438199...|[0.82972046719099...|       0.0|\n",
            "|      0|[16.5944093438199...|[0.82972046719099...|       0.0|\n",
            "|      0|[16.5944093438199...|[0.82972046719099...|       0.0|\n",
            "|      0|[16.5944093438199...|[0.82972046719099...|       0.0|\n",
            "|      0|[16.5944093438199...|[0.82972046719099...|       0.0|\n",
            "|      0|[16.5944093438199...|[0.82972046719099...|       0.0|\n",
            "|      0|[16.5944093438199...|[0.82972046719099...|       0.0|\n",
            "|      1|[16.5944093438199...|[0.82972046719099...|       0.0|\n",
            "|      0|[16.5944093438199...|[0.82972046719099...|       0.0|\n",
            "|      1|[16.5944093438199...|[0.82972046719099...|       0.0|\n",
            "|      0|[16.7162832112577...|[0.83581416056288...|       0.0|\n",
            "|      0|[16.5944093438199...|[0.82972046719099...|       0.0|\n",
            "+-------+--------------------+--------------------+----------+\n",
            "only showing top 20 rows\n",
            "\n"
          ],
          "name": "stdout"
        }
      ]
    },
    {
      "cell_type": "markdown",
      "metadata": {
        "id": "-bG5sIvGAxXr",
        "colab_type": "text"
      },
      "source": [
        "## Evaluating and tuning our Pipeline\n",
        "\n",
        "Probably the most interesting use of Spark Pipelines is quickly (in terms of coding time) evaluating many combinations of hyperparameters to feed our model and choosing the best ones. For that, we can use a TrainValidationSplit or a CrossValidator. The CrossValidator will generally perform better, but it will take several times as much. I'm using here the TrainValidationSplit because the API is the same."
      ]
    },
    {
      "cell_type": "code",
      "metadata": {
        "id": "9c6CG6KVAxXv",
        "colab_type": "code",
        "colab": {}
      },
      "source": [
        "from pyspark.ml.tuning import TrainValidationSplit, CrossValidator\n"
      ],
      "execution_count": 98,
      "outputs": []
    },
    {
      "cell_type": "markdown",
      "metadata": {
        "id": "XDi73ICoAxX5",
        "colab_type": "text"
      },
      "source": [
        "### Params and Evaluators\n",
        "\n",
        "In order to evaluate different sets of parameters, we need a) the set of parameters to iterate through and b) a metric to compare the results. \n",
        "\n",
        "The first element is represented by ParamMaps, which we build with a ParamGridBuilder, and the second by an Evaluator that needs to be specific to the relevant task."
      ]
    },
    {
      "cell_type": "code",
      "metadata": {
        "id": "zU_S7mSIAxX6",
        "colab_type": "code",
        "colab": {
          "base_uri": "https://localhost:8080/",
          "height": 34
        },
        "outputId": "6dbc5239-2a6b-4764-9aaf-f65129447094"
      },
      "source": [
        "TrainValidationSplit(estimator=my_first_pipeline,\n",
        "                     estimatorParamMaps=None,\n",
        "                     evaluator=None)"
      ],
      "execution_count": 100,
      "outputs": [
        {
          "output_type": "execute_result",
          "data": {
            "text/plain": [
              "TrainValidationSplit_ede9e75b09cb"
            ]
          },
          "metadata": {
            "tags": []
          },
          "execution_count": 100
        }
      ]
    },
    {
      "cell_type": "code",
      "metadata": {
        "id": "NZlm_4iXjuLp",
        "colab_type": "code",
        "colab": {
          "base_uri": "https://localhost:8080/",
          "height": 238
        },
        "outputId": "0083a0cf-754c-4cb9-d03e-9a1be724b0b3"
      },
      "source": [
        "from pyspark.ml.tuning import ParamGridBuilder\n",
        "from pyspark.ml.evaluation import BinaryClassificationEvaluator\n",
        "\n",
        "evaluator = BinaryClassificationEvaluator(labelCol='Delayed')\n",
        "builder = ParamGridBuilder()\n",
        "parameter_space = builder.addGrid(rf.numTrees, [5, 20, 50])\\\n",
        "                         .addGrid(rf.maxDepth, [5, 15])\\\n",
        "                         .build()\n",
        "parameter_space                         "
      ],
      "execution_count": 104,
      "outputs": [
        {
          "output_type": "execute_result",
          "data": {
            "text/plain": [
              "[{Param(parent='RandomForestClassifier_05698a2d9ce4', name='maxDepth', doc='Maximum depth of the tree. (>= 0) E.g., depth 0 means 1 leaf node; depth 1 means 1 internal node + 2 leaf nodes.'): 5,\n",
              "  Param(parent='RandomForestClassifier_05698a2d9ce4', name='numTrees', doc='Number of trees to train (>= 1).'): 5},\n",
              " {Param(parent='RandomForestClassifier_05698a2d9ce4', name='maxDepth', doc='Maximum depth of the tree. (>= 0) E.g., depth 0 means 1 leaf node; depth 1 means 1 internal node + 2 leaf nodes.'): 15,\n",
              "  Param(parent='RandomForestClassifier_05698a2d9ce4', name='numTrees', doc='Number of trees to train (>= 1).'): 5},\n",
              " {Param(parent='RandomForestClassifier_05698a2d9ce4', name='maxDepth', doc='Maximum depth of the tree. (>= 0) E.g., depth 0 means 1 leaf node; depth 1 means 1 internal node + 2 leaf nodes.'): 5,\n",
              "  Param(parent='RandomForestClassifier_05698a2d9ce4', name='numTrees', doc='Number of trees to train (>= 1).'): 20},\n",
              " {Param(parent='RandomForestClassifier_05698a2d9ce4', name='maxDepth', doc='Maximum depth of the tree. (>= 0) E.g., depth 0 means 1 leaf node; depth 1 means 1 internal node + 2 leaf nodes.'): 15,\n",
              "  Param(parent='RandomForestClassifier_05698a2d9ce4', name='numTrees', doc='Number of trees to train (>= 1).'): 20},\n",
              " {Param(parent='RandomForestClassifier_05698a2d9ce4', name='maxDepth', doc='Maximum depth of the tree. (>= 0) E.g., depth 0 means 1 leaf node; depth 1 means 1 internal node + 2 leaf nodes.'): 5,\n",
              "  Param(parent='RandomForestClassifier_05698a2d9ce4', name='numTrees', doc='Number of trees to train (>= 1).'): 50},\n",
              " {Param(parent='RandomForestClassifier_05698a2d9ce4', name='maxDepth', doc='Maximum depth of the tree. (>= 0) E.g., depth 0 means 1 leaf node; depth 1 means 1 internal node + 2 leaf nodes.'): 15,\n",
              "  Param(parent='RandomForestClassifier_05698a2d9ce4', name='numTrees', doc='Number of trees to train (>= 1).'): 50}]"
            ]
          },
          "metadata": {
            "tags": []
          },
          "execution_count": 104
        }
      ]
    },
    {
      "cell_type": "code",
      "metadata": {
        "id": "u-sjKInSk9v5",
        "colab_type": "code",
        "colab": {}
      },
      "source": [
        "validator = TrainValidationSplit(estimator=my_first_pipeline,\n",
        "                                 estimatorParamMaps=parameter_space,\n",
        "                                 evaluator=evaluator)"
      ],
      "execution_count": 105,
      "outputs": []
    },
    {
      "cell_type": "markdown",
      "metadata": {
        "id": "m1YuvBUPAxYI",
        "colab_type": "text"
      },
      "source": [
        "We now have all the elements in place to perform our fit:"
      ]
    },
    {
      "cell_type": "code",
      "metadata": {
        "id": "ZwxgjczEAxYL",
        "colab_type": "code",
        "colab": {
          "base_uri": "https://localhost:8080/",
          "height": 50
        },
        "outputId": "d5a0fc7a-d29c-4eec-9127-5341328b515a"
      },
      "source": [
        "%%time\n",
        "best_model = validator.fit(sample)"
      ],
      "execution_count": 106,
      "outputs": [
        {
          "output_type": "stream",
          "text": [
            "CPU times: user 2.13 s, sys: 423 ms, total: 2.55 s\n",
            "Wall time: 9min 18s\n"
          ],
          "name": "stdout"
        }
      ]
    },
    {
      "cell_type": "markdown",
      "metadata": {
        "id": "TKuVDWRWAxYX",
        "colab_type": "text"
      },
      "source": [
        "And now we can predict on the rest of the flights and compare them with reality:"
      ]
    },
    {
      "cell_type": "code",
      "metadata": {
        "id": "VP3R1PJAAxYY",
        "colab_type": "code",
        "colab": {}
      },
      "source": [
        "predictions = best_model.transform(rest)"
      ],
      "execution_count": 108,
      "outputs": []
    },
    {
      "cell_type": "code",
      "metadata": {
        "id": "Wlwaz6E5oAxh",
        "colab_type": "code",
        "colab": {
          "base_uri": "https://localhost:8080/",
          "height": 402
        },
        "outputId": "f4068b4f-f5ed-46d1-c7e0-7d1ab6e904f9"
      },
      "source": [
        "pd_df = predictions[['Delayed', 'probability']].toPandas()\n",
        "pd_df"
      ],
      "execution_count": 109,
      "outputs": [
        {
          "output_type": "execute_result",
          "data": {
            "text/html": [
              "<div>\n",
              "<style scoped>\n",
              "    .dataframe tbody tr th:only-of-type {\n",
              "        vertical-align: middle;\n",
              "    }\n",
              "\n",
              "    .dataframe tbody tr th {\n",
              "        vertical-align: top;\n",
              "    }\n",
              "\n",
              "    .dataframe thead th {\n",
              "        text-align: right;\n",
              "    }\n",
              "</style>\n",
              "<table border=\"1\" class=\"dataframe\">\n",
              "  <thead>\n",
              "    <tr style=\"text-align: right;\">\n",
              "      <th></th>\n",
              "      <th>Delayed</th>\n",
              "      <th>probability</th>\n",
              "    </tr>\n",
              "  </thead>\n",
              "  <tbody>\n",
              "    <tr>\n",
              "      <th>0</th>\n",
              "      <td>0</td>\n",
              "      <td>[0.832386135954763, 0.167613864045237]</td>\n",
              "    </tr>\n",
              "    <tr>\n",
              "      <th>1</th>\n",
              "      <td>0</td>\n",
              "      <td>[0.832386135954763, 0.167613864045237]</td>\n",
              "    </tr>\n",
              "    <tr>\n",
              "      <th>2</th>\n",
              "      <td>0</td>\n",
              "      <td>[0.832386135954763, 0.167613864045237]</td>\n",
              "    </tr>\n",
              "    <tr>\n",
              "      <th>3</th>\n",
              "      <td>0</td>\n",
              "      <td>[0.832386135954763, 0.167613864045237]</td>\n",
              "    </tr>\n",
              "    <tr>\n",
              "      <th>4</th>\n",
              "      <td>0</td>\n",
              "      <td>[0.832386135954763, 0.167613864045237]</td>\n",
              "    </tr>\n",
              "    <tr>\n",
              "      <th>...</th>\n",
              "      <td>...</td>\n",
              "      <td>...</td>\n",
              "    </tr>\n",
              "    <tr>\n",
              "      <th>527648</th>\n",
              "      <td>0</td>\n",
              "      <td>[0.8392042781340459, 0.1607957218659542]</td>\n",
              "    </tr>\n",
              "    <tr>\n",
              "      <th>527649</th>\n",
              "      <td>1</td>\n",
              "      <td>[0.8392042781340459, 0.1607957218659542]</td>\n",
              "    </tr>\n",
              "    <tr>\n",
              "      <th>527650</th>\n",
              "      <td>0</td>\n",
              "      <td>[0.7937853377531706, 0.20621466224682947]</td>\n",
              "    </tr>\n",
              "    <tr>\n",
              "      <th>527651</th>\n",
              "      <td>0</td>\n",
              "      <td>[0.8402612622172428, 0.15973873778275713]</td>\n",
              "    </tr>\n",
              "    <tr>\n",
              "      <th>527652</th>\n",
              "      <td>0</td>\n",
              "      <td>[0.8351189018110368, 0.1648810981889632]</td>\n",
              "    </tr>\n",
              "  </tbody>\n",
              "</table>\n",
              "<p>527653 rows × 2 columns</p>\n",
              "</div>"
            ],
            "text/plain": [
              "        Delayed                                probability\n",
              "0             0     [0.832386135954763, 0.167613864045237]\n",
              "1             0     [0.832386135954763, 0.167613864045237]\n",
              "2             0     [0.832386135954763, 0.167613864045237]\n",
              "3             0     [0.832386135954763, 0.167613864045237]\n",
              "4             0     [0.832386135954763, 0.167613864045237]\n",
              "...         ...                                        ...\n",
              "527648        0   [0.8392042781340459, 0.1607957218659542]\n",
              "527649        1   [0.8392042781340459, 0.1607957218659542]\n",
              "527650        0  [0.7937853377531706, 0.20621466224682947]\n",
              "527651        0  [0.8402612622172428, 0.15973873778275713]\n",
              "527652        0   [0.8351189018110368, 0.1648810981889632]\n",
              "\n",
              "[527653 rows x 2 columns]"
            ]
          },
          "metadata": {
            "tags": []
          },
          "execution_count": 109
        }
      ]
    },
    {
      "cell_type": "code",
      "metadata": {
        "id": "XSO4vE0UoPVP",
        "colab_type": "code",
        "colab": {}
      },
      "source": [
        "from sklearn.metrics import roc_curve\n",
        "\n",
        "probs = pd_df['probability'].str[1]\n",
        "fpr, tpr, thresholds = roc_curve(pd_df['Delayed'], probs)"
      ],
      "execution_count": 113,
      "outputs": []
    },
    {
      "cell_type": "markdown",
      "metadata": {
        "id": "GMQnp-cqAxYj",
        "colab_type": "text"
      },
      "source": [
        "### Let's have a look\n",
        "\n",
        "We are now ready to compare our predictions with reality. Do these features have any predictive power at all?\n"
      ]
    },
    {
      "cell_type": "code",
      "metadata": {
        "id": "wv_avRXsAxYl",
        "colab_type": "code",
        "colab": {
          "base_uri": "https://localhost:8080/",
          "height": 592
        },
        "outputId": "941ead2b-7496-4ae2-cbaf-928b637f2180"
      },
      "source": [
        "import matplotlib.pyplot as plt\n",
        "import numpy as np\n",
        "%matplotlib inline\n",
        "\n",
        "plt.plot(fpr, tpr)\n",
        "plt.plot(np.linspace(0, 1), np.linspace(0, 1))\n",
        "plt.gcf().set_size_inches(10, 10)"
      ],
      "execution_count": 117,
      "outputs": [
        {
          "output_type": "display_data",
          "data": {
            "image/png": "[encoded data removed]",
            "text/plain": [
              "<Figure size 720x720 with 1 Axes>"
            ]
          },
          "metadata": {
            "tags": [],
            "needs_background": "light"
          }
        }
      ]
    },
    {
      "cell_type": "markdown",
      "metadata": {
        "id": "B0TXAYznAxY0",
        "colab_type": "text"
      },
      "source": [
        "Not bad, considering we have not performed any feature engineering at all!"
      ]
    },
    {
      "cell_type": "markdown",
      "metadata": {
        "id": "NGWFc5ADAxY2",
        "colab_type": "text"
      },
      "source": [
        "### Further Reading\n",
        "\n",
        "https://spark.apache.org/docs/latest/ml-tuning.html\n",
        "\n",
        "https://stackoverflow.com/questions/28569788/how-to-open-stream-zip-files-through-spark"
      ]
    },
    {
      "cell_type": "code",
      "metadata": {
        "id": "Ft8EXM5hAxY3",
        "colab_type": "code",
        "colab": {}
      },
      "source": [
        "best_model.bestModel.save('holi')"
      ],
      "execution_count": 123,
      "outputs": []
    },
    {
      "cell_type": "code",
      "metadata": {
        "id": "WTcj-gpQvfOW",
        "colab_type": "code",
        "colab": {
          "base_uri": "https://localhost:8080/",
          "height": 34
        },
        "outputId": "d86e40d3-d5d4-4124-bdb9-333fb2f6958b"
      },
      "source": [
        "from pyspark.ml.pipeline import PipelineModel\n",
        "\n",
        "mymodel = PipelineModel.load('holi')"
      ],
      "execution_count": 127,
      "outputs": [
        {
          "output_type": "execute_result",
          "data": {
            "text/plain": [
              "PipelineModel_22684fa408c5"
            ]
          },
          "metadata": {
            "tags": []
          },
          "execution_count": 127
        }
      ]
    }
  ]
}