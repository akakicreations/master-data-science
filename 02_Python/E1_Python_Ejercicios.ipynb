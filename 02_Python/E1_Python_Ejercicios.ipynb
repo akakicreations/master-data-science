{
 "cells": [
  {
   "cell_type": "markdown",
   "metadata": {},
   "source": [
    "# Ejercicios Python"
   ]
  },
  {
   "cell_type": "markdown",
   "metadata": {},
   "source": [
    "___"
   ]
  },
  {
   "cell_type": "markdown",
   "metadata": {},
   "source": [
    "## 1. Jupyter Notebooks"
   ]
  },
  {
   "cell_type": "markdown",
   "metadata": {},
   "source": [
    "### Notebooks y Markdown\n",
    "\n",
    "Crea un nuevo notebook y añade:\n",
    "- 3 títulos diferentes\n",
    "- Texto con diferentes formatos\n",
    "- Listas sin numerar y numeradas\n",
    "- Un link\n",
    "- Escribe ecuaciones en Latex (usando por ejemplo [este editor](https://www.tutorialspoint.com/latex_equation_editor.htm) para obtener el código correspondiente)\n",
    "- Una imagen\n",
    "- Código python\n",
    "- Celdas de código (definiendo e imprimiendo variables)\n",
    "- 5 funciones mágicas y úsalas"
   ]
  },
  {
   "cell_type": "markdown",
   "metadata": {},
   "source": [
    "### Kernels\n",
    "- Reinicia el kernel de tu notebook\n",
    "- Apágalo\n",
    "- Vuelve a asignarle un kernel nuevo\n",
    "- Crea otro notebook y asignale el kernel del anterior\n",
    "- Comprueba que las variables están presentes en ambos notebooks"
   ]
  },
  {
   "cell_type": "markdown",
   "metadata": {},
   "source": [
    "___"
   ]
  },
  {
   "cell_type": "markdown",
   "metadata": {},
   "source": [
    "## 2. Python básico"
   ]
  },
  {
   "cell_type": "markdown",
   "metadata": {},
   "source": [
    "- Escribe código y añade comentarios.\n",
    "- Escribe una línea de código lárga y pártela en varias líneas\n",
    "- Busca la ayuda de la función **map**\n",
    "- Asigna variables de tres formas diferentes\n",
    "- Define los 6 tipos de variables escalares en Python y comprueba su tipo\n",
    "- Transforma las variables entre ellas\n",
    "- Realiza las 7 operaciones aritméticas básicas en Python\n",
    "- Define una expresión lógica con al menos 3 operadores relacionales"
   ]
  },
  {
   "cell_type": "code",
   "execution_count": null,
   "metadata": {},
   "outputs": [],
   "source": [
    "#Esto es una prueba de código\n",
    "\n"
   ]
  },
  {
   "cell_type": "markdown",
   "metadata": {},
   "source": [
    "- Escribe un código que solicite al usuario un número n y devuelva como resultado\n",
    "$$ n^2 + n^{\\frac{1}{2}}$$\n",
    "sin usar el módulo math."
   ]
  },
  {
   "cell_type": "code",
   "execution_count": 4,
   "metadata": {},
   "outputs": [
    {
     "name": "stdin",
     "output_type": "stream",
     "text": [
      "Introduce un número, please 23\n"
     ]
    },
    {
     "name": "stdout",
     "output_type": "stream",
     "text": [
      "El resultado es 540.5\n"
     ]
    }
   ],
   "source": [
    "#Entrada de datos\n",
    "user_input = input(\"Introduce un número, please\")\n",
    "#Algoritmo\n",
    "algoritmo = int(user_input)**2 + int(user_input)**1/2\n",
    "#Salida de Datos\n",
    "print('El resultado es ' + str(algoritmo))"
   ]
  },
  {
   "cell_type": "markdown",
   "metadata": {},
   "source": [
    "- Escribe un código que compruebe que el número introducido por el usuario es divisible por 13."
   ]
  },
  {
   "cell_type": "code",
   "execution_count": 10,
   "metadata": {},
   "outputs": [
    {
     "name": "stdin",
     "output_type": "stream",
     "text": [
      "Introduce un número 23\n"
     ]
    },
    {
     "name": "stdout",
     "output_type": "stream",
     "text": [
      "False\n"
     ]
    },
    {
     "data": {
      "text/plain": [
       "True"
      ]
     },
     "execution_count": 10,
     "metadata": {},
     "output_type": "execute_result"
    }
   ],
   "source": [
    "#Entrada de datos\n",
    "entrada = input(\"Introduce un número\")\n",
    "#Algoritmo\n",
    "if int(entrada) % 13 == 0:\n",
    "    print(True)\n",
    "not print(False)\n",
    "#Salida de Datos\n"
   ]
  },
  {
   "cell_type": "markdown",
   "metadata": {},
   "source": [
    "___"
   ]
  },
  {
   "cell_type": "markdown",
   "metadata": {},
   "source": [
    "## 3. Strings"
   ]
  },
  {
   "cell_type": "markdown",
   "metadata": {},
   "source": [
    "- Define el siguiente string en una variable:\n",
    "\n",
    "`'Python es un lenguaje muy útil para data science!'`\n",
    "\n",
    "Ahora:\n",
    "- Extrae la primera palabra\n",
    "- El último caracter\n",
    "- Calcula su longitud\n",
    "- Cuenta las \"y\"\n",
    "- Ponla en mayúsculas\n",
    "- Devuelve la frase del revés\n",
    "- Devuelve letras que ocupen una posición impar\n",
    "- Devuelve palabras que ocupen una posición par\n",
    "- Reemplaza todas las vocales por números (a->1, e->2, ...)\n",
    "- Entre cada caracter pon el símbolo &.\n",
    "- Define una f-string que use 3 formatos diferentes."
   ]
  },
  {
   "cell_type": "code",
   "execution_count": 30,
   "metadata": {},
   "outputs": [
    {
     "name": "stdout",
     "output_type": "stream",
     "text": [
      "Python\n",
      "!\n",
      "49\n",
      "2\n",
      "PYTHON ES UN LENGUAJE MUY ÚTIL PARA DATA SCIENCE!\n",
      "!ecneics atad arap litú yum ejaugnel nu se nohtyP\n",
      "Pto su egaemyúi aadt cec!\n",
      "['es', 'lenguaje', 'útil', 'data']\n",
      "14thon es un lenguaje mu4 útil para data science!\n",
      "P&y&t&h&o&n& &e&s& &u&n& &l&e&n&g&u&a&j&e& &m&u&y& &ú&t&i&l& &p&a&r&a& &d&a&t&a& &s&c&i&e&n&c&e&!\n",
      "Python&es&un&lenguaje&muy&útil&para&data&science!\n"
     ]
    }
   ],
   "source": [
    "frase = 'Python es un lenguaje muy útil para data science!'\n",
    "print(frase.split()[0])\n",
    "print(frase[-1])\n",
    "print(len(frase))\n",
    "print(frase.count('y'))\n",
    "print(frase.upper())\n",
    "print(frase[::-1])\n",
    "print(frase[0::2])\n",
    "print(frase.split()[1::2])\n",
    "print(frase.replace(\"P\",\"1\").replace('y','4'))\n",
    "print('&'.join(frase))\n",
    "\n",
    "frase2 = frase.split()\n",
    "print('&'.join(frase2))\n",
    "\n",
    "\n"
   ]
  },
  {
   "cell_type": "markdown",
   "metadata": {},
   "source": [
    "___"
   ]
  },
  {
   "cell_type": "markdown",
   "metadata": {},
   "source": [
    "## 4. Listas"
   ]
  },
  {
   "cell_type": "markdown",
   "metadata": {},
   "source": [
    "- Construye una lista con 5 elementos de diferente tipo"
   ]
  },
  {
   "cell_type": "code",
   "execution_count": 4,
   "metadata": {},
   "outputs": [],
   "source": [
    "lista = [True, 2, 2.0, \"Hola\"]"
   ]
  },
  {
   "cell_type": "markdown",
   "metadata": {},
   "source": [
    "- Añade un elemento nuevo"
   ]
  },
  {
   "cell_type": "code",
   "execution_count": 5,
   "metadata": {},
   "outputs": [
    {
     "name": "stdout",
     "output_type": "stream",
     "text": [
      "[True, 2, 2.0, 'Hola', 'Adios']\n"
     ]
    }
   ],
   "source": [
    "lista.append(\"Adios\")\n",
    "print(lista)"
   ]
  },
  {
   "cell_type": "markdown",
   "metadata": {},
   "source": [
    "- Perdón, mejor quítalo"
   ]
  },
  {
   "cell_type": "code",
   "execution_count": 6,
   "metadata": {},
   "outputs": [
    {
     "name": "stdout",
     "output_type": "stream",
     "text": [
      "[True, 2, 2.0, 'Hola']\n"
     ]
    }
   ],
   "source": [
    "lista.pop()\n",
    "print(lista)"
   ]
  },
  {
   "cell_type": "markdown",
   "metadata": {},
   "source": [
    "- Bueno vale, inserta un elemento nuevo pero entre la primera y segunda posición"
   ]
  },
  {
   "cell_type": "markdown",
   "metadata": {},
   "source": [
    "- Pensándolo mejor, elimínalo"
   ]
  },
  {
   "cell_type": "markdown",
   "metadata": {},
   "source": [
    "- ¿Cuántos elementos has puesto?"
   ]
  },
  {
   "cell_type": "code",
   "execution_count": 7,
   "metadata": {},
   "outputs": [
    {
     "data": {
      "text/plain": [
       "4"
      ]
     },
     "execution_count": 7,
     "metadata": {},
     "output_type": "execute_result"
    }
   ],
   "source": [
    "len(lista)"
   ]
  },
  {
   "cell_type": "markdown",
   "metadata": {},
   "source": [
    "- Yo que tú invertiría el orden de los elementos, queda mejor"
   ]
  },
  {
   "cell_type": "markdown",
   "metadata": {},
   "source": [
    "- Asigna esa lista a otra variable, y cambia un elemento en alguna de ellas e imprime la otra"
   ]
  },
  {
   "cell_type": "markdown",
   "metadata": {},
   "source": [
    "- Haz lo mismo que antes pero evitando que se modifiquen ambas listas"
   ]
  },
  {
   "cell_type": "markdown",
   "metadata": {},
   "source": [
    "- Crea una lista con los número divisibles por 1 y 19 hasta 200 y otra lista con los números divisbles por 27 hasta el 200"
   ]
  },
  {
   "cell_type": "code",
   "execution_count": 19,
   "metadata": {},
   "outputs": [
    {
     "name": "stdout",
     "output_type": "stream",
     "text": [
      "[0, 19, 38, 57, 76, 95, 114, 133, 152, 171, 190]\n"
     ]
    }
   ],
   "source": [
    "lista1 = []\n",
    "for n in range (0,201):\n",
    "    if n % 1 == 0 and n % 19 == 0:\n",
    "        lista1.append(n)\n",
    "\n",
    "print(lista1)"
   ]
  },
  {
   "cell_type": "code",
   "execution_count": 21,
   "metadata": {},
   "outputs": [
    {
     "name": "stdout",
     "output_type": "stream",
     "text": [
      "[0, 27, 54, 81, 108, 135, 162, 189]\n"
     ]
    }
   ],
   "source": [
    "lista2 = []\n",
    "for n in range (0, 201):\n",
    "    if n % 27 == 0:\n",
    "        lista2.append(n)\n",
    "print(lista2)"
   ]
  },
  {
   "cell_type": "code",
   "execution_count": 13,
   "metadata": {},
   "outputs": [
    {
     "data": {
      "text/plain": [
       "False"
      ]
     },
     "execution_count": 13,
     "metadata": {},
     "output_type": "execute_result"
    }
   ],
   "source": [
    "57 % 11 == 0"
   ]
  },
  {
   "cell_type": "markdown",
   "metadata": {},
   "source": [
    "- Une ambas listas haciendo unpacking"
   ]
  },
  {
   "cell_type": "markdown",
   "metadata": {},
   "source": [
    "- No, mejor únelas con un método propio de las listas"
   ]
  },
  {
   "cell_type": "markdown",
   "metadata": {},
   "source": [
    "___"
   ]
  },
  {
   "cell_type": "markdown",
   "metadata": {},
   "source": [
    "## 5. Tuplas y Sets"
   ]
  },
  {
   "cell_type": "markdown",
   "metadata": {},
   "source": [
    "- Define una tupla con 4 elementos"
   ]
  },
  {
   "cell_type": "code",
   "execution_count": 23,
   "metadata": {},
   "outputs": [
    {
     "name": "stdout",
     "output_type": "stream",
     "text": [
      "('hola', 2, 2.3, 'adios')\n"
     ]
    }
   ],
   "source": [
    "mi_tupla = (\"hola\", 2, 2.3,\n",
    "           \"adios\")\n",
    "print(mi_tupla)"
   ]
  },
  {
   "cell_type": "markdown",
   "metadata": {},
   "source": [
    "- ¿Cuántos elementos te dije que pusieras?"
   ]
  },
  {
   "cell_type": "code",
   "execution_count": 24,
   "metadata": {},
   "outputs": [
    {
     "data": {
      "text/plain": [
       "4"
      ]
     },
     "execution_count": 24,
     "metadata": {},
     "output_type": "execute_result"
    }
   ],
   "source": [
    "len(mi_tupla)"
   ]
  },
  {
   "cell_type": "markdown",
   "metadata": {},
   "source": [
    "- Define una tupla que incluya un objeto mutable"
   ]
  },
  {
   "cell_type": "code",
   "execution_count": null,
   "metadata": {},
   "outputs": [],
   "source": []
  },
  {
   "cell_type": "markdown",
   "metadata": {},
   "source": [
    "- Modifica el objeto mutable anterior e imprime la tupla"
   ]
  },
  {
   "cell_type": "markdown",
   "metadata": {},
   "source": [
    "- Define dos set con algunos elementos comunes"
   ]
  },
  {
   "cell_type": "code",
   "execution_count": 25,
   "metadata": {},
   "outputs": [],
   "source": [
    "set1 = {\"Renault\", \"Citroen\", \"Audi\", \"BMW\", \"Peugeot\"}\n",
    "set2 = {\"Audi\", \"Ford\", \"Porche\", \"Citroen\"}"
   ]
  },
  {
   "cell_type": "markdown",
   "metadata": {},
   "source": [
    "- Calcula su unión e intersección"
   ]
  },
  {
   "cell_type": "code",
   "execution_count": 27,
   "metadata": {},
   "outputs": [
    {
     "data": {
      "text/plain": [
       "{'Audi', 'Citroen'}"
      ]
     },
     "execution_count": 27,
     "metadata": {},
     "output_type": "execute_result"
    }
   ],
   "source": [
    "set1.union(set2)\n",
    "set1.intersection(set2)"
   ]
  },
  {
   "cell_type": "markdown",
   "metadata": {},
   "source": [
    "- Calcula su diferencia simétrica"
   ]
  },
  {
   "cell_type": "markdown",
   "metadata": {},
   "source": [
    "___"
   ]
  },
  {
   "cell_type": "markdown",
   "metadata": {},
   "source": [
    "## 6. Diccionarios"
   ]
  },
  {
   "cell_type": "markdown",
   "metadata": {},
   "source": [
    "- Define un diccionario con 5 elementos usando PEP8"
   ]
  },
  {
   "cell_type": "markdown",
   "metadata": {},
   "source": [
    "- Accede al elemento que quieras"
   ]
  },
  {
   "cell_type": "markdown",
   "metadata": {},
   "source": [
    "- Define dos listas, una de llaves y otra de valores y crea un diccionario a partir de ellas"
   ]
  },
  {
   "cell_type": "markdown",
   "metadata": {},
   "source": [
    "- Ahora devuelve las llaves del diccioanrio anterior como una lista"
   ]
  },
  {
   "cell_type": "markdown",
   "metadata": {},
   "source": [
    "- Y los valores también"
   ]
  },
  {
   "cell_type": "markdown",
   "metadata": {},
   "source": [
    "- Crea un único diccionario con los dos diccionares que has creado haciendo unpacking"
   ]
  },
  {
   "cell_type": "markdown",
   "metadata": {},
   "source": [
    "- Crea un único diccionario con los dos diccionarios que has creado con un método propio"
   ]
  },
  {
   "cell_type": "markdown",
   "metadata": {},
   "source": [
    "- Crea un diccionario donde las keys sean los números del 1 al 1000 y los valores sean un set con cifras que componen dicho número"
   ]
  },
  {
   "cell_type": "code",
   "execution_count": null,
   "metadata": {},
   "outputs": [],
   "source": [
    "\n",
    "    "
   ]
  },
  {
   "cell_type": "markdown",
   "metadata": {},
   "source": [
    "- Devuelve sólo los número formados por una cifra"
   ]
  }
 ],
 "metadata": {
  "kernelspec": {
   "display_name": "Python 3",
   "language": "python",
   "name": "python3"
  },
  "language_info": {
   "codemirror_mode": {
    "name": "ipython",
    "version": 3
   },
   "file_extension": ".py",
   "mimetype": "text/x-python",
   "name": "python",
   "nbconvert_exporter": "python",
   "pygments_lexer": "ipython3",
   "version": "3.7.3"
  }
 },
 "nbformat": 4,
 "nbformat_minor": 4
}
